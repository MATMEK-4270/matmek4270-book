{
 "cells": [
  {
   "cell_type": "markdown",
   "metadata": {},
   "source": [
    "# Mandatory assignment 1\n",
    "\n",
    "General information\n",
    "\n",
    "    * Collaboration/discussion among students is encouraged, but each student should submit a set of files, including a project report, which are programmed/written by her/himself.\n",
    "    * \n",
    "    \n"
   ]
  },
  {
   "cell_type": "markdown",
   "metadata": {},
   "source": [
    "## 1) Stationary waves\n",
    "\n",
    "Consider the wave equation\n",
    "\n",
    "$$\n",
    "\\begin{equation}\n",
    "\\frac{\\partial^2 u}{\\partial t^2} = c^2 \\nabla^2 u\n",
    "\\end{equation}\n",
    "$$(eq-wave)\n",
    "\n",
    "in a two-dimensional spatial domain $\\Omega = [0, L]^2$ and in time $t \\in [0, T]$. This wave equation admits two different stationary waves as solutions:\n",
    "\n",
    "### Dirichlet problem\n",
    "\n",
    "$$\n",
    "\\begin{equation}\n",
    "u(t, x, y) = \\cos(k_x x) \\cos(k_y y) \\cos(\\omega t)\n",
    "\\end{equation}\n",
    "$$(eq-cos)\n",
    "\n",
    "### Neumann problem\n",
    "\n",
    "$$\n",
    "\\begin{equation}\n",
    "u(t, x, y) = \\sin(k_x x) \\sin(k_y y) \\cos(\\omega t)\n",
    "\\end{equation}\n",
    "$$(eq-sin)\n",
    "\n",
    "Here $k_x=m_x\\pi/L$ and $k_y=m_y\\pi/L$, where $m_x$ and $m_y$ are arbitrary integers, and $\\omega$ is a model parameter.\n",
    "\n",
    "1a) Use either {eq}`eq-cos` or {eq}`eq-sin` as an exact solution of {eq}`eq-wave` and find $\\omega$ as a function of $c, k_x$ and $k_y$.\n",
    "\n",
    "1b) A solver for the Dirichlet problem was implemented in [lecture 7](). Start from this solver and implement a class `Wave2D` that solves the wave equation for the standing wave in {eq}`eq-sin`.\n",
    "\n",
    "```{Hint}\n",
    "Since you have the analytical solution available you can use this to initialize both $U^0$ and $U^1$. As such, there is no need to directly use the initial condition $\\partial u(0, x, y)/\\partial t = 0$. Note that the analytical solution satisfies this initial condition as well.\n",
    "```\n",
    "\n",
    "Verify the implementation using the analytical solution in {eq}`eq-cos`. Compute the error using the $\\ell^{\\infty}$ norm\n",
    "    \n",
    "$$\n",
    "E^{\\infty} = \\|e^n\\|_{\\infty} = \\max |e^{n}|\n",
    "$$\n",
    "\n",
    "where $e^n = U^n - U$, $U^n$ is the solution at time $n \\Delta t$ and $U$ here is the analytical solution Eq. {eq}`eq-sin` at the mesh.\n",
    "\n",
    "1c) Make a subclass of the solver from 1b) and implement a solver for the wave equation with Neumann boundary conditions. This solver should use standing wave in Eq. {eq}`eq-cos` as initial condition and exact solution.\n",
    "\n",
    "Describe how the Neumann boundary condition is implemented. \n"
   ]
  },
  {
   "cell_type": "code",
   "execution_count": null,
   "metadata": {},
   "outputs": [],
   "source": []
  }
 ],
 "metadata": {
  "kernelspec": {
   "display_name": "bookmatmek4270",
   "language": "python",
   "name": "bookmatmek4270"
  },
  "language_info": {
   "codemirror_mode": {
    "name": "ipython",
    "version": 3
   },
   "file_extension": ".py",
   "mimetype": "text/x-python",
   "name": "python",
   "nbconvert_exporter": "python",
   "pygments_lexer": "ipython3",
   "version": "3.9.18"
  },
  "toc": {
   "base_numbering": 1,
   "nav_menu": {},
   "number_sections": false,
   "sideBar": true,
   "skip_h1_title": false,
   "title_cell": "Table of Contents",
   "title_sidebar": "Contents",
   "toc_cell": false,
   "toc_position": {},
   "toc_section_display": true,
   "toc_window_display": false
  }
 },
 "nbformat": 4,
 "nbformat_minor": 2
}
