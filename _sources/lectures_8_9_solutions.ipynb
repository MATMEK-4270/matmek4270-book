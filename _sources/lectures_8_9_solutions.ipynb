{
 "cells": [
  {
   "cell_type": "markdown",
   "metadata": {},
   "source": [
    "# Suggested solutions weekly assignments - lectures 8 and 9\n",
    "\n",
    "Experiment with the Galerkin and collocation methods and approximate the global functions\n",
    "\n",
    "1. $u(x) = |x|, \\quad x \\in [-1, 1]$\n",
    "2. $u(x) = \\exp(\\sin(x)), \\quad x \\in [0, 2]$\n",
    "3. $u(x) = x^{10}, \\quad x \\in [0, 1]$\n",
    "4. $u(x) = \\exp(-(x-0.5)^2) - \\exp(-0.25) \\quad x \\in [0, 1]$\n",
    "5. $u(x) = J_0(x), \\quad x \\in [0, 100]$\n",
    "\n",
    "where $J_0(x)$ is the [Bessel function]() of the first kind. The Bessel function is available both in [Scipy](https://docs.scipy.org/doc/scipy/reference/generated/scipy.special.jv.html#scipy.special.jv) and [Sympy](https://docs.sympy.org/latest/modules/functions/special.html#sympy.functions.special.bessel.besselj).\n",
    "\n",
    "Below I will use the Galerkin method with Legendre or Chebyshev polynomials and the collocation method using Chebyshev points. Note that the code is a bit slow because the collocation method is not implemented very efficiently."
   ]
  },
  {
   "cell_type": "markdown",
   "metadata": {},
   "source": [
    "### Use either Legendre or Chebyshev polynomials\n",
    "\n",
    "First create some functions that can compute the (weighted) inner product $(u, v)_{\\omega}$ for any domain $[a, b]$ by mapping to the reference domain $[-1, 1]$. Since the Legendre and Chebyshev polynomials use different weighting, the code will be a little bit different for the two."
   ]
  },
  {
   "cell_type": "code",
   "execution_count": null,
   "metadata": {},
   "outputs": [],
   "source": [
    "import numpy as np\n",
    "import sympy as sp \n",
    "from numpy.polynomial import Legendre, Chebyshev\n",
    "import matplotlib.pyplot as plt\n",
    "from scipy.integrate import quad\n",
    "from lagrange import Lagrangebasis, Lagrangefunction\n",
    "from scipy.interpolate import BarycentricInterpolator\n",
    "x = sp.Symbol('x')\n",
    "\n",
    "cj = lambda j: 2 if j == 0 else 1\n",
    "Tj = lambda j, x: sp.cos(j * sp.acos(x))\n",
    "\n",
    "def sq_L2_norm(j, space=Legendre):\n",
    "    r\"\"\"Compute the square of the L2 norm for given basisfunction\n",
    "\n",
    "    Parameters\n",
    "    ----------\n",
    "    j : int\n",
    "        The basis number\n",
    "    space : Class instance, optional\n",
    "        Either Chebyshev or Lagrange \n",
    "    \n",
    "    Return\n",
    "    \n",
    "    .. math::\n",
    "    \n",
    "        \\|\\psi_i\\|^2_{\\omega}\n",
    "    \n",
    "    \"\"\"\n",
    "    if space == Legendre:\n",
    "        return sp.Rational(2, 2*j+1)\n",
    "    elif space == Chebyshev:\n",
    "        return cj(j)*sp.pi*sp.S.Half\n",
    "\n",
    "def inner(u, i, domain, space=Legendre):\n",
    "    r\"\"\"Compute the inner product \n",
    "\n",
    "    Parameters\n",
    "    ----------\n",
    "    u : Sympy function\n",
    "    i : int\n",
    "        The basis number\n",
    "    domain : 2-tuple\n",
    "        The true spatial domain\n",
    "    space : Class instance, optional\n",
    "        Either Chebyshev or Lagrange \n",
    "    \n",
    "    Return\n",
    "    \n",
    "    .. math::\n",
    "    \n",
    "        (u, \\psi_i)_{\\omega}\n",
    "    \"\"\"\n",
    "    A, B = -1, 1\n",
    "    a, b = domain\n",
    "    us = u.subs(x, a + (b-a)*(x-A)/(B-A)) \n",
    "    if space == Legendre:\n",
    "        v = Legendre.basis(i)\n",
    "        uv = lambda xj: sp.lambdify(x, us)(xj)*v(xj)\n",
    "        return quad(uv, A, B)[0]\n",
    "    elif space == Chebyshev:\n",
    "        us = us.subs(x, sp.cos(x))\n",
    "        uv = sp.lambdify(x, us)\n",
    "        A, B = 0, np.pi\n",
    "        return quad(uv, A, B, weight='cos', wvar=i)[0]\n",
    "        #v = Chebyshev.basis(i)\n",
    "        #uv = lambda xj: sp.lambdify(x, us)(xj)*v(xj)\n",
    "        #return quad(uv, A, B, weight='alg', wvar=(-0.5, -0.5))[0]\n"
   ]
  },
  {
   "cell_type": "markdown",
   "metadata": {},
   "source": [
    "The solution for either Legendre or Chebyshev is now to compute\n",
    "\n",
    "$$\n",
    "\\hat{u}_i = \\frac{(u, \\psi_i)_{\\omega}}{\\|\\psi_i\\|_{\\omega}^2}, \\quad i=0,1,\\ldots, N,\n",
    "$$\n",
    "\n",
    "where $\\psi_i(x)$ is either the i'th Legendre or Chebyshev polynomial, whereas the weight $\\omega$ will be either 1 or $(1-x^2)^{-1/2}$, respectively.\n",
    "\n",
    "A lambda function to compute the coefficients of any function $u(x), x \\in [a, b]$ for either Legendre or Chebyshev polynomials is:"
   ]
  },
  {
   "cell_type": "code",
   "execution_count": null,
   "metadata": {},
   "outputs": [],
   "source": [
    "uhat = lambda u, j, domain, space: inner(u, j, domain, space) / sq_L2_norm(j, space)"
   ]
  },
  {
   "cell_type": "markdown",
   "metadata": {},
   "source": [
    "For the collocation method we will may simply reuse code from [lagrange.py](https://github.com/MATMEK-4270/matmek4270-book/blob/main/lagrange.py), and evaluate using Chebyshev points $x_j = \\cos (j \\pi / N), j=0, \\ldots, N$. However, since this implementation is not optimal in terms of roundoff errors (and it is not very efficient), we will instead make use of the [BarycentricInterpolator](https://docs.scipy.org/doc/scipy/reference/generated/scipy.interpolate.BarycentricInterpolator.html) from Scipy.\n",
    "\n",
    "We also need a function that computes the $L^2$ error norm for the different methods: "
   ]
  },
  {
   "cell_type": "code",
   "execution_count": null,
   "metadata": {},
   "outputs": [],
   "source": [
    "def L2_error(N, ue, domain=(-1, 1)):\n",
    "    a, b = domain\n",
    "    A, B = -1, 1\n",
    "    xj = np.linspace(domain[0], domain[1], 200)\n",
    "    ues = sp.lambdify(x, ue)\n",
    "    uej = ues(xj)\n",
    "    u0 = [uhat(ue, j, domain, Legendre) for j in range(N)]\n",
    "    u1 = [uhat(ue, j, domain, Chebyshev) for j in range(N)]\n",
    "    err = np.zeros((3, N+1))\n",
    "    for n in range(1, N+1):\n",
    "        uj = Legendre(u0[:(n+1)], domain=domain)(xj).astype(float)\n",
    "        err[0, n] = np.sqrt(np.trapz((uj-uej)**2, dx=xj[1]-xj[0]))\n",
    "        uj = Chebyshev(u1[:(n+1)], domain=domain)(xj).astype(float)\n",
    "        err[1, n] = np.sqrt(np.trapz((uj-uej)**2, dx=xj[1]-xj[0]))\n",
    "        xi = np.cos(np.arange(n+1)*np.pi/n)\n",
    "        xX = a + (b-a)/(B-A)*(xi-A)\n",
    "        #ll = Lagrangebasis(xX)\n",
    "        #ul = Lagrangefunction(ues(xX), ll)\n",
    "        #err[2, n] = np.sqrt(np.trapz((sp.lambdify(x, ul)(xj)-uej)**2, dx=xj[1]-xj[0])) \n",
    "        ll = BarycentricInterpolator(xX, ues(xX))\n",
    "        err[2, n] = np.sqrt(np.trapz((ll(xj)-uej)**2, dx=xj[1]-xj[0]))  \n",
    "    return err"
   ]
  },
  {
   "cell_type": "markdown",
   "metadata": {},
   "source": [
    "Note that the collocation method needs to be recomputed altogether for each new n because the interpolation points changes, whereas Chebyshev/Legendre methods simply compute one coefficient for a given n. Note that it would be possible to use collocation with a mapping to the reference domain instead in order to save time.\n",
    "\n",
    "We are now ready to attack any of the 5 listed functions in the weekly assignments.\n",
    "\n",
    "1. $u(x) = |x|, \\quad x \\in [-1, 1]$\n",
    "\n",
    "This is a discontinuous solution and as such global spectral methods will struggle to capture it well. "
   ]
  },
  {
   "cell_type": "code",
   "execution_count": null,
   "metadata": {},
   "outputs": [],
   "source": [
    "N = 30 # Max number of coefficients\n",
    "domain = (-1, 1) # true domain\n",
    "u = abs(x) # Exact solution\n",
    "error = L2_error(N, u, domain)\n",
    "plt.loglog(abs(np.array(error.T, dtype=float)))\n",
    "plt.legend(['Legendre', 'Chebyshev', 'Collocation'])"
   ]
  },
  {
   "cell_type": "markdown",
   "metadata": {},
   "source": [
    "The convergence is slow due to the discontinuity. The zigzag pattern is due to the function $u(x)=|x|$ being **even**, such that all odd coefficients (Chebyshev/Legendre) are zero. Hence we get is the same error using $2n$ or $2n+1$ basis functions for Legendre/Chebyshev."
   ]
  },
  {
   "cell_type": "markdown",
   "metadata": {},
   "source": [
    "2. $u(x) = \\exp(\\sin(x)), \\quad x \\in [0, 2]$"
   ]
  },
  {
   "cell_type": "code",
   "execution_count": null,
   "metadata": {},
   "outputs": [],
   "source": [
    "N = 30 # Max number of coefficients\n",
    "domain = (0, 2) # true domain\n",
    "u = sp.exp(sp.sin(x)) # Exact solution\n",
    "error = L2_error(N, u, domain)\n",
    "plt.loglog(abs(np.array(error.T, dtype=float)))\n",
    "plt.legend(['Legendre', 'Chebyshev', 'Collocation'])"
   ]
  },
  {
   "cell_type": "markdown",
   "metadata": {},
   "source": [
    "3. $u(x) = x^{10}, \\quad x \\in [0, 1]$\n",
    "\n",
    "For this function we know that the polynomials methods should be exact for N=10."
   ]
  },
  {
   "cell_type": "code",
   "execution_count": null,
   "metadata": {},
   "outputs": [],
   "source": [
    "N = 20 # Max number of coefficients\n",
    "domain = (0, 1) # true domain\n",
    "u = x**(10) # Exact solution\n",
    "error = L2_error(N, u, domain)\n",
    "plt.loglog(abs(np.array(error.T, dtype=float)))\n",
    "plt.legend(['Legendre', 'Chebyshev', 'Collocation'])"
   ]
  },
  {
   "cell_type": "markdown",
   "metadata": {},
   "source": [
    "4. $u(x) = \\exp(-(x-0.5)^2) - \\exp(-0.25) \\quad x \\in [0, 1]$"
   ]
  },
  {
   "cell_type": "code",
   "execution_count": null,
   "metadata": {},
   "outputs": [],
   "source": [
    "N = 20 # Max number of coefficients\n",
    "domain = (0, 1) # true domain\n",
    "u = sp.exp(-(x-sp.S.Half)**2)-sp.exp(-sp.Rational(1, 4)) # Exact solution\n",
    "error = L2_error(N, u, domain)\n",
    "plt.loglog(abs(np.array(error.T, dtype=float)))\n",
    "plt.legend(['Legendre', 'Chebyshev', 'Collocation'])"
   ]
  },
  {
   "cell_type": "markdown",
   "metadata": {},
   "source": [
    "5. $u(x) = J_0(x), \\quad x \\in [0, 100]$"
   ]
  },
  {
   "cell_type": "code",
   "execution_count": null,
   "metadata": {},
   "outputs": [],
   "source": [
    "N = 100 # Max number of coefficients\n",
    "domain = (0, 100) # true domain\n",
    "u = sp.besselj(0, x) # Exact solution\n",
    "error = L2_error(N, u, domain)\n",
    "plt.loglog(abs(np.array(error.T, dtype=float)))\n",
    "plt.legend(['Legendre', 'Chebyshev', 'Collocation'])"
   ]
  },
  {
   "cell_type": "markdown",
   "metadata": {},
   "source": [
    "For all functions Legendre and Chebyshev are slightly better than collocation at low N. However, the roundoff error is very good for the collocation. The roundoff error is observed when the error cannot decrease any further. The good roundoff is mainly due to the [BarycentricInterpolator](https://docs.scipy.org/doc/scipy/reference/generated/scipy.interpolate.BarycentricInterpolator.html) class, which is implemented very well.  You can read more about barycentric interpolation in the very nice [paper by Berrut and Trefethen](https://people.maths.ox.ac.uk/trefethen/barycentric.pdf). Note that the Chebyshev method would have better roundoff if we implemented a fast transform to the real space before computing the L2-error."
   ]
  }
 ],
 "metadata": {
  "kernelspec": {
   "display_name": "shenfun",
   "language": "python",
   "name": "python3"
  },
  "language_info": {
   "codemirror_mode": {
    "name": "ipython",
    "version": 3
   },
   "file_extension": ".py",
   "mimetype": "text/x-python",
   "name": "python",
   "nbconvert_exporter": "python",
   "pygments_lexer": "ipython3",
   "version": "3.12.3"
  }
 },
 "nbformat": 4,
 "nbformat_minor": 2
}
