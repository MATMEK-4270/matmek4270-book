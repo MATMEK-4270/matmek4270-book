{
 "cells": [
  {
   "cell_type": "markdown",
   "metadata": {},
   "source": [
    "# Common symbols and notation\n",
    "\n",
    "```{list-table}\n",
    ":header-rows: 1\n",
    "\n",
    "* - Expression\n",
    "  - Meaning\n",
    "* - $\\mathbb{R}$\n",
    "  - The set of real numbers\n",
    "* - $\\mathbb{R}^N$\n",
    "  - The space of all real vectors of length $N$\n",
    "* - $\\mathbb{R}^{M \\times N}$\n",
    "  - The space of all real matrices of shape $ M \\times N$\n",
    "* - $a_{ij}$\n",
    "  - $(i, j)$ entry of matrix $A$. A matrix is represented with capital letters, entries with lower case.\n",
    "* - $(a_{ij}), (a_{ij})_{i,j=0}^{M, N}, (a_{ij})_{i,j=0}^N$\n",
    "  - Alternative representations of the matrix $A$. The last is a square matrix of shape $N+1 \\times N+1$.\n",
    "* - $x_i$\n",
    "  - $i$'th entry of vector $\\boldsymbol{x}$. Vectors are represented with boldface letters.\n",
    "* - $(x_i), (x_i)_{i=0}^N, (x_0, x_1, \\ldots, x_N)$\n",
    "  - Alternative representations of the vector $\\boldsymbol{x}$.\n",
    "* - $\\{a_i\\}_{i=0}^N$, $\\{\\psi_i\\}_{i=0}^N$\n",
    "  - Sets of numbers $a_i$ or functions $\\psi_i$.\n",
    "* - $\\mathcal{I}_N$\n",
    "  - The index set $\\{0, 1, \\ldots, N\\}$.\n",
    "* - $\\text{span}\\{\\psi_i\\}_{i=0}^N$\n",
    "  - The span of the set of functions $\\{\\psi_i\\}_{i=0}^N$.\n",
    "* - $\\Omega$\n",
    "  - A generic spatial domain.\n",
    "* - $(f, g)$ or $ (f, g)_{L^2(\\Omega)}$\n",
    "  - The $L^2(\\Omega)$ inner product $\\displaystyle \\int_{\\Omega} f(x) g(x) d\\Omega$\n",
    "* - $(f, g)_{\\omega} $ or $ (f, g)_{L_{\\omega}^2(\\Omega)}$\n",
    "  - The weighted $L_{\\omega}^2(\\Omega)$ inner product $\\displaystyle \\int_{\\Omega} f(x) g(x) \\omega(x) d\\Omega$\n",
    "* - $|u|$\n",
    "  - The $L^2$ norm $|u| = \\sqrt{(u, u)}$\n",
    "* - $|u|_{\\omega}$\n",
    "  - The weighted $L^2$ norm $|u|_{\\omega} = \\sqrt{(u, u)_{\\omega}}$\n",
    "* - $P_i$\n",
    "  - The $i$'th Legendre function.\n",
    "* - $T_i$\n",
    "  - The $i$'th Chebyshev function.\n",
    "* - $\\ell_i$\n",
    "  - The $i$'th Lagrange function.\n",
    "* - $\\mathbb{P}_N$\n",
    "  - The space of all polynomials of order less than or equal to $N$.\n",
    "* - $\\delta_{ij}$\n",
    "  - The Kronecker delta function.\n",
    "* - $\\delta(x)$\n",
    "  - The Dirac delta function.\n",
    "```"
   ]
  },
  {
   "cell_type": "markdown",
   "metadata": {},
   "source": []
  }
 ],
 "metadata": {
  "language_info": {
   "name": "python"
  }
 },
 "nbformat": 4,
 "nbformat_minor": 2
}
