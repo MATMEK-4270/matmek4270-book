{
 "cells": [
  {
   "cell_type": "markdown",
   "metadata": {},
   "source": [
    "# Lecture 9\n",
    "\n",
    "## Function approximation with global functions continued\n",
    "\n",
    "Legendre polynomials $\\{P_j(x)\\}_{j=0}^N, x \\in [-1, 1]$ form a basis for the space of all polynomials with order smaller than or equal to $N$. This space is normally denoted as $\\mathbb{P}_N$. The Galerkin method for approximating $u(x)$ in the space of polynomials $\\mathbb{P}_N$ would normally be formulated as: find $u_N \\in \\mathbb{P}_N$ such that\n",
    "\n",
    "$$\n",
    "(u-u_N, v) = 0, \\quad \\forall \\, v \\in \\mathbb{P}_N.\n",
    "$$(eq-project)\n",
    "\n",
    "Here there is no mentioning of the Legendre polynomials as there is no need for them yet. But the Legendre polynomials $\\{P_j\\}_{j=0}^N$ may now be chosen as a basis for $\\mathbb{P}_N$ and we can solve Eq. {eq}`eq-project` using this basis. The Legendre polynomials are a very good basis because they are orthogonal in $L^2([-1, 1])$ \n",
    "\n",
    "$$\n",
    "\\left(P_i, P_j\\right)_{L^2([-1,1])} = \\frac{2}{2i+1}\\delta_{ij}\n",
    "$$\n",
    "\n",
    "and very well suited for approximating other smooth functions. However, the Legendre polynomials are not the only possible basis for $\\mathbb{P}_N$. We can just as easily choose the $\\{x^j\\}_{j=0}^N$ and use this basis to solve Eq. {eq}`eq-project`. But the basis functions $x^j$ are not orthogonal and the approach is less efficient even though we get exactly the same result. The choice of basis functions is actually very important for the efficiency!\n",
    "\n",
    "```{admonition} Nodal vs modal basis\n",
    "The Legendre polynomials are often classified as a **modal** basis. A modal basis is not connected in any way to mesh points. The Lagrange polynomials, on the other hand, are often referred to as a **nodal** basis because they rely on mesh points. \n",
    "```\n",
    "\n",
    "We will now introduce yet another modal polynomial basis that is generally considered to be even better than Legendre: The Chebyshev polynomials!\n"
   ]
  },
  {
   "cell_type": "markdown",
   "metadata": {},
   "source": [
    "### Chebyshev polynomials\n",
    "\n",
    "The Chebyshev polynomials can be defined in their most simple and useful form as\n",
    "\n",
    "$$\n",
    "T_k(x) = \\cos(k \\cos^{-1}(x)), \\quad k \\in (0, 1, \\ldots, N),\n",
    "$$(eq-chebT)\n",
    "\n",
    "for $x \\in [-1, 1]$. Admittedly, this does not look like polynomials at all, it looks like cosine functions! However, an alternative definition is the recursive form\n",
    "\n",
    "$$\n",
    "\\begin{align*}\n",
    "T_0(x) &= 1, \\\\\n",
    "T_1(x) &= x, \\\\\n",
    "T_2(x) &= 2x^2-1, \\\\\n",
    "&\\vdots \\\\\n",
    "T_{j+1}(x) &= 2xT_{j}(x) - T_{j-1}(x).\n",
    "\\end{align*}\n",
    "$$\n",
    "\n",
    "The first 5 polynomials are shown in the figure below\n",
    "\n",
    "(fig-Chebyshev)="
   ]
  },
  {
   "cell_type": "code",
   "execution_count": null,
   "metadata": {
    "tags": [
     "hide-input"
    ]
   },
   "outputs": [],
   "source": [
    "import numpy as np\n",
    "import sympy as sp \n",
    "import matplotlib.pyplot as plt \n",
    "\n",
    "x = sp.Symbol('x')\n",
    "fig, ax = plt.subplots(figsize=(6, 4))\n",
    "xj = np.linspace(-1, 1, 100)\n",
    "legend = []\n",
    "for n in range(5):\n",
    "    ax.plot(xj, np.cos(n*np.arccos(xj)))\n",
    "    legend.append(f'$P_{n}(x)$')\n",
    "ax.legend(legend);"
   ]
  },
  {
   "cell_type": "markdown",
   "metadata": {},
   "source": [
    "It is noteworthy that all polynomials oscillate between $-1$ and $1$. And all polynomials ($j>0$) have maximum and minimum values of exactly 1 and -1. All the $N+1$ extrema points of $T_N(x)$ are\n",
    "\n",
    "$$\n",
    "x_j = \\cos\\left(\\frac{j \\pi}{N}\\right), \\quad j \\in (0, 1, \\ldots, N),\n",
    "$$(eq-chebpoints)\n",
    "\n",
    "which are called the Chebyshev points. Another set of points are all the roots of $T_N(x)$\n",
    "\n",
    "$$\n",
    "x_j = \\cos\\left( \\frac{(2j+1)\\pi}{2N}\\right), \\quad j \\in (0, 1, \\ldots, N-1).\n",
    "$$(eq-chebroots)\n",
    "\n",
    "The roots are often called the Chebyshev-Gauss points because of their importance in numerical integration through [Gaussian quadrature](https://en.wikipedia.org/wiki/Gaussian_quadrature).\n",
    "\n",
    "```{note}\n",
    "Both the roots and the extrema are cosine functions. If we choose $x=\\cos \\theta, \\, \\theta \\in [0, \\pi]$, then Eq. {eq}`eq-chebT` becomes\n",
    "\n",
    "$$\n",
    "T_k(x) = T_k(\\cos \\theta) =  \\cos\\left(k \\theta \\right) \n",
    "$$\n",
    "```\n",
    "\n",
    "Chebyshev polynomials are very efficient to work with because of the link to the cosine function. The cosine function provides an explicit expression that is easy and efficient to evaluate. The Legendre polynomials, on the other hand, do not have such a nice explicit expression and need to rely on the recursive equation {eq}`eq-Legrecursive` for evaluation.\n",
    "\n",
    "The Chebyshev polynomials form a basis for $\\mathbb{P}_N$, just like the Legendre polynomials. However, the Chebyshev polynomials are not orthogonal in the $L^2([-1, 1])$ space! As such, they are not usually used with the Galerkin formulation in Eq. {eq}`eq-project`.\n",
    "\n",
    "The Chebyshev polynomials are, on the other hand, orthogonal in a special weighted inner product space. We define the weighted $L^2_{\\omega}(\\Omega)$ inner product as\n",
    "\n",
    "$$\n",
    "(f, g)_{L^2_{w}(\\Omega)} = \\int_{\\Omega} f(x)g(x)\\omega(x)d\\Omega,\n",
    "$$\n",
    "\n",
    "where $\\omega(x)$ is a special weight function. For Chebyshev polynomials defined in $\\Omega = [-1, 1]$ the weight function $\\omega(x) = 1/\\sqrt{1-x^2}$. For simplicity we will write the weighted inner product as $(f, g)_{\\omega}$. \n",
    "\n",
    "The Chebyshev polynomials are orthogonal in $L^2_{\\omega}([-1, 1])$ and we can easily get\n",
    "\n",
    "$$\n",
    "\\left(T_j, T_i \\right)_{\\omega} = \\frac{c_i \\pi}{2}\\delta_{ij},\n",
    "$$(eq-chebortho)\n",
    "\n",
    "where $c_0=2$ and $c_i = 1$ for $i > 0$. \n",
    "\n",
    "For Chebyshev polynomials the approximation problem is now solved with the Galerkin method in the $L^2_{\\omega}$ space: find $u(x) \\in \\mathbb{P}_N$ such that\n",
    "\n",
    "$$\n",
    "(u-u_N, v)_{\\omega} = 0, \\quad \\forall \\, v \\in \\mathbb{P}_N.\n",
    "$$(eq-chebproject)\n",
    "\n",
    "Other than the special definition of the inner product, the usage is exactly the same as for the Legendre polynomials. Only the integral is changed.\n",
    "\n",
    "For a problem where $x \\in [a, b]$ we need to map the true domain to the reference domain, exactly like for the Legendre polynomials. We start with the general definition\n",
    "\n",
    "$$\n",
    "(u(x)-u_N(x), \\psi_i(x))_{\\omega} = \\int_{a}^b (u(x)-u_N(x)) \\psi_i(x) \\omega(x) dx = 0, \\quad \\forall i \\in (0, 1, \\ldots, N)\n",
    "$$(eq-weightedGalerkin)\n",
    "\n",
    "which is just a regular Galerkin method using a weighted inner product. Like for Legendre, we use the basis functions in the reference domain, $\\psi_j(x) = T_j(X)$ and the function $u(x)$ needs a mapping $u(x(X))$, where $x(X)$ means that we compute the physical coordinate $x$ from the reference $X$. The only new thing is the weight function and this weight function is defined for the reference domain: $\\omega(X(x))$. Naturally, the Chebyshev weight $\\omega(X) = 1/\\sqrt{1-X^2}$ only makes sense for the domain $X \\in (-1, 1)$ because the denominator $1-X^2$ approaches zero for these two edges.\n",
    "\n",
    "With this in mind we perform a change of variables for {eq}`eq-weightedGalerkin` where only the function $u(x(X))$ is written with a mapped argument. The remaining functions are all defined for the reference coordinate $X$\n",
    "\n",
    "$$\n",
    "\\sum_{j=0}^N \\int_{-1}^1 T_j  T_i \\omega \\, \\frac{dx}{dX} \\, dX \\, \\hat{u}_j =  \\int_{-1}^1 u(x(X)) T_i \\omega \\, \\frac{dx}{dX} \\, dX, \\quad \\forall \\, i \\in (0, 1, \\ldots, N)\n",
    "$$\n",
    "\n",
    "As for Legendre the $dx/dX$ term is constant and can be neglected. We get\n",
    "\n",
    "$$\n",
    "\\sum_{j=0}^N  (T_j, T_i)_{L_{\\omega}^2([-1,1])} \\, \\hat{u}_j = (u(x(X)), T_i)_{L_{\\omega}^2([-1,1])} \\quad \\forall \\, i \\in (0, 1, \\ldots, N)\n",
    "$$(eq-cheb0)\n",
    "\n",
    "Using the orthogonality {eq}`eq-chebortho` in {eq}`eq-cheb0` we get the Chebyshev expansion coefficients\n",
    "\n",
    "$$\n",
    "\\hat{u}_i = \\frac{2}{c_i \\pi}\\left(u(x(X)), T_i\\right)_{\\omega} \\quad \\forall \\, i \\in (0, 1, \\ldots, N).\n",
    "$$(eq-cheb-coeff)\n",
    "\n",
    "This should be compared with the Legendre coefficients:\n",
    "\n",
    "$$\n",
    "\\hat{u}_i = \\frac{2i+1}{2} \\left( u(x(X)), P_i \\right) \\quad \\forall \\, i \\in (0, 1, \\ldots, N).\n",
    "$$(eq-leg-coeff)\n",
    "\n",
    "So for both methods it all boils down to one integral.\n"
   ]
  },
  {
   "cell_type": "markdown",
   "metadata": {},
   "source": [
    "The weighted inner product requires some extra attention, though. We need to implement the weighted integral\n",
    "\n",
    "$$\n",
    "(f, T_i)_{\\omega} = \\int_{-1}^1 \\frac{f(x)T_i(x)}{\\sqrt{1-x^2}}dx,\n",
    "$$\n",
    "\n",
    "which looks intimidating. However, we now remember the Chebyshev link with the cosine function and change variables with $x=\\cos \\theta$\n",
    "\n",
    "$$\n",
    "(f, T_i)_{\\omega} = \\int_{\\pi}^{0} \\frac{f(\\cos \\theta)T_i(\\cos \\theta)}{\\sqrt{1-\\cos^2 \\theta}} \\frac{d \\cos \\theta}{d \\theta} d\\theta.\n",
    "$$\n",
    "\n",
    "Furthermore, we can insert for $ 1-\\cos^2\\theta = \\sin^2\\theta$ and swap both the direction of the integration and the sign, which leads to\n",
    "\n",
    "$$\n",
    "(f, T_i)_{\\omega}= \\int_{0}^{\\pi} f(\\cos \\theta)T_i(\\cos \\theta) d\\theta.\n",
    "$$\n",
    "\n",
    "Since $T_i(\\cos \\theta) = \\cos (i \\theta)$ we get the much simpler integral\n",
    "\n",
    "$$\n",
    "(f, T_i)_{\\omega} = \\int_{0}^{\\pi} f(\\cos \\theta)\\cos (i \\theta) d\\theta.\n",
    "$$(eq-scalarproductT)\n",
    "\n",
    "Using this integral we get the Chebyshev coefficients\n",
    "\n",
    "$$\n",
    "\\hat{u}_i = \\frac{2}{c_i \\pi}\\int_{0}^{\\pi} u(x(\\cos \\theta)) \\cos(i \\theta) d\\theta \\quad \\forall \\, i \\in (0, 1, \\ldots, N).\n",
    "$$(eq-chebcoeff)\n",
    "\n",
    "Lets try this with a few examples. First we define the exact weighted inner product\n"
   ]
  },
  {
   "cell_type": "code",
   "execution_count": null,
   "metadata": {},
   "outputs": [],
   "source": [
    "import numpy as np\n",
    "import sympy as sp\n",
    "\n",
    "x = sp.Symbol('x', real=True)\n",
    "k = sp.Symbol('k', integer=True, positive=True)\n",
    "\n",
    "Tk = lambda k, x: sp.cos(k * sp.acos(x))\n",
    "cj = lambda j: 2 if j == 0 else 1\n",
    "\n",
    "def innerw(u, v, domain, ref_domain=(-1, 1)):\n",
    "    A, B = ref_domain\n",
    "    a, b = domain\n",
    "    # map u(x(X)) to use reference coordinate X. \n",
    "    # Note that x is here ref coord.\n",
    "    us = u.subs(x, a + (b-a)*(x-A)/(B-A)) \n",
    "    # Change variables x=cos(theta)\n",
    "    us = sp.simplify(us.subs(x, sp.cos(x)), inverse=True)\n",
    "    vs = sp.simplify(v.subs(x, sp.cos(x)), inverse=True)\n",
    "    return sp.integrate(us*vs, (x, 0, sp.pi))\n"
   ]
  },
  {
   "cell_type": "markdown",
   "metadata": {},
   "source": [
    "Note the use of the Sympy function simplify with `inverse=True`, which is required for Sympy to use that $\\cos^{-1}\\cos x = x$. \n",
    "\n",
    "Compute the Chebyshev coefficients for $u(x) = 10(x-1)^2-1, \\, x \\in [1, 2]$:"
   ]
  },
  {
   "cell_type": "code",
   "execution_count": null,
   "metadata": {},
   "outputs": [],
   "source": [
    "a, b = 1, 2\n",
    "u = 10*(x-1)**2-1\n",
    "uhat = lambda u, j: 2 / (cj(j) * sp.pi) * innerw(u, Tk(j, x), (a, b))"
   ]
  },
  {
   "cell_type": "markdown",
   "metadata": {},
   "source": [
    "```{note}\n",
    "The function $u(x)$ is defined in the true physical domain with $x \\in [a, b]$. Inside the `innerw` function we map this to $u(x(X))$\n",
    "\n",
    "$$\n",
    "u(x(X)) = 10\\left(a+\\frac{b-a}{B-A}(X-A) -1 \\right)^2-1\n",
    "$$\n",
    "\n",
    "But we never explicitly create a new symbol X. We just substitute the function $u$'s coordinate $x$ for $a+(b-a)(x-A)/(B-A)$ and use $x$ as the reference coordinate.\n",
    "```"
   ]
  },
  {
   "cell_type": "code",
   "execution_count": null,
   "metadata": {},
   "outputs": [],
   "source": [
    "uhj = uhat(u, 0), uhat(u, 1), uhat(u, 2), uhat(u, 3), uhat(u, 4)\n",
    "uhj"
   ]
  },
  {
   "cell_type": "markdown",
   "metadata": {},
   "source": [
    "Note that just like for Legendre 3 coefficients are enough to capture the second order polynomial exactly. For plotting we can use the Numpy class [Chebyshev](https://numpy.org/doc/stable/reference/generated/numpy.polynomial.chebyshev.Chebyshev.html#numpy.polynomial.chebyshev.Chebyshev) with the computed expansion coefficients"
   ]
  },
  {
   "cell_type": "code",
   "execution_count": null,
   "metadata": {},
   "outputs": [],
   "source": [
    "from numpy.polynomial import Chebyshev\n",
    "plt.figure(figsize=(4, 3))\n",
    "xj = np.linspace(1, 2, 100)\n",
    "C2 = Chebyshev(uhj[:2], domain=(1, 2))\n",
    "C3 = Chebyshev(uhj[:3], domain=(1, 2))\n",
    "plt.plot(xj, sp.lambdify(x, u)(xj))\n",
    "plt.plot(xj, C2(xj), 'r:')\n",
    "plt.plot(xj, C3(xj), 'g:')\n",
    "plt.legend(['$10(x-1)^2-1$', f'{C2}', f'{C3}']);"
   ]
  },
  {
   "cell_type": "markdown",
   "metadata": {},
   "source": [
    "Lets try the more difficult function \n",
    "\n",
    "$$\n",
    "u(x) = \\exp(\\cos x), \\quad x \\in [-1, 1].\n",
    "$$\n",
    "\n",
    "Since the weighted inner product now becomes difficult (at least timeconsuming) for Sympy to integrate exactly, we create a numerical weighted inner product as well."
   ]
  },
  {
   "cell_type": "code",
   "execution_count": null,
   "metadata": {},
   "outputs": [],
   "source": [
    "from scipy.integrate import quad\n",
    "def innerwn(u, v, domain, ref_domain=(-1, 1)):\n",
    "    A, B = ref_domain\n",
    "    a, b = domain\n",
    "    us = u.subs(x, a + (b-a)*(x-A)/(B-A)) \n",
    "    us = sp.simplify(us.subs(x, sp.cos(x)), inverse=True)\n",
    "    vs = sp.simplify(v.subs(x, sp.cos(x)), inverse=True)\n",
    "    return quad(sp.lambdify(x, us*vs), 0, np.pi)[0]\n",
    "\n",
    "u = sp.exp(sp.cos(x))\n",
    "#u = 1 / (1+16*x**2)\n",
    "#uhat = lambda u, j: 2 / (cj(j) * sp.pi) * innerw(u, Tk(j, x), (-1, 1)) # slow\n",
    "uhatn = lambda u, j: 2 / (cj(j) * np.pi) * innerwn(u, Tk(j, x), (-1, 1))"
   ]
  },
  {
   "cell_type": "markdown",
   "metadata": {},
   "source": [
    "The function `uhatn` computes the Chebyshev expansion coefficients corresponding to Eq. {eq}`eq-chebcoeff` and we compute the 25 first coefficients below. For comparison we also compute the 25 first Legendre coefficients as well, corresponding to Eq. {eq}`eq-legcoeff`."
   ]
  },
  {
   "cell_type": "code",
   "execution_count": null,
   "metadata": {},
   "outputs": [],
   "source": [
    "uc = []\n",
    "N = 25\n",
    "for n in range(N):\n",
    "    uc.append(uhatn(u, n))\n",
    "\n",
    "# For Legendre:\n",
    "from numpy.polynomial import Legendre\n",
    "def innern(u, v):\n",
    "    uj = lambda xj: sp.lambdify(x, u)(xj)*v(xj)\n",
    "    return quad(uj, -1, 1)[0]\n",
    "uj = lambda u, j: (2*j+1) * innern(u, Legendre.basis(j))/2\n",
    "ul = []\n",
    "for n in range(N):\n",
    "    ul.append(uj(u, n))"
   ]
  },
  {
   "cell_type": "markdown",
   "metadata": {},
   "source": [
    "```{note}\n",
    "Note the numerical implementation of the Legendre inner product. Here we could have used simply\n",
    "\n",
    "    def innern(u, v):\n",
    "        return quad(sp.lambdify(x, u*v), -1, 1)[0]\n",
    "    uj = lambda u, j: (2*j+1) * innern(u, sp.legendre(j, x))/2\n",
    "\n",
    "However, this is much more susceptible to roundoff errors. Just try it!\n",
    "```\n",
    "\n",
    "Plot both Chebyshev and Legendre coefficients in a semilogarithmic plot. Since all the odd coefficients are zero for both Chebyshev and Legendre, we plot only the even coefficients. The odd coefficients are zero because $u(x)$ is an even function. The Chebyshev and Legendre polynomials are all such that $\\psi_{2i}(x)$ are even, whereas $\\psi_{2i+1}(x)$ are odd. See the {ref}`Chebyshev basis functions <fig-Chebyshev>`.\n"
   ]
  },
  {
   "cell_type": "code",
   "execution_count": null,
   "metadata": {},
   "outputs": [],
   "source": [
    "plt.figure(figsize=(5, 3))\n",
    "plt.semilogy(np.arange(0, N, 2), uc[::2], '+', \n",
    "             np.arange(0, N, 2), ul[::2], 'ko', fillstyle='none')\n",
    "plt.legend(['Chebyshev', 'Legendre']);"
   ]
  },
  {
   "cell_type": "markdown",
   "metadata": {},
   "source": [
    "We note that the Chebyshev coefficients are smaller than the Legendre. This is an indication that the Chebyshev polynomials are performing better. However, to say something about the true accuracy we really need to compute the $L^2$ error norm. Below we compute the $L^2$ error norm (note, not a weighted norm) for both Legendre and Chebyshev as a function of $N$."
   ]
  },
  {
   "cell_type": "code",
   "execution_count": null,
   "metadata": {},
   "outputs": [],
   "source": [
    "from numpy.polynomial import Legendre\n",
    "\n",
    "def L2_error(uh, ue, space=Legendre):\n",
    "    xj = np.linspace(-1, 1, 1000)\n",
    "    uej = sp.lambdify(x, ue)(xj)\n",
    "    err = []\n",
    "    for n in range(0, len(uh), 2):\n",
    "        uj = space(uh[:(n+1)])(xj).astype(float)\n",
    "        err.append(np.sqrt(np.trapz((uj-uej)**2, dx=xj[1]-xj[0])))\n",
    "    return err\n",
    "\n",
    "errc = L2_error(uc, u, Chebyshev)\n",
    "errl = L2_error(ul, u, Legendre)\n",
    "np.save('./err_u', np.array([errc, errl]))"
   ]
  },
  {
   "cell_type": "code",
   "execution_count": null,
   "metadata": {},
   "outputs": [],
   "source": [
    "plt.figure(figsize=(5, 3))\n",
    "plt.loglog(np.arange(0, N, 2), errc, '+', \n",
    "           np.arange(0, N, 2), errl, 'ko', fillstyle='none')\n",
    "plt.legend(['Chebyshev', 'Legendre']);"
   ]
  },
  {
   "cell_type": "markdown",
   "metadata": {},
   "source": [
    "So there is hardly any difference at all in accuracy.\n",
    "\n",
    "```{note}\n",
    "This very fast convergence down to machine precision is often referred to as spectral accuracy. It is actually faster than **any** finite difference method, which always leads to linear decay in the loglog plot above since the error in the finite difference method can be written as some integer order $r$, such that the error is $\\mathcal{O}(\\Delta x^r)$. \n",
    "```"
   ]
  },
  {
   "cell_type": "markdown",
   "metadata": {},
   "source": [
    "### Two-dimensional functions\n",
    "\n",
    "We can approximate a two-dimensional function $u(x, y) \\in W$ as\n",
    "\n",
    "$$\n",
    "u(x, y) = \\sum_{i=0}^M \\hat{u}_{i}\\Psi_{i}(x, y),\n",
    "$$\n",
    "\n",
    "where $\\Psi_{i}(x, y)$ is a two-dimensional basis function and $\\{\\Psi_i(x, y)\\}_{i=0}^M$ is a basis for the function space $W = \\text{span}\\{\\Psi_i(x, y)\\}_{i=0}^M$. \n",
    "\n",
    "There are not all that many two-dimensional basis functions and a more common approach is to use one basis function for the $x$-direction and another for the $y$-direction\n",
    "\n",
    "$$\n",
    "u(x, y) = \\sum_{i=0}^M\\sum_{j=0}^N \\hat{u}_{ij}\\psi_{i}(x) \\varphi_j(y).\n",
    "$$\n",
    "\n",
    "The most straightforward approach is to use the same basis functions for both directions. For example, with a Chebyshev basis \n",
    "\n",
    "$$\n",
    "u(x, y) = \\sum_{i=0}^M\\sum_{j=0}^N \\hat{u}_{ij}T_{i}(x)T_j(y).\n",
    "$$\n",
    "\n",
    "The two spatial directions have their own domain on the real line, and we use $I_x = [a, b]$ for the $x$-direction and $ I_y = [c, d]$ for the $y$-direction. The domain is then the Cartesian product $\\Omega = I_x \\times I_y$.\n",
    "\n",
    "We can define two one-dimensional function spaces for the two directions as $V_x = \\text{span}\\{\\psi_i\\}_{i=0}^M$ and $V_y = \\text{span}\\{\\varphi_i\\}_{i=0}^N$. A two-dimensional function space can then be created as \n",
    "\n",
    "$$\n",
    "W = V_x \\otimes V_y, \\quad (x, y) \\in \\Omega.\n",
    "$$\n",
    "\n",
    "The function space $W$ is the *tensor product* of $V_x$ and $V_y$. \n",
    "The function space $W$ has a basis that is formed as the tensor product of the basis for $V_x$ and $V_y$. The 2D basis function $\\Psi_{ij}$ is the tensor product of $\\psi_i(x)$ and $\\varphi_j(y)$\n",
    "\n",
    "$$\n",
    "\\Psi_{ij}(x, y) = \\psi_i(x) \\varphi_j(y).\n",
    "$$\n",
    "\n",
    "This is also called the outer product, and sometimes also the dyadic product.\n",
    "\n",
    "```{note}\n",
    "[The Kronecker product](https://matmek-4270.github.io/matmek4270-book/lecture6.html#the-kronecker-product) is a tensor product.\n",
    "```\n",
    "\n",
    "The tensor product is related to the Cartesian product. It may actually be viewed as the Cartesian product *with multiplication*. Consider the Cartesian product of the two sets $(1, 2, 3)$ and $(4, 5)$\n",
    "\n",
    "$$\n",
    "(1, 2, 3) \\times (4, 5) = \\begin{bmatrix}\n",
    "(1, 4) \\\\\n",
    "(1, 5) \\\\\n",
    "(2, 4) \\\\\n",
    "(2, 5) \\\\\n",
    "(3, 4) \\\\\n",
    "(3, 5) \\\\\n",
    "\\end{bmatrix}\n",
    "$$\n",
    "\n",
    "and compare with the tensor product\n",
    "\n",
    "$$\n",
    "(1, 2, 3) \\otimes (4, 5) = \\begin{bmatrix}\n",
    "1 \\cdot 4 \\\\\n",
    "1 \\cdot 5 \\\\\n",
    "2 \\cdot 4 \\\\\n",
    "2 \\cdot 5 \\\\\n",
    "3 \\cdot 4 \\\\\n",
    "3 \\cdot 5 \n",
    "\\end{bmatrix}\n",
    "= \n",
    "\\begin{bmatrix}\n",
    "4 \\\\\n",
    "5 \\\\\n",
    "8 \\\\\n",
    "10 \\\\\n",
    "12 \\\\\n",
    "15 \n",
    "\\end{bmatrix}\n",
    "$$\n",
    "\n",
    "We see that the tensor product is in fact the Cartesian product with multiplication of the items in each set. The same applies to functions and function spaces. For $V_x = \\text{span}\\{\\psi_0(x), \\psi_1(x)\\}$ and $V_y = \\text{span}\\{\\varphi_0(y), \\varphi_1(y)\\}$ we have the Cartesian product of the bases\n",
    "\n",
    "$$\n",
    "(\\psi_0, \\psi_1) \\times (\\varphi_0, \\varphi_1) = \\begin{bmatrix}\n",
    "\\left(\\psi_0, \\varphi_0\\right) \\\\\n",
    "\\left(\\psi_0, \\varphi_1\\right) \\\\\n",
    "\\left(\\psi_1, \\varphi_0\\right) \\\\\n",
    "\\left(\\psi_1, \\varphi_1\\right) \n",
    "\\end{bmatrix}\n",
    "$$\n",
    "\n",
    "Similarly, the tensor product is:\n",
    "\n",
    "$$\n",
    "(\\psi_0, \\psi_1) \\otimes (\\varphi_0, \\varphi_1) = \\begin{bmatrix}\n",
    "\\psi_0 \\cdot \\varphi_0 \\\\\n",
    "\\psi_0 \\cdot \\varphi_1 \\\\\n",
    "\\psi_1 \\cdot \\varphi_0 \\\\\n",
    "\\psi_1 \\cdot \\varphi_1 \n",
    "\\end{bmatrix}\n",
    "$$\n",
    "\n",
    "This tensor product is the basis for $W = V_x \\otimes V_y$. Normally we would also shape the tensor product as a matrix. Here the first basis would be indexed as row and the second as column. This is the normal matrix indexing  $a_{ij}$, where $i$ as row and $j$ as column.\n",
    "\n",
    "$$\n",
    "\\Psi_{ij}(x, y) = \\psi_i(x) \\varphi_j(y). \n",
    "$$\n",
    "\n",
    "With matrix notation the tensor product can be understood as the matrix-matrix product of a column vector with a row vector:\n",
    "\n",
    "$$\n",
    "(\\psi_0, \\psi_1) \\otimes (\\varphi_0, \\varphi_1) =  \n",
    "\\begin{bmatrix}\n",
    "\\psi_0 \\\\\n",
    "\\psi_1\n",
    "\\end{bmatrix}\n",
    "\\begin{bmatrix}\n",
    "\\varphi_0 & \\varphi_1\n",
    "\\end{bmatrix} = \n",
    "\\begin{bmatrix}\n",
    "\\psi_0 \\cdot \\varphi_0, \\psi_0 \\cdot \\varphi_1 \\\\\n",
    "\\psi_1 \\cdot \\varphi_0, \\psi_1 \\cdot \\varphi_1 \n",
    "\\end{bmatrix}\n",
    "$$\n",
    "\n",
    "For example, we can take the tensor product of the two bases $\\{1, x\\}$ and $\\{1, y\\}$ in Numpy:\n"
   ]
  },
  {
   "cell_type": "code",
   "execution_count": null,
   "metadata": {},
   "outputs": [],
   "source": [
    "y = sp.Symbol('y')\n",
    "Vx = np.array([1, x])\n",
    "Vy = np.array([1, y])\n",
    "W = np.outer(Vx, Vy)\n",
    "print(W)"
   ]
  },
  {
   "cell_type": "markdown",
   "metadata": {},
   "source": [
    "This is exactly\n",
    "\n",
    "$$\n",
    "\\begin{bmatrix}\n",
    "1 \\\\\n",
    "x\n",
    "\\end{bmatrix}\n",
    "\\begin{bmatrix}\n",
    "1 & y\n",
    "\\end{bmatrix}\n",
    "= \n",
    "\\begin{bmatrix}\n",
    "1 & y \\\\\n",
    "x & xy\n",
    "\\end{bmatrix}\n",
    "$$\n",
    "\n",
    "Lets try to approximate $u(x,y) = \\exp(-(x^2+2(y-0.5)^2))$, $(x, y) \\in [-1, 1] \\times [-1, 1]$ using Legendre polynomials and the Galerkin method. To this end we need the $L^2(\\Omega)$ inner product\n",
    "\n",
    "$$\n",
    "\\begin{align*}\n",
    "(f, g) &= \\int_{\\Omega} f g d\\Omega, \\\\\n",
    " &= \\int_{-1}^1\\int_{-1}^1 f(x,y)g(x,y)dxdy.\n",
    "\\end{align*}\n",
    "$$\n",
    "\n",
    "Note that the generic first line is identical to the definition used for the 1D case {eq}`eq-L2-inner`, except that $f$ and $g$ now are functions of both $x$ and $y$.\n",
    "\n",
    "For simplicity we use Legendre polynomials in both directions with the same dimension and space $V_N = \\text{span}\\{P_i\\}_{i=0}^N$ such that $W = V_N \\otimes V_N$. We now want to find $u_N \\in W$  such that\n",
    "\n",
    "$$\n",
    "(u - u_N, v) = 0, \\quad \\forall \\, v \\in W.\n",
    "$$\n",
    "\n",
    "This means to compute\n",
    "\n",
    "$$\n",
    "\\int_{-1}^1\\int_{-1}^1 \\left(u - \\sum_{i=0}^N \\sum_{j=0}^N \\hat{u}_{ij} P_i(x)P_j(y)\\right) P_m(x)P_n(y) dx dy = 0, \\quad \\forall (m, n) \\in \\mathcal{I}_N^2,\n",
    "$$(eq-project2D)\n",
    "\n",
    "where the index set $\\mathcal{I}_N = (0, 1, \\ldots, N)$ and $\\mathcal{I}_N^2 = \\mathcal{I}_N \\times \\mathcal{I}_N$. The test function $v$ is here the tensor product basis function $P_m(x)P_n(y)$.\n",
    "\n",
    "```{note}\n",
    "Equation {eq}`eq-project2D` provides $(N+1)^2$ equations for the $(N+1)^2$ unknown in $\\hat{U} = (\\hat{u}_{ij})_{i,j=0}^N$.\n",
    "```\n",
    "\n",
    "Note that the unknown coefficients $\\hat{u}_{ij}$ are independent of space and we can simplify the double integrals by separating them into one integral for $x$ and one for $y$. We get\n",
    "\n",
    "$$\n",
    " \\int_{-1}^1 \\int_{-1}^1 P_i(x)P_j(y) P_m(x)P_n(y) dx dy = \\underbrace{\\int_{-1}^1 P_i(x)P_m(x)dx}_{a_{im}}  \\underbrace{\\int_{-1}^1 P_j(y) P_n(y) dy}_{a_{jn}}\n",
    "$$\n",
    "\n",
    "and we also write\n",
    "\n",
    "$$\n",
    "u_{mn} = \\int_{-1}^1 \\int_{-1}^1 u(x, y) P_m(x)P_n(y) dx dy.\n",
    "$$\n",
    "\n",
    "We can thus write Eq. {eq}`eq-project2D` as the linear algebra problem\n",
    "\n",
    "$$\n",
    "\\sum_{i=0}^N \\sum_{j=0}^N a_{im}a_{jn} \\hat{u}_{ij} = u_{mn}.\n",
    "$$\n",
    "\n",
    "On matrix form this is \n",
    "\n",
    "$$\n",
    "A \\hat{U} A = U,\n",
    "$$\n",
    "\n",
    "which can be solved with the vec-trick as\n",
    "\n",
    "$$\n",
    "(A \\otimes A) \\text{vec}(\\hat{U}) = \\text{vec}(U).\n",
    "$$\n",
    "\n",
    "However, since $A$ is a diagonal matrix it is actually much easier to just avoid the vectorization and solve directly\n",
    "\n",
    "$$\n",
    "\\hat{U} = A^{-1} U A^{-1}.\n",
    "$$\n",
    "\n",
    "Lets implement this and verify that the approximation is close to the exact solution. To this end we will now need to use the double integral functions [dblquad](https://docs.scipy.org/doc/scipy/reference/generated/scipy.integrate.dblquad.html). The rest is fairly straight forward:"
   ]
  },
  {
   "cell_type": "code",
   "execution_count": null,
   "metadata": {},
   "outputs": [],
   "source": [
    "import scipy.sparse as sparse\n",
    "from scipy.integrate import dblquad\n",
    "ue = sp.exp(-(x**2+2*(y-sp.S.Half)**2))\n",
    "uh = lambda i, j: dblquad(sp.lambdify((x, y), ue*sp.legendre(i, x)*sp.legendre(j, y)), -1, 1, -1, 1, epsabs=1e-12)[0]\n",
    "N = 20\n",
    "uij = np.zeros((N+1, N+1))\n",
    "for i in range(N+1):\n",
    "    for j in range(N+1):\n",
    "        uij[i, j] = uh(i, j)\n",
    "\n",
    "A = sparse.diags([2/(2*np.arange(N+1)+1)], [0], (N+1, N+1))\n",
    "A_inv = sparse.diags([(2*np.arange(N+1)+1)/2], [0], (N+1, N+1))\n",
    "uhat_ij = A_inv @ uij @ A_inv"
   ]
  },
  {
   "cell_type": "markdown",
   "metadata": {},
   "source": [
    "At this point we have the coefficients $\\hat{U}$. For comparison with the exact solution we will to compute the solution in real space for a uniform mesh (meshgrid)\n",
    "\n",
    "$$\n",
    "u(x_i, y_j) = \\sum_{m=0}^N \\sum_{n=0}^N \\hat{u}_{mn} P_m(x_i)P_n(y_j).\n",
    "$$\n",
    "\n",
    "To this end we can make use of the Vandermonde matrix\n",
    "\n",
    "$$\n",
    "V = (P_j(x_i))_{i,j=0}^N,\n",
    "$$\n",
    "\n",
    "and then (since the mesh is the same in the $x$ and $y$ directions) we can simply compute\n",
    "\n",
    "$$\n",
    "U = V \\hat{U} V^T.\n",
    "$$\n",
    "\n",
    "Below we implement this and compute the $l^2$ error norm using the exact solution.\n",
    "\n",
    "(res-legendre-2d)="
   ]
  },
  {
   "cell_type": "code",
   "execution_count": null,
   "metadata": {},
   "outputs": [],
   "source": [
    "xi = np.linspace(-1, 1, N+1)\n",
    "V = np.polynomial.legendre.legvander(xi, N)\n",
    "U = V @ uhat_ij @ V.T\n",
    "xij, yij = np.meshgrid(xi, xi, indexing='ij', sparse=True)\n",
    "ueij = sp.lambdify((x, y), ue)(xij, yij)\n",
    "np.linalg.norm(U-ueij)"
   ]
  },
  {
   "cell_type": "markdown",
   "metadata": {},
   "source": [
    "Not bad at all. Lets try for a range of resolutions and plot the $L^2$ error norm as a function of N"
   ]
  },
  {
   "cell_type": "code",
   "execution_count": null,
   "metadata": {},
   "outputs": [],
   "source": [
    "def convergence(N):\n",
    "    uij = np.zeros((N+1, N+1))\n",
    "    for i in range(N+1):\n",
    "        for j in range(N+1):\n",
    "            uij[i, j] = uh(i, j) \n",
    "    A = sparse.diags([2/(2*np.arange(N+1)+1)], [0], (N+1, N+1))\n",
    "    A_inv = sparse.diags([(2*np.arange(N+1)+1)/2], [0], (N+1, N+1))\n",
    "    uhat_ij = A_inv @ uij @ A_inv\n",
    "    xi = np.linspace(-1, 1, N+1)\n",
    "    V = np.polynomial.legendre.legvander(xi, N)\n",
    "    U = V @ uhat_ij @ V.T\n",
    "    xij, yij = np.meshgrid(xi, xi, indexing='ij', sparse=True)\n",
    "    ueij = sp.lambdify((x, y), ue)(xij, yij)\n",
    "    h = xi[1]-xi[0]\n",
    "    return np.sqrt(np.trapz(np.trapz((U-ueij)**2, dx=h), dx=h))\n",
    "\n",
    "error = []\n",
    "for n in range(4, 24, 2):\n",
    "    error.append(convergence(n))"
   ]
  },
  {
   "cell_type": "code",
   "execution_count": null,
   "metadata": {},
   "outputs": [],
   "source": [
    "plt.figure(figsize=(5, 3))\n",
    "plt.semilogy(np.arange(4, 24, 2), error);"
   ]
  },
  {
   "cell_type": "markdown",
   "metadata": {},
   "source": [
    "Note the extremely fast convergence. Doubling the number of points in each direction from $N=10$ to $N=20$ leads to an error that descreses with 5 decades! This is spectral accuracy. At $N>20$ the solution does no longer improve because of roundoff errors and machine precision."
   ]
  },
  {
   "cell_type": "markdown",
   "metadata": {},
   "source": [
    "### External software\n",
    "\n",
    "Two softwares that are using both Legendre and Chebyshev polynomials for global function approximation and to solve partial differential equations are:\n",
    "\n",
    "* [Chebfun](https://www.chebfun.org)\n",
    "* [Shenfun](https://github.com/spectralDNS/shenfun)\n",
    "\n",
    "Chebfun is mainly focused on Chebyshev polynomials and it is written in MATLAB. Shenfun is written in Python and focuses on solving partial differential equations via the Galerkin method.\n",
    "\n",
    "Lets try to approximate \n",
    "\n",
    "$$\n",
    "u = \\frac{1}{1+16x^2}, \\quad x \\in [-1, 1]\n",
    "$$\n",
    "\n",
    "using Shenfun:"
   ]
  },
  {
   "cell_type": "code",
   "execution_count": null,
   "metadata": {},
   "outputs": [],
   "source": [
    "import shenfun as sf\n",
    "\n",
    "ue = 1 / (1+16*x**2)\n",
    "N = 20\n",
    "V = sf.FunctionSpace(N+1, 'Legendre', domain=(-1, 1))\n",
    "v = sf.TestFunction(V)\n",
    "uh = (2*np.arange(N+1)+1)/2*sf.inner(ue, v, assemble='exact')\n",
    "#uh = sf.project(ue, V) # or just this"
   ]
  },
  {
   "cell_type": "markdown",
   "metadata": {},
   "source": [
    "The code should be fairly easy to follow. We simply create the function space `V` $=\\{P_i\\}_{i=0}^{N}$, then a test function `v` from this space and then we compute the Legendre coefficients using the formula in Eq. {eq}`eq-leg-coeff`.\n",
    "\n",
    "Note that there is a shortcut function [project](https://shenfun.readthedocs.io/en/latest/shenfun.forms.html#shenfun.forms.project.project) that projects $u(x)$ to the chosen space and basis in one line of code.\n",
    "\n",
    "We can plot the difference between the computed function and the exact function on a uniform mesh of length 1000:"
   ]
  },
  {
   "cell_type": "code",
   "execution_count": null,
   "metadata": {},
   "outputs": [],
   "source": [
    "xj = np.linspace(-1, 1, 1000)\n",
    "plt.figure(figsize=(5, 3))\n",
    "plt.plot(xj, uh(xj)-sp.lambdify(x, ue)(xj), 'r');"
   ]
  },
  {
   "cell_type": "markdown",
   "metadata": {},
   "source": [
    "Notice how the error oscillates all throughout the domain. This is typical of spectral methods.\n",
    "\n",
    "Lets do exactly the same for Chebyshev polynomials:"
   ]
  },
  {
   "cell_type": "code",
   "execution_count": null,
   "metadata": {},
   "outputs": [],
   "source": [
    "%%capture\n",
    "C = sf.FunctionSpace(N+1, 'Chebyshev', domain=(-1, 1))\n",
    "v = sf.TestFunction(C)\n",
    "cj = np.ones(N+1)\n",
    "cj[0] = 2\n",
    "uhc = 2/(cj*np.pi)*sf.inner(ue, v, assemble='adaptive')\n",
    "#uhc = sf.project(ue, C) # or just this"
   ]
  },
  {
   "cell_type": "code",
   "execution_count": null,
   "metadata": {},
   "outputs": [],
   "source": [
    "plt.figure(figsize=(5, 3))\n",
    "plt.plot(xj, uhc(xj)- sp.lambdify(x, ue)(xj), 'r');"
   ]
  },
  {
   "cell_type": "markdown",
   "metadata": {},
   "source": [
    "We see that the error is very similar to the Legendre, but slightly better towards the edges.\n",
    "\n",
    "Two- and three-dimensional problems can also be solved using shenfun and tensor products. Lets try to approximate $u(x, y) = \\exp(-(x^2+2(y-0.5)^2)$ using Legendre polynomials in both directions and a tensor product function space.\n"
   ]
  },
  {
   "cell_type": "code",
   "execution_count": null,
   "metadata": {},
   "outputs": [],
   "source": [
    "ue = sp.exp(-(x**2+2*(y-sp.S.Half)**2))\n",
    "N = 20\n",
    "V = sf.FunctionSpace(N+1, 'Legendre')\n",
    "W = sf.TensorProductSpace(sf.comm, (V, V))\n",
    "uh = sf.project(ue, W)"
   ]
  },
  {
   "cell_type": "code",
   "execution_count": null,
   "metadata": {},
   "outputs": [],
   "source": [
    "xij, yij = W.local_mesh(True, kind='uniform')\n",
    "plt.figure(figsize=(5, 3))\n",
    "plt.contourf(xij, yij, uh.backward(mesh='uniform'));"
   ]
  },
  {
   "cell_type": "code",
   "execution_count": null,
   "metadata": {},
   "outputs": [],
   "source": [
    "np.linalg.norm(uh.backward(mesh='uniform')-sp.lambdify((x, y), ue)(xij, yij))"
   ]
  },
  {
   "cell_type": "markdown",
   "metadata": {},
   "source": [
    "which is very similar to the already computed {ref}`above <res-legendre-2d>` without the use of Shenfun. "
   ]
  },
  {
   "cell_type": "markdown",
   "metadata": {},
   "source": [
    "### Fast Chebyshev transforms - (optional)\n",
    "\n",
    "Besides the closed form, the Chebyshev polynomials have another advantage over Legendre. The Chebyshev series can make use of fast Cosine transforms (similar to fast Fourier transforms) when evaluating a series for Chebyshev points.\n",
    "\n",
    "Assume that the coefficients $\\{\\hat{u}_j\\}_{j=0}^N$ are known and you want to evaluate this series on $N+1$ points in physical space\n",
    "\n",
    "$$\n",
    "u(x_i) = \\sum_{j=0}^N \\hat{u}_j T_j(x_i), \\quad i \\in (0, 1, \\ldots, N).\n",
    "$$\n",
    "\n",
    "Normally this can be computed as a matrix vector product \n",
    "\n",
    "$$\n",
    "\\boldsymbol{u} = \\text{T} \\boldsymbol{\\hat{u}}\n",
    "$$(eq-chebvander)\n",
    "\n",
    "where the Vandermonde matrix $\\text{T} = (t_{ij})_{i,j=0}^N, t_{ij} = T_j(x_i)$ is of shape $(N+1) \\times (N+1)$. The cost of this operation is $(2N+1)(N+1)$ floating point operations, and of leading order $\\mathcal{O}(N^2)$\n",
    ".\n",
    "```{note}\n",
    "We compute the number of floating point operations for the matrix-vector product as follows: for each of the $N+1$ rows in the matrix $\\text{T}$, we hold $i$ constant and compute $\\sum_{j=0}^N t_{i, j} \\cdot \\hat{u}_j$. This requires $N+1$ multiplications and $N$ additions, so a total of $2N+1$ flops. Since there are $N+1$ rows in the matrix $\\text{T}$, this is repeated $N+1$ times. The total cost is as such $(N+1)(2N+1)$ flops.\n",
    "```\n",
    "\n",
    "The matrix $\\text{T}$ can be computed using [np.polynomial.chebyshev.chebvander](https://numpy.org/doc/stable/reference/generated/numpy.polynomial.chebyshev.chebvander.html), which can take any vector of points $\\{x_i\\}$, not necessarily of shape $N+1$.\n"
   ]
  },
  {
   "cell_type": "code",
   "execution_count": null,
   "metadata": {},
   "outputs": [],
   "source": [
    "T = np.polynomial.chebyshev.chebvander(np.cos(np.arange(5)*np.pi/4), 5)"
   ]
  },
  {
   "cell_type": "code",
   "execution_count": null,
   "metadata": {},
   "outputs": [],
   "source": [
    "np.set_printoptions(precision=3, suppress=True)\n",
    "T"
   ]
  },
  {
   "cell_type": "markdown",
   "metadata": {},
   "source": [
    "Now the column $j$ in $\\text{T}$ represents the numbers $\\{T_j(x_i)\\}_{i=0}^N$, that is, the basis function $T_j$ evaluated on the mesh points $\\{x_i\\}_{i=0}^N$.\n",
    "\n",
    "We can now evaluate {eq}`eq-chebvander` for any $\\boldsymbol{\\hat{u}}$ simply as"
   ]
  },
  {
   "cell_type": "code",
   "execution_count": null,
   "metadata": {},
   "outputs": [],
   "source": [
    "uhat = np.array([0, 1, 0, 1, 0, 1])\n",
    "T @ uhat"
   ]
  },
  {
   "cell_type": "markdown",
   "metadata": {},
   "source": [
    "Because of the choice of $\\hat{u} = (0, 1, 0, 1, 0, 1)$ we are now simply computing\n",
    "\n",
    "$$\n",
    "u(\\boldsymbol{x}) = T_1(\\boldsymbol{x}) + T_3(\\boldsymbol{x}) + T_5(\\boldsymbol{x}),\n",
    "$$\n",
    "\n",
    "where $\\boldsymbol{x} = \\{\\cos(i \\pi /5)\\}_{i=0}^5$.\n",
    "\n",
    "This matrix vector product is the straight forward approach that costs what it costs to do a matrix vector product. However, since the Vandermonde matrix $\\text{T}$ contains evaluated cosines, we can do better. \n",
    "\n",
    "Lets evaluate the Chebyshev series at the Chebyshev points {eq}`eq-chebpoints`: $x_i = \\cos(i \\pi /N), i \\in 0, 1, \\ldots, N$. Using the definition of Chebyshev polynomials {eq}`eq-chebT` we get\n",
    "\n",
    "$$\n",
    "\\begin{align*}\n",
    "u(x_i) &= \\sum_{j=0}^N \\hat{u}_j \\cos(j \\cos^{-1}(x_i)), \\\\\n",
    " &= \\sum_{j=0}^N \\hat{u}_j \\cos(j i \\pi / N),\\\\\n",
    " &= \\hat{u}_0 + (-1)^i \\hat{u}_N + \\sum_{j=1}^{N-1} \\hat{u}_j \\cos(j i \\pi / N),\n",
    "\\end{align*}\n",
    "$$(eq-uxi)\n",
    "\n",
    "for $i \\in (0, 1, \\ldots, N)$.\n",
    "\n",
    "The [discrete cosine transform](https://docs.scipy.org/doc/scipy/reference/generated/scipy.fft.dct.html) of type 1 is defined to transform the real numbers $\\boldsymbol{y} = \\{y_i\\}_{i=0}^N$ into $\\boldsymbol{Y}=\\{Y_i\\}_{i=0}^N$ such that\n",
    "\n",
    "$$\n",
    "\\boldsymbol{Y} = DCT^{1}(\\boldsymbol{y}).\n",
    "$$\n",
    "\n",
    "From the definition in Scipy we get that this $DCT^{1}$ really computes\n",
    "\n",
    "$$\n",
    "Y_i = y_0 + (-1)^i y_N + 2 \\sum_{j=1}^{N-1} y_j \\cos({ji\\pi}/{N}), \\quad i \\in (0, 1, \\ldots, N).\n",
    "$$\n",
    "\n",
    "This is almost the same as {eq}`eq-uxi`, except that the sum has a factor 2 in front. But we can work around this. A minor reformulation leads to\n",
    "\n",
    "$$\n",
    "\\frac{Y_i + y_0 + (-1)^i y_N}{2} = y_0 + (-1)^i y_N + \\sum_{j=1}^{N-1} y_j \\cos({ji\\pi}/{N}), \\quad i \\in (0, 1, \\ldots, N).\n",
    "$$\n",
    "\n",
    "where the right hand side now is exactly like in {eq}`eq-uxi`. So we need to compute\n",
    "\n",
    "$$\n",
    "u(\\boldsymbol{x}) = \\frac{DCT^{1}(\\boldsymbol{\\hat{u}}) + \\hat{u}_0 + I_m \\hat{u}_N}{2}\n",
    "$$\n",
    "\n",
    "where $I_m = \\{(-1)^{i}\\}_{i=0}^N$. We can implement this as shown in the function `evaluate_cheb_1` below"
   ]
  },
  {
   "cell_type": "code",
   "execution_count": null,
   "metadata": {},
   "outputs": [],
   "source": [
    "import scipy\n",
    "\n",
    "def evaluate_cheb_1(uhat):\n",
    "    N = len(uhat)\n",
    "    uj = scipy.fft.dct(uhat, type=1)\n",
    "    uj += uhat[0]\n",
    "    uj[::2] += uhat[-1]\n",
    "    uj[1::2] -= uhat[-1]\n",
    "    uj *= 0.5\n",
    "    return uj"
   ]
  },
  {
   "cell_type": "markdown",
   "metadata": {},
   "source": [
    "Lets make sure that this function computes the same as the matrix vector product defined above."
   ]
  },
  {
   "cell_type": "code",
   "execution_count": null,
   "metadata": {},
   "outputs": [],
   "source": [
    "N = 1000\n",
    "xi = np.cos(np.arange(N+1)*np.pi/N)\n",
    "T = np.polynomial.chebyshev.chebvander(xi, N)\n",
    "uhat = np.ones(N+1)\n",
    "uj = T @ uhat\n",
    "uj_fast = evaluate_cheb_1(uhat)\n",
    "assert np.allclose(uj, uj_fast)"
   ]
  },
  {
   "cell_type": "markdown",
   "metadata": {},
   "source": [
    "Since the assert is ok this means that the fast transform works.\n",
    "\n",
    "Lets check the speed of the transforms"
   ]
  },
  {
   "cell_type": "code",
   "execution_count": null,
   "metadata": {},
   "outputs": [],
   "source": [
    "%timeit -n 10 uj_fast = evaluate_cheb_1(uhat)"
   ]
  },
  {
   "cell_type": "code",
   "execution_count": null,
   "metadata": {},
   "outputs": [],
   "source": [
    "%timeit -n 10 uj = T @ uhat"
   ]
  },
  {
   "cell_type": "markdown",
   "metadata": {},
   "source": [
    "Not a big difference, but this difference will become larger for larger arrays, because the cost of the fast transform is only $\\mathcal{O}(N \\log_2 N)$. Also, the DCT from scipy is not very efficient. Faster versions are available from [FFTW](https://www.fftw.org), wrapped for usage in Python through [mpi4py-fft](https://github.com/mpi4py/mpi4py-fft)."
   ]
  },
  {
   "cell_type": "markdown",
   "metadata": {},
   "source": [
    "## Weekly assignments\n",
    "\n",
    "Experiment with the Chebyshev Galerkin method and approximate the same global functions that was considered with Legendre and collocation last week.\n",
    "\n",
    "1. $u(x) = |x|, \\quad x \\in [-1, 1]$\n",
    "2. $u(x) = \\exp(\\sin(x)), \\quad x \\in [0, 2]$\n",
    "3. $u(x) = x^{10}, \\quad x \\in [0, 1]$\n",
    "4. $u(x) = \\exp(-(x-0.5)^2) - \\exp(-0.25) \\quad x \\in [0, 1]$\n",
    "5. $u(x) = J_0(x), \\quad x \\in [0, 100]$\n"
   ]
  }
 ],
 "metadata": {
  "kernelspec": {
   "display_name": "bookmatmek4270",
   "language": "python",
   "name": "bookmatmek4270"
  },
  "language_info": {
   "codemirror_mode": {
    "name": "ipython",
    "version": 3
   },
   "file_extension": ".py",
   "mimetype": "text/x-python",
   "name": "python",
   "nbconvert_exporter": "python",
   "pygments_lexer": "ipython3",
   "version": "3.9.18"
  }
 },
 "nbformat": 4,
 "nbformat_minor": 4
}
