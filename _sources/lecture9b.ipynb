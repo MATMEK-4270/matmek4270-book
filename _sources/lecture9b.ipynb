{
 "cells": [
  {
   "cell_type": "markdown",
   "metadata": {},
   "source": [
    "# Lecture 9b\n",
    "\n",
    "## Function approximation by the finite element method\n",
    "\n",
    "We have seen that a function $u(x)$ can be approximated as\n",
    "\n",
    "$$\n",
    "u(x) = \\sum_{j=0}^N \\hat{u}_j \\psi_j(x), \\quad x \\in \\Omega.\n",
    "$$\n",
    "\n",
    "And we have seen how the least squares, Galerkin or collocation methods can be used to find the unknown $\\boldsymbol{\\hat{u}} = \\{\\hat{u}_j\\}_{j=0}^N$.\n",
    "\n",
    "Up until now we have used global basis functions $\\psi_j(x)$ defined on the entire domain $\\Omega$. For example, the Chebyshev polynomials are all functions that are changing within the entire domain $\\Omega = [-1, 1]$"
   ]
  },
  {
   "cell_type": "code",
   "execution_count": null,
   "metadata": {
    "tags": [
     "hide-input"
    ]
   },
   "outputs": [],
   "source": [
    "import numpy as np\n",
    "import sympy as sp \n",
    "import matplotlib.pyplot as plt \n",
    "\n",
    "x = sp.Symbol('x')\n",
    "fig, ax = plt.subplots(figsize=(6, 3))\n",
    "xj = np.linspace(-1, 1, 100)\n",
    "legend = []\n",
    "for n in range(5):\n",
    "    ax.plot(xj, np.cos(n*np.arccos(xj)))\n",
    "    legend.append(f'$P_{n}(x)$')\n",
    "ax.legend(legend);"
   ]
  },
  {
   "cell_type": "markdown",
   "metadata": {},
   "source": [
    "The global aspect of the basis functions is an advantage when it comes to both accuracy and efficiency. However, we are not always interested in solving equations on a simple line interval, or a rectangle for two dimensions."
   ]
  },
  {
   "cell_type": "markdown",
   "metadata": {},
   "source": [
    "Normally you are more interested in domains that contains some physical obstructions\n",
    "\n",
    "```{figure} dolfin_mesh.png\n",
    ":name: dolfin mesh\n",
    ":width: 300\n",
    ":align: left\n",
    "```\n",
    "\n",
    "For such domains it is not possible to use basis functions that are defined everywhere. It is also very difficult, if not impossible, to use finite difference methods. Just imagine, how would you implement a Laplacian, like\n",
    "\n",
    "$$\n",
    "\\frac{u_{i+1,j}-2u_{i,j}+u_{i-1,j}}{\\Delta x^2} + \\frac{u_{i,j+1}-2u_{i,j}+u_{i,j-1}}{\\Delta y^2} \n",
    "$$\n",
    "\n",
    "on a 2D dolfin mesh?\n",
    "\n",
    "But finite element methods are designed to work on such triangulated elements! \n",
    "\n",
    "The finite element method makes use of *local* basis functions that are only non-zero on a small part of the total domain. Furthermore, the basis functions that we will make use of in this class are piecewise polynomials. In the simplest possible form, this means that the basis functions are piecewise linear. For example, if the domain is the part of the real line $\\Omega = [0, 5]$ and we make use of a uniform discretization with 5 intervals, then we get 5 elements as shown $\\Omega^{(e)}$, and 6 piecewise linear basis functions. Below we plot only two of the 6 basis functions for simplicity.\n",
    "\n",
    "```{figure} fe_mesh1D_phi_2_3.png\n",
    ":name: fem-1d-mesh\n",
    ":width: 500\n",
    ":align: left\n",
    "```"
   ]
  },
  {
   "cell_type": "markdown",
   "metadata": {},
   "source": [
    "### Finite element basis functions\n",
    "\n",
    "Other than the fact that the basis functions are piecewise polynomials with only local support, there is nothing new from the previous chapters. It is only much more complicated to work with piecewise polynomials than continuous and it requires much more effort to implement.\n",
    "\n",
    "The finite element method is a variational method. As such we can define the problem of approximating functions exactly the same way as we did for the global approach. Assume that we want to use the finite element method to find an approximation to $u(x)$ in $\\Omega=[0, 5]$. We may then divide this interval into $5$ nonoverlapping elements (like shown above) and use the function space $V_N = \\text{span}\\{\\psi_j\\}_{j=0}^5$, where $\\psi_j(x)$ are the 6 piecewise linear functions that are 1 on node $j$, zero on all the other nodes and linear in between. This would be the 6 basis functions that all would look like the 2 we have plotted above. We then attempt to find $u_N \\in V_N$ such that\n",
    "\n",
    "$$\n",
    "(u-u_N, v) = 0 \\quad \\forall \\, v \\in V_N.\n",
    "$$\n",
    "\n",
    "It is also possible to use the least squares method, but this is very rare.\n",
    "\n",
    "So the finite element method we will focus on is the Galerkin method with piecewise polynomial basis functions."
   ]
  },
  {
   "cell_type": "markdown",
   "metadata": {},
   "source": [
    "We will reuse even more of the theory from the global approximation, because we will make use of Lagrange polynomials as basis functions! But not global Lagrange polynomials, only local this time. Local to an element. Each element in the {ref}`1D fem mesh <fem-1D-mesh>` contains $N_e = 2$ nodes. These nodes will locally be denoted as $(x^0, x^1)$ no matter which element we are in, and the Lagrange formula is then\n",
    "\n",
    "$$\n",
    "\\ell_j(x) = \\prod_{\\substack{0 \\le m < 2 \\\\ m \\ne j}} \\frac{x-x^m}{x^j-x^m}, \\quad j \\in (0, 1).\n",
    "$$\n",
    "\n",
    "There are exactly two Lagrange polynomials on each element, and these are locally computed as\n",
    "\n",
    "$$\n",
    "\\ell_0(x) = \\frac{x-x^1}{x^0-x^1} \\quad \\text{and} \\quad \\ell_1(x) = \\frac{x-x^0}{x^1-x^0}.\n",
    "$$\n",
    "\n",
    "Since the mesh is uniform $x^{1}-x^0 = 1$. As such,\n",
    "\n",
    "$$\n",
    "\\ell_0(x) = x^1-x \\quad \\text{and} \\quad \\ell_1(x) = x-x^0.\n",
    "$$\n",
    "\n",
    "Element 0 contains mesh points $(x^0, x^1) = (x_0, x_1) = (0, 1)$. We get\n",
    "\n",
    "$$\n",
    "\\psi_0(x) = \\ell_0(x) = 1-x \\quad \\text{and} \\quad \\psi_1(x)= \\ell_1(x) = x \\quad x \\in [0, 1].\n",
    "$$\n",
    "\n",
    "where $\\psi_j(x)$ is the basis function for node $j$. It is one on node j and 0 on all the remaining nodes in the mesh.\n",
    "\n",
    "Element 1 contains mesh points $(x^0, x^1) = (x_1, x_2) = (1, 2)$. We get\n",
    "\n",
    "$$\n",
    "\\psi_1(x) = \\ell_0(x) = 2-x \\quad \\text{and} \\quad \\psi_2(x) = \\ell_1(x) = x-1 \\quad x \\in [1, 2].\n",
    "$$\n",
    "\n",
    "Note that we get $\\psi_1(x)$ in both element 0 and 1. This is because the basis function is piecewise linear, with one slope on element 0 and another on element 1.\n",
    "\n",
    "It should be obvious that element $j$ for $j=2, 3, 4$ contains basis functions\n",
    "\n",
    "$$\n",
    "\\psi_j(x) = j+1-x \\quad \\text{and} \\quad \\psi_{j+1}(x) = x-j, \\quad x \\in [j, j+1]\n",
    "$$\n",
    "\n",
    "We can plot all these basis functions with one color for each basis function $\\psi_j(x)$"
   ]
  },
  {
   "cell_type": "code",
   "execution_count": null,
   "metadata": {
    "tags": [
     "hide-input"
    ]
   },
   "outputs": [],
   "source": [
    "color = iter(plt.cm.rainbow(np.linspace(0, 1, 7)))\n",
    "c = next(color)\n",
    "plt.figure(figsize=(6, 3))\n",
    "for j in range(5):\n",
    "    x = np.array([j, j+1])\n",
    "    plt.plot(x,  j+1-x, c=c)\n",
    "    c = next(color)\n",
    "    plt.plot(x,  x-j, c=c)"
   ]
  },
  {
   "cell_type": "markdown",
   "metadata": {},
   "source": [
    "So all the internal basis functions, i.e., $\\{\\psi_j(x)\\}_{j=1}^{4}$, are nonzero in two elements each and zero elsewhere. The two boundary basis functions $\\psi_0(x)$ and $\\psi_5(x)$ are only nonzero on one element each. All basis functions are such that\n",
    "\n",
    "$$\n",
    "\\psi_j(x_i) = \\delta_{ij} = \\begin{cases}\n",
    "1 \\quad i=j \\\\\n",
    "0 \\quad i\\ne j\n",
    "\\end{cases}\n",
    "$$\n",
    "\n",
    "since we are using Lagrange polynomials. This applies not only for uniform meshes, but for any collection of mesh points. Assume that the mesh points use Chebyshev points instead. This is no problem for the elements of the Lagrange polynomials."
   ]
  },
  {
   "cell_type": "code",
   "execution_count": null,
   "metadata": {},
   "outputs": [],
   "source": [
    "xj = np.cos(np.arange(6)*np.pi/5)[::-1]\n",
    "color = iter(plt.cm.rainbow(np.linspace(0, 1, 7)))\n",
    "c = next(color)\n",
    "plt.figure(figsize=(6, 3))\n",
    "for j in range(5):\n",
    "    x = np.array([xj[j], xj[j+1]])\n",
    "    plt.plot(x,  (x-x[1])/(x[0]-x[1]), c=c)\n",
    "    c = next(color)\n",
    "    plt.plot(x,  (x-x[0])/(x[1]-x[0]), c=c)"
   ]
  },
  {
   "cell_type": "markdown",
   "metadata": {},
   "source": [
    "The flexibility when it comes to mesh is one of the major advantages of the finite element method.\n",
    "\n",
    "For any mesh we get the piecewise linear Lagrange basis functions\n",
    "\n",
    "$$\n",
    "\\psi_j(x) = \\begin{cases}\n",
    "\\frac{x-x_{j-1}}{x_{j}-x_{j-1}} \\quad x \\in [x_{j-1}, x_{j}],\\\\\n",
    "\\frac{x-x_{j+1}}{x_{j}-x_{j+1}} \\quad x \\in [x_{j}, x_{j+1}]. \\\\\n",
    "\\end{cases}\n",
    "$$\n",
    "\n",
    "Lets use these basis functions for the Galerkin method in order to approximate $u(x) = 10(x-1)^2-1, x \\in [1, 2]$. We have the function space $V_N = \\text{span}\\{\\psi_j\\}_{j=0}^N$ and look for $u_N \\in V_N$ such that\n",
    "\n",
    "$$\n",
    "(u-\\sum_{j=0}^N \\hat{u}_j \\psi_j, \\psi_i) = 0 \\quad \\forall \\, i \\in (0, 1, \\ldots, N).\n",
    "$$\n",
    "\n",
    "In other words, we need to solve \n",
    "\n",
    "$$\n",
    "\\sum_{j=0}^N(\\psi_j, \\psi_i) \\hat{u}_j = (u, \\psi_i), \\quad \\forall\\,  i \\in (0, 1, \\ldots, N)\n",
    "$$\n",
    "\n",
    "Unfortunately, the mass matrix $(\\psi_j, \\psi_i)$ is not diagonal, because the basis functions are not orthogonal. However, since the basis functions are local the matrix will still be highly sparse.\n",
    "\n",
    "Lets create a uniform mesh and assemble the mass matrix. We assemble element by element and we know that on each element there are only two nonzero basis functions\n",
    "\n",
    "$$\n",
    "\\ell_0(x) = \\frac{x-x^1}{x^0-x^1} \\quad \\text{and} \\quad \\ell_1(x) = \\frac{x-x^0}{x^1-x^0}.\n",
    "$$"
   ]
  },
  {
   "cell_type": "code",
   "execution_count": null,
   "metadata": {},
   "outputs": [],
   "source": [
    "import sympy as sp\n",
    "x = sp.Symbol('x')\n",
    "N = 8\n",
    "xj = np.linspace(1, 2, N+1)\n",
    "l0 = lambda j: (x-xj[j+1])/(xj[j]-xj[j+1])\n",
    "l1 = lambda j: (x-xj[j])/(xj[j+1]-xj[j])\n",
    "A = np.zeros((N+1, N+1))\n",
    "for i in range(N):\n",
    "    A[i, i] += sp.integrate(l0(i)**2, (x, xj[i], xj[i+1]))\n",
    "    A[i+1, i+1] += sp.integrate(l1(i)**2, (x, xj[i], xj[i+1]))\n",
    "    aij = sp.integrate(l0(i)*l1(i), (x, xj[i], xj[i+1]))\n",
    "    A[i, i+1] += aij\n",
    "    A[i+1, i] += aij"
   ]
  },
  {
   "cell_type": "code",
   "execution_count": null,
   "metadata": {},
   "outputs": [],
   "source": [
    "A"
   ]
  },
  {
   "cell_type": "code",
   "execution_count": null,
   "metadata": {},
   "outputs": [],
   "source": []
  }
 ],
 "metadata": {
  "kernelspec": {
   "display_name": "bookmatmek4270",
   "language": "python",
   "name": "bookmatmek4270"
  },
  "language_info": {
   "codemirror_mode": {
    "name": "ipython",
    "version": 3
   },
   "file_extension": ".py",
   "mimetype": "text/x-python",
   "name": "python",
   "nbconvert_exporter": "python",
   "pygments_lexer": "ipython3",
   "version": "3.9.18"
  }
 },
 "nbformat": 4,
 "nbformat_minor": 4
}
