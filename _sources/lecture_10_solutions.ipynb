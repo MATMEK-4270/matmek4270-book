{
 "cells": [
  {
   "cell_type": "markdown",
   "metadata": {},
   "source": [
    "# Suggested solutions weekly assignments - lecture 10\n",
    "\n",
    "1. In the [lecture notes](https://matmek-4270.github.io/matmek4270-book/lecture10.html#) most functions have been implemented to work for finite elements of any order. However, {ref}`assemble_mass <assemble-mass>` makes use of `Ae`, which is currently only implemented for $d=$ 1 and 2. Modify `assemble_mass` to work for arbitrary orders, by adding a function `Ade` that returns the element mass matrix of order $d$. The returned matrix should be a Sympy Matrix including the element length `h`, as used for `A1e` and `A2e` above.\n",
    "    ```\n",
    "    def Ade(d=1):\n",
    "        ...\n",
    "\n",
    "    def assemble_mass(xj, d=1):\n",
    "        N = len(xj)-1\n",
    "        Ne = N//d\n",
    "        A = np.zeros((N+1, N+1))\n",
    "        Ad = Ade(d)\n",
    "        for elem in range(Ne):\n",
    "            hj = get_element_length(xj, elem, d=d)\n",
    "            s0 = local_to_global_map(elem, d=d)\n",
    "            A[s0, s0] += np.array(Ad.subs(h, hj), dtype=float)\n",
    "        return A\n",
    "    ```\n",
    "\n",
    "    Run the above example with $u(x) = \\exp(\\cos(x))$ and show that $d=4$ leads to a convergence rate of $N^{-5}$.\n",
    "\n",
    "    ```{hint}\n",
    "    In order to run the example for a range of `N` that works for both $d=1, 2$ and $4$, use $N \\in \\{8, 24, 40, 56\\}$.\n",
    "    ```\n",
    "\n"
   ]
  },
  {
   "cell_type": "markdown",
   "metadata": {},
   "source": [
    "In order to solve this problem and show convergence you can reuse a lot of the code from lecture 10. Only `Ade` needs to be rewritten in a general manner for any d."
   ]
  },
  {
   "cell_type": "code",
   "execution_count": null,
   "metadata": {},
   "outputs": [],
   "source": [
    "import numpy as np \n",
    "import sympy as sp \n",
    "import matplotlib.pyplot as plt\n",
    "from lagrange import Lagrangebasis\n",
    "from fem import get_element_length, local_to_global_map, assemble_b, fe_evaluate_v\n",
    "x, h = sp.symbols('x,h')\n",
    "\n",
    "def Ade(d=1):\n",
    "    Xj = lambda d: 2*(np.array([sp.Rational(i, d) for i in np.arange(d+1)]))-1 # np.linspace(-1, 1, d+1) only rational\n",
    "    ll = lambda d: Lagrangebasis(Xj(d))\n",
    "    qe = lambda l, r, s: sp.integrate(l[r]*l[s], (x, -1, 1))\n",
    "    A = np.zeros((d+1, d+1), dtype=object)\n",
    "    l = ll(d)\n",
    "    for r in range(d+1):\n",
    "        for s in range(d+1):\n",
    "            A[r, s] = qe(l, r, s)\n",
    "    return (h/2)*sp.Matrix(A)\n",
    "\n",
    "def assemble_mass(xj, d=1):\n",
    "    N = len(xj)-1\n",
    "    Ne = N//d\n",
    "    A = np.zeros((N+1, N+1))\n",
    "    Ad = Ade(d)\n",
    "    for elem in range(Ne):\n",
    "        hj = get_element_length(xj, elem, d=d)\n",
    "        s0 = local_to_global_map(elem, d=d)\n",
    "        A[s0, s0] += np.array(Ad.subs(h, hj), dtype=float)\n",
    "    return A\n"
   ]
  },
  {
   "cell_type": "markdown",
   "metadata": {},
   "source": [
    "Reuse some code from lecture 10:"
   ]
  },
  {
   "cell_type": "code",
   "execution_count": null,
   "metadata": {},
   "outputs": [],
   "source": [
    "def assemble(u, N, domain=(-1, 1), d=1, xj=None):\n",
    "    if xj is not None:\n",
    "        mesh = xj\n",
    "    else:\n",
    "        mesh = np.linspace(domain[0], domain[1], N+1)\n",
    "    A = assemble_mass(mesh, d=d)\n",
    "    b = assemble_b(u, mesh, d=d)\n",
    "    return A, b, mesh"
   ]
  },
  {
   "cell_type": "markdown",
   "metadata": {},
   "source": [
    "Test for d=1"
   ]
  },
  {
   "cell_type": "code",
   "execution_count": null,
   "metadata": {},
   "outputs": [],
   "source": [
    "ue = sp.exp(sp.cos(x))\n",
    "domain = (0, 1)\n",
    "A, b, xj = assemble(ue, 4, domain=domain, d=1)\n",
    "uh = np.linalg.inv(A) @ b\n",
    "yj = np.linspace(domain[0], domain[1], 200)\n",
    "plt.figure(figsize=(5, 3))\n",
    "plt.plot(xj, uh, 'b-o', yj, sp.lambdify(x, ue)(yj), 'r--')\n",
    "plt.legend(['FEM', 'Exact']);"
   ]
  },
  {
   "cell_type": "markdown",
   "metadata": {},
   "source": [
    "Run L2-error test for a range of meshes and plot the error"
   ]
  },
  {
   "cell_type": "code",
   "execution_count": null,
   "metadata": {},
   "outputs": [],
   "source": [
    "def L2_error(uh, ue, xj, d=1, domain=(-1, 1)):\n",
    "    yj = np.linspace(domain[0], domain[1], 4*len(xj))\n",
    "    uhj = fe_evaluate_v(uh, yj, xj, d=d)\n",
    "    uej = sp.lambdify(x, ue)(yj)\n",
    "    return np.sqrt(np.trapz((uhj-uej)**2, dx=yj[1]-yj[0]))\n",
    "\n",
    "error = {}\n",
    "NN = (8, 24, 40, 56)\n",
    "for d in (1, 2, 4):\n",
    "    error[d] = []\n",
    "    for N in NN:\n",
    "        A, b, xj = assemble(ue, N, domain=domain, d=d)\n",
    "        uh = np.linalg.inv(A) @ b\n",
    "        error[d].append(L2_error(uh, ue, xj, d=d, domain=domain))\n"
   ]
  },
  {
   "cell_type": "code",
   "execution_count": null,
   "metadata": {},
   "outputs": [],
   "source": [
    "from plotslopes import slope_marker\n",
    "for d in (1, 2, 4):\n",
    "    plt.loglog(NN, error[d], 'k')\n",
    "plt.legend(['d=1', 'd=2', 'd=4'])\n",
    "for d in (1, 2, 4):\n",
    "    slope_marker((24, error[d][1]), (d+1, -1))"
   ]
  },
  {
   "cell_type": "markdown",
   "metadata": {},
   "source": [
    "2. Use FEM to approximate the functions in the weekly assignments from [lecture 9](https://matmek-4270.github.io/matmek4270-book/lecture9.html#weekly-assignments). That is,\n",
    "\n",
    "    1. $u(x) = |x|, \\quad x \\in [-1, 1]$\n",
    "    2. $u(x) = \\exp(\\sin(x)), \\quad x \\in [0, 2]$\n",
    "    3. $u(x) = x^{10}, \\quad x \\in [0, 1]$\n",
    "    4. $u(x) = \\exp(-(x-0.5)^2) - \\exp(-0.25) \\quad x \\in [0, 1]$\n",
    "    5. $u(x) = J_0(x), \\quad x \\in [0, 100]$\n"
   ]
  },
  {
   "cell_type": "markdown",
   "metadata": {},
   "source": [
    "All functions can be approximated with the generic implementation already described above, so there is not much new to do. There are some interesting results though. For example, for $u(x) = |x|$, the results are exact to machine precision for all $d$."
   ]
  },
  {
   "cell_type": "code",
   "execution_count": null,
   "metadata": {},
   "outputs": [],
   "source": [
    "error = {}\n",
    "ue = sp.Abs(x)\n",
    "domain = (-1, 1)\n",
    "NN = (8, 24, 40, 56)\n",
    "for d in (1, 2, 4):\n",
    "    error[d] = []\n",
    "    for N in NN:\n",
    "        A, b, xj = assemble(ue, N, domain=domain, d=d)\n",
    "        uh = np.linalg.inv(A) @ b\n",
    "        error[d].append(L2_error(uh, ue, xj, d=d, domain=domain))\n",
    "for d in (1, 2, 4):\n",
    "    plt.loglog(NN, error[d], 'k')"
   ]
  },
  {
   "cell_type": "markdown",
   "metadata": {},
   "source": [
    "The function $u(x)=x^{10}$ shows results as expected"
   ]
  },
  {
   "cell_type": "code",
   "execution_count": null,
   "metadata": {},
   "outputs": [],
   "source": [
    "error = {}\n",
    "ue = x**10\n",
    "domain = (0, 2)\n",
    "NN = (8, 24, 40, 56)\n",
    "for d in (1, 2, 4):\n",
    "    error[d] = []\n",
    "    for N in NN:\n",
    "        A, b, xj = assemble(ue, N, domain=domain, d=d)\n",
    "        uh = np.linalg.inv(A) @ b\n",
    "        error[d].append(L2_error(uh, ue, xj, d=d, domain=domain))\n",
    "for d in (1, 2, 4):\n",
    "    plt.loglog(NN, error[d], 'k')"
   ]
  },
  {
   "cell_type": "code",
   "execution_count": null,
   "metadata": {},
   "outputs": [],
   "source": []
  },
  {
   "cell_type": "code",
   "execution_count": null,
   "metadata": {},
   "outputs": [],
   "source": [
    "ue = sp.exp(-(x-0.5)**2) - sp.exp(-0.25)\n",
    "domain = (0, 1)\n",
    "NN = (8, 24, 40, 56)\n",
    "for d in (1, 2, 4):\n",
    "    error[d] = []\n",
    "    for N in NN:\n",
    "        A, b, xj = assemble(ue, N, domain=domain, d=d)\n",
    "        uh = np.linalg.inv(A) @ b\n",
    "        error[d].append(L2_error(uh, ue, xj, d=d, domain=domain))\n",
    "for d in (1, 2, 4):\n",
    "    plt.loglog(NN, error[d], 'k')"
   ]
  },
  {
   "cell_type": "markdown",
   "metadata": {},
   "source": [
    "The Bessel function, on the other hand, requires more nodes in order to converge.  This is because of the complex shape of the function, that simply cannot be captured with a low number of nodes."
   ]
  },
  {
   "cell_type": "code",
   "execution_count": null,
   "metadata": {},
   "outputs": [],
   "source": [
    "ue = sp.besselj(0, x)\n",
    "domain = (0, 100)\n",
    "NN = (8, 24, 40, 56, 112, 224)\n",
    "for d in (1, 2, 4):\n",
    "    error[d] = []\n",
    "    for N in NN:\n",
    "        A, b, xj = assemble(ue, N, domain=domain, d=d)\n",
    "        uh = np.linalg.inv(A) @ b\n",
    "        error[d].append(L2_error(uh, ue, xj, d=d, domain=domain))\n",
    "for d in (1, 2, 4):\n",
    "    plt.loglog(NN, error[d], 'k')"
   ]
  },
  {
   "cell_type": "markdown",
   "metadata": {},
   "source": [
    "For the final assignment, simply try to create code like in [lecture 10](https://matmek-4270.github.io/matmek4270-pres/fem.html#/first-example---function-approximation-using-piecewise-linear-lagrange-elements). To get a working version of FEniCS, see [this slide](https://matmek-4270.github.io/matmek4270-pres/fem.html#/for-installation-httpsgithub.comfenicsdolfinx)."
   ]
  }
 ],
 "metadata": {
  "kernelspec": {
   "display_name": "shenfun",
   "language": "python",
   "name": "python3"
  },
  "language_info": {
   "codemirror_mode": {
    "name": "ipython",
    "version": 3
   },
   "file_extension": ".py",
   "mimetype": "text/x-python",
   "name": "python",
   "nbconvert_exporter": "python",
   "pygments_lexer": "ipython3",
   "version": "3.12.3"
  }
 },
 "nbformat": 4,
 "nbformat_minor": 2
}
