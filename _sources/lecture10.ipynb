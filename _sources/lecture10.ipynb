{
 "cells": [
  {
   "cell_type": "markdown",
   "metadata": {},
   "source": [
    "# Lecture 10\n",
    "\n",
    "## Function approximation by the finite element method\n",
    "\n",
    "We have seen that a function $u(x)$ can be approximated as\n",
    "\n",
    "$$\n",
    "u(x) = \\sum_{j=0}^N \\hat{u}_j \\psi_j(x), \\quad x \\in \\Omega.\n",
    "$$\n",
    "\n",
    "And we have seen how the least squares, Galerkin an collocation methods can be used to find the unknown $\\boldsymbol{\\hat{u}} = \\{\\hat{u}_j\\}_{j=0}^N$.\n",
    "\n",
    "Up until now we have used global basis functions $\\psi_j(x)$ defined on the entire domain $\\Omega$. For example, the Chebyshev polynomials are all functions that are changing within the entire domain $\\Omega = [-1, 1]$"
   ]
  },
  {
   "cell_type": "code",
   "execution_count": null,
   "metadata": {
    "tags": [
     "hide-input"
    ]
   },
   "outputs": [],
   "source": [
    "import numpy as np\n",
    "import sympy as sp \n",
    "import matplotlib.pyplot as plt \n",
    "\n",
    "x = sp.Symbol('x')\n",
    "fig, ax = plt.subplots(figsize=(6, 3))\n",
    "xj = np.linspace(-1, 1, 100)\n",
    "legend = []\n",
    "for n in range(5):\n",
    "    ax.plot(xj, np.cos(n*np.arccos(xj)))\n",
    "    legend.append(f'$P_{n}(x)$')\n",
    "ax.legend(legend);"
   ]
  },
  {
   "cell_type": "markdown",
   "metadata": {},
   "source": [
    "The global aspect of the basis functions is an advantage when it comes to both accuracy and efficiency. However, we are not always interested in solving equations on a simple line interval, or a rectangle for two dimensions. Normally you are more interested in domains that contains some physical obstructions"
   ]
  },
  {
   "cell_type": "markdown",
   "metadata": {},
   "source": [
    "```{figure} dolfin_mesh.png\n",
    ":name: dolfin mesh\n",
    ":width: 300\n",
    ":align: left\n",
    "```\n",
    "\n",
    "For such domains it is not possible to use basis functions that are defined everywhere. It is also very difficult, if not impossible, to use finite difference methods. Just imagine, how would you implement a Laplacian, like\n",
    "\n",
    "$$\n",
    "\\frac{u_{i+1,j}-2u_{i,j}+u_{i-1,j}}{\\Delta x^2} + \\frac{u_{i,j+1}-2u_{i,j}+u_{i,j-1}}{\\Delta y^2} \n",
    "$$\n",
    "\n",
    "on a 2D dolfin mesh?\n",
    "\n",
    "But finite element methods are designed to work on such triangulated elements! \n",
    "\n",
    "The finite element method (FEM) starts by splitting the domain $\\Omega$ into smaller, non-overlapping, elements $\\Omega^{(e)}$, such that\n",
    "\n",
    "$$\n",
    "\\Omega = \\bigcup_{e\\in \\mathcal{I}_{N_e}} \\Omega^{(e)}.\n",
    "$$\n",
    "\n",
    "For example, the domain $\\Omega = [0, 5]$ can be split up into 5 smaller domains $\\Omega^{(e)} = [e, e+1], e \\in (0, 1, 2, 3, 4)$ using 6 uniformly distributed nodes:\n",
    "\n",
    "```{figure} fe_mesh1D_P1.png\n",
    "---\n",
    "name: fem-1d-mesh-P1\n",
    "width: 500\n",
    "align: left\n",
    "---\n",
    "Finite element mesh with 5 elements and 6 nodes.\n",
    "```\n",
    "These smaller domains are now referred to as elements.\n",
    "Note that an element here is located in between two blue vertical bars. \n",
    "\n",
    "The mesh seen in {numref}`fem-1d-mesh-P1` is the simplest possible FEM mesh, where each element contains 2 *nodes*. These elements can at best make use of linear piecewise polynomials since there are only 2 nodes in each element.\n",
    "\n",
    "A slightly more complicated mesh is shown in {numref}`fem-1d-mesh-P2`, which is non-uniform and contains only 2 elements and 5 nodes. Each of the elements contains 3 nodes, and as such these elements can make use of second order polynomials.\n",
    "\n",
    "```{figure} fe_mesh1D_P2.png\n",
    "---\n",
    "name: fem-1d-mesh-P2\n",
    "width: 500\n",
    "align: left\n",
    "---\n",
    "Finite element mesh with 2 elements and 5 nodes.\n",
    "```\n",
    "\n",
    "The FEM makes use of *local* basis functions that are only non-zero on some of the elements. Furthermore, the basis functions that we will make use of in this class are piecewise polynomials. In the simplest possible form, this means that the basis functions are piecewise linear (or even constant) over an element. For example, if the domain is the part of the real line $\\Omega = [0, 5]$ and we make use of a uniform discretization with 5 elements, then we get the 5 elements $\\Omega^{(e)}$ as shown below, and 6 piecewise linear basis functions. However, we only plot two of the 6 basis functions below for simplicity.\n",
    "\n",
    "```{figure} fe_mesh1D_phi_2_3.png\n",
    "---\n",
    "name: fem-1d-mesh-phi\n",
    "width: 500\n",
    "align: left\n",
    "---\n",
    "Finite element mesh with 5 elements, 6 nodes and two of the 6 basis functions.\n",
    "```\n"
   ]
  },
  {
   "cell_type": "markdown",
   "metadata": {},
   "source": [
    "### Finite element basis functions\n",
    "\n",
    "Other than the fact that the basis functions are piecewise polynomials with only local support, there is nothing new from the previous chapters. It is only much more complicated to work with piecewise polynomials than continuous and it requires much more effort to implement!\n",
    "\n",
    "The finite element method is a variational method. As such we can define the problem of approximating functions exactly the same way as we did for the global approach. Assume that we want to use the finite element method to find an approximation to $u(x)$ in $\\Omega=[0, 5]$. We may then divide this interval into $5$ nonoverlapping elements (like shown above) and use the function space $V_N = \\text{span}\\{\\psi_j\\}_{j=0}^5$, where $\\psi_j(x)$ are the 6 piecewise linear functions that are 1 on node $j$, zero on all the other nodes and linear in between. This would be the 6 basis functions that all would look like the 2 we have plotted above. We then attempt to find $u_N \\in V_N$ such that\n",
    "\n",
    "$$\n",
    "(u-u_N, v) = 0 \\quad \\forall \\, v \\in V_N.\n",
    "$$(eq-galerkin-fem)\n",
    "\n",
    "It is also possible to use the least squares method, but this is very rare. So for the finite element method we will focus on the Galerkin method with piecewise polynomial basis functions.\n",
    "\n",
    "```{note}\n",
    "The Galerkin formulation is the same whether you use a global approach with Legendre polynomials or a local FEM with piecewise polynomials. The difference lies all in the function spaces and the choice of basis. \n",
    "```"
   ]
  },
  {
   "cell_type": "markdown",
   "metadata": {},
   "source": [
    "We will reuse even more of the theory from the global approximation, because we will make use of Lagrange polynomials as basis functions! But not global Lagrange polynomials, only local. Local to an element. Each element in the {ref}`1D fem mesh <fem-1D-mesh>` contains $N_e = 2$ nodes. These nodes will locally be denoted as $(x^0, x^1)$ no matter which element we are in, and the Lagrange formula is then\n",
    "\n",
    "$$\n",
    "\\ell_j(x) = \\prod_{\\substack{0 \\le m < 2 \\\\ m \\ne j}} \\frac{x-x^m}{x^j-x^m}, \\quad j \\in (0, 1).\n",
    "$$\n",
    "\n",
    "There are exactly two linear Lagrange polynomials on each element, and these are locally computed as\n",
    "\n",
    "$$\n",
    "\\ell_0(x) = \\frac{x-x^1}{x^0-x^1} \\quad \\text{and} \\quad \\ell_1(x) = \\frac{x-x^0}{x^1-x^0}.\n",
    "$$\n",
    "\n",
    "Since the mesh is uniform $x^{1}-x^0 = 1$. As such,\n",
    "\n",
    "$$\n",
    "\\ell_0(x) = x^1-x \\quad \\text{and} \\quad \\ell_1(x) = x-x^0.\n",
    "$$\n",
    "\n",
    "Element 0 contains mesh points $(x^0, x^1) = (x_0, x_1) = (0, 1)$ and as such\n",
    "\n",
    "$$\n",
    "\\psi_0(x) = \\ell_0(x) = 1-x \\quad \\text{and} \\quad \\psi_1(x)= \\ell_1(x) = x \\quad x \\in [0, 1].\n",
    "$$\n",
    "\n",
    "where $\\psi_j(x)$ is the basis function for node $j$. It is one on node j and 0 on all the remaining nodes in the mesh.\n",
    "\n",
    "Element 1 contains mesh points $(x^0, x^1) = (x_1, x_2) = (1, 2)$. We get\n",
    "\n",
    "$$\n",
    "\\psi_1(x) = \\ell_0(x) = 2-x \\quad \\text{and} \\quad \\psi_2(x) = \\ell_1(x) = x-1 \\quad x \\in [1, 2].\n",
    "$$\n",
    "\n",
    "Note that $\\psi_1(x)$ is nonzero in both element 0 and 1. This is because the basis function is piecewise linear, with one slope on element 0 and another on element 1.\n",
    "\n",
    "It should be obvious that element $j$ for $j=2, 3, 4$ contains basis functions\n",
    "\n",
    "$$\n",
    "\\psi_j(x) = j+1-x \\quad \\text{and} \\quad \\psi_{j+1}(x) = x-j, \\quad x \\in [j, j+1].\n",
    "$$\n",
    "\n",
    "We can plot all these basis functions with one color for each basis function $\\psi_j(x)$"
   ]
  },
  {
   "cell_type": "code",
   "execution_count": null,
   "metadata": {
    "tags": [
     "hide-input"
    ]
   },
   "outputs": [],
   "source": [
    "color = iter(plt.cm.rainbow(np.linspace(0, 1, 7)))\n",
    "c = next(color)\n",
    "plt.figure(figsize=(6, 3))\n",
    "for j in range(5):\n",
    "    x = np.array([j, j+1])\n",
    "    plt.plot(x,  j+1-x, c=c)\n",
    "    c = next(color)\n",
    "    plt.plot(x,  x-j, c=c)"
   ]
  },
  {
   "cell_type": "markdown",
   "metadata": {},
   "source": [
    "So all the internal basis functions, i.e., $\\{\\psi_j(x)\\}_{j=1}^{4}$, are nonzero in two elements each and zero elsewhere. The two boundary basis functions $\\psi_0(x)$ and $\\psi_5(x)$ are only nonzero on one element each. All basis functions are such that\n",
    "\n",
    "$$\n",
    "\\psi_j(x_i) = \\delta_{ij} = \\begin{cases}\n",
    "1 \\quad i=j, \\\\\n",
    "0 \\quad i\\ne j,\n",
    "\\end{cases}\n",
    "$$\n",
    "\n",
    "since we are using Lagrange polynomials. This applies not only for uniform meshes, but for any collection of mesh points. Assume that the mesh points use Chebyshev points instead. This is no problem for the elements of the Lagrange polynomials and the basis funcitons become:"
   ]
  },
  {
   "cell_type": "code",
   "execution_count": null,
   "metadata": {
    "tags": [
     "hide-input"
    ]
   },
   "outputs": [],
   "source": [
    "xj = np.cos(np.arange(6)*np.pi/5)[::-1]\n",
    "color = iter(plt.cm.rainbow(np.linspace(0, 1, 7)))\n",
    "c = next(color)\n",
    "plt.figure(figsize=(6, 3))\n",
    "for j in range(5):\n",
    "    x = np.array([xj[j], xj[j+1]])\n",
    "    plt.plot(x,  (x-x[1])/(x[0]-x[1]), c=c)\n",
    "    c = next(color)\n",
    "    plt.plot(x,  (x-x[0])/(x[1]-x[0]), c=c)"
   ]
  },
  {
   "cell_type": "markdown",
   "metadata": {},
   "source": [
    "The flexibility when it comes to mesh is one of the major advantages of the finite element method.\n",
    "\n",
    "For any mesh we get the piecewise linear Lagrange basis functions\n",
    "\n",
    "$$\n",
    "\\psi_j(x) = \\begin{cases}\n",
    "\\frac{x-x_{j-1}}{x_{j}-x_{j-1}} \\quad x \\in [x_{j-1}, x_{j}],\\\\\n",
    "\\frac{x-x_{j+1}}{x_{j}-x_{j+1}} \\quad x \\in [x_{j}, x_{j+1}]. \\\\\n",
    "\\end{cases}\n",
    "$$\n",
    "\n",
    "Lets use these basis functions for the Galerkin method in order to approximate $u(x) = 10(x-1)^2-1, x \\in [1, 2]$. We have the function space $V_N = \\text{span}\\{\\psi_j\\}_{j=0}^N$ and look for $u_N \\in V_N$ such that\n",
    "\n",
    "$$\n",
    "(u-\\sum_{j=0}^N \\hat{u}_j \\psi_j, \\psi_i) = 0 \\quad \\forall \\, i \\in (0, 1, \\ldots, N).\n",
    "$$\n",
    "\n",
    "In other words, we need to solve \n",
    "\n",
    "$$\n",
    "\\sum_{j=0}^N(\\psi_j, \\psi_i) \\hat{u}_j = (u, \\psi_i), \\quad \\forall\\,  i \\in (0, 1, \\ldots, N)\n",
    "$$\n",
    "\n",
    "Unfortunately, the mass matrix $a_{ij} = (\\psi_j, \\psi_i)$ is not diagonal, because the basis functions are not orthogonal. However, since the basis functions are local the matrix will still be highly sparse.\n",
    "\n",
    "Lets create a uniform mesh and assemble the mass matrix. We assemble element by element and we know that on each element there are only two nonzero basis functions\n",
    "\n",
    "$$\n",
    "\\ell_0(x) = \\frac{x-x^1}{x^0-x^1} \\quad \\text{and} \\quad \\ell_1(x) = \\frac{x-x^0}{x^1-x^0}.\n",
    "$$\n",
    "\n",
    "These two functions are simply (locally on any element $i$):"
   ]
  },
  {
   "cell_type": "code",
   "execution_count": null,
   "metadata": {
    "tags": [
     "ihde-input"
    ]
   },
   "outputs": [],
   "source": [
    "fig = plt.figure(figsize=(3, 3))\n",
    "plt.plot([0, 1], [1, 0], 'k', [0, 1], [0, 1], 'k')\n",
    "ax = fig.gca()\n",
    "fig.text(0.7, 0.75, \"$\\ell_1(x)$\", horizontalalignment='center')\n",
    "fig.text(0.32, 0.75, \"$\\ell_0(x)$\", horizontalalignment='center')\n",
    "ax.text(0, -0.1, \"$i$\", horizontalalignment='center')\n",
    "ax.text(1, -0.1, \"$i+1$\", horizontalalignment='center')\n",
    "ax.axis('off')\n",
    "ax.axis('equal');"
   ]
  },
  {
   "cell_type": "markdown",
   "metadata": {},
   "source": [
    "On element $i$ we have that $\\psi_i = \\ell_0(x)$ and $\\psi_{i+1} = \\ell_1(x)$. On each element we get the nonzero terms of the mass matrix\n",
    "\n",
    "$$\n",
    "a_{ii} \\mathrel{+}= \\int_{\\Omega^{(i)}} \\psi_i^2 dx,\n",
    "$$\n",
    "$$\n",
    "a_{i+1,i+1} \\mathrel{+}= \\int_{\\Omega^{(i)}} \\psi_{i+1}^2 dx,\n",
    "$$\n",
    "$$\n",
    "a_{i, i+1} \\mathrel{+}= \\int_{\\Omega^{(i)}} \\psi_i \\psi_{i+1} dx,\n",
    "$$\n",
    "$$\n",
    "a_{i+1, i} \\mathrel{+}= \\int_{\\Omega^{(i)}} \\psi_{i+1} \\psi_{i} dx.\n",
    "$$\n",
    "\n",
    "Note the addition, which is there because each basis function is nonzero on two elements. Also note that the last two integrals are equal due to symmetry.\n",
    "\n",
    "We can compute this as below"
   ]
  },
  {
   "cell_type": "code",
   "execution_count": null,
   "metadata": {},
   "outputs": [],
   "source": [
    "import sympy as sp\n",
    "x = sp.Symbol('x')\n",
    "N = 4\n",
    "xj = np.linspace(1, 2, N+1)\n",
    "l0 = lambda j: (x-xj[j+1])/(xj[j]-xj[j+1])\n",
    "l1 = lambda j: (x-xj[j])/(xj[j+1]-xj[j])\n",
    "A = np.zeros((N+1, N+1))\n",
    "for i in range(N):\n",
    "    A[i, i] += sp.integrate(l0(i)**2, (x, xj[i], xj[i+1]))\n",
    "    A[i+1, i+1] += sp.integrate(l1(i)**2, (x, xj[i], xj[i+1]))\n",
    "    aij = sp.integrate(l0(i)*l1(i), (x, xj[i], xj[i+1]))\n",
    "    A[i, i+1] += aij\n",
    "    A[i+1, i] += aij"
   ]
  },
  {
   "cell_type": "code",
   "execution_count": null,
   "metadata": {},
   "outputs": [],
   "source": [
    "print(A)"
   ]
  },
  {
   "cell_type": "markdown",
   "metadata": {},
   "source": [
    "We can plot the sparsity pattern of the matrix `A` using [plt.spy](https://matplotlib.org/stable/api/_as_gen/matplotlib.pyplot.spy.html). This function plots a square for all the nonzero items of `A`, and nothing where it is zero."
   ]
  },
  {
   "cell_type": "code",
   "execution_count": null,
   "metadata": {},
   "outputs": [],
   "source": [
    "plt.figure(figsize=(3, 3))\n",
    "plt.spy(A, markersize=5);"
   ]
  },
  {
   "cell_type": "markdown",
   "metadata": {},
   "source": [
    "We also need to assemble $b_i = (u, \\psi_i)$ for $i=(0, 1, \\ldots, N)$:"
   ]
  },
  {
   "cell_type": "code",
   "execution_count": null,
   "metadata": {},
   "outputs": [],
   "source": [
    "b = np.zeros(N+1)\n",
    "u = 10*(x-1)**2-1\n",
    "for i in range(N):\n",
    "    b[i] += sp.integrate(l0(i)*u, (x, xj[i], xj[i+1]))\n",
    "    b[i+1] += sp.integrate(l1(i)*u, (x, xj[i], xj[i+1]))"
   ]
  },
  {
   "cell_type": "markdown",
   "metadata": {},
   "source": [
    "Now solve the problem and plot the solution"
   ]
  },
  {
   "cell_type": "code",
   "execution_count": null,
   "metadata": {},
   "outputs": [],
   "source": [
    "uh = np.linalg.inv(A) @ b\n",
    "yj = np.linspace(1, 2, 1000)\n",
    "plt.figure(figsize=(5, 3))\n",
    "plt.plot(xj, uh, 'b', yj, 10*(yj-1)**2-1, 'r--')\n",
    "plt.legend(['FEM', 'Exact']);"
   ]
  },
  {
   "cell_type": "markdown",
   "metadata": {},
   "source": [
    "Not bad, but clearly not exact since the FEM solution is piecewise linear between the 5 mesh points."
   ]
  },
  {
   "cell_type": "markdown",
   "metadata": {},
   "source": [
    "The next level of complexity for FEM is to increase the order of the approximating polynomials. To this end we need to create elements $\\Omega^{(e)}$ that contains more than just 2 nodes each, as shown in {numref}`fem-1d-mesh-P2`.\n",
    "\n",
    "Lets try with a uniform mesh and 3 nodes in each element. We now use on each element the local mesh points $(x^0, x^1, x^2)$ and get the three Lagrange polynomials\n",
    "\n",
    "$$\n",
    "\\begin{align*}\n",
    "\\ell_0(x) &= \\frac{x-x^1}{x^0-x^1}\\frac{x-x^2}{x^0-x^2}, \\\\\n",
    "\\ell_1(x) &= \\frac{x-x^0}{x^1-x^0}\\frac{x-x^2}{x^1-x^2}, \\\\\n",
    "\\ell_2(x) &= \\frac{x-x^0}{x^2-x^0}\\frac{x-x^1}{x^2-x^1}.\n",
    "\\end{align*}\n",
    "$$\n",
    "\n",
    "We can plot these three basis functions on one element as shown below"
   ]
  },
  {
   "cell_type": "code",
   "execution_count": null,
   "metadata": {
    "tags": [
     "hide-input"
    ]
   },
   "outputs": [],
   "source": [
    "from lagrange import Lagrangebasis\n",
    "fig = plt.figure(figsize=(3, 2))\n",
    "xj = np.array([0, 0.5, 1])\n",
    "yj = np.linspace(0, 1, 100)\n",
    "l0, l1, l2 = Lagrangebasis(xj)\n",
    "plt.plot(yj, sp.lambdify(x, l0)(yj), 'k', \n",
    "         yj, sp.lambdify(x, l1)(yj), 'b',\n",
    "         yj, sp.lambdify(x, l2)(yj), 'r')\n",
    "ax = fig.gca()\n",
    "ax.text(1.05, 0.75, \"$\\ell_2(x)$\", horizontalalignment='center')\n",
    "ax.text(-0.05, 0.75, \"$\\ell_0(x)$\", horizontalalignment='center')\n",
    "ax.text(0.5, 0.85, \"$\\ell_1(x)$\", horizontalalignment='center')\n",
    "ax.text(0, -0.2, \"$x^0$\", horizontalalignment='center')\n",
    "ax.text(0.5, -0.2, \"$x^1$\", horizontalalignment='center')\n",
    "ax.text(1, -0.2, \"$x^2$\", horizontalalignment='center')\n",
    "ax.axis('off');"
   ]
  },
  {
   "cell_type": "markdown",
   "metadata": {},
   "source": [
    "Easy enough, but what about the global basis numbers? What is $\\psi_j(x)$ for node $j$? Since there are 3 nodes in each element, we just need to know which one of these three nodes $j$ corresponds to. And if $\\mod(j, 2) = 0$, then $j$ corresponds to the leftmost node, whereas $\\mod(j, 2) = 1$ and 2 corresponds to the nodes in the middle and far right. We get the global basis functions that are valid for any $j$\n",
    "\n",
    "$$\n",
    "\\psi_j(x) = \\begin{cases}\n",
    "\\ell_0(x) = \\frac{x-x_{j+1}}{x_{j}-x_{j+1}}\\frac{x-x_{j+2}}{x_{j}-x_{j+2}}, \\, \\text{if} \\, \\mod(j, 2) = 0, \\\\\n",
    "\\ell_1(x) = \\frac{x-x_{j}}{x_{j+1}-x_j}\\frac{x-x_{j+2}}{x_{j+1}-x_{j+2}}, \\, \\text{if} \\, \\mod (j, 2) = 1, \\\\\n",
    "\\ell_2(x) = \\frac{x-x_j}{x_{j+2}-x_j}\\frac{x-x_{j+1}}{x_{j+2}-x_{j+1}} \\, \\text{if} \\, \\mod(j, 2) = 2.\n",
    "\\end{cases}\n",
    "$$\n",
    "\n",
    "These basis functions are also valid for a non-uniform mesh. For a uniform mesh simplifications are possible, but we skip over this for now.\n",
    "\n",
    "For the Galerkin method we need to solve\n",
    "\n",
    "$$\n",
    "\\sum_{j=0}^N (\\psi_j, \\psi_i) \\hat{u}_j = (u, \\psi_i), \\, \\forall \\, i \\in (0, 1, \\ldots, N).\n",
    "$$\n",
    "\n",
    "The mass matrix $(\\psi_j, \\psi_i)$ will now be a little more complicated than for linear polynomials, because there are three nonzero basis functions on each element. To simplify, for the leftmost node, where $\\mod(j, 2) = 0$, we need to compute the nonzero terms\n",
    "\n",
    "$$\n",
    "(\\psi_j, \\psi_j), \\, (\\psi_{j+1}, \\psi_j), \\, \\text{and} \\, (\\psi_{j+2}, \\psi_j).\n",
    "$$\n",
    "\n",
    "For the central nodes, where $\\mod(j, 2) = 1$, we need to compute\n",
    "\n",
    "$$\n",
    "(\\psi_{j-1}, \\psi_j), \\, (\\psi_{j}, \\psi_j), \\, \\text{and} \\, (\\psi_{j+1}, \\psi_j),\n",
    "$$\n",
    "\n",
    "and finally for the rightmost node we need to compute\n",
    "\n",
    "$$\n",
    "(\\psi_j, \\psi_j), \\, (\\psi_{j-1}, \\psi_j), \\, \\text{and} \\, (\\psi_{j-2}, \\psi_j).\n",
    "$$\n",
    "\n",
    "For implementation we loop over all elements, and then on each element we compute the nine contributions outlined above."
   ]
  },
  {
   "cell_type": "code",
   "execution_count": null,
   "metadata": {},
   "outputs": [],
   "source": [
    "from scipy.integrate import quad\n",
    "\n",
    "def assemble_fem2(u, xj):\n",
    "    N = len(xj)-1\n",
    "    Ne = N//2\n",
    "    A = np.zeros((N+1, N+1))\n",
    "    b = np.zeros(N+1)\n",
    "    for elem in range(Ne):\n",
    "        j0 = 2*elem\n",
    "        ll = Lagrangebasis(xj[j0:(j0+3)])\n",
    "        # Leftmost nodes\n",
    "        A[j0, j0] += quad(sp.lambdify(x, ll[0]*ll[0]), xj[j0], xj[j0+2])[0]\n",
    "        A[j0, j0+1] += quad(sp.lambdify(x, ll[0]*ll[1]), xj[j0], xj[j0+2])[0]\n",
    "        A[j0, j0+2] += quad(sp.lambdify(x, ll[0]*ll[2]), xj[j0], xj[j0+2])[0]\n",
    "        # Central nodes\n",
    "        A[j0+1, j0] += quad(sp.lambdify(x, ll[1]*ll[0]), xj[j0], xj[j0+2])[0]\n",
    "        A[j0+1, j0+1] += quad(sp.lambdify(x, ll[1]*ll[1]), xj[j0], xj[j0+2])[0]\n",
    "        A[j0+1, j0+2] += quad(sp.lambdify(x, ll[1]*ll[2]), xj[j0], xj[j0+2])[0]\n",
    "        # Rightmost nodes\n",
    "        A[j0+2, j0] += quad(sp.lambdify(x, ll[2]*ll[0]), xj[j0], xj[j0+2])[0]\n",
    "        A[j0+2, j0+1] += quad(sp.lambdify(x, ll[2]*ll[1]), xj[j0], xj[j0+2])[0]\n",
    "        A[j0+2, j0+2] += quad(sp.lambdify(x, ll[2]*ll[2]), xj[j0], xj[j0+2])[0]\n",
    "        b[j0] += quad(sp.lambdify(x, ll[0]*u), xj[j0], xj[j0+2])[0]\n",
    "        b[j0+1] += quad(sp.lambdify(x, ll[1]*u), xj[j0], xj[j0+2])[0]\n",
    "        b[j0+2] += quad(sp.lambdify(x, ll[2]*u), xj[j0], xj[j0+2])[0]\n",
    "    return A, b\n"
   ]
  },
  {
   "cell_type": "code",
   "execution_count": null,
   "metadata": {},
   "outputs": [],
   "source": [
    "N = 2*10\n",
    "u = 10*(x-1)**2-1\n",
    "xj = np.linspace(1, 2, N+1)\n",
    "A, b = assemble_fem2(u, xj)\n",
    "uh2 = np.linalg.inv(A) @ b\n",
    "plt.figure(figsize=(5, 3))\n",
    "yj = np.linspace(1, 2, 100)\n",
    "plt.plot(xj, uh2, 'b', yj, 10*(yj-1)**2-1, 'r--')\n",
    "plt.legend(['FEM', 'Exact']);"
   ]
  },
  {
   "cell_type": "markdown",
   "metadata": {},
   "source": [
    "Lets try the more difficult function \n",
    "\n",
    "$$\n",
    "u(x) = \\exp(\\cos x), \\quad x \\in [-1, 1].\n",
    "$$\n",
    "\n",
    "that required 20 Legendre or Chebyshev coefficients for full machine precision. Create first a function that assembles the problem for $N$ elements with linear polynomials"
   ]
  },
  {
   "cell_type": "code",
   "execution_count": null,
   "metadata": {},
   "outputs": [],
   "source": [
    "def assemble_fem(N, u, xj):\n",
    "    l0 = lambda j: (x-xj[j+1])/(xj[j]-xj[j+1])\n",
    "    l1 = lambda j: (x-xj[j])/(xj[j+1]-xj[j])\n",
    "    A = np.zeros((N+1, N+1))\n",
    "    b = np.zeros(N+1)\n",
    "    for i in range(N):\n",
    "        A[i, i] += quad(sp.lambdify(x, l0(i)**2), xj[i], xj[i+1])[0]\n",
    "        A[i+1, i+1] += quad(sp.lambdify(x, l1(i)**2), xj[i], xj[i+1])[0]\n",
    "        aij = quad(sp.lambdify(x, l0(i)*l1(i)), xj[i], xj[i+1])[0]\n",
    "        A[i, i+1] += aij\n",
    "        A[i+1, i] += aij    \n",
    "        b[i] += quad(sp.lambdify(x, l0(i)*u), xj[i], xj[i+1])[0]\n",
    "        b[i+1] += quad(sp.lambdify(x, l1(i)*u), xj[i], xj[i+1])[0]\n",
    "    return A, b"
   ]
  },
  {
   "cell_type": "markdown",
   "metadata": {},
   "source": [
    "Now loop over a range of mesh sizes and assemble both the problem using linear basis functions `assemble_fem` and the problem using second order polynomials `assemble_fem2`. When finished compute the $L^2$ error norm using only the node values"
   ]
  },
  {
   "cell_type": "code",
   "execution_count": null,
   "metadata": {},
   "outputs": [],
   "source": [
    "def L2_error(uh, ue, xj):\n",
    "    uej = ue(xj)\n",
    "    return np.sqrt(np.trapz((uh-uej)**2, dx=xj[1]-xj[0]))\n",
    "    \n",
    "u = sp.exp(sp.cos(x))\n",
    "ue = sp.lambdify(x, u) \n",
    "err = []\n",
    "err2 = []\n",
    "for n in range(2, 30, 4):\n",
    "    N = 2*n\n",
    "    xj = np.linspace(-1, 1, N+1)\n",
    "    A, b = assemble_fem(N, u, xj)\n",
    "    uh = np.linalg.inv(A) @ b\n",
    "    A2, b2 = assemble_fem2(u, xj)\n",
    "    uh2 = np.linalg.inv(A2) @ b2\n",
    "    err.append(L2_error(uh, ue, xj))\n",
    "    err2.append(L2_error(uh2, ue, xj))"
   ]
  },
  {
   "cell_type": "markdown",
   "metadata": {},
   "source": [
    "The FEM approximation using linear polynomials should be second order accurate, because the linear $\\ell_0$ and $\\ell_1$ have Taylor expansions where the first neglected term is proportional to $\\Delta x^2$. Similarly, the FEM approximation using second order polynomials should be fourth order. As stated in [lecture 9](https://matmek-4270.github.io/matmek4270-book/lecture9.html) the Chebyshev and Legendre approximations have spectral accuracy, which is faster than any finite order. This is easy to illustrate. In the figure below we plot the $L^2$ errors of the Legendre/Chebyshev approximations as well as the FEM. Note how the spectral methods accellerate towards machine precision, whereas the error for FEM disappears at a rate proportional to $N^{-2}$ and $N^{-4}$. "
   ]
  },
  {
   "cell_type": "code",
   "execution_count": null,
   "metadata": {},
   "outputs": [],
   "source": [
    "err_cl = np.load('./err_u.npy')\n",
    "plt.figure(figsize=(5, 3))\n",
    "plt.loglog(np.arange(0, 25, 2), err_cl[0], '+',\n",
    "           np.arange(0, 25, 2), err_cl[1], 'ko',\n",
    "           np.arange(2, 30, 4)*2, err, 'g', \n",
    "           np.arange(2, 30, 4)*2, err2, 'y', \n",
    "           fillstyle='none')\n",
    "from plotslopes import slope_marker\n",
    "slope_marker((12, err[1]), (2, -1))\n",
    "slope_marker((20, err2[2]), (4, -1))\n",
    "plt.legend(['Chebyshev', 'Legendre', 'FEM']);"
   ]
  },
  {
   "cell_type": "markdown",
   "metadata": {},
   "source": [
    "The high order of accuracy is \n",
    "\n",
    "The finite element functions are also a bit tricky to evaluate outside the mesh points. How do you copute \n",
    "\n",
    "$$\n",
    "u(x) = \\sum_{j=0}^N \\hat{u}_j \\psi_j(x)\n",
    "$$\n",
    "\n",
    "for any given $x \\in \\Omega$ if $x$ is not a mesh point?\n",
    "\n",
    "Here you need to find out which element $x$ is in, and then you need to evaluate using all the nonzero basis functions in that element. If there are $d$ nonzero basis functions in each element, then you need to evaluate\n",
    "\n",
    "$$\n",
    "u(x) = \\sum_{i=0}^{d-1} \\hat{u}_{2e+i} \\psi_{2e+i}(x)\n",
    "$$\n",
    "\n",
    "where $e$ is the element number that $x$ belongs to."
   ]
  },
  {
   "cell_type": "code",
   "execution_count": null,
   "metadata": {},
   "outputs": [],
   "source": [
    "from lagrange import Lagrangefunction\n",
    "def fem_eval(uh, y, xj, d=1):\n",
    "    h = xj[d]-xj[0]\n",
    "    elem = int(np.floor((y-xj[0])/h))\n",
    "    ll = Lagrangebasis(xj[d*elem:d*(elem+1)+1])\n",
    "    print(elem)\n",
    "    print(ll)\n",
    "    f = Lagrangefunction(uh[d*elem:d*(elem+1)+1], ll)\n",
    "    return f.subs(x, y)\n",
    "    "
   ]
  },
  {
   "cell_type": "code",
   "execution_count": null,
   "metadata": {},
   "outputs": [],
   "source": [
    "N = 20\n",
    "xj = np.linspace(-1, 1, N+1)\n",
    "A, b = assemble_fem2(u, xj)\n",
    "uh = np.linalg.inv(A) @ b\n",
    "fem_eval(uh, -0.95, xj, d=2), u.subs(x, -0.95)"
   ]
  },
  {
   "cell_type": "code",
   "execution_count": null,
   "metadata": {},
   "outputs": [],
   "source": [
    "uh"
   ]
  },
  {
   "cell_type": "code",
   "execution_count": null,
   "metadata": {},
   "outputs": [],
   "source": []
  }
 ],
 "metadata": {
  "kernelspec": {
   "display_name": "bookmatmek4270",
   "language": "python",
   "name": "bookmatmek4270"
  },
  "language_info": {
   "codemirror_mode": {
    "name": "ipython",
    "version": 3
   },
   "file_extension": ".py",
   "mimetype": "text/x-python",
   "name": "python",
   "nbconvert_exporter": "python",
   "pygments_lexer": "ipython3",
   "version": "3.9.18"
  }
 },
 "nbformat": 4,
 "nbformat_minor": 4
}
