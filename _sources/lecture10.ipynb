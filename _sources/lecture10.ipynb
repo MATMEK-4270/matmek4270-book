{
 "cells": [
  {
   "cell_type": "markdown",
   "metadata": {},
   "source": [
    "# Lecture 10\n",
    "\n",
    "## Function approximation by the finite element method\n",
    "\n",
    "We have seen that a function $u(x)$ can be approximated as\n",
    "\n",
    "$$\n",
    "u(x) \\approx u_N(x) = \\sum_{j=0}^N \\hat{u}_j \\psi_j(x), \\quad x \\in \\Omega.\n",
    "$$\n",
    "\n",
    "And we have seen how the least squares, Galerkin and collocation methods can be used to find the unknown $\\boldsymbol{\\hat{u}} = (\\hat{u}_j)_{j=0}^N$. Up until now we have used global basis functions $\\psi_j(x)$ defined on the entire domain $\\Omega$. "
   ]
  },
  {
   "cell_type": "markdown",
   "metadata": {},
   "source": [
    "The global aspect of the basis functions is an advantage when it comes to both accuracy and efficiency. However, we are not always interested in solving equations on a simple line interval, or a rectangle for two dimensions. Normally we are more interested in domains that contain some physical obstructions, like {numref}`dolfin_mesh`."
   ]
  },
  {
   "cell_type": "markdown",
   "metadata": {},
   "source": [
    "```{figure} dolfin_mesh.png\n",
    "---\n",
    "name: dolfin_mesh\n",
    "width: 300\n",
    "align: left\n",
    "---\n",
    "Example of finite element mesh.\n",
    "```\n",
    "\n",
    "For such domains, like the dolfin mesh, it is not possible to use basis functions that are defined everywhere. It is also very difficult, if not impossible, to use finite difference methods. Just imagine, how would you implement a Laplacian, like\n",
    "\n",
    "$$\n",
    "\\frac{u_{i+1,j}-2u_{i,j}+u_{i-1,j}}{\\Delta x^2} + \\frac{u_{i,j+1}-2u_{i,j}+u_{i,j-1}}{\\Delta y^2} \n",
    "$$\n",
    "\n",
    "on a 2D dolfin mesh?\n",
    "\n",
    "The finite element method, on the other hand, is designed to work on such triangulated and unstructured meshes in complex domains. But in order to present the method it makes sense to first stick to simple one-dimensional domains also here.\n",
    "\n",
    "The finite element method (FEM) starts by splitting the domain $\\Omega$ into $N_e$ smaller, non-overlapping, subdomains $\\Omega^{(e)}$, such that\n",
    "\n",
    "$$\n",
    "\\Omega = \\bigcup_{e=0}^{N_e-1} \\Omega^{(e)}.\n",
    "$$\n",
    "\n",
    "For example, the domain $\\Omega = [0, 5]$ can be split up into 5 smaller subdomains $\\Omega^{(e)} = [e, e+1], e \\in (0, 1, 2, 3, 4)$ using 6 uniformly distributed nodes:\n",
    "\n",
    "```{figure} fe_mesh1D_P1.png\n",
    "---\n",
    "name: fem_1d_mesh_p1\n",
    "width: 500\n",
    "align: center\n",
    "---\n",
    "Finite element mesh with 5 elements and 6 nodes.\n",
    "```\n",
    "\n",
    "These smaller subdomains are now referred to as **elements**.\n",
    "Note that an element in {numref}`fem_1d_mesh_p1` is located in between two blue vertical bars. \n",
    "\n",
    "The mesh seen in {numref}`fem_1d_mesh_p1` is the simplest possible FEM mesh, where each element contains 2 *nodes*. These elements can at best make use of linear polynomials as basis functions since there are only 2 nodes in each element.\n",
    "\n",
    "A slightly more complicated mesh is shown in {numref}`fem_1d_mesh_p2`, which is non-uniform and contains only 2 elements and 5 nodes. Each of the elements contains 3 nodes, and as such these elements can make use of second order polynomials.\n",
    "\n",
    "```{figure} fe_mesh1D_P2.png\n",
    "---\n",
    "name: fem_1d_mesh_p2\n",
    "width: 500\n",
    "align: center\n",
    "---\n",
    "Finite element mesh with 2 elements and 5 nodes.\n",
    "```\n",
    "The {ref}`dolfin mesh <dolfin_mesh>` of course is a more complicated triangulation, where every triangle represents an element. It is also quite common to use rectangles in 2D. For 3D problems a finite element is usually in the shape of a tetrahedron."
   ]
  },
  {
   "cell_type": "markdown",
   "metadata": {},
   "source": [
    "### Finite element basis functions\n",
    "\n",
    "The FEM makes use of *local* basis functions that are only non-zero on some of the elements. Furthermore, the basis functions that we will make use of in this class are continuous piecewise polynomials. In the simplest possible form, this means that the basis functions are piecewise linear. For example, for the mesh in {numref}`fem_1d_mesh_p1` two of the 6 basis functions will be as shown below:\n",
    "\n",
    "```{figure} fe_mesh1D_phi_2_3.png\n",
    "---\n",
    "name: fem-1d-mesh-phi\n",
    "width: 500\n",
    "align: center\n",
    "---\n",
    "Finite element mesh with 5 elements, 6 nodes and two of the 6 basis functions.\n",
    "```\n",
    "\n",
    "The finite element method is a variational method. As such we can define the problem of approximating functions exactly the same way as we did for the global approach. Assume that we want to use the finite element method to find an approximation to $u(x)$ in $\\Omega=[0, 5]$. If we use the mesh in {numref}`fem_1d_mesh_p1` we get a function space $V_N = \\text{span}\\{\\psi_j\\}_{j=0}^5$, where $\\psi_j(x)$ are the 6 piecewise linear functions that are 1 on node $j$, zero on all the other nodes and linear in between. We then attempt to find $u_N \\in V_N$ such that\n",
    "\n",
    "$$\n",
    "(u-u_N, v) = 0 \\quad \\forall \\, v \\in V_N.\n",
    "$$(eq-galerkin-fem)\n",
    "\n",
    "It is also possible to use the least squares method, but this is very rare. So for the finite element method we will focus on the Galerkin method with continuous piecewise polynomial basis functions.\n",
    "\n",
    "```{note}\n",
    "The Galerkin formulation is the same whether you use a global approach with Legendre polynomials or a local FEM with piecewise polynomials. The difference lies all in the function spaces and the choice of basis. \n",
    "```\n",
    "```{note}\n",
    "Other than the fact that the basis functions are piecewise polynomials with only local support, there is nothing new from the previous chapters. It is only **much more complicated** to work with local functions than global and it requires **much more effort** to implement.\n",
    "```"
   ]
  },
  {
   "cell_type": "markdown",
   "metadata": {},
   "source": [
    "In this class we will use Lagrange polynomials as basis functions for the finite element method. But not global Lagrange polynomials, only local; local to elements. In this way it is similar to using Lagrange polynomials for [interpolation on a finite difference grid](https://matmek-4270.github.io/matmek4270-book/lecture7.html#lagrange-interpolation-polynomials). \n",
    "\n",
    "Each element in {numref}`fem_1d_mesh_p1` contains 2 nodes. These nodes will locally be denoted as $(x^0, x^1)$ no matter which element we are in, and the Lagrange formula is then\n",
    "\n",
    "$$\n",
    "\\ell_j(x) = \\prod_{\\substack{0 \\le m < 2 \\\\ m \\ne j}} \\frac{x-x^m}{x^j-x^m}, \\quad j \\in \\{0, 1\\}.\n",
    "$$\n",
    "\n",
    "There are exactly two linear Lagrange polynomials on each element, and these are locally computed as\n",
    "\n",
    "$$\n",
    "\\ell_0(x) = \\frac{x-x^1}{x^0-x^1} \\quad \\text{and} \\quad \\ell_1(x) = \\frac{x-x^0}{x^1-x^0}.\n",
    "$$\n",
    "\n",
    "We can plot all these basis functions with one color for each basis function $\\psi_j(x)$"
   ]
  },
  {
   "cell_type": "code",
   "execution_count": null,
   "metadata": {
    "tags": [
     "hide-input"
    ]
   },
   "outputs": [],
   "source": [
    "import numpy as np\n",
    "import sympy as sp\n",
    "import matplotlib.pyplot as plt\n",
    "x = sp.Symbol('x')\n",
    "\n",
    "color = iter(plt.cm.rainbow(np.linspace(0, 1, 7)))\n",
    "c = next(color)\n",
    "fig = plt.figure(figsize=(6, 3))\n",
    "ax = fig.gca()\n",
    "for j in range(5):\n",
    "    xj = np.array([j, j+1])\n",
    "    plt.plot(xj,  j+1-xj, c=c)\n",
    "    c = next(color)\n",
    "    plt.plot(xj,  xj-j, c=c)\n",
    "    ax.text(j+0.5, -0.2, f'$\\\\Omega^{{({j})}}$', horizontalalignment='center')\n",
    "    ax.text(j, 0.75, f\"$\\\\psi_{j}(x)$\", horizontalalignment='center')\n",
    "ax.text(5, 0.75, f\"$\\\\psi_{5}(x)$\", horizontalalignment='center');"
   ]
  },
  {
   "cell_type": "markdown",
   "metadata": {},
   "source": [
    "So all the internal basis functions, i.e., $\\{\\psi_j(x)\\}_{j=1}^{4}$, are nonzero in two elements each and zero elsewhere. The two boundary basis functions $\\psi_0(x)$ and $\\psi_5(x)$ are only nonzero on one element each. \n",
    "\n",
    "Since we are using Lagrange polynomials all basis functions satisfy\n",
    "\n",
    "$$\n",
    "\\psi_j(x_i) = \\delta_{ij} = \\begin{cases}\n",
    "1 \\quad i=j \\\\\n",
    "0 \\quad i\\ne j\n",
    "\\end{cases}\n",
    "$$\n",
    "\n",
    "for all mesh points $(x_i)_{i=0}^N$. This applies not only for uniform meshes, but for any collection of mesh points. Assume that the mesh uses Chebyshev points instead. This is no problem for the elements of the Lagrange polynomials:"
   ]
  },
  {
   "cell_type": "code",
   "execution_count": null,
   "metadata": {
    "tags": [
     "hide-input"
    ]
   },
   "outputs": [],
   "source": [
    "xj = np.cos(np.arange(6)*np.pi/5)[::-1]\n",
    "color = iter(plt.cm.rainbow(np.linspace(0, 1, 7)))\n",
    "c = next(color)\n",
    "fig = plt.figure(figsize=(6, 3))\n",
    "ax = fig.gca()\n",
    "for j in range(5):\n",
    "    yj = np.array([xj[j], xj[j+1]])\n",
    "    plt.plot(yj,  (yj-yj[1])/(yj[0]-yj[1]), c=c)\n",
    "    c = next(color)\n",
    "    plt.plot(yj,  (yj-yj[0])/(yj[1]-yj[0]), c=c)\n",
    "    ax.set_xticks([])\n",
    "    ax.text(0.5*(xj[j]+xj[j+1]), -0.2, f'$\\\\Omega^{{({j})}}$', horizontalalignment='center')\n",
    "    ax.text(xj[j], 0.7, f\"$\\\\psi_{j}$\", horizontalalignment='center')\n",
    "ax.text(xj[5], 0.7, f\"$\\\\psi_{5}$\", horizontalalignment='center');"
   ]
  },
  {
   "cell_type": "markdown",
   "metadata": {},
   "source": [
    "The flexibility when it comes to mesh is one of the major advantages of the finite element method, which can be used with any kind of [unstructured mesh](https://en.wikipedia.org/wiki/Unstructured_grid).\n",
    "\n",
    "For any 1D mesh we get the piecewise linear Lagrange basis functions\n",
    "\n",
    "$$\n",
    "\\psi_j(x) = \\begin{cases}\n",
    "\\frac{x-x_{j-1}}{x_{j}-x_{j-1}} \\quad &x \\in [x_{j-1}, x_{j}],\\\\\n",
    "\\frac{x-x_{j+1}}{x_{j}-x_{j+1}} \\quad &x \\in [x_{j}, x_{j+1}],\\\\\n",
    "0 \\quad &\\text{otherwise},\n",
    "\\end{cases}\n",
    "$$\n",
    "for $j = 0, 1, \\ldots, N$. Note that $x_{-1}$ and $x_{N+1}$ are undefined, but this is irrelevant because the basis functions will not be used outside the domain $\\Omega = [x_0, x_N]$.\n",
    "\n",
    "A function space for the piecewise linear polynomials can be defined as $V_N = \\text{span}\\{\\psi_j\\}_{j=0}^N$ and with the Galerkin method we approximate any function $u(x)$ by looking for $u_N \\in V_N$ such that\n",
    "\n",
    "$$\n",
    "(u-\\sum_{j=0}^N \\hat{u}_j \\psi_j, \\psi_i) = 0 \\quad \\forall \\, i = 0, 1, \\ldots, N.\n",
    "$$\n",
    "\n",
    "In other words, we need to solve the follow linear algebra problem\n",
    "\n",
    "$$\n",
    "\\sum_{j=0}^N(\\psi_j, \\psi_i) \\hat{u}_j = (u, \\psi_i), \\quad \\forall\\,  i = 0, 1, \\ldots, N.\n",
    "$$(eq-galerkin-femmat)\n",
    "\n",
    "This is identical to the Galerkin problem already presented in [lecture 8](https://matmek-4270.github.io/matmek4270-book/lecture8.html#the-galerkin-method). Again, the only difference is the choice of function spaces and basis.\n",
    "\n",
    "Unfortunately, the finite element mass matrix $A = (a_{ij})_{i,j=0}^N$, with\n",
    "\n",
    "$$\n",
    "a_{ij} = (\\psi_j, \\psi_i) = \\int_{\\Omega} \\psi_j \\psi_i d\\Omega,\n",
    "$$\n",
    "\n",
    "is not diagonal, because the basis functions are not orthogonal. However, since the basis functions are local the matrix will still be highly sparse. \n",
    "\n",
    "Since the basis functions are piecewise polynomials and only some of the basis fucntions are nonzero on each element, we usually assemble the matrix elementwise as\n",
    "\n",
    "$$\n",
    "a_{ij} = \\sum_{e=0}^{N_e-1} \\int_{\\Omega^{(e)}} \\psi_j \\psi_i d\\Omega,\n",
    "$$\n",
    "\n",
    "Here we will identify \n",
    "\n",
    "$$\n",
    "a_{ij}^{(e)} = \\int_{\\Omega^{(e)}} \\psi_j \\psi_i d\\Omega,\n",
    "$$\n",
    "\n",
    "as the **element mass matrix**, and note that this matrix is still of shape $(N+1) \\times (N+1)$, even though for any given element it will only consist of a few nonzero items. The full mass matrix can now be written as\n",
    "\n",
    "$$\n",
    "A = \\sum_{e=0}^{N_e-1} A^{(e)}.\n",
    "$$\n",
    "\n",
    "The element mass matrix $A^{(e)}=(a^{(e)}_{ij})_{i,j=0}^N$ is very sparse since it only has nonzero items for indices $i, j$ corresponding to nonzero basis functions in the element $e$. Hence it makes sense to reduce its size. If there are $d+1$ nonzero basis functions on each element, then there can be at most $(d+1)^2$ nonzero combinations of $i$ and $j$ in $(\\psi_i, \\psi_j)$ and the element matrix $\\tilde{A}^{(e)}$ can as such be represented as a dense $(d+1)\\times (d+1)$ matrix\n",
    "\n",
    "$$\n",
    "\\tilde{A}^{(e)} = (\\tilde{a}_{rs}^{(e)})_{r,s=0}^{d} \\in \\mathbb{R}^{(d+1)\\times (d+1)},\n",
    "$$\n",
    "\n",
    "where\n",
    "\n",
    "$$\n",
    "\\tilde{a}_{rs}^{(e)} = \\int_{\\Omega^{(e)}} \\psi_{q(e,r)} \\psi_{q(e,s)} d\\Omega\n",
    "$$\n",
    "\n",
    "and $q(e,r)$ is a mapping function that maps a local index $r$ on the global element $e$ to a global index. For a structured mesh like {numref}`fem_1d_mesh_p1` and {numref}`fem_1d_mesh_p2`, and elements with $d+1$ nodes in each, we get the mapping\n",
    "\n",
    "$$\n",
    "q(e, r) = de+r.\n",
    "$$(eq-mapping-q)\n",
    "\n",
    "```{note}\n",
    "The matrix $\\tilde{A}^{(e)}$ contains the same nonzero items as $A^{(e)}$, but $\\tilde{A}^{(e)}\\in \\mathbb{R}^{(d+1) \\times (d+1)}$ is dense, whereas $A^{(e)} \\in \\mathbb{R}^{(N+1)\\times (N+1)}$ is highly sparse. The small matrices in {numref}`mov-assemble-mass` represent $\\tilde{A}^{(e)}$.\n",
    "```\n",
    "\n",
    "In order to use the local (and small) element matrices $\\tilde{A}^{(e)}$ we assemble for each element into the global matrix $A$ as\n",
    "\n",
    "$$\n",
    "a_{q(e,r),q(e, s)} \\mathop{+}= \\tilde{a}^{(e)}_{r,s}, \\quad (r, s) \\in \\mathcal{I}_d^2.\n",
    "$$\n",
    "\n",
    "This process, which is termed *finite element assembly*, can be illustrated as shown below, where 4 small element matrices $\\tilde{A}^{(e)}$ of shape $2 \\times 2$ are inserted into the global matrix $A$ of shape $5 \\times 5$. For this linear case $d=1$. Note that there is overlap between the 4 element matrices in the global $A$, because all the internal (linear) basis functions are nonzero in 2 elements each."
   ]
  },
  {
   "cell_type": "markdown",
   "metadata": {},
   "source": [
    "```{figure} movie.gif\n",
    "---\n",
    "alt: assemble\n",
    "width: 400px\n",
    "align: center\n",
    "name: mov-assemble-mass\n",
    "---\n",
    "Finite element assembly of the local element matrices $\\tilde{A}^{(e)}$ into the global matrix $A$. Note the mapping of local to global indices above the matrix $A$.\n",
    "```"
   ]
  },
  {
   "cell_type": "markdown",
   "metadata": {},
   "source": [
    "### Mapping to reference domain\n",
    "\n",
    "In assembling the matrix $A$ we need to compute the element matrix $\\tilde{A}^{(e)}$ many times. Is this really necessary? The integrals\n",
    "\n",
    "$$\n",
    "\\int_{\\Omega^{(e)}} \\psi_{q(e,r)} \\psi_{q(e,s)} d\\Omega,\n",
    "$$\n",
    "\n",
    "differ only in the domain, whereas the shape of the basis functions are the same regardless of domain. The piecewise linear basis functions are always straight lines from one in one node to zero in the other:"
   ]
  },
  {
   "cell_type": "code",
   "execution_count": null,
   "metadata": {
    "tags": [
     "hide-input"
    ]
   },
   "outputs": [],
   "source": [
    "from lagrange import Lagrangebasis\n",
    "fig = plt.figure(figsize=(3, 2))\n",
    "xj = np.array([0, 1])\n",
    "yj = np.linspace(0, 1, 2)\n",
    "l0, l1 = Lagrangebasis(xj, sympy=False)\n",
    "plt.plot(yj, l0(yj), 'k',\n",
    "         yj, l1(yj), 'r')\n",
    "ax = fig.gca()\n",
    "ax.text(0.9, 0.7, \"$\\\\psi_{i+1}(x)$\", horizontalalignment='center')\n",
    "ax.text(0.1, 0.7, \"$\\\\psi_{i}(x)$\", horizontalalignment='center')\n",
    "ax.text(0, -0.2, \"$i$\", horizontalalignment='center')\n",
    "ax.text(1, -0.2, \"${i+1}$\", horizontalalignment='center')\n",
    "ax.set_xticks([])\n",
    "ax.set_yticks([0, 1]);\n",
    "#ax.axis('off');"
   ]
  },
  {
   "cell_type": "markdown",
   "metadata": {},
   "source": [
    "So the basis functions always look the same regardless of domain, regardless of what $x_i$ and $x_{i+1}$ are. Hence it should be possible to perform the integration once, in a reference domain, and then reuse this result for all elements. This can be achieved by mapping to a reference domain, which has already been used for both Legendre and Chebyshev polynomials, but for slightly different reasons. For those two, we needed to map because the polynomials and weight functions were only defined on a reference domain.\n",
    "\n",
    "We will now use this linear (affine) mapping and the same reference domain $[-1, 1]$ as the Chebyshev/Legendre polynomials. In this domain the mapping  from physical coordinate $x \\in \\Omega^{(e)} = [x_{q(e,0)}, x_{q(e, d)}] = [x_L, x_R]$ to computational (or reference) coordinate $X \\in [-1, 1]$ can be written as\n",
    "\n",
    "$$\n",
    "x = \\frac{1}{2}(x_L+x_R) + \\frac{1}{2}(x_R-x_L)X. \n",
    "$$(eq-affine-map)\n",
    "\n",
    "Note that $x_L$ and $x_R$ are the left and right boundary points of the domain $\\Omega^{(e)}$. If we introduce the center of the element as $x_m = (x_L+x_R)/2$ and the element length $h = x_R-x_L$, then the mapping can be written simply as\n",
    "\n",
    "$$\n",
    "x = x_m + \\frac{h}{2}X. \n",
    "$$\n",
    "\n",
    "The basis functions are then mapped such that \n",
    "\n",
    "$$\n",
    "\\psi_{q(e, r)}(x) = \\ell_r(X),\n",
    "$$\n",
    "\n",
    "where the Lagrange basis functions\n",
    "\n",
    "$$\n",
    "\\ell_r(X) = \\prod_{\\substack{0 \\le s \\le d \\\\ s \\ne r}} \\frac{X-X_s}{X_r-X_s}.\n",
    "$$\n",
    "\n",
    "Here $(X_s)_{s=0}^d$ are the $d+1$ nodes in reference coordinates. For linear elements, with $d=1$, $(X_0, X_1) = (-1, 1)$ and for quadratic, with $d=2$, $(X_0, X_1, X_2) = (-1, 0, 1)$. In general,\n",
    "\n",
    "$$\n",
    "X_r = -1 + \\frac{2r}{d}, \\quad r = 0, 1, \\ldots, d.\n",
    "$$\n",
    "\n",
    "We get the reference basis functions for linear elements\n",
    "\n",
    "$$\n",
    "\\ell_0(X) = \\frac{1}{2}(1-X) \\quad \\text{and} \\quad \\ell_1(X) = \\frac{1}{2}(1+X)\n",
    "$$(eq-lagrange-p1)\n",
    "\n",
    "and for quadratic\n",
    "\n",
    "$$\n",
    "\\ell_0(X) = \\frac{1}{2}X(1-X), \\quad\n",
    "\\ell_1(X) = (1-X^2) \\quad \\text{and} \\quad\n",
    "\\ell_2(X) = \\frac{1}{2}X(1+X).\n",
    "$$(eq-lagrange-p2)\n",
    "\n",
    "The quadratic basis functions are shown below in the reference domain."
   ]
  },
  {
   "cell_type": "code",
   "execution_count": null,
   "metadata": {
    "tags": [
     "hide-input"
    ]
   },
   "outputs": [],
   "source": [
    "from lagrange import Lagrangebasis, Lagrangefunction\n",
    "fig = plt.figure(figsize=(3, 2))\n",
    "xj = np.array([0, 0.5, 1])\n",
    "yj = np.linspace(0, 1, 100)\n",
    "l0, l1, l2 = Lagrangebasis(xj)\n",
    "plt.plot(yj, sp.lambdify(x, l0)(yj), 'k',\n",
    "         yj, sp.lambdify(x, l1)(yj), 'b',\n",
    "         yj, sp.lambdify(x, l2)(yj), 'r')\n",
    "ax = fig.gca()\n",
    "ax.text(1.05, 0.75, \"$\\\\ell_2(X)$\", horizontalalignment='center')\n",
    "ax.text(-0.05, 0.75, \"$\\\\ell_0(X)$\", horizontalalignment='center')\n",
    "ax.text(0.5, 0.85, \"$\\\\ell_1(X)$\", horizontalalignment='center')\n",
    "ax.text(0, -0.2, \"$-1$\", horizontalalignment='center')\n",
    "ax.text(0.5, -0.2, \"$0$\", horizontalalignment='center')\n",
    "ax.text(1, -0.2, \"$1$\", horizontalalignment='center')\n",
    "ax.axis('off');"
   ]
  },
  {
   "cell_type": "markdown",
   "metadata": {},
   "source": [
    "The mapping should now be used in a change of variables for the inner product:\n",
    "\n",
    "$$\n",
    "\\begin{align*}\n",
    "\\tilde{a}^{(e)}_{rs} &= \\int_{\\Omega^{(e)}} \\psi_{q(e,r)}(x) \\psi_{q(e,s)}(x) d\\Omega, \\\\\n",
    "&= \\int_{x_{q(e, 0)}}^{x_{q(e, d)}} \\psi_{q(e,r)}(x) \\psi_{q(e,s)}(x) dx, \\\\\n",
    "&= \\int_{-1}^1 \\ell_{r}(X) \\ell_{s}(X) \\frac{dx}{dX} dX,\n",
    "\\end{align*}\n",
    "$$\n",
    "\n",
    "where $dx/dX = h/2$, such that for any element, regardless of order $d$, we can compute the elements of the element matrix as\n",
    "\n",
    "$$\n",
    "\\tilde{a}_{rs}^{(e)} = \\frac{h}{2}\\int_{-1}^1 \\ell_{r}(X) \\ell_{s}(X) dX.\n",
    "$$\n",
    "\n",
    "Hence, instead of computing the element matrix for linear polynomials as\n",
    "\n",
    "$$\n",
    "\\tilde{A}^{(e)} = \\begin{bmatrix} \n",
    "\\int_{\\Omega^{(e)}} \\psi_{q(e, 0)} \\psi_{q(e, 0)} dx &\n",
    "\\int_{\\Omega^{(e)}} \\psi_{q(e, 0)} \\psi_{q(e, 1)} dx \\\\\n",
    "\\int_{\\Omega^{(e)}} \\psi_{q(e, 1)} \\psi_{q(e, 0)} dx &\n",
    "\\int_{\\Omega^{(e)}} \\psi_{q(e, 1)} \\psi_{q(e, 1)} dx\n",
    "\\end{bmatrix},\n",
    "$$\n",
    "\n",
    "we can simply use\n",
    "\n",
    "$$\n",
    "\\tilde{A}^{(e)} = \\frac{h}{2}\\begin{bmatrix} \n",
    "\\int_{-1}^1 \\ell_{0} \\ell_{0} dX &\n",
    "\\int_{-1}^1 \\ell_{0} \\ell_{1} dX \\\\\n",
    "\\int_{-1}^1 \\ell_{1} \\ell_{0} dX &\n",
    "\\int_{-1}^1 \\ell_{1} \\ell_{1} dX\n",
    "\\end{bmatrix}.\n",
    "$$\n",
    "\n",
    "The four integrals can be evaluated once and for all, and reused for all elements and any mesh, uniform or nonuniform, simply by scaling the matrix with the element length $h$. We can also compute this element matrix easily using Sympy"
   ]
  },
  {
   "cell_type": "code",
   "execution_count": null,
   "metadata": {},
   "outputs": [],
   "source": [
    "h = sp.Symbol('h')\n",
    "l = Lagrangebasis([-1, 1])\n",
    "ae = lambda r, s: sp.integrate(l[r]*l[s], (x, -1, 1))\n",
    "A1e = h/2*sp.Matrix([[ae(0, 0), ae(0, 1)],[ae(1, 0), ae(1, 1)]])\n",
    "A1e"
   ]
  },
  {
   "cell_type": "markdown",
   "metadata": {},
   "source": [
    "Using quadratic elements, we get"
   ]
  },
  {
   "cell_type": "code",
   "execution_count": null,
   "metadata": {},
   "outputs": [],
   "source": [
    "l2 = Lagrangebasis([-1, 0, 1])\n",
    "a2e = lambda r, s: sp.integrate(l2[r]*l2[s], (x, -1, 1))\n",
    "A2e = h/2*sp.Matrix([[a2e(0, 0), a2e(0, 1), a2e(0, 2)],\n",
    "                     [a2e(1, 0), a2e(1, 1), a2e(1, 2)],\n",
    "                     [a2e(2, 0), a2e(2, 1), a2e(2, 2)]])\n",
    "A2e"
   ]
  },
  {
   "cell_type": "markdown",
   "metadata": {},
   "source": [
    "```{note}\n",
    "The mass matrix and all the element mass matrices are always symmetrical, meaning that $a_{ij} = a_{ji}$ and $a_{ij}^{(e)} = a_{ji}^{(e)}$ for all $i, j$. This means that it is unnecessary to compute both $a^{(e)}_{ij}$ and $a^{(e)}_{ji}$ as we have done above. It is sufficient to compute $a^{(e)}_{ij}$ by integration, and then you can simply set $a^{(e)}_{ji}=a^{(e)}_{ij}$.\n",
    "```"
   ]
  },
  {
   "cell_type": "markdown",
   "metadata": {},
   "source": [
    "Since we know how to compute the element matrix, we also know how to compute the full mass matrix. The following function `assemble_mass` sums over all elements and adds the contribution from each to the matrix $A$. We also create a few helper functions `get_element_boundaries` and `get_element_length` with obvious purpose and the local to global map $q(e, r)$. Note that if $r$ is not provided, then `local_to_global_map` returns a slice representing the global indices $\\{q(e, r)\\}_{r=0}^{d}$.\n",
    "\n",
    "(assemble-mass)="
   ]
  },
  {
   "cell_type": "code",
   "execution_count": null,
   "metadata": {},
   "outputs": [],
   "source": [
    "Ae = [A1e, A2e] # previously computed\n",
    "\n",
    "def get_element_boundaries(xj, e, d=1):\n",
    "    return xj[d*e], xj[d*(e+1)]\n",
    "\n",
    "def get_element_length(xj, e, d=1):\n",
    "    xL, xR = get_element_boundaries(xj, e, d=d)\n",
    "    return xR-xL\n",
    "\n",
    "def local_to_global_map(e, r=None, d=1): # q(e, r)\n",
    "    if r is None:\n",
    "        return slice(d*e, d*e+d+1)\n",
    "    return d*e+r\n",
    "\n",
    "def assemble_mass(xj, d=1):\n",
    "    N = len(xj)-1\n",
    "    Ne = N//d\n",
    "    A = np.zeros((N+1, N+1))\n",
    "    for elem in range(Ne):\n",
    "        hj = get_element_length(xj, elem, d=d)\n",
    "        s0 = local_to_global_map(elem, d=d)\n",
    "        A[s0, s0] += np.array(Ae[d-1].subs(h, hj), dtype=float)\n",
    "    return A"
   ]
  },
  {
   "cell_type": "code",
   "execution_count": null,
   "metadata": {},
   "outputs": [],
   "source": [
    "N = 4\n",
    "xj = np.linspace(1, 2, N+1)\n",
    "A = assemble_mass(xj, d=1)\n",
    "print(A)"
   ]
  },
  {
   "cell_type": "markdown",
   "metadata": {},
   "source": [
    "The mass matrix for second order polynomials on a uniform mesh can be computed as"
   ]
  },
  {
   "cell_type": "code",
   "execution_count": null,
   "metadata": {},
   "outputs": [],
   "source": [
    "N = 8\n",
    "xj = np.linspace(1, 2, N+1)\n",
    "A = assemble_mass(xj, d=2)"
   ]
  },
  {
   "cell_type": "markdown",
   "metadata": {},
   "source": [
    "We can plot the sparsity pattern of the matrix `A` using [plt.spy](https://matplotlib.org/stable/api/_as_gen/matplotlib.pyplot.spy.html). This function plots a square for all the nonzero items of `A`, and nothing where it is zero."
   ]
  },
  {
   "cell_type": "code",
   "execution_count": null,
   "metadata": {},
   "outputs": [],
   "source": [
    "plt.figure(figsize=(3, 3))\n",
    "plt.spy(A, markersize=5);"
   ]
  },
  {
   "cell_type": "markdown",
   "metadata": {},
   "source": [
    "Note that there is a big difference between nodes on the boundaries between elements and internal nodes. The rows in $A$ above corresponding to internal nodes have only three nonzero items, whereas the nodes on element boundaries have 5. This is because the basis functions on the element boundaries belong to two elements, whereas the internal nodes only belong to one. "
   ]
  },
  {
   "cell_type": "markdown",
   "metadata": {},
   "source": [
    "```{note}\n",
    "For the matrices computed above we have used a uniform mesh such that $h$ is constant. A non-uniform mesh needs to take into account the different element sizes $h$, but this is only a matter of scaling the element matrices $\\tilde{A}^{(e)}$. `assemble_mass` works also for a non-uniform mesh, because the size of each element is taken into account.\n",
    "```\n",
    "\n",
    "(fem-assemble-vector)=\n",
    "\n",
    "### Finite element assembly of a vector \n",
    "We now know how to compute the mass matrix in {eq}`eq-galerkin-femmat`, but we also need the right hand side $b_i = (u, \\psi_i), i = 0, 1, \\ldots, N$. This inner product can also be evaluated elementwise, and mapped just like the mass matrix. We define the element vector similarly as the element matrix ($A^{(e)}$)\n",
    "\n",
    "$$\n",
    "b_i^{(e)} = \\int_{\\Omega^{(e)}} u(x) \\psi_{i}(x) dx, \\quad i = 0, 1, \\ldots, N,\n",
    "$$\n",
    "\n",
    "and note that $\\boldsymbol{b}^{(e)} = (b^{(e)}_i)_{i=0}^N \\in \\mathbb{R}^{N+1}$ is a very sparse vector since $b_i^{(e)}$ only is nonzero if $i$ is a node in the element $e$. Hence, it also makes sense to define a dense vector $\\boldsymbol{\\tilde{b}}^{(e)} \\in \\mathbb{R}^{d+1}$ (similar to $\\tilde{A}^{(e)}$) containing only the nonzero items of $\\boldsymbol{b}^{(e)}$\n",
    "\n",
    "$$\n",
    "\\tilde{b}^{(e)}_r = (u, \\psi_{q(e, r)}) = \\int_{\\Omega^{(e)}} u(x) \\psi_{q(e, r)}(x) dx, \\quad r = 0, 1, \\ldots, d.\n",
    "$$\n",
    "\n",
    "With a mapping to the reference space we get\n",
    "\n",
    "$$\n",
    "\\tilde{b}^{(e)}_r = \\frac{h}{2}\\int_{-1}^1 u(x(X)) \\ell_{r}(X) dX, \\quad r = 0, 1, \\ldots, d.\n",
    "$$\n",
    "\n",
    "We can create a function `assemble_b` to do this assembly for any order $d$ and a generic Sympy function $u(x)$. To this end we also create some helper functions `map_true_domain` and `map_reference_domain`, that return $x(X)$ and $X(x)$, respectively. The function `map_u_true_domain` returns $\\tilde{u}(X) = u(x(X))$."
   ]
  },
  {
   "cell_type": "code",
   "execution_count": null,
   "metadata": {},
   "outputs": [],
   "source": [
    "from scipy.integrate import quad\n",
    "\n",
    "def map_true_domain(xj, e, d=1, x=x): # return x(X)\n",
    "    xL, xR = get_element_boundaries(xj, e, d=d)\n",
    "    hj = get_element_length(xj, e, d=d)\n",
    "    return (xL+xR)/2+hj*x/2\n",
    "\n",
    "def map_reference_domain(xj, e, d=1, x=x): # return X(x)\n",
    "    xL, xR = get_element_boundaries(xj, e, d=d)\n",
    "    hj = get_element_length(xj, e, d=d)\n",
    "    return (2*x-(xL+xR))/hj\n",
    "\n",
    "def map_u_true_domain(u, xj, e, d=1, x=x): # return u(x(X))\n",
    "    return u.subs(x, map_true_domain(xj, e, d=d, x=x))\n",
    "\n",
    "def assemble_b(u, xj, d=1):\n",
    "    l = Lagrangebasis(np.linspace(-1, 1, d+1), sympy=False)\n",
    "    N = len(xj)-1\n",
    "    Ne = N//d\n",
    "    b = np.zeros(N+1)\n",
    "    for elem in range(Ne):\n",
    "        hj = get_element_length(xj, elem, d=d)\n",
    "        us = sp.lambdify(x, map_u_true_domain(u, xj, elem, d=d))\n",
    "        integ = lambda xj, r: us(xj)*l[r](xj)\n",
    "        for r in range(d+1):\n",
    "            b[d*elem+r] += hj/2*quad(integ, -1, 1, args=(r,))[0]\n",
    "    return b"
   ]
  },
  {
   "cell_type": "markdown",
   "metadata": {},
   "source": [
    "Lets use these basis functions for the Galerkin method in order to approximate $u(x) = 10(x-1)^2-1, x \\in [1, 2]$. We use first a uniform mesh, assemble the mass matrix $A$ and the vector $\\boldsymbol{b}$ and then solve the linear algebra system:"
   ]
  },
  {
   "cell_type": "code",
   "execution_count": null,
   "metadata": {},
   "outputs": [],
   "source": [
    "def assemble(u, N, domain=(-1, 1), d=1, xj=None):\n",
    "    if xj is not None:\n",
    "        mesh = xj\n",
    "    else:\n",
    "        mesh = np.linspace(domain[0], domain[1], N+1)\n",
    "\n",
    "    A = assemble_mass(mesh, d=d)\n",
    "    b = assemble_b(u, mesh, d=d)\n",
    "    return A, b\n",
    "\n",
    "# Create uniform mesh\n",
    "N = 4\n",
    "xj = np.linspace(1, 2, N+1)\n",
    "\n",
    "A, b = assemble(10*(x-1)**2-1, N, d=1, xj=xj)\n",
    "uh = np.linalg.inv(A) @ b\n",
    "yj = np.linspace(1, 2, 1000)\n",
    "plt.figure(figsize=(5, 3))\n",
    "plt.plot(xj, uh, 'b-o', yj, 10*(yj-1)**2-1, 'r--')\n",
    "plt.legend(['FEM', 'Exact']);"
   ]
  },
  {
   "cell_type": "markdown",
   "metadata": {},
   "source": [
    "Not bad, but clearly not exact since the FEM solution is piecewise linear between the 5 mesh points. How about second order? We have implemented `assemble` to use higher order, so it should be straight forward. Just to check that a non-uniform mesh works as well we create a mesh where the element boundaries in the physical domain $[1, 2]$ are computed as\n",
    "\n",
    "$$\n",
    "x_{2i} = 1+(\\cos(2 \\pi i / N) + 1)/2, \\quad i = 0, 1, \\ldots, N/2,\n",
    "$$\n",
    "\n",
    "and then the internal nodes are computed as\n",
    "\n",
    "$$\n",
    "x_{2i+1} = \\frac{x_{2i}+x_{2(i+1)}}{2}, \\quad i = 0, 1, \\ldots, N/2-1.\n",
    "$$"
   ]
  },
  {
   "cell_type": "code",
   "execution_count": null,
   "metadata": {},
   "outputs": [],
   "source": [
    "# Create nonuniform mesh where all internal nodes are in\n",
    "# the center of the elements\n",
    "N = 6\n",
    "xj = np.zeros(N+1)\n",
    "xj[::2] = 1 + (np.cos(np.arange(N//2+1)*np.pi*2/N)[::-1] + 1)/2\n",
    "xj[1::2] = 0.5*(xj[:-1:2]+xj[2::2])\n",
    "A, b = assemble(10*(x-1)**2-1, N, d=2, xj=xj)\n",
    "uh = np.linalg.inv(A) @ b\n",
    "yj = np.linspace(1, 2, 1000)\n",
    "plt.figure(figsize=(5, 3))\n",
    "plt.plot(xj, uh, '-bo', yj, 10*(yj-1)**2-1, 'r--')\n",
    "plt.legend(['FEM 2nd order', 'Exact']);"
   ]
  },
  {
   "cell_type": "markdown",
   "metadata": {},
   "source": [
    "But what happened here? The results still look like piecewise linear polynomials and it looks no better than before. The problem now is not accuracy of the FEM approximation, though, it has more to do with postprocessing and finite element evaluation. We compute and plot the finite element solution $(\\hat{u}_j)_{j=0}^N$, but then matplotlib simply fills in the gaps between the points with linear profiles. The correct approach would be to evaluate the finite element function\n",
    "\n",
    "$$\n",
    "u_N(x) = \\sum_{j=0}^N \\hat{u}_j \\psi_j(x), \\quad x \\in \\Omega,\n",
    "$$(eq-fem-sol)\n",
    "\n",
    "in between the mesh points.\n",
    "\n",
    "### Finite element evaluation\n",
    "\n",
    "The finite element solution differs from the finite difference solution in that the solution is automatically defined everywhere within the domain. The finite difference solution is only defined in mesh points and requires interpolation. With FEM we need to evaluate {eq}`eq-fem-sol`. To this end note that the point $x$ is either \n",
    "\n",
    "1. at a mesh point $x_i$, in which case $u_N(x_i) = \\hat{u}_i$.\n",
    "2. in between mesh points and inside one and only one element.\n",
    "\n",
    "In case of the second event we can evaluate $u_N(x)$ by mapping to the reference domain simply as\n",
    "\n",
    "$$\n",
    "u_N(x) = \\sum_{r=0}^d \\hat{u}_{q(e, r)} \\ell_{r}(X), \\quad x \\in \\Omega^{(e)}.\n",
    "$$\n",
    "\n",
    "So we only need to figure out which element the point $x$ is in and then simply evaluate the nonzero polynomials on that element only. To this end it does not hurt to remind ourselves of formulas that we can use for our structured (uniform) grids:\n",
    "\n",
    "```{list-table}\n",
    ":header-rows: 1\n",
    "\n",
    "* - Mesh\n",
    "  - Formula\n",
    "* - domain\n",
    "  - $\\Omega = [a, b]$\n",
    "* - Reference domain\n",
    "  - $\\Omega^{(e)} = [-1, 1]$\n",
    "* - Order of polynomials\n",
    "  - $d$\n",
    "* - Number of nodes in physical mesh\n",
    "  - $N+1$\n",
    "* - Number of elements in mesh\n",
    "  - $N_e = N / d$\n",
    "* - Element index\n",
    "  - $e \\quad \\in \\{0, 1, \\ldots, N_e-1\\}$\n",
    "* - physical mesh points uniform grid\n",
    "  - $x_i = a + \\frac{i h}{N}, \\quad i = 0, 1, \\ldots, N$\n",
    "* - physical mesh points any grid\n",
    "  - $x_i \\quad i = 0, 1, \\ldots, N$\n",
    "* - element boundaries\n",
    "  - $x_i \\quad i = 0, d, \\ldots, N/d$\n",
    "* - Local to global mapping q(e, r)\n",
    "  - $q(e, r) = d e + r, \\quad r = 0, 1, \\ldots, d$\n",
    "* - Map to true coordinate x(X)\n",
    "  - $x = \\frac{1}{2}(x_L+x_R) + \\frac{1}{2}(x_R-x_L)X$\n",
    "* - Physical boundary of element $e$\n",
    "  - $[x_L, x_R], \\quad x_L = x_{q(e, 0)}, x_R = x_{q(e, d)}$\n",
    "* - Element length\n",
    "  - $h = x_R-x_L$\n",
    "* - Reference mesh points\n",
    "  - $X_r = -1 + \\frac{2r}{d}, \\quad r = 0, 1, \\ldots, d$\n",
    "\n",
    "```\n",
    "\n",
    "An implementation of finite element evaluation for a single point is shown below:\n"
   ]
  },
  {
   "cell_type": "code",
   "execution_count": null,
   "metadata": {},
   "outputs": [],
   "source": [
    "def fe_evaluate(uh, p, xj, d=1):\n",
    "    l = Lagrangebasis(np.linspace(-1, 1, d+1), sympy=False)\n",
    "    elem = max(0, np.argmax(p <= xj[::d])-1) # find element containing p\n",
    "    Xx = map_reference_domain(xj, elem, d=d, x=p)\n",
    "    return Lagrangefunction(uh[d*elem:d*(elem+1)+1], l)(Xx)\n"
   ]
  },
  {
   "cell_type": "markdown",
   "metadata": {},
   "source": [
    "```{note}\n",
    "We find the element that the point $p$ belongs to by finding the smallest index in the element boundary mesh $(x_i), \\, i = 0, d, \\ldots, N/d$, where $x_i \\le p$.\n",
    "```\n",
    "\n",
    "We can now evaluate the finite element function `uh` computed above with second order accuracy. For example for point $x=1.2$:"
   ]
  },
  {
   "cell_type": "code",
   "execution_count": null,
   "metadata": {},
   "outputs": [],
   "source": [
    "fe_evaluate(uh, 1.2, xj, d=2), 10*(1.2-1)**2-1"
   ]
  },
  {
   "cell_type": "markdown",
   "metadata": {},
   "source": [
    "The solution is exact to machine precision because the interpolated function is a second order polynomial.\n",
    "\n",
    "A disadvantage is that `fe_evaluate` only works for single points. For efficiency we should vectorize it"
   ]
  },
  {
   "cell_type": "code",
   "execution_count": null,
   "metadata": {},
   "outputs": [],
   "source": [
    "def fe_evaluate_v(uh, pv, xj, d=1):\n",
    "    l = Lagrangebasis(np.linspace(-1, 1, d+1), sympy=False)\n",
    "    elem = (np.argmax((pv <= xj[::d, None]), axis=0)-1).clip(min=0) # find elements containing pv\n",
    "    xL = xj[:-1:d] # All left element boundaries\n",
    "    xR = xj[d::d]  # All right element boundaries\n",
    "    xm = (xL+xR)/2 # middle of all elements\n",
    "    hj = (xR-xL)   # length of all elements\n",
    "    Xx = 2*(pv-xm[elem])/hj[elem] # map pv to reference space all elements\n",
    "    dofs = np.array([uh[e*d+np.arange(d+1)] for e in elem], dtype=float)\n",
    "    V = np.array([lr(Xx) for lr in l], dtype=float) # All basis functions evaluated for all points\n",
    "    return np.sum(dofs * V.T, axis=1)\n"
   ]
  },
  {
   "cell_type": "markdown",
   "metadata": {},
   "source": [
    "Check the vectorized version by evaluating two points and compare with exact solution."
   ]
  },
  {
   "cell_type": "code",
   "execution_count": null,
   "metadata": {},
   "outputs": [],
   "source": [
    "from IPython.display import display\n",
    "display(fe_evaluate_v(uh, np.array([1.2, 1.3]), xj, d=2))\n",
    "display((10*(1.2-1)**2-1, 10*(1.3-1)**2-1))"
   ]
  },
  {
   "cell_type": "markdown",
   "metadata": {},
   "source": [
    "Lets try the more difficult function \n",
    "\n",
    "$$\n",
    "u(x) = \\exp(\\cos x), \\quad x \\in [-1, 1].\n",
    "$$\n",
    "\n",
    "that required 20 Legendre or Chebyshev coefficients for full machine precision. Loop over a range of mesh sizes and compute both with linear and quadratic basis functions. When finished compute the $L^2$ error norm using a numerical integral with 4 times as many points as the numerical solution. "
   ]
  },
  {
   "cell_type": "code",
   "execution_count": null,
   "metadata": {},
   "outputs": [],
   "source": [
    "def L2_error(uh, ue, xj, d=1):\n",
    "    yj = np.linspace(-1, 1, 4*len(xj))\n",
    "    uhj = fe_evaluate_v(uh, yj, xj, d=d)\n",
    "    uej = ue(yj)\n",
    "    return np.sqrt(np.trapz((uhj-uej)**2, dx=yj[1]-yj[0]))\n",
    "\n",
    "u = sp.exp(sp.cos(x))\n",
    "ue = sp.lambdify(x, u)\n",
    "err = []\n",
    "err2 = []\n",
    "for n in range(2, 30, 4):\n",
    "    N = 2*n\n",
    "    xj = np.linspace(-1, 1, N+1)\n",
    "    A, b = assemble(u, N, (-1, 1), 1)\n",
    "    uh = np.linalg.inv(A) @ b\n",
    "    A2, b2 = assemble(u, N, (-1, 1), 2)\n",
    "    uh2 = np.linalg.inv(A2) @ b2\n",
    "    err.append(L2_error(uh, ue, xj, 1))\n",
    "    err2.append(L2_error(uh2, ue, xj, 2))"
   ]
  },
  {
   "cell_type": "markdown",
   "metadata": {},
   "source": [
    "The FEM approximation using linear polynomials should be second order accurate, because the linear $\\ell_0$ and $\\ell_1$ have Taylor expansions where the first neglected term is proportional to $\\Delta x^2$. Similarly, the FEM approximation using second order polynomials should be third order. As stated in [lecture 9](https://matmek-4270.github.io/matmek4270-book/lecture9.html) the Chebyshev and Legendre approximations have spectral accuracy, which is faster than any finite order. This is easy to illustrate. In the figure below we plot the $L^2$ errors of the Legendre/Chebyshev approximations as well as the FEM. Note how the spectral methods accelerate towards machine precision, whereas the error for FEM disappears at a rate proportional to $N^{-2}$ and $N^{-3}$. The global approximation using $N=8$ achieves better accuracy than local quadratic elements with $N=52$. "
   ]
  },
  {
   "cell_type": "code",
   "execution_count": null,
   "metadata": {},
   "outputs": [],
   "source": [
    "err_cl = np.load('./err_u.npy')\n",
    "plt.figure(figsize=(5, 3))\n",
    "plt.loglog(np.arange(0, 25, 2), err_cl[0], '+',\n",
    "           np.arange(0, 25, 2), err_cl[1], 'ko',\n",
    "           np.arange(2, 30, 4)*2, err, 'g',\n",
    "           np.arange(2, 30, 4)*2, err2, 'y',\n",
    "           fillstyle='none')\n",
    "from plotslopes import slope_marker\n",
    "slope_marker((12, err[1]), (2, -1))\n",
    "slope_marker((20, err2[2]), (3, -1))\n",
    "plt.legend(['Chebyshev', 'Legendre', 'FEM d=1', 'FEM d=2']);"
   ]
  },
  {
   "cell_type": "markdown",
   "metadata": {},
   "source": [
    "## Weekly assignments\n",
    "\n"
   ]
  },
  {
   "cell_type": "markdown",
   "metadata": {},
   "source": [
    "1. In the lecture notes above most functions have been implemented to work for finite elements of any order. However, {ref}`assemble_mass <assemble-mass>` makes use of `Ae`, which is currently only implemented for $d=$ 1 and 2. Modify `assemble_mass` to work for arbitrary orders, by adding a function `Ade` that returns the element mass matrix of order $d$. The returned matrix should be a Sympy Matrix including the element length `h`, as used for `A1e` and `A2e` above.\n",
    "    ```\n",
    "    def Ade(d=1):\n",
    "        ...\n",
    "\n",
    "    def assemble_mass(xj, d=1):\n",
    "        N = len(xj)-1\n",
    "        Ne = N//d\n",
    "        A = np.zeros((N+1, N+1))\n",
    "        Ad = Ade(d)\n",
    "        for elem in range(Ne):\n",
    "            hj = get_element_length(xj, elem, d=d)\n",
    "            s0 = local_to_global_map(elem, d=d)\n",
    "            A[s0, s0] += np.array(Ad.subs(h, hj), dtype=float)\n",
    "        return A\n",
    "    ```\n",
    "\n",
    "    Run the above example with $u(x) = \\exp(\\cos(x))$ and show that $d=4$ leads to a convergence rate of $N^{-5}$.\n",
    "\n",
    "    ```{hint}\n",
    "    In order to run the example for a range of `N` that works for both $d=1, 2$ and $4$, use $N \\in \\{8, 24, 40, 56\\}$.\n",
    "    ```\n",
    "\n",
    "2. Use FEM to approximate the functions in the weekly assignments from [lecture 9](https://matmek-4270.github.io/matmek4270-book/lecture9.html#weekly-assignments)\n",
    "\n",
    "3. Use [FEniCS](https://fenicsproject.org/) to approximate the same functions as in assignment 2. See [lecture 10](https://matmek-4270.github.io/matmek4270-pres/fem.html#/section).\n"
   ]
  },
  {
   "cell_type": "markdown",
   "metadata": {},
   "source": []
  }
 ],
 "metadata": {
  "kernelspec": {
   "display_name": "matmek4270",
   "language": "python",
   "name": "python3"
  },
  "language_info": {
   "codemirror_mode": {
    "name": "ipython",
    "version": 3
   },
   "file_extension": ".py",
   "mimetype": "text/x-python",
   "name": "python",
   "nbconvert_exporter": "python",
   "pygments_lexer": "ipython3",
   "version": "3.12.3"
  },
  "toc": {
   "base_numbering": 1,
   "nav_menu": {},
   "number_sections": false,
   "sideBar": true,
   "skip_h1_title": false,
   "title_cell": "Table of Contents",
   "title_sidebar": "Contents",
   "toc_cell": false,
   "toc_position": {},
   "toc_section_display": true,
   "toc_window_display": false
  }
 },
 "nbformat": 4,
 "nbformat_minor": 4
}
