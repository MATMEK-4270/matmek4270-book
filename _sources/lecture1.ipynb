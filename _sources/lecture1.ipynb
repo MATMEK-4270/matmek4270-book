{
 "cells": [
  {
   "cell_type": "markdown",
   "metadata": {},
   "source": [
    "# Lecture 1\n",
    "\n",
    "In lecture 1 we will consider a simple mathematical model for exponential decay. Important topics of the first lecture are\n",
    "\n",
    "  * The finite difference (FD) method\n",
    "  * Forward/Backward Euler methods\n",
    "  * The Crank-Nicolson method\n",
    "  * Stability of numerical schemes \n",
    "  * Implementation of the FD methods using recursive solvers\n",
    "  * Verification of the implementations\n",
    "  * Error norms\n",
    "  * Convergence rates\n",
    "\n",
    "This first lecture may be easier to follow as the [slides](https://matmek-4270.github.io/matmek4270-pres/intro.html#/title-slide) that were presented on the first day.\n",
    "\n",
    "## Finite difference models for exponential decay\n",
    "\n",
    "A model for exponential decay is\n",
    "\n",
    "$$\n",
    "\\frac{du}{dt} = -a u, \\quad u(0)=I, \\quad t \\in [0, T],\n",
    "$$(eq:expdecay)\n",
    "where $a>0$ is a constant and $u(t)$ is the solution. For this course it is not very important what $u(t)$ represents, but it could be any scalar like temperature or money. Something that decays exponentially in time.\n",
    "\n",
    "We want to solve Eq. {eq}`eq:expdecay` using a finite difference numerical method. This may seem strange since the exact solution to {eq}`eq:expdecay` is trivially obtained as\n",
    "\n",
    "$$\n",
    "u(t) = I \\exp(-at).\n",
    "$$(eq:decay_exact)\n",
    "However, this exact solution will serve us well for validation of the finite difference schemes. Especially for the computation of convergence rates."
   ]
  },
  {
   "cell_type": "markdown",
   "metadata": {},
   "source": [
    "### The Finite difference method\n",
    "\n",
    "Solving a differential equation by a finite difference method consists of four steps:\n",
    "\n",
    " 1. discretizing the domain,\n",
    " 2. fulfilling the equation at discrete time points,\n",
    " 3. replacing derivatives by finite differences,\n",
    " 4. solve the discretized problem. (Often with a recursive algorithm in 1D)\n",
    "\n",
    "#### Step 1 - discretization\n",
    "\n",
    "The finite difference method divides (in 1D) the line into a mesh and solves equations only for specific locations (nodes) in the mesh. A mesh is created for $t = 0, \\Delta t, 2\\Delta t, \\ldots, N \\Delta t$. To this end we use the discrete times $t_n=n \\Delta t$ for $n=0, 1, \\ldots N$ and $T=t_N = N \\Delta t$. Similarly we use the discrete solutions $u^n = u(t_n)$ for $n=0, 1, \\ldots, N$.\n",
    "\n",
    "![tikz](line.png)\n",
    "\n",
    "The finite difference solution $\\{u^n\\}_{n=0}^{N}$ is a **mesh function** and it is defined only at the mesh points in the domain. For example as shown below. Note that the FD solution is not necessarily equal to the exact solution."
   ]
  },
  {
   "cell_type": "code",
   "execution_count": null,
   "metadata": {
    "tags": [
     "hide-input"
    ]
   },
   "outputs": [],
   "source": [
    "import matplotlib.pyplot as plt\n",
    "import numpy as np\n",
    "\n",
    "N = 100\n",
    "T = 1\n",
    "t = np.linspace(0, T, N)\n",
    "f = lambda t: t + np.sin(4*t*np.pi) + np.sin(t*np.pi)\n",
    "fig, ax = plt.subplots(1, 1, figsize=(8, 4)) \n",
    "ax.plot(t, f(t), 'k--')\n",
    "rnd = np.array([0, 0.02, 0.05, 0.1, 0.02, 0.1, 0])\n",
    "t = np.linspace(0, T, 7)\n",
    "ax.plot(t, f(t)+rnd, 'ko')\n",
    "for i, ti in enumerate(t):\n",
    "    ax.text(ti+0.01, f(ti)+0.05, f'$u^{i}$')\n",
    "ax.set_xticks(t)\n",
    "ax.set_xticklabels([f'$t_{i}$' for i in range(7)]);\n",
    "ax.set_yticks([]);"
   ]
  },
  {
   "cell_type": "markdown",
   "metadata": {},
   "source": [
    "#### Step 2 - fulfilling the equation at discrete time points\n",
    "\n",
    "The $N+1$ unknowns $\\{u^n\\}_{n=0}^{N}$ requires $N+1$ equations. For our problem the initial condition is known and we set $u^0=I$. This leaves $N$ unknowns, or degrees of freedom. In order to find these unknown we can simply demand that\n",
    "\n",
    "$$\n",
    "u'(t_n) = -au(t_n),\\quad \\forall \\, n=1, \\ldots, N\n",
    "$$\n",
    "\n",
    "which gives us the $N$ equations that we need."
   ]
  },
  {
   "cell_type": "markdown",
   "metadata": {},
   "source": [
    "#### Step 3: Replacing derivatives by finite differences\n",
    "\n",
    "Now it is time for the **finite difference** approximations of derivatives:\n",
    "\n",
    "$$\n",
    "u'(t_n) \\approx \\frac{u^{n+1}-u^{n}}{t_{n+1}-t_n}\n",
    "$$\n",
    "\n",
    "```{image} figures/fd_forward.png\n",
    ":alt: Forward difference\n",
    ":class: bg-primary mb-1\n",
    ":width: 400px\n",
    ":align: center\n",
    "```\n",
    "\n",
    "Inserting the finite difference approximation in\n",
    "\n",
    "$$\n",
    " u'(t_n) = -au(t_n)\n",
    "$$\n",
    "\n",
    "gives\n",
    "\n",
    "$$\n",
    "\\frac{u^{n+1}-u^{n}}{t_{n+1}-t_n} = -au^{n},\\quad n=0,1,\\ldots,N-1\n",
    "$$\n",
    "\n",
    "which is known as *discrete equation*, or *discrete problem*, or *finite difference method/scheme*.\n",
    "\n",
    "#### Step 4: Formulating a recursive algorithm\n",
    "\n",
    "How can we actually compute the $u^n$ values?\n",
    "\n",
    "  * given $u^0=I$\n",
    "  * compute $u^1$ from $u^0$\n",
    "  * compute $u^2$ from $u^1$\n",
    "  * compute $u^3$ from $u^2$ (and so forth)\n",
    "\n",
    "In general: we have $u^n$ and seek $u^{n+1}$\n",
    "\n",
    "### The Forward Euler scheme\n",
    "Solve wrt $u^{n+1}$ to get the computational formula:\n",
    "$$\n",
    "u^{n+1} = u^n - a(t_{n+1} -t_n)u^n\n",
    "$$\n",
    "\n",
    "### Let us apply the scheme by hand\n",
    "\n",
    "Assume constant time spacing: $\\Delta t = t_{n+1}-t_n=\\text{const}$ such that $u^{n+1} = u^n (1- a \\Delta t)$\n",
    "\n",
    "$$\n",
    "\\begin{align*}\n",
    "u^0 &= I,\\\\\n",
    "u^1 & = I(1-a\\Delta t),\\\\\n",
    "u^2 & = I(1-a\\Delta t)^2,\\\\\n",
    "&\\vdots\\\\\n",
    "u^{N} &= I(1-a\\Delta t)^{N}\n",
    "\\end{align*}\n",
    "$$\n",
    "\n",
    "Ooops - we can find the numerical solution by hand (in this simple example)! No need for a computer (yet)...\n"
   ]
  },
  {
   "cell_type": "markdown",
   "metadata": {},
   "source": [
    "### A backward difference\n",
    "\n",
    "Here is another finite difference approximation to the derivative (backward difference):\n",
    "\n",
    "$$\n",
    "u'(t_n) \\approx \\frac{u^{n}-u^{n-1}}{t_{n}-t_{n-1}}\n",
    "$$\n",
    "\n",
    "```{image} figures/fd_backward.png\n",
    ":alt: Forward difference\n",
    ":class: bg-primary mb-1\n",
    ":width: 400px\n",
    ":align: center\n",
    "```\n"
   ]
  },
  {
   "cell_type": "markdown",
   "metadata": {},
   "source": [
    "### The Backward Euler scheme\n",
    "\n",
    "Inserting the finite difference approximation in $u'(t_n)=-au(t_n)$ yields the Backward Euler (BE) scheme:\n",
    "\n",
    "$$\n",
    "\\frac{u^{n}-u^{n-1}}{t_{n}-t_{n-1}} = -a u^n\n",
    "$$\n",
    "\n",
    "Solve with respect to the unknown $u^{n+1}$:\n",
    "\n",
    "$$\n",
    "u^{n+1} = \\frac{1}{1+ a(t_{n+1}-t_n)} u^n\n",
    "$$\n",
    "\n",
    "::: {.callout-note}\n",
    "We use $u^{n+1}$ as unknown and rename $u^n \\longrightarrow u^{n+1}$ and $u^{n-1} \\longrightarrow u^{n}$\n",
    ":::\n",
    "\n",
    "### A centered difference\n",
    "\n",
    "Centered differences are better approximations than forward or backward differences.\n",
    "\n",
    "```{image} figures/fd_centered_CN.png\n",
    ":alt: Forward difference\n",
    ":class: bg-primary mb-1\n",
    ":width: 400px\n",
    ":align: center\n",
    "```\n"
   ]
  },
  {
   "cell_type": "markdown",
   "metadata": {},
   "source": [
    "\n",
    "### The Crank-Nicolson scheme; ideas \n",
    "\n",
    "Idea 1: let the ODE hold at $t_{n+\\half}$. With $N+1$ points, that is $N$ equations for $n=0, 1, \\ldots N-1$\n",
    "\n",
    "$$\n",
    " u'(t_{n+\\half}) = -au(t_{n+\\half})\n",
    "$$\n",
    "\n",
    "Idea 2: approximate $u'(t_{n+\\half})$ by a centered difference\n",
    "\n",
    "$$\n",
    "u'(t_{n+\\half}) \\approx \\frac{u^{n+1}-u^n}{t_{n+1}-t_n}\n",
    "$$\n",
    "\n",
    "**Problem:** $u(t_{n+\\half})$ is not defined, only $u^n=u(t_n)$ and $u^{n+1}=u(t_{n+1})$\n",
    "\n",
    "Solution (linear interpolation):\n",
    "\n",
    "$$\n",
    "u(t_{n+\\half}) \\approx \\frac{1}{2} (u^n + u^{n+1})\n",
    "$$\n",
    "\n",
    "\n",
    "### The Crank-Nicolson scheme; result \n",
    "\n",
    "Result:\n",
    "\n",
    "$$\n",
    "\\frac{u^{n+1}-u^n}{t_{n+1}-t_n} = -a\\frac{1}{2} (u^n + u^{n+1})\n",
    "$$\n",
    "\n",
    "Solve wrt to $u^{n+1}$:\n",
    "\n",
    "$$\n",
    "u^{n+1} = \\frac{1-\\frac{1}{2} a(t_{n+1}-t_n)}{1 + \\frac{1}{2} a(t_{n+1}-t_n)}u^n\n",
    "$$\n",
    "This is a Crank-Nicolson (CN) scheme or a midpoint or centered scheme.\n",
    "\n",
    "\n",
    "### The unifying $\\theta$-rule \n",
    "\n",
    "The Forward Euler, Backward Euler, and Crank-Nicolson schemes can be formulated as one scheme with a varying parameter $\\theta$:\n",
    "\n",
    "$$\n",
    "\\frac{u^{n+1}-u^{n}}{t_{n+1}-t_n} = -a (\\theta u^{n+1} + (1-\\theta) u^{n})\n",
    "$$\n",
    "\n",
    " * $\\theta =0$: Forward Euler\n",
    " * $\\theta =1$: Backward Euler\n",
    " * $\\theta =1/2$: Crank-Nicolson\n",
    " * We may alternatively choose any $\\theta\\in [0, 1]$.\n",
    "\n",
    "$u^n$ is known, solve for $u^{n+1}$:\n",
    "\n",
    "$$\n",
    "u^{n+1} = \\frac{1 - (1-\\theta) a(t_{n+1}-t_n)}{1 + \\theta a(t_{n+1}-t_n)} u^n\n",
    "$$\n",
    "\n",
    "### Constant time step\n",
    "\n",
    "Very common assumption (not important, but exclusively used for\n",
    "simplicity hereafter): constant time step $t_{n+1}-t_n\\equiv\\Delta t$\n",
    "\n",
    "Summary of schemes for constant time step\n",
    "\n",
    "$$\n",
    "\\begin{align}\n",
    "u^{n+1} &= (1 - a\\Delta t )u^n  \\quad (\\hbox{FE}) \\\\\n",
    "u^{n+1} &= \\frac{1}{1+ a\\Delta t} u^n  \\quad (\\hbox{BE}) \\\\\n",
    "u^{n+1} &= \\frac{1-\\frac{1}{2} a\\Delta t}{1 + \\frac{1}{2} a\\Delta t} u^n \\quad (\\hbox{CN})\\\\\n",
    "u^{n+1} &= \\frac{1 - (1-\\theta) a\\Delta t}{1 + \\theta a\\Delta t}u^n \\quad (\\theta-\\hbox{rule})\n",
    "\\end{align}\n",
    "$$\n"
   ]
  },
  {
   "cell_type": "markdown",
   "metadata": {},
   "source": [
    "## Implementation\n",
    "\n",
    "Model:\n",
    "\n",
    "$$\n",
    "u'(t) = -au(t),\\quad t\\in (0,T], \\quad u(0)=I\n",
    "$$\n",
    "\n",
    "Numerical method:\n",
    "\n",
    "$$\n",
    "u^{n+1} = \\frac{1 - (1-\\theta) a\\Delta t}{1 + \\theta a\\Delta t}u^n\n",
    "$$\n",
    "\n",
    "for $\\theta\\in [0,1]$. Note\n",
    "\n",
    " * $\\theta=0$ gives Forward Euler\n",
    " * $\\theta=1$ gives Backward Euler\n",
    " * $\\theta=1/2$ gives Crank-Nicolson\n",
    "\n",
    "### Requirements of a program\n",
    "\n",
    "  * Compute the numerical solution $u^n$, $n=1,2,\\ldots,N$\n",
    "  * Display the numerical and exact solution $u_e(t)=e^{-at}$\n",
    "  * Bring evidence to a correct implementation (*verification*)\n",
    "  * Compare the numerical and the exact solution in a plot\n",
    "  * Compute the error $u_e (t_n) - u^n$\n",
    "  * If wanted, compute the convergence rate of the numerical scheme\n",
    "\n",
    "### Algorithm\n",
    "\n",
    " * Store $u^n$, $n=0,1,\\ldots,N$ in an array $\\boldsymbol{u}$.\n",
    " * Algorithm:\n",
    "   - initialize $u^0$\n",
    "   - for $t=t_n$, $n=1,2,\\ldots,N$: compute $u^n$ using\n",
    "     the $\\theta$-rule formula\n"
   ]
  },
  {
   "cell_type": "code",
   "execution_count": null,
   "metadata": {},
   "outputs": [],
   "source": [
    "import numpy as np\n",
    "def solver(I, a, T, dt, theta):\n",
    "    \"\"\"Solve u'=-a*u, u(0)=I, for t in (0, T] with steps of dt.\"\"\"\n",
    "    Nt = int(T/dt)            # no of time intervals\n",
    "    T = Nt*dt                 # adjust T to fit time step dt\n",
    "    u = np.zeros(Nt+1)           # array of u[n] values\n",
    "    t = np.linspace(0, T, Nt+1)  # time mesh\n",
    "    u[0] = I                  # assign initial condition\n",
    "    for n in range(0, Nt):    # n=0,1,...,Nt-1\n",
    "        u[n+1] = (1 - (1-theta)*a*dt)/(1 + theta*dt*a)*u[n]\n",
    "    return u, t\n",
    "\n",
    "I, a, T, dt, theta = 1, 2, 8, 0.8, 1\n",
    "u, t = solver(I, a, T, dt, theta)\n",
    "# Write out a table of t and u values:\n",
    "for i in range(len(t)):\n",
    "    print(f't={t[i]:6.3f} u={u[i]:g}')\n"
   ]
  },
  {
   "cell_type": "markdown",
   "metadata": {},
   "source": [
    "::: {.callout-tip}\n",
    "## Vectorization\n",
    "\n",
    "**Vectorization** refers to the process of converting iterative operations on individual elements of an array (or other data structures) into batch operations on entire arrays.\n",
    "\n",
    ":::\n",
    "\n",
    "For example, you have three arrays\n",
    "\n",
    "$$\n",
    "\\boldsymbol{u} = (u_i)_{i=0}^N, \\boldsymbol{v} = (v_i)_{i=0}^N, \\boldsymbol{w} = (w_i)_{i=0}^N\n",
    "$$\n",
    "\n",
    "Now compute\n",
    "\n",
    "$$\n",
    "w_i = u_i \\cdot v_i, \\quad \\forall \\, i=0, 1, \\ldots, N\n",
    "$$\n",
    "\n",
    "Regular (scalar) implementation:\n"
   ]
  },
  {
   "cell_type": "code",
   "execution_count": null,
   "metadata": {},
   "outputs": [],
   "source": [
    "N = 1000\n",
    "u = np.random.random(N)\n",
    "v = np.random.random(N)\n",
    "w = np.zeros(N)\n",
    "\n",
    "for i in range(N):\n",
    "    w[i] = u[i] * v[i]"
   ]
  },
  {
   "cell_type": "markdown",
   "metadata": {},
   "source": [
    "Vectorized:"
   ]
  },
  {
   "cell_type": "code",
   "execution_count": null,
   "metadata": {},
   "outputs": [],
   "source": [
    "w[:] = u * v"
   ]
  },
  {
   "cell_type": "markdown",
   "metadata": {},
   "source": [
    "\n",
    "Numpy is heavily vectorized! So much so that mult, add, div, etc are vectorized by default!\n",
    "\n",
    "::: {.callout-warning}\n",
    "## Vectorization warning\n",
    "\n",
    "Pretty much all the code you will see and get access to in this course will be vectorized!\n",
    "\n",
    ":::\n",
    "\n",
    "Now lets get rid of the for-loop!\n",
    "\n",
    "```\n",
    "u[0] = I                  # assign initial condition\n",
    "for n in range(0, N):     # n=0,1,...,N-1\n",
    "    u[n+1] = (1 - (1-theta)*a*dt)/(1 + theta*dt*a)*u[n]\n",
    "```\n",
    "\n",
    "How? This is difficult because it is a **recursive** update and not regular **elementwise** multiplication. But remember\n",
    "\n",
    "$$\n",
    "A = (1 - (1- \\theta) a  \\Delta t)/(1 + \\theta \\Delta t a)\n",
    "$$\n",
    "\n",
    "$$\n",
    "\\begin{align*}\n",
    "u^1 & = A u^0,\\\\\n",
    "u^2 & = A u^1,\\\\\n",
    "&\\vdots\\\\\n",
    "u^{N_t} &= A u^{N-1} \n",
    "\\end{align*}\n",
    "$$"
   ]
  },
  {
   "cell_type": "markdown",
   "metadata": {},
   "source": [
    "Because we have this exact numerical solution we can implement"
   ]
  },
  {
   "cell_type": "markdown",
   "metadata": {},
   "source": [
    "```{python}\n",
    "u[0] = I                  # assign initial condition\n",
    "for n in range(0, N):     # n=0,1,...,Nt-1\n",
    "    u[n+1] = (1 - (1-theta)*a*dt)/(1 + theta*dt*a)*u[n]\n",
    "```"
   ]
  },
  {
   "cell_type": "markdown",
   "metadata": {},
   "source": [
    "as follows"
   ]
  },
  {
   "cell_type": "markdown",
   "metadata": {},
   "source": [
    "```{python}\n",
    "u[0] = I                  # assign initial condition\n",
    "u[1:] = (1 - (1-theta)*a*dt)/(1 + theta*dt*a)\n",
    "u[:] = np.cumprod(u)     \n",
    "```"
   ]
  },
  {
   "cell_type": "markdown",
   "metadata": {},
   "source": [
    "\n",
    "because\n",
    "\n",
    "$$\n",
    "u^n = A^n u^0, \\quad \\text{since }\n",
    "\\begin{cases}\n",
    "u^1 & = A u^0,\\\\\n",
    "u^2 & = A u^1 = A^2 u^0,\\\\\n",
    "&\\vdots\\\\\n",
    "u^{N_t} &= A u^{N-1} = A^{N} u^0 \n",
    "\\end{cases}\n",
    "$$\n",
    "\n",
    "To show how [cumprod](https://numpy.org/doc/stable/reference/generated/numpy.cumprod.html) works, just consider the following"
   ]
  },
  {
   "cell_type": "code",
   "execution_count": null,
   "metadata": {},
   "outputs": [],
   "source": [
    "np.cumprod([1, 2, 2, 2])"
   ]
  },
  {
   "cell_type": "markdown",
   "metadata": {},
   "source": [
    "\n",
    "### Why vectorization?\n",
    "\n",
    "* Python for-loops are slow!\n",
    "* Python for-loops usually requires more lines of code.\n"
   ]
  },
  {
   "cell_type": "code",
   "execution_count": null,
   "metadata": {},
   "outputs": [],
   "source": [
    "def f0(u, I, theta, a, dt):\n",
    "    u[0] = I                  \n",
    "    u[1:] = (1 - (1-theta)*a*dt)/(1 + theta*dt*a)\n",
    "    u[:] = np.cumprod(u)\n",
    "    return u\n",
    "\n",
    "def f1(u,  I, theta, a, dt):\n",
    "    u[0] = I                 \n",
    "    for n in range(0, len(u)-1):  \n",
    "        u[n+1] = (1 - (1-theta)*a*dt)/(1 + theta*dt*a)*u[n]\n",
    "    return u\n",
    "\n",
    "I, a, T, dt, theta = 1, 2, 8, 0.8, 1\n",
    "u, t = solver(I, a, T, dt, theta)\n",
    "\n",
    "assert np.allclose(f0(u.copy(), I, theta, a, dt), \n",
    "                   f1(u.copy(), I, theta, a, dt))"
   ]
  },
  {
   "cell_type": "markdown",
   "metadata": {},
   "source": [
    "Lets try some timings!"
   ]
  },
  {
   "cell_type": "code",
   "execution_count": null,
   "metadata": {},
   "outputs": [],
   "source": [
    "%timeit -q -o -n 1000 f0(u, I, theta, a, dt)"
   ]
  },
  {
   "cell_type": "code",
   "execution_count": null,
   "metadata": {},
   "outputs": [],
   "source": [
    "%timeit -q -o -n 1000 f1(u, I, theta, a, dt)"
   ]
  },
  {
   "cell_type": "markdown",
   "metadata": {},
   "source": [
    "Hmm. Not really what's expected. Why? Because the array `u` is really short! Lets try a longer array"
   ]
  },
  {
   "cell_type": "code",
   "execution_count": null,
   "metadata": {},
   "outputs": [],
   "source": [
    "print(f\"Length of u = {u.shape[0]}\") "
   ]
  },
  {
   "cell_type": "code",
   "execution_count": null,
   "metadata": {},
   "outputs": [],
   "source": [
    "dt = dt/10\n",
    "u, t = solver(I, a, T, dt, theta) \n",
    "print(f\"Length of u = {u.shape[0]}\")"
   ]
  },
  {
   "cell_type": "code",
   "execution_count": null,
   "metadata": {},
   "outputs": [],
   "source": [
    "%timeit -q -o -n 100 f0(u, I, theta, a, dt)"
   ]
  },
  {
   "cell_type": "code",
   "execution_count": null,
   "metadata": {},
   "outputs": [],
   "source": [
    "%timeit -q -o -n 100 f1(u, I, theta, a, dt)"
   ]
  },
  {
   "cell_type": "markdown",
   "metadata": {},
   "source": [
    "Even longer array:"
   ]
  },
  {
   "cell_type": "code",
   "execution_count": null,
   "metadata": {},
   "outputs": [],
   "source": [
    "dt = dt/10\n",
    "u, t = solver(I, a, T, dt, theta) \n",
    "print(f\"Length of u = {u.shape[0]}\")"
   ]
  },
  {
   "cell_type": "code",
   "execution_count": null,
   "metadata": {},
   "outputs": [],
   "source": [
    "%timeit -q -o -n 100 f0(u, I, theta, a, dt)"
   ]
  },
  {
   "cell_type": "code",
   "execution_count": null,
   "metadata": {},
   "outputs": [],
   "source": [
    "%timeit -q -o -n 100 f1(u, I, theta, a, dt)"
   ]
  },
  {
   "cell_type": "markdown",
   "metadata": {},
   "source": [
    "\n",
    "Vectorized code takes the same time! Only overhead costs, not the actual computation.\n",
    "\n",
    "### Plot the solution"
   ]
  },
  {
   "cell_type": "code",
   "execution_count": null,
   "metadata": {},
   "outputs": [],
   "source": [
    "import matplotlib.pyplot as plt \n",
    "I, a, T, dt, theta = 1, 2, 8, 0.8, 1\n",
    "u, t = solver(I, a, T, dt, theta)\n",
    "fig = plt.figure(figsize=(6, 4))\n",
    "ax = fig.gca()\n",
    "ax.plot(t, u);"
   ]
  },
  {
   "cell_type": "markdown",
   "metadata": {},
   "source": [
    "Add legends, titles, exact solution, etc. Make the plot nice:-)"
   ]
  },
  {
   "cell_type": "code",
   "execution_count": null,
   "metadata": {},
   "outputs": [],
   "source": [
    "u_exact = lambda t, I, a: I*np.exp(-a*t)\n",
    "I, a, T = 1., 2., 8.\n",
    "u, t = solver(I=I, a=a, T=T, dt=0.8, theta=1)\n",
    "te = np.linspace(0, T, 1000)\n",
    "ue = u_exact(te, I, a)\n",
    "fig = plt.figure(figsize=(6, 4))\n",
    "plt.plot(t, u, 'bs-', te, ue, 'r')\n",
    "plt.title('Decay')\n",
    "plt.legend(['numerical', 'exact'])\n",
    "plt.xlabel('Time'), plt.ylabel('u(t)');"
   ]
  },
  {
   "cell_type": "markdown",
   "metadata": {},
   "source": [
    "### Plotly is a very good alternative"
   ]
  },
  {
   "cell_type": "code",
   "execution_count": null,
   "metadata": {},
   "outputs": [],
   "source": [
    "import plotly.express as px\n",
    "pfig = px.line(x=t, y=u, labels={'x': 'Time', 'y': 'u(t)'}, \n",
    "               width=600, height=400, title='Decay',\n",
    "               template=\"simple_white\")\n",
    "pfig.show()"
   ]
  },
  {
   "cell_type": "markdown",
   "metadata": {},
   "source": [
    "### Verifying the implementation\n",
    "\n",
    " * Verification = bring evidence that the program works\n",
    " * Find suitable test problems\n",
    " * Make function for each test problem\n",
    " * Later: put the verification tests in a professional testing framework\n",
    "\n",
    "\n",
    "#### Comparison with exact numerical solution\n",
    "\n",
    "::: {.callout-note}\n",
    "## What is exact?\n",
    "\n",
    "There is a difference between exact numerical solution and exact solution!\n",
    ":::\n",
    "\n",
    "Repeated use of the $\\theta$-rule gives exact numerical solution:\n",
    "\n",
    "$$\n",
    "\\begin{align*}\n",
    "u^0 &= I,\\\\\n",
    "u^1 &= Au^0 = AI\\\\\n",
    "u^n &= A^nu^{n-1} = A^nI\n",
    "\\end{align*}\n",
    "$$\n",
    "\n",
    "Exact solution on the other hand: \n",
    "\n",
    "$$\n",
    "u(t) = \\exp(-a t), \\quad u(t_n) = \\exp(-a t_n)\n",
    "$$\n",
    "\n",
    "#### Making a test based on an exact numerical solution\n",
    "\n",
    "The exact discrete solution is\n",
    "\n",
    "$$\n",
    "u^n = IA^n\n",
    "$$\n",
    "\n",
    "Test if your solver gives\n",
    "\n",
    "$$ \n",
    "\\max_n |u^n - IA^n| < \\epsilon\\sim 10^{-15}\n",
    "$$\n",
    "\n",
    "for a few precalculated steps.\n",
    "\n",
    "::: {.callout-tip}\n",
    "Make sure you understand what $n$ in $u^n$ and in $A^n$ means! $n$ is not used as a power in $u^n$, but it is a power in $A^n$!\n",
    ":::\n",
    "\n",
    "#### Run a few numerical steps by hand\n",
    "\n",
    "Use a calculator ($I=0.1$, $\\theta=0.8$, $\\Delta t =0.8$):\n",
    "\n",
    "$$ \n",
    "A\\equiv \\frac{1 - (1-\\theta) a\\Delta t}{1 + \\theta a \\Delta t} = 0.298245614035\n",
    "$$\n",
    "\n",
    "$$\n",
    "\\begin{align*}\n",
    "u^1 &= AI=0.0298245614035,\\\\\n",
    "u^2 &= Au^1= 0.00889504462912,\\\\\n",
    "u^3 &=Au^2= 0.00265290804728\n",
    "\\end{align*}\n",
    "$$\n",
    "\n",
    "#### The test based on exact numerical solution\n"
   ]
  },
  {
   "cell_type": "code",
   "execution_count": null,
   "metadata": {},
   "outputs": [],
   "source": [
    "def test_solver_three_steps(solver):\n",
    "    \"\"\"Compare three steps with known manual computations.\"\"\"\n",
    "    theta = 0.8\n",
    "    a = 2\n",
    "    I = 0.1\n",
    "    dt = 0.8\n",
    "    u_by_hand = np.array([I,\n",
    "                          0.0298245614035,\n",
    "                          0.00889504462912,\n",
    "                          0.00265290804728])\n",
    "\n",
    "    Nt = 3  # number of time steps\n",
    "    u, t = solver(I=I, a=a, T=Nt*dt, dt=dt, theta=theta)\n",
    "    tol = 1E-14  # tolerance for comparing floats\n",
    "    diff = abs(u - u_by_hand).max()\n",
    "    success = diff < tol\n",
    "    assert success, diff\n",
    "\n",
    "test_solver_three_steps(solver)"
   ]
  },
  {
   "cell_type": "markdown",
   "metadata": {},
   "source": [
    "\n",
    "::: {.callout-note}\n",
    "We do not use the **exact** solution because the numerical solution will not equal the exact! \n",
    ":::\n",
    "\n",
    "### Quantifying the error\n",
    "\n",
    "##### Computing the norm of the error \n",
    "\n",
    " * $e^n = u^n - u_e(t_n)$ is a **mesh function**\n",
    " * Usually we want one number for the error\n",
    " * Use a norm of $e^n$\n",
    "\n",
    "Norms of a function $f(t)$:\n",
    "\n",
    "$$\n",
    "\\begin{align}\n",
    "||f||_{L^2} &= \\left( \\int_0^T f(t)^2 dt\\right)^{1/2} \\\\\n",
    "||f||_{L^1} &= \\int_0^T |f(t)| dt \\\\\n",
    "||f||_{L^\\infty} &= \\max_{t\\in [0,T]}|f(t)|\n",
    "\\end{align}\n",
    "$$\n",
    "\n",
    "#### Norms of mesh functions \n",
    "\n",
    " * Problem: $f^n =f(t_n)$ is a **mesh function** and hence not defined for all $t$. How to integrate $f^n$?\n",
    " * Idea: Apply a numerical integration rule, using only\n",
    "   the mesh points of the mesh function.\n",
    "\n",
    "The Trapezoidal rule:\n",
    "\n",
    "$$\n",
    "||f^n|| = \\left(\\Delta t\\left(\\half(f^0)^2 + \\half(f^{N})^2\n",
    "+ \\sum_{n=1}^{N-1} (f^n)^2\\right)\\right)^{1/2}\n",
    "$$\n",
    "\n",
    "Common simplification yields the $\\ell^2$ norm of a mesh function:\n",
    "\n",
    "$$\n",
    "||f^n||_{\\ell^2} = \\left(\\Delta t\\sum_{n=0}^{N} (f^n)^2\\right)^{1/2}\n",
    "$$\n",
    "\n",
    "#### Norms - notice!\n",
    "\n",
    " * The *continuous* norms use capital $L^2, L^1, L^\\infty{}$\n",
    " * The *discrete* norm uses lowercase $\\ell^2, \\ell^1, \\ell^{\\infty}$\n",
    "\n",
    "#### Implementation of the error norm\n",
    "\n",
    "$$ \n",
    "E = ||e^n||_{\\ell^2}  = \\sqrt{\\Delta t\\sum_{n=0}^{N} (e^n)^2}\n",
    "$$\n",
    "\n",
    "Python with vectorization:"
   ]
  },
  {
   "cell_type": "code",
   "execution_count": null,
   "metadata": {},
   "outputs": [],
   "source": [
    "u_exact = lambda t, I, a: I*np.exp(-a*t)\n",
    "I, a, T, dt, theta = 1., 2., 8., 0.8, 1\n",
    "u, t = solver(I, a, T, dt, theta)\n",
    "en = u_exact(t, I, a) - u\n",
    "E = np.sqrt(dt*np.sum(en**2))\n",
    "print(f'Errornorm = {E}')"
   ]
  }
 ],
 "metadata": {
  "kernelspec": {
   "display_name": "matmek4270",
   "language": "python",
   "name": "python3"
  },
  "language_info": {
   "codemirror_mode": {
    "name": "ipython",
    "version": 3
   },
   "file_extension": ".py",
   "mimetype": "text/x-python",
   "name": "python",
   "nbconvert_exporter": "python",
   "pygments_lexer": "ipython3",
   "version": "3.12.3"
  }
 },
 "nbformat": 4,
 "nbformat_minor": 2
}
