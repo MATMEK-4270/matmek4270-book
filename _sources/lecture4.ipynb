{
 "cells": [
  {
   "cell_type": "markdown",
   "id": "18e67b54",
   "metadata": {},
   "source": [
    "# Lecture 4\n",
    "\n",
    "## Initial Value Problems (IVPs)\n",
    "\n",
    "Up until now we have considered the exponential decay model and the vibration equation. We have studied the problems as recurrence relations, or marching problems. Such problems specify initial conditions at the outset of the simulation, and then moves the solution forward in time from that point. Such problems are also classified as Initial Value Problems (IVPs).\n",
    "\n",
    "The marching methods are very easy to implement intuitively using for-loops. The solution at $u^{n+1}$ is simply computed from the previous solutions $u^n, u^{n-1}, \\ldots$ and there is really no need for linear algebra.\n",
    "\n",
    "We have previously considered the decay model\n",
    "\n",
    "$$ u' + au = 0, t \\in (0, T], \\, u(0)=I. $$\n",
    "\n",
    "In order to solve this problem we create a solution vector $\\boldsymbol{u} = (u^0, u^1, \\ldots, u^{N_t})$, set $u^0=I$ and continue to solve the recurrence relation\n",
    "\n",
    "$$ \\frac{u^{n+1}-u^n}{\\Delta t} = -a (\\theta u^{n+1} + (1-\\theta) u^n) \\quad \\text{for}\\, n=1, 2, \\ldots, N.$$\n",
    "\n",
    "Rearranged\n",
    "\n",
    "$$ u^{n+1} = \\frac{1 - (1-\\theta) a \\Delta t}{1 + \\theta a \\Delta t} u^n = g u^n $$\n",
    "\n",
    "where $g = \\frac{1 - (1-\\theta) a \\Delta t}{1 + \\theta a \\Delta t}$ is the amplification factor.\n",
    "\n",
    "Recurrence algorithm:\n",
    "\n",
    "* $u^0 = I$\n",
    "* for  n = 0, 1, ... , N-1\n",
    "    * Compute $u^{n+1} = g u^n$\n",
    "\n"
   ]
  },
  {
   "cell_type": "code",
   "execution_count": null,
   "id": "53957c30",
   "metadata": {},
   "outputs": [],
   "source": [
    "import numpy as np\n",
    "import matplotlib.pyplot as plt\n",
    "np.set_printoptions(precision=3, suppress=True)\n",
    "N = 8\n",
    "a = 2\n",
    "I = 1\n",
    "theta = 0.5\n",
    "dt = 0.5\n",
    "T = N*dt\n",
    "t = np.linspace(0, N*dt, N+1)\n",
    "u = np.zeros(N+1)\n",
    "g = (1 - (1-theta) * a * dt)/(1 + theta * a * dt)\n",
    "u[0] = I\n",
    "for n in range(N):\n",
    "    u[n+1] = g * u[n]\n",
    "te = np.linspace(0, N*dt, 1001)\n",
    "plt.plot(t, u, 'b+', te, np.exp(-a*te), 'k')\n",
    "plt.legend(['Numerical', 'Exact'])\n",
    "plt.text(-0.1, u[0], '$u^0$')\n",
    "plt.text(0.3, u[1], '$u^1$')\n",
    "plt.text(0.82, u[2], '$u^2$');"
   ]
  },
  {
   "cell_type": "markdown",
   "id": "e1c6cf63",
   "metadata": {},
   "source": [
    "## Boundary Value Problems (BVPs)\n",
    "\n",
    "Boundary Value Problems are classified as problems where the solution is known at the entire boundary. For one-dimensional equations in a domain $x\\in [0, T]$ this means that the solution $u(t)$ is known both at $t=0$ and at $t=T$. BVPs demand a different kind of numerical method than IVPs, but we can still use finite differences. Contrary to IVPs, BVPs make heavy use of linear algebra. \n",
    "\n",
    "The exponential decay problem is not really considered a BVP, because the solution is only specified at one edge of the domain. This is sufficient because the equation contains only one derivative, and thus one boundary condition is enough. However, we can still look at the exponential decay problem using a linear algebra approach, where all equations to solve are assembled first into matrices and vectors, and then solved in the end.\n",
    "\n",
    "A generic matrix problem is often formulated as \n",
    "\n",
    "$$\n",
    "A \\boldsymbol{u} = \\boldsymbol{b},\n",
    "$$\n",
    "\n",
    "where $\\boldsymbol{u} \\in \\mathbb{R}^{N+1}$ is the unknown solution vector, $\\boldsymbol{b} \\in \\mathbb{R}^{N+1}$ and the matrix $A \\in \\mathbb{R}^{(N+1) \\times (N+1)}$ is the generic coefficient matrix. It should be relatively easy to see that the decay problem above may be assembled into the linear algebra problem\n",
    "\n",
    "$$\n",
    " \\underbrace{\n",
    " \\begin{bmatrix} \n",
    " 1  & 0 & 0 & 0 & 0 & 0 & 0 & 0 & 0  \\\\\n",
    " -g  & 1 & 0 & 0 & 0 & 0 & 0 & 0 & 0  \\\\\n",
    " 0  & -g & 1 & 0 & 0 & 0 & 0 & 0 & 0  \\\\\n",
    " 0  & 0 & -g & 1 & 0 & 0 & 0 & 0 & 0  \\\\\n",
    " 0  & 0 & 0 & -g & 1 & 0 & 0 & 0 & 0  \\\\\n",
    " 0  & 0 & 0 & 0 & -g & 1 & 0 & 0 & 0  \\\\\n",
    " 0  & 0 & 0 & 0 & 0 & -g & 1 & 0 & 0  \\\\\n",
    " 0  & 0 & 0 & 0 & 0 & 0 & -g & 1 & 0  \\\\\n",
    " 0  & 0 & 0 & 0 & 0 & 0 & 0 & -g & 1  \n",
    "\\end{bmatrix}}_{A}\n",
    "\\underbrace{\\begin{bmatrix}\n",
    "u^0 \\\\\n",
    "u^1 \\\\\n",
    "u^2 \\\\\n",
    "u^3 \\\\\n",
    "u^4 \\\\\n",
    "u^5 \\\\\n",
    "u^6 \\\\\n",
    "u^7 \\\\\n",
    "u^8 \n",
    "\\end{bmatrix}}_{\\boldsymbol{u}} = \n",
    "\\underbrace{\\begin{bmatrix}\n",
    "I \\\\\n",
    "0 \\\\\n",
    "0 \\\\\n",
    "0 \\\\\n",
    "0 \\\\\n",
    "0 \\\\\n",
    "0 \\\\\n",
    "0 \\\\\n",
    "0 \n",
    "\\end{bmatrix}}_{\\boldsymbol{b}}\n",
    "$$\n",
    "\n",
    "Notice the boundary condition in row 0. The remaining $N$ rows (equations) use exactly the same stencil. The fact that this is still the same recurrence problem may perhaps be more easily understood if you realize that the matrix-vector product $A \\boldsymbol{u}$ becomes the vector\n",
    "\n",
    "$$\n",
    "A\\boldsymbol{u} = \\begin{bmatrix}\n",
    "u^0 \\\\\n",
    "-gu^0+u^1 \\\\\n",
    "-gu^1+u^2 \\\\\n",
    "-gu^2+u^3 \\\\\n",
    "-gu^3+u^4 \\\\\n",
    "-gu^4+u^5 \\\\\n",
    "-gu^5+u^6 \\\\\n",
    "-gu^6+u^7 \\\\\n",
    "-gu^7+u^8 \n",
    "\\end{bmatrix}\n",
    "$$\n",
    "\n",
    "The linear algebra problem is trivially solved by Gaussian elimination or simply a forward elimination. \n",
    "\n",
    "$$\n",
    "\\boldsymbol{u} = A^{-1} \\boldsymbol{b}.\n",
    "$$\n",
    "\n",
    "We can assemble the matrix $A$ using the [scipy.sparse](https://docs.scipy.org/doc/scipy/reference/sparse.html) package"
   ]
  },
  {
   "cell_type": "code",
   "execution_count": null,
   "id": "30207e11",
   "metadata": {},
   "outputs": [],
   "source": [
    "from scipy import sparse\n",
    "A = sparse.diags([-g, 1], np.array([-1, 0]), (N+1, N+1), 'csr')\n",
    "A.toarray()"
   ]
  },
  {
   "cell_type": "markdown",
   "id": "8f596952",
   "metadata": {},
   "source": [
    "And solve the linear algebra problem using [scipy.sparse.linalg](https://docs.scipy.org/doc/scipy/reference/sparse.linalg.html)"
   ]
  },
  {
   "cell_type": "code",
   "execution_count": null,
   "id": "87186624",
   "metadata": {},
   "outputs": [],
   "source": [
    "b = np.zeros(N+1)\n",
    "b[0] = I\n",
    "un = sparse.linalg.spsolve_triangular(A, b, lower=True, unit_diagonal=True)\n",
    "un"
   ]
  },
  {
   "cell_type": "markdown",
   "id": "bc93f162",
   "metadata": {},
   "source": [
    "The solution is exactly the same as computed with the recurrence relation:"
   ]
  },
  {
   "cell_type": "code",
   "execution_count": null,
   "id": "4a4bf267",
   "metadata": {},
   "outputs": [],
   "source": [
    "un-u"
   ]
  },
  {
   "cell_type": "markdown",
   "id": "64c1bef2",
   "metadata": {},
   "source": [
    "This linear algebra approach seems to take more effort than the simple marching methods, so why do we need it? Well, sometimes it makes more sense to specify boundary conditions on both sides of the domain and in that case the marching methods may not be optimal. The vibration problem from [lecture 3](https://matmek-4270.github.io/matmek4270-book/lecture3.html) is actually more common to solve as a boundary value problem. Consider a guitar string that vibrates. We know that the guitar string is kept still at both edges of the domain and as such we would like to specify the solution at both these points. Like a Boundary Value Problem.\n",
    "\n",
    "```{note}\n",
    "The [shooting method](https://en.wikipedia.org/wiki/Shooting_method) reduces a BVP to an IVP and iteratively solves the problem using marching methods. The target of the iterations is to \"hit\" the correct boundary value at the end of the domain, which explains the name.\n",
    "```"
   ]
  },
  {
   "cell_type": "markdown",
   "id": "8eb76106",
   "metadata": {},
   "source": [
    "### The vibration problem\n",
    "\n",
    "Lets consider the vibration problem as a boundary value problem\n",
    "\n",
    "$$\n",
    "u'' + \\omega^2 u = 0,\\, t \\in (0, T) \\quad u(0) = u(T) = I.\n",
    "$$\n",
    "\n",
    "Boundary value problems cannot be solved easily using marching methods, but the linear algebra FD approach is perfect.  Lets solve the problem using a central difference for $n=1, 2, \\ldots, N-1$ and specify the solution for $n=0$ and $n=N$. For all internal nodes the equation to solve is\n",
    "\n",
    "$$\n",
    "\\frac{u^{n+1}-2u^n+u^{n-1}}{\\Delta t^2} + \\omega^2 u^n = 0.\n",
    "$$\n",
    "\n",
    "The algebraic problem \n",
    "\n",
    "$$ A \\boldsymbol{u} = \\boldsymbol{b}, $$\n",
    "\n",
    "is now, using $g = 2-\\omega^2 \\Delta t^2$,\n",
    "\n",
    "$$\n",
    "\\begin{bmatrix} \n",
    " 1  & 0 & 0 & 0 & 0 & 0 & 0 & 0 & 0  \\\\\n",
    " 1  & -g & 1 & 0 & 0 & 0 & 0 & 0 & 0  \\\\\n",
    " 0  & 1 & -g & 1 & 0 & 0 & 0 & 0 & 0  \\\\\n",
    " 0  & 0 & 1 & -g & 1 & 0 & 0 & 0 & 0  \\\\\n",
    " 0  & 0 & 0 & 1 & -g & 1 & 0 & 0 & 0  \\\\\n",
    " 0  & 0 & 0 & 0 & 1 & -g & 1 & 0 & 0  \\\\\n",
    " 0  & 0 & 0 & 0 & 0 & 1 & -g & 1 & 0  \\\\\n",
    " 0  & 0 & 0 & 0 & 0 & 0 & 1 & -g & 1  \\\\\n",
    " 0  & 0 & 0 & 0 & 0 & 0 & 0 & 0 & 1  \n",
    "\\end{bmatrix}\n",
    "\\begin{bmatrix}\n",
    "u^0 \\\\\n",
    "u^1 \\\\\n",
    "u^2 \\\\\n",
    "u^3 \\\\\n",
    "u^4 \\\\\n",
    "u^5 \\\\\n",
    "u^6 \\\\\n",
    "u^7 \\\\\n",
    "u^8\n",
    "\\end{bmatrix}\n",
    "=\n",
    "\\begin{bmatrix}\n",
    "I \\\\\n",
    "0 \\\\\n",
    "0 \\\\\n",
    "0 \\\\\n",
    "0 \\\\\n",
    "0 \\\\\n",
    "0 \\\\\n",
    "0 \\\\\n",
    "I\n",
    "\\end{bmatrix}\n",
    "$$\n",
    "\n",
    "```{note}\n",
    "Notice that the matrix contains items both over and under the main diagonal, which characterizes an **implicit** method. Compare this with the **explicit** marching method, where all the matrix items were on the main diagonal or below (lower triangular).\n",
    "```\n",
    "\n",
    "```{note}\n",
    "We have applied boundary conditions $u^0=I$ and $u^N=I$ by modifying the first and last row of $A$ as well al setting $b^0=b^N=I$. \n",
    "```\n",
    "\n",
    "All that remains is to implement and solve the problem:"
   ]
  },
  {
   "cell_type": "code",
   "execution_count": null,
   "id": "e885c097",
   "metadata": {},
   "outputs": [],
   "source": [
    "w = 2*np.pi \n",
    "T, N, I = 3., 35, 1.\n",
    "dt = T/N \n",
    "D2 = sparse.diags([1, -2, 1], np.array([-1, 0, 1]), (N+1, N+1), 'lil')\n",
    "D2 *= (1/(dt**2))\n",
    "Id = sparse.eye(N+1, format='lil')\n",
    "A = (D2 + w**2*Id).to_lil()\n",
    "b = np.zeros(N+1)\n",
    "A[0, :3] = 1, 0, 0    # Fix first row\n",
    "A[-1, -3:] = 0, 0, 1  # Fix last row\n",
    "b[0] = I\n",
    "b[-1] = I\n",
    "u2 = sparse.linalg.spsolve(A, b)\n",
    "t = np.linspace(0, T, N+1)\n",
    "plt.plot(t, u2, 'bo', t, I*np.cos(w*t), 'r--')\n",
    "plt.legend(['Numerical', 'Exact']);"
   ]
  },
  {
   "cell_type": "markdown",
   "id": "4e2113b3",
   "metadata": {},
   "source": []
  },
  {
   "cell_type": "markdown",
   "id": "0fde89db",
   "metadata": {},
   "source": [
    "## Finite differentiation matrices\n",
    "\n",
    "We will now use Taylor expansions more orderly to obtain differentiation matrices. To this end let us first use the following expansions, three which are forward, and one backward:\n",
    "\n",
    "$$\n",
    "\\begin{align*}\n",
    "(-1)\\quad u^{n-1} &= u^n - h u' + \\frac{h^2}{2}u'' - \\frac{h^3}{6}u''' + \\frac{h^4}{24}u'''' - \\cdots \\\\\n",
    "(1)\\quad u^{n+1} &= u^n + h u' + \\frac{h^2}{2}u'' + \\frac{h^3}{6}u''' + \\frac{h^4}{24}u'''' + \\cdots \\\\\n",
    "(2)\\quad u^{n+2} &= u^n + 2h u' + \\frac{2 h^2}{1}u'' + \\frac{4 h^3}{3}u''' + \\frac{2 h^4}{3}u'''' + \\cdots \\\\\n",
    "(3)\\quad u^{n+3} &= u^n + 3h u' + \\frac{9 h^2}{2}u'' + \\frac{9 h^3}{2}u''' + \\frac{27 h^4}{8}u'''' + \\cdots \\\\\n",
    "\\end{align*}\n",
    "$$\n",
    "\n",
    "Remember, $u^{n+a} = u(t_{n+a})$ and $t_{n+a} = (n+a)h$ and we use $h=\\Delta t$ for simplicity.\n",
    "\n",
    "Consider now the central second order finite difference operator $u''(t_n)$. We can obtain an expression for this by adding equations (-1) and (1)\n",
    "\n",
    "$$\n",
    "\\begin{equation*}\n",
    "u''(t_n) = \\frac{u^{n+1}-2u^n + u^{n-1}}{h^2}  + \\frac{h^2}{12}u'''' +\n",
    "\\end{equation*}\n",
    "$$\n",
    "\n",
    "The operation can be set up for all $n$ as a matrix-vector product\n",
    "\n",
    "$$\n",
    "\\boldsymbol{u}^{(2)} = D^{(2)} \\boldsymbol{u},\n",
    "$$\n",
    "\n",
    "where we use $\\boldsymbol{u}^{(2)}=(u''(t_n))_{n=0}^{N}$ to represent the finite difference approximation to the second derivative at the $N+1$ mesh points. The finite difference differentiation matrix is\n",
    "\n",
    "$$\n",
    "D^{(2)} = \\frac{1}{h^2} \\begin{bmatrix}\n",
    "? & ? & ? & ?  & ? & ? & ? & ?  \\\\\n",
    "1 & -2 & 1 & 0 & 0 & 0 & 0 & \\cdots \\\\\n",
    "0 & 1 & -2 & 1 & 0 & 0 & 0 & \\cdots \\\\\n",
    "\\vdots & & & \\ddots &  & & &\\cdots \\\\\n",
    "\\vdots & 0 & 0 & 0 &  1& -2& 1& 0 \\\\\n",
    "\\vdots & 0 & 0& 0& 0& 1& -2& 1 \\\\\n",
    "? & ? & ? & ?  & ? & ? & ? & ? \\\\\n",
    "\\end{bmatrix}\n",
    "$$\n",
    "\n",
    "where the first and last rows are open because the stencil in row 0 requires $u^{-1}$ and for the row $N$ it requires $u^{N+1}$. For these two rows we need to use a different stencil.\n",
    "\n",
    "A first order accurate expression for $u''$ can be obtained by subtracting 2 times Eq. (1) from Eq. (2), i.e., $(2)-2(1)$:\n",
    "\n",
    "$$\n",
    "(2)-2(1): \\, u^{n+2} - 2u^{n+1} = -u^n + \\frac{h^2}{1}u'' + h^3 u''' + \\frac{7 h^4}{12}u'''' +\n",
    "$$\n",
    "\n",
    "Isolate $u''$ to obtain\n",
    "\n",
    "$$\n",
    "u'' = \\frac{u^{n+2}-2u^{n+1}+u^n}{h^2} - h u''' - \\frac{7 h^2}{12}u'''' +\n",
    "$$\n",
    "\n",
    "The error is first order as the first error term is $-h u'''$. \n",
    "\n",
    "Can we do better? Yes, of course, just add one more point to the finite difference stencil using Eq. (3). Now to eliminate both $u'$ and $u'''$ terms add the three equations as $-(3) + 4(2) - 5(1)$ (don't worry about how I know this yet)\n",
    "\n",
    "$$\n",
    "-(3)+4(2)-5(1): \\, -u^{n+3}+4u^{n+2}-5u^{n+1} = -2 u^n + h^2 u'' - \\frac{11 h^4}{12}u'''' +  \n",
    "$$\n",
    "\n",
    "which leads to the second order accurate\n",
    "\n",
    "$$\n",
    "u'' = \\frac{-u^{n+3} + 4u^{n+2} - 5u^{n+1} + 2u^n}{h^2} + \\frac{11 h^2}{12} u'''' +\n",
    "$$\n",
    "\n",
    "We can now modify our differentiation matrix $D^{(2)}$ using this one sided (forward) difference for row 0. For the last row, we can derive the same expression, only using points backward in time:\n",
    "\n",
    "$$\n",
    "D^{(2)} = \\frac{1}{h^2}\\begin{bmatrix}\n",
    "2 & -5 & 4 & -1  & 0 & 0 & 0 & 0  \\\\\n",
    "1 & -2 & 1 & 0 & 0 & 0 & 0 & \\cdots \\\\\n",
    "0 & 1 & -2 & 1 & 0 & 0 & 0 & \\cdots \\\\\n",
    "\\vdots & & & \\ddots &  & & &\\cdots \\\\\n",
    "\\vdots & 0 & 0 & 0 &  1& -2& 1& 0 \\\\\n",
    "\\vdots & 0 & 0& 0& 0& 1& -2& 1 \\\\\n",
    "0 & 0 & 0 & 0  & -1 & 4 & -5 & 2 \\\\\n",
    "\\end{bmatrix}\n",
    "$$\n",
    "\n",
    "Let us assemble this matrix in Python"
   ]
  },
  {
   "cell_type": "code",
   "execution_count": null,
   "id": "e15e0bd1",
   "metadata": {},
   "outputs": [],
   "source": [
    "D2 = sparse.diags([np.ones(N), np.full(N+1, -2), np.ones(N)], np.array([-1, 0, 1]), (N+1, N+1), 'lil')\n",
    "D2.toarray()"
   ]
  },
  {
   "cell_type": "markdown",
   "id": "354d6c1e",
   "metadata": {},
   "source": [
    "Fix the first and last rows"
   ]
  },
  {
   "cell_type": "code",
   "execution_count": null,
   "id": "e095d82f",
   "metadata": {},
   "outputs": [],
   "source": [
    "D2[0, :4] = 2, -5, 4, -1\n",
    "D2[-1, -4:] = -1, 4, -5, 2\n",
    "D2 *= (1/dt**2) # don't forget h\n",
    "D2.toarray()*dt**2"
   ]
  },
  {
   "cell_type": "markdown",
   "id": "e560e877",
   "metadata": {},
   "source": [
    "If we apply $D^{(2)}$ to a vector (mesh function) $\\boldsymbol{f} = (f(t_n))_{n=0}^{N}$, we get the second derivative with second order accuracy. Let us try this first with $f=t^2$."
   ]
  },
  {
   "cell_type": "code",
   "execution_count": null,
   "id": "e3623aaf",
   "metadata": {},
   "outputs": [],
   "source": [
    "f = t**2\n",
    "f"
   ]
  },
  {
   "cell_type": "code",
   "execution_count": null,
   "id": "adcc16e3",
   "metadata": {},
   "outputs": [],
   "source": [
    "d2f = D2 @ f\n",
    "d2f"
   ]
  },
  {
   "cell_type": "markdown",
   "id": "6765a2c2",
   "metadata": {},
   "source": [
    "Try the same, but with only first order accurate edges"
   ]
  },
  {
   "cell_type": "code",
   "execution_count": null,
   "id": "ba90f71e",
   "metadata": {},
   "outputs": [],
   "source": [
    "D2e = sparse.diags([1, -2, 1], np.array([-1, 0, 1]), (N+1, N+1), 'lil')\n",
    "D2e[0, :4] = 1, -2, 1, 0\n",
    "D2e[-1, -4:] = 0, 1, -2, 1\n",
    "D2e *= (1/dt**2)\n",
    "D2e @ f"
   ]
  },
  {
   "cell_type": "markdown",
   "id": "f40522be",
   "metadata": {},
   "source": [
    "What happened? Why is it still perfect?\n",
    "\n",
    "The reason is that the error in the stencil\n",
    "\n",
    "$$\n",
    "u'' = \\frac{u^{n+2}-2u^{n+1}+u^n}{h^2} - h u''' - \\frac{7 h^2}{12}u'''' + \n",
    "$$\n",
    "\n",
    "is proportional to $u'''$, which is 0. Hence we still get no error even though the order is only one. A more complex function would show the error better. Let us try $f=\\sin (\\pi t/T)$"
   ]
  },
  {
   "cell_type": "code",
   "execution_count": null,
   "id": "85e8acde",
   "metadata": {},
   "outputs": [],
   "source": [
    "f = np.sin(np.pi*t / T)\n",
    "d2fe = -(np.pi/T)**2*f\n",
    "d2f = D2 @ f\n",
    "d2f1 = D2e @ f\n",
    "plt.plot(t, d2fe, 'k', t, d2f, 'b', t, d2f1, 'r')\n",
    "plt.legend(['Exact', '2nd order', '1st order']);"
   ]
  },
  {
   "cell_type": "markdown",
   "id": "cd90b3ef",
   "metadata": {},
   "source": [
    "## First derivative\n",
    "\n",
    "Let us create a similar matrix for a first order derivative. We use a central stencil for $n=1, 2, \\ldots N-1$ and skewed stencils for the first and last rows. Again, we need the following Taylor expansions\n",
    "\n",
    "$$\n",
    "\\begin{align}\n",
    "(-1)\\quad u^{n-1} &= u^n - h u' + \\frac{h^2}{2}u'' - \\frac{h^3}{6}u''' + \\frac{h^4}{24}u'''' + \\cdots \\\\\n",
    "(1)\\quad u^{n+1} &= u^n + h u' + \\frac{h^2}{2}u'' + \\frac{h^3}{6}u''' + \\frac{h^4}{24}u'''' + \\cdots \\\\\n",
    "(2)\\quad u^{n+2} &= u^n + 2h u' + \\frac{2 h^2}{1}u'' + \\frac{4 h^3}{3}u''' + \\frac{2 h^4}{3}u'''' + \\cdots \n",
    "\\end{align}\n",
    "$$\n",
    "\n",
    "(1) - (-1) leads to\n",
    "\n",
    "$$\n",
    "u'(t_n) = \\frac{u^{n+1}-u^{n-1}}{2 h} + \\frac{h^2}{6} u''' +\n",
    "$$\n",
    "\n",
    "We get a first order approximation for $u'$ using merely Eq. (1):\n",
    "\n",
    "$$\n",
    "u'(t_n) = \\frac{u^{n+1}-u^n}{h} - \\frac{h}{2}u'' - \n",
    "$$\n",
    "\n",
    "Adding one more equation (Eq. (2)) we get second order: (2)-4(1)\n",
    "\n",
    "$$\n",
    "u'(t_n) = \\frac{-u^{n+2}+4u^{n+1}-3u^n}{2h} + \\frac{h^2}{3}u''' +\n",
    "$$\n",
    "\n",
    "Hence a second order accurate first differentiation matrix is\n",
    "\n",
    "$$\n",
    "D^{(1)} = \\frac{1}{2 h}\\begin{bmatrix}\n",
    "-3 & 4 & -1 & 0  & 0 & 0 & 0 & 0  \\\\\n",
    "-1 & 0 & 1 & 0 & 0 & 0 & 0 & \\cdots \\\\\n",
    "0 & -1 & 0 & 1 & 0 & 0 & 0 & \\cdots \\\\\n",
    "\\vdots & & & \\ddots &  & & &\\cdots \\\\\n",
    "\\vdots & 0 & 0 & 0 &  -1& 0& 1& 0 \\\\\n",
    "\\vdots & 0 & 0& 0& 0& -1& 0& 1 \\\\\n",
    "0 & 0 & 0 & 0  & 0 & 1 & -4 & 3 \\\\\n",
    "\\end{bmatrix}\n",
    "$$\n"
   ]
  },
  {
   "cell_type": "code",
   "execution_count": null,
   "id": "afbf3a3d",
   "metadata": {},
   "outputs": [],
   "source": [
    "D1 = sparse.diags([-1, 1], np.array([-1, 1]), (N+1, N+1), 'lil')\n",
    "D1[0, :3] = -3, 4, -1\n",
    "D1[-1, -3:] = 1, -4, 3\n",
    "D1 *= (1/(2*dt))\n",
    "D1.toarray()*(2*dt)"
   ]
  },
  {
   "cell_type": "code",
   "execution_count": null,
   "id": "517e19ac",
   "metadata": {},
   "outputs": [],
   "source": [
    "f = t\n",
    "D1 @ f"
   ]
  },
  {
   "cell_type": "code",
   "execution_count": null,
   "id": "4973b3ee",
   "metadata": {},
   "outputs": [],
   "source": [
    "f = np.sin(np.pi*t / T)\n",
    "d1fe = (np.pi/T)*np.cos(np.pi*t/T)\n",
    "d1f = D1 @ f\n",
    "plt.plot(t, d1fe, 'k', t, d1f, 'b')\n",
    "plt.legend(['Exact', '2nd order'])"
   ]
  },
  {
   "cell_type": "markdown",
   "id": "edb8ca53",
   "metadata": {},
   "source": [
    "Note that `D2` is not equal to `(D1)^2`"
   ]
  },
  {
   "cell_type": "code",
   "execution_count": null,
   "id": "acd2f8c5",
   "metadata": {},
   "outputs": [],
   "source": [
    "D2n = D1 @ D1\n",
    "D2n.toarray()*dt**2"
   ]
  },
  {
   "cell_type": "code",
   "execution_count": null,
   "id": "9531efe0",
   "metadata": {},
   "outputs": [],
   "source": [
    "f = np.sin(np.pi*t / T)\n",
    "d2fe = -(np.pi/T)**2*f\n",
    "e2 = D2 @ f - d2fe\n",
    "en = D2n @ f - d2fe\n",
    "np.sqrt(dt*np.linalg.norm(e2)), np.sqrt(dt*np.linalg.norm(en))"
   ]
  },
  {
   "cell_type": "markdown",
   "id": "a8ff4e32",
   "metadata": {},
   "source": [
    "It can be shown that the matrix that is D2n =$D^{(1)} D^{(1)}$ (matrix product of $D^{(1)}$ with itself) is only first order accurate."
   ]
  },
  {
   "cell_type": "markdown",
   "id": "c6bdc81d",
   "metadata": {},
   "source": [
    "## Solve equations using FD matrices\n",
    "\n",
    "The FD matrices are great because they depend only on $h$ and may be implemented once and reused. They only need to be modified in accordance with boundary conditions.\n",
    "\n",
    "Let's do the decay equation first and assemble the system\n",
    "\n",
    "$$\n",
    "A \\boldsymbol{u} = \\boldsymbol{b},\n",
    "$$\n",
    "\n",
    "for the equation\n",
    "\n",
    "$$\n",
    "u' + au = 0, \\, t \\in (0, T], u(0)=I.\n",
    "$$\n",
    "\n",
    "Before boundary conditions we can assemble this as \n",
    "\n",
    "$$\n",
    "(D^{(1)} + a \\mathbb{I})\\boldsymbol{u} = \\boldsymbol{b},\n",
    "$$\n",
    "\n",
    "where $\\mathbb{I}$ is the identity matrix and the only non-zero item in $\\boldsymbol{b}$ is the boundary condition for $n=0$. We get\n",
    "\n",
    "$$\n",
    "\\frac{u^{n+1}-u^{n-1}}{2 h} + a u^n = 0.\n",
    "$$\n"
   ]
  },
  {
   "cell_type": "code",
   "execution_count": null,
   "id": "44b5c844",
   "metadata": {},
   "outputs": [],
   "source": [
    "D1 = sparse.diags([-1, 1], np.array([-1, 1]), (N+1, N+1), 'lil')\n",
    "D1[0, :3] = -3, 4, -1. # Fix boundaries with second order accurate stencil\n",
    "D1[-1, -3:] = 1, -4, 3\n",
    "D1 *= (1/(2*dt))\n",
    "Id = sparse.eye(N+1)\n",
    "A = D1 + a*Id\n",
    "b = np.zeros(N+1)\n",
    "b[0] = I\n",
    "A[0, :3] = 1, 0, 0 # boundary condition\n",
    "A.toarray()"
   ]
  },
  {
   "cell_type": "code",
   "execution_count": null,
   "id": "49737261",
   "metadata": {},
   "outputs": [],
   "source": [
    "u1 = sparse.linalg.spsolve(A, b)\n",
    "plt.plot(t, u1, 'r', t, u, 'b', t, np.exp(-a*t), 'k');"
   ]
  },
  {
   "cell_type": "markdown",
   "id": "0819d42a",
   "metadata": {},
   "source": [
    "The scheme is not fully implicit in the source term. However, it is using three neighbouring points for every equation, which is more stable than using merely two."
   ]
  },
  {
   "cell_type": "markdown",
   "id": "2c616db3",
   "metadata": {},
   "source": [
    "## Generic finite difference stencils\n",
    "\n",
    "It is possible to derive finite difference stencils of any order from the Taylor expansions around a point in both positive and negative directions. The generic Taylor expansion around $x=x_0$ reads\n",
    "\n",
    "$$\n",
    "u(x) = \\sum_{i=0}^{M} \\frac{(x-x_0)^i}{i!} u^{(i)}(x_0) + \\mathcal{O}((x-x_0)^{M+1}),\n",
    "$$\n",
    "\n",
    "where $u^{(i)}(x_0) = \\frac{d^{i}u}{dx^{i}}|_{x=x_0}$ and the order of the approximation is $M+1$.\n",
    "\n",
    "With the finite difference method we only evaluate this expansion for certain points around $x_0$. That is, we use only $x=x_0+ph$, where $p$ is an integer and $h$ is a constant (time step or mesh size). We get\n",
    "\n",
    "$$\n",
    "u(x_0+ph) = \\sum_{i=0}^{M} \\frac{(ph)^i}{i!} u^{(i)}(x_0) + \\mathcal{O}(h^{M+1}),\n",
    "$$\n",
    "\n",
    "where we usually use the finite difference notation $u^{n+p} = u(x_0+ph)$. Note that the equation above is a matrix vector product, because $\\frac{(ph)^i}{i!}$ has two indices $p, i$ like a matrix and $u^{(i)}(x_0)$ and $u(x_0+ph)$ have both only one ($i$ and $p$, respectively). With $c_{pi} = \\frac{(ph)^i}{i!}$ and $du_i = u^{(i)}(x_0)$ and neglecting the $\\mathcal{O}(h^{M+1})$ terms we get\n",
    "\n",
    "$$\n",
    "u^{n+p} = \\sum_{i=0}^{M} c_{pi} du_i,\n",
    "$$\n",
    "\n",
    "or in matrix notation\n",
    "\n",
    "$$\n",
    "\\boldsymbol{u} = C \\boldsymbol{du},\n",
    "$$\n",
    "\n",
    "where $\\boldsymbol{u} = (u^{n+p})_{p=p_0}^{M+p_0}$, $C = (c_{p+p_0,i})_{p,i=0}^{M,M}$ and $\\boldsymbol{du}=(du_i)_{i=0}^M$. Here $p_0$ is an integer representing the lowest value of $p$ in the stencil."
   ]
  },
  {
   "cell_type": "markdown",
   "id": "bafe4057",
   "metadata": {},
   "source": [
    "We can set up a system of equations for $p_0=-2$ and $M=4$\n",
    "\n",
    "$$\n",
    "\\begin{align*}\n",
    "u^{n-2} &= \\sum_{i=0}^{M} \\frac{(-2h)^i}{i!} du_i  \\\\\n",
    "u^{n-1} &= \\sum_{i=0}^{M} \\frac{(-h)^i}{i!} du_i  \\\\\n",
    "u^{n} &= u^{n} \\\\\n",
    "u^{n+1} &= \\sum_{i=0}^{M} \\frac{(h)^i}{i!} du_i  \\\\\n",
    "u^{n+2} &= \\sum_{i=0}^{M} \\frac{(2h)^i}{i!} du_i  \\\\\n",
    "\\end{align*}\n",
    "$$\n",
    "\n",
    "These 5 equations can be written in matrix form as\n",
    "\n",
    "$$\n",
    "\\begin{bmatrix}\n",
    "u^{n-2}\\\\\n",
    "u^{n-1}\\\\\n",
    "u^{n}\\\\\n",
    "u^{n+1}\\\\\n",
    "u^{n+2}\\\\\n",
    "\\end{bmatrix}\n",
    "= \\begin{bmatrix}\n",
    "\\frac{(-2h)^0}{0!} & \\frac{(-2h)^1}{1!} & \\frac{(-2h)^2}{2!} & \\frac{(-2h)^3}{3!} & \\frac{(-2h)^4}{4!}  \\\\\n",
    "\\frac{(-h)^0}{0!} & \\frac{(-h)^1}{1!} & \\frac{(-h)^2}{2!} & \\frac{(-h)^3}{3!} & \\frac{(-h)^4}{4!} \\\\\n",
    "1 & 0 & 0 & 0 & 0 \\\\\n",
    "\\frac{(h)^0}{0!} & \\frac{(h)^1}{1!} & \\frac{(h)^2}{2!} & \\frac{(h)^3}{3!} & \\frac{(h)^4}{4!} \\\\\n",
    "\\frac{(2h)^0}{0!} & \\frac{(2h)^1}{1!} & \\frac{(2h)^2}{2!} & \\frac{(2h)^3}{3!} & \\frac{(2h)^4}{4!} \\\\\n",
    "\\end{bmatrix}\n",
    "\\begin{bmatrix}\n",
    "du_{0} \\\\\n",
    "du_1 \\\\\n",
    "du_2 \\\\\n",
    "du_3 \\\\\n",
    "du_4\n",
    "\\end{bmatrix}\n",
    "$$\n",
    "\n",
    "or more easily as\n",
    "\n",
    "$$\n",
    "\\boldsymbol{u} = C \\boldsymbol{du}.\n",
    "$$\n",
    "\n",
    "Remember that the derivatives $du_i = u^{(i)}(x_0)$ are what we're normally interested in. And by assembling the matrix $C$ we can compute any finite difference scheme (!!) simply through:\n",
    "\n",
    "$$\n",
    "\\boldsymbol{du} = C^{-1} \\boldsymbol{u}.\n",
    "$$\n",
    "\n",
    "For example, for a second order accurate scheme (with $p=-1, 0, 1$) we should have\n",
    "\n",
    "$$\n",
    "du_2 = u^{(2)}(x_0) = \\frac{u^{n+1}-2u^n+u^{n-1}}{h^2}.\n",
    "$$\n",
    "\n",
    "Let's derive this with the approach above. The scheme is central so we use $m=(-1, 0, 1)$ and second order so use $M=2$. The $C$ matrix is then\n",
    "\n",
    "$$\n",
    "C = \\begin{bmatrix}\n",
    "1 & -h & \\frac{h^2}{2} \\\\\n",
    "1 & 0 & 0 \\\\\n",
    "1 & h & \\frac{h^2}{2}\n",
    "\\end{bmatrix}\n",
    "$$\n",
    "\n",
    "In Python using Sympy:"
   ]
  },
  {
   "cell_type": "code",
   "execution_count": null,
   "id": "36c06548",
   "metadata": {},
   "outputs": [],
   "source": [
    "import sympy as sp\n",
    "x, h = sp.symbols('x,h')\n",
    "C = sp.Matrix([[1, -h, h**2/2], [1, 0, 0], [1, h, h**2/2]])\n",
    "C"
   ]
  },
  {
   "cell_type": "markdown",
   "id": "1898a3b4",
   "metadata": {},
   "source": [
    "Take the inverse"
   ]
  },
  {
   "cell_type": "code",
   "execution_count": null,
   "id": "d7c05add",
   "metadata": {},
   "outputs": [],
   "source": [
    "C.inv()"
   ]
  },
  {
   "cell_type": "markdown",
   "id": "c0d9fa34",
   "metadata": {},
   "source": [
    "The second order central schemes are found in the last two rows. Row 1 is the first derivative, row 2 the second derivative (i.e., row 1 is $du_1$ and row 2 $du_2$). We can also print out the scheme by computing\n",
    "\n",
    "$$\n",
    "\\boldsymbol{du} = C^{-1} \\boldsymbol{u}.\n",
    "$$\n",
    "\n",
    "For given order 2 we get \n",
    "\n",
    "$$\n",
    "du_2 = \\sum_{i=0}^2 c_{2i} u^{n-i-1}.\n",
    "$$"
   ]
  },
  {
   "cell_type": "code",
   "execution_count": null,
   "id": "4cf607d0",
   "metadata": {},
   "outputs": [],
   "source": [
    "u = sp.Function('u')\n",
    "coef = sp.Matrix([u(x-h), u(x), u(x+h)])\n",
    "(C.inv())[2, :] @ coef"
   ]
  },
  {
   "cell_type": "markdown",
   "id": "875d17ab",
   "metadata": {},
   "source": [
    "We can get any finite difference scheme using all the points that we like. To this end let us create a function that computes the matrix $C$ given any $m_0$ and $N$\n",
    "\n"
   ]
  },
  {
   "cell_type": "code",
   "execution_count": null,
   "id": "9cfde501",
   "metadata": {},
   "outputs": [],
   "source": [
    "def Cmat(p0, M):\n",
    "  r\"\"\"Return Taylor expansion matrix C\n",
    "\n",
    "  .. math::\n",
    "\n",
    "    c_{p0+p, i} = (pi)^{i}/i! \\in \\mathbb{R}^{M+1 \\times M+1}\n",
    "      \n",
    "    where p = (p0, p0+1, ..., p0+M) and i = 0, 1, ..., M-1\n",
    "\n",
    "  Parameters\n",
    "  ----------\n",
    "  p0 : int\n",
    "    The lowest index in the stencil\n",
    "  M : int\n",
    "    The shape of the returned matrix is M+1 x M+1\n",
    "\n",
    "  Returns\n",
    "  -------\n",
    "  Matrix of type object and shape M+1 x M+1\n",
    "  \"\"\"\n",
    "  C = np.zeros((M+1, M+1), dtype=object)\n",
    "  for j, p in enumerate(range(p0, p0+M+1)):\n",
    "    for i in range(M+1):\n",
    "      C[j, i] = (p*h)**i / sp.factorial(i) \n",
    "  return sp.Matrix(C)"
   ]
  },
  {
   "cell_type": "markdown",
   "id": "885d990d",
   "metadata": {},
   "source": [
    "\n",
    "\n",
    "For example, to create a forward difference of the second derivative using inly $u^n, u^{n+1}$ and $u^{n+2}$ we can use $p=0, 1, 2$ and $M=2$\n",
    "\n",
    "$$\n",
    "C = \\begin{bmatrix}\n",
    "1 & 0 & 0 \\\\\n",
    "1 & h & \\frac{h^2}{2} \\\\\n",
    "1 & 2h & {2 h^2}\n",
    "\\end{bmatrix}\n",
    "$$\n"
   ]
  },
  {
   "cell_type": "code",
   "execution_count": null,
   "id": "65dde057",
   "metadata": {},
   "outputs": [],
   "source": [
    "C = Cmat(0, 2)\n",
    "coef = sp.Matrix([u(x), u(x+h), u(x+2*h)])\n",
    "(C.inv())[2, :] @ coef"
   ]
  },
  {
   "cell_type": "markdown",
   "id": "0e2707af",
   "metadata": {},
   "source": [
    "However, this scheme will only be first order accurate, because it is not central. A second order scheme needs to use one more point, and thus $p=0,1,2,3$ and $M=3$\n",
    "\n",
    "$$\n",
    "C = \\begin{bmatrix}\n",
    "1 & 0 & 0 & 0 \\\\\n",
    "1 & h & \\frac{h^2}{2} & \\frac{h^3}{6} \\\\\n",
    "1 & 2h & {2 h^2} & \\frac{8 h^3}{6} \\\\\n",
    "1 & 3h & \\frac{9 h^2}{2} & \\frac{27 h^3}{6} \\\\\n",
    "\\end{bmatrix}\n",
    "$$"
   ]
  },
  {
   "cell_type": "code",
   "execution_count": null,
   "id": "301ff72d",
   "metadata": {},
   "outputs": [],
   "source": [
    "C = Cmat(0, 3)\n",
    "C.inv()"
   ]
  },
  {
   "cell_type": "code",
   "execution_count": null,
   "id": "8b4b1c80",
   "metadata": {},
   "outputs": [],
   "source": [
    "coef = sp.Matrix([u(x), u(x+h), u(x+2*h), u(x+3*h)])\n",
    "(C.inv())[2, :] @ coef"
   ]
  },
  {
   "cell_type": "markdown",
   "id": "0df2f712",
   "metadata": {},
   "source": [
    "Backward difference:"
   ]
  },
  {
   "cell_type": "code",
   "execution_count": null,
   "id": "68b49160",
   "metadata": {},
   "outputs": [],
   "source": [
    "C = Cmat(-3, 3)\n",
    "C.inv()"
   ]
  },
  {
   "cell_type": "code",
   "execution_count": null,
   "id": "71994afd",
   "metadata": {},
   "outputs": [],
   "source": [
    "coef = sp.Matrix([u(x-3*h), u(x-2*h), u(x-h), u(x)])\n",
    "(C.inv())[1, :] @ coef"
   ]
  },
  {
   "cell_type": "markdown",
   "id": "210e8d53",
   "metadata": {},
   "source": [
    "This is the stencil used for the first and last row of the second derivative matrix for the vibration problem. "
   ]
  },
  {
   "cell_type": "markdown",
   "id": "db5a434b",
   "metadata": {},
   "source": [
    "## Weekly assignments \n",
    "\n",
    "​This weeks' assignment is to modify the file [VibFD.py](https://github.com/MATMEK-4270/course-projects/blob/main/projects/VibFD.py), which is containing a test and a vibration equation solver. The solver is implemented as a class in order to experiment easily with different numerical schemes, to be implemented in the `__call__` method. The class also contains methods for computing the l2-error and the order of convergence.\n",
    "\n",
    "The original solver described in the first chapter of Finite Difference Computing with PDEs is implemented in the class VibHPL. In addition to this solver I have created three more solver classes VibFD2, VibFD3 and VibFD4. The first two are second order and the last should be fourth order. The assignment is to implement the `__call__` method in these three classes such that the test in test_order will pass. This tests the order of the implemented solvers.\n",
    "\n",
    "1. For VibFD2 use a central difference scheme\n",
    "\n",
    "    $$\n",
    "    \\frac{u^{n+1}-2u^n+u^{n-1}}{\\Delta t^2} + \\omega^2 u^{n}=0, \\quad n\\in (1, 2, \\ldots, N-1)\n",
    "    $$\n",
    "\n",
    "    and then use Dirichlet boundary conditions for both sides of the domain: $u(0)=0$ and $u(T)=0$, where $T=N \\Delta t$. Dirichlet boundary conditions are set by modifying the first and last rows of the assembled matrix.\n",
    "\n",
    "2. For VibFD3 use the same central difference scheme, but modify the boundary conditions to: $u(0)=0$ and u'(T)=0. Here you only need to modify the last row of the assembled matrix from assignment 1.\n",
    "\n",
    "3. For VibFD4 use a fourth order central difference scheme\n",
    "\n",
    "    $$\n",
    "    \\frac{-u^{n+2} + 16u^{n+1}-30u^{n}+16 u^{n-1}-u^{n-2}}{12\\Delta t^2} + \\omega^2 u^{n}=0, \\quad n\\in (2, \\ldots, N-2) \n",
    "    $$\n",
    "\n",
    "    For $n=1$ and $n=N-1$ use a skewed scheme:\n",
    "    \n",
    "    $$\n",
    "    \\frac{u^{n+4}-6 u^{n+3}+14 u^{n+2}- 4u^{n+1}-15 u^{n} + 10 u^{n-1}}{12 \\Delta t^2}\n",
    "    $$\n",
    "    \n",
    "    and set Dirichlet boundary conditions exactly like in 1. for rows 0 and N.\n",
    "\n",
    "    Note that it is a little bit more difficult to prove fourth order convergence than second. This is because the error disappears fast, and also because even though the error in the finite difference method is leading fourth order, this does not mean that the fifth order is negligible. And the fifth order error is closer to the fourth than the third order is to the second. So you may need to use higher tolerance (tol) for the test_order function. \n",
    "\n",
    "4. Finally, we would like to extend the solvers to work for any [analytical (manufactured) solution](https://matmek-4270.github.io/matmek4270-book/lecture3.html#method-of-manufactured-solutions).  To this end we need to solve the vibration equation with a non-zero right hand side\n",
    "    \n",
    "    $$\n",
    "    u''+\\omega^2 u = f\n",
    "    $$\n",
    "    \n",
    "    where $f(t)$ will depend on the chosen manufactured solution $u_e(t)$. Modify the solver VibFD2 such that the modified vibration equation is solved and verify the implementation. It should still be second order accurate. Test using both $u(t)=t^4$ and $u(t)=\\exp(\\sin t)$. Note: do not use a too big domain and set the boundary conditions using the exact $u(0)$ and $u(T)$. This way T does not need to be n*pi/w, which is required for the exact cosine solution. \n",
    "\n",
    "    For this equation you should use sympy, both to set the exact solution and to compute $f(t)$. The numerical scheme is \n",
    "    \n",
    "    $$\n",
    "    \\frac{u^{n+1}-2u^n+u^{n-1}}{\\Delta t^2} + \\omega^2 u^{n}=f^n, \\quad n\\in (1, 2, \\ldots, N-1)\n",
    "    $$\n",
    "\n",
    "    Note: This assignment is exactly like 1., except that you need to include $f^n$ in the assembled right hand side vector.\n",
    "\n",
    "\n",
    "​"
   ]
  },
  {
   "cell_type": "markdown",
   "id": "92c8fde2",
   "metadata": {},
   "source": []
  }
 ],
 "metadata": {
  "kernelspec": {
   "display_name": "matmek4270",
   "language": "python",
   "name": "python3"
  },
  "language_info": {
   "codemirror_mode": {
    "name": "ipython",
    "version": 3
   },
   "file_extension": ".py",
   "mimetype": "text/x-python",
   "name": "python",
   "nbconvert_exporter": "python",
   "pygments_lexer": "ipython3",
   "version": "3.12.3"
  },
  "toc": {
   "base_numbering": 1,
   "nav_menu": {},
   "number_sections": false,
   "sideBar": true,
   "skip_h1_title": false,
   "title_cell": "Table of Contents",
   "title_sidebar": "Contents",
   "toc_cell": false,
   "toc_position": {},
   "toc_section_display": true,
   "toc_window_display": false
  }
 },
 "nbformat": 4,
 "nbformat_minor": 5
}
