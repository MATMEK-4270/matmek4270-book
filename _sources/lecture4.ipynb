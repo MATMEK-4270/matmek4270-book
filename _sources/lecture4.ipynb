{
 "cells": [
  {
   "cell_type": "markdown",
   "id": "18e67b54",
   "metadata": {},
   "source": [
    "# Lecture 4\n",
    "\n",
    "## The Finite difference method\n",
    "\n",
    "The finite difference method divides (in 1D) the line into a mesh and solves equations only for specific locations (nodes) in the mesh. A mesh is created with $t = 0, \\Delta t, 2\\Delta t, \\ldots, N \\Delta t$, where $t_n=n \\Delta t$ and $T=t_N = N \\Delta t$.\n",
    "\n",
    "![tikz](line.png)\n",
    "\n",
    "Up until now we have solved equations by using a recursive approach. This is very easy to implement intuitively using for-loops. However, the most common and general use of finite difference methods is through explicit assembling of matrices.\n",
    "\n",
    "Consider the decay model first\n",
    "\n",
    "$$ u' + au = 0, t \\in (0, T], \\, u(0)=I. $$\n",
    "\n",
    "We create a solution vector $\\boldsymbol{u} = (u^0, u^1, \\ldots, u^{N_t})$. To solve recursively, we start by setting $u^0=I$, and then recursively solve\n",
    "\n",
    "$$ \\frac{u^{n+1}-u^n}{\\Delta t} = -a (\\theta u^{n+1} + (1-\\theta) u^n) \\quad \\text{for}\\, n=1, 2, \\ldots, N.$$\n",
    "\n",
    "Rearranged\n",
    "\n",
    "$$ u^{n+1} = \\frac{1 - (1-\\theta) a \\Delta t}{1 + \\theta a \\Delta t} u^n. $$\n",
    "\n",
    "Recursive algorithm:\n",
    "\n",
    "* $u^0 = I$\n",
    "* for  n = 0, 1, ... , N-1\n",
    "    * Compute $u^{n+1} = \\frac{1 - (1-\\theta) a \\Delta t}{1 + \\theta a \\Delta t} u^n$\n"
   ]
  },
  {
   "cell_type": "code",
   "execution_count": null,
   "id": "53957c30",
   "metadata": {},
   "outputs": [],
   "source": [
    "import numpy as np\n",
    "import matplotlib.pyplot as plt\n",
    "np.set_printoptions(precision=3)\n",
    "N = 8\n",
    "a = 2\n",
    "I = 1\n",
    "theta = 0.5\n",
    "dt = 0.5\n",
    "T = N*dt\n",
    "t = np.linspace(0, N*dt, N+1)\n",
    "u = np.zeros(N+1)\n",
    "C = (1 - (1-theta) * a * dt)/(1 + theta * a * dt)\n",
    "u[0] = I\n",
    "for n in range(N):\n",
    "    u[n+1] = C * u[n]\n",
    "te = np.linspace(0, N*dt, 1001)\n",
    "plt.plot(t, u, 'b+', te, np.exp(-a*te), 'k')\n",
    "plt.legend(['Numerical', 'Exact'])\n",
    "plt.text(-0.1, u[0], '$u^0$')\n",
    "plt.text(0.3, u[1], '$u^1$')\n",
    "plt.text(0.82, u[2], '$u^2$');"
   ]
  },
  {
   "cell_type": "markdown",
   "id": "e1c6cf63",
   "metadata": {},
   "source": [
    "## Matrix approach\n",
    "\n",
    "The recursive approach never assembles the $N+1$ linear equations, it just steps forward, solving $u^{n+1}$ from $u^n$. The matrix approach is simply an approach where all the linear equations are assembled first as a matrix problem. The matrix formulation for the generic problem is\n",
    "\n",
    "$$\n",
    "A \\boldsymbol{u} = \\boldsymbol{b},\n",
    "$$\n",
    "\n",
    "where $\\boldsymbol{u} \\in \\mathbb{R}^{N+1}$, $\\boldsymbol{b} \\in \\mathbb{R}^{N+1}$ and  the matrix $A \\in \\mathbb{R}^{(N+1) \\times (N+1)}$ is the coefficient matrix, that for the decay problem is\n",
    "\n",
    "$$\n",
    "A = \\begin{bmatrix} \n",
    " 1  & 0 & 0 & 0 & 0 & 0 & 0 & 0 & 0  \\\\\n",
    " -C  & 1 & 0 & 0 & 0 & 0 & 0 & 0 & 0  \\\\\n",
    " 0  & -C & 1 & 0 & 0 & 0 & 0 & 0 & 0  \\\\\n",
    " 0  & 0 & -C & 1 & 0 & 0 & 0 & 0 & 0  \\\\\n",
    " 0  & 0 & 0 & -C & 1 & 0 & 0 & 0 & 0  \\\\\n",
    " 0  & 0 & 0 & 0 & -C & 1 & 0 & 0 & 0  \\\\\n",
    " 0  & 0 & 0 & 0 & 0 & -C & 1 & 0 & 0  \\\\\n",
    " 0  & 0 & 0 & 0 & 0 & 0 & -C & 1 & 0  \\\\\n",
    " 0  & 0 & 0 & 0 & 0 & 0 & 0 & -C & 1  \n",
    "\\end{bmatrix}\n",
    "$$\n",
    "\n",
    "We have a linear algebra problem\n",
    "\n",
    "$$\n",
    "A \\boldsymbol{u} = \\boldsymbol{b},\n",
    "$$\n",
    "\n",
    "which is trivially solved by Gaussian elimination or simply a forward elimination. \n",
    "\n",
    "$$\n",
    "\\boldsymbol{u} = A^{-1} \\boldsymbol{b}.\n",
    "$$\n",
    "\n",
    "The system to solve looks like\n",
    "\n",
    "$$\n",
    " \\underbrace{\n",
    " \\begin{bmatrix} \n",
    " 1  & 0 & 0 & 0 & 0 & 0 & 0 & 0 & 0  \\\\\n",
    " -C  & 1 & 0 & 0 & 0 & 0 & 0 & 0 & 0  \\\\\n",
    " 0  & -C & 1 & 0 & 0 & 0 & 0 & 0 & 0  \\\\\n",
    " 0  & 0 & -C & 1 & 0 & 0 & 0 & 0 & 0  \\\\\n",
    " 0  & 0 & 0 & -C & 1 & 0 & 0 & 0 & 0  \\\\\n",
    " 0  & 0 & 0 & 0 & -C & 1 & 0 & 0 & 0  \\\\\n",
    " 0  & 0 & 0 & 0 & 0 & -C & 1 & 0 & 0  \\\\\n",
    " 0  & 0 & 0 & 0 & 0 & 0 & -C & 1 & 0  \\\\\n",
    " 0  & 0 & 0 & 0 & 0 & 0 & 0 & -C & 1  \n",
    "\\end{bmatrix}}_{A}\n",
    "\\underbrace{\\begin{bmatrix}\n",
    "u^0 \\\\\n",
    "u^1 \\\\\n",
    "u^2 \\\\\n",
    "u^3 \\\\\n",
    "u^4 \\\\\n",
    "u^5 \\\\\n",
    "u^6 \\\\\n",
    "u^7 \\\\\n",
    "u^8 \\\\\n",
    "u^9\n",
    "\\end{bmatrix}}_{\\boldsymbol{u}} = \n",
    "\\underbrace{\\begin{bmatrix}\n",
    "I \\\\\n",
    "0 \\\\\n",
    "0 \\\\\n",
    "0 \\\\\n",
    "0 \\\\\n",
    "0 \\\\\n",
    "0 \\\\\n",
    "0 \\\\\n",
    "0 \n",
    "\\end{bmatrix}}_{\\boldsymbol{b}}\n",
    "$$\n",
    "\n",
    "Notice the boundary condition in row 0. The remaining $N$ rows (equations) use the same stencil.\n",
    "\n",
    "We can assemble the matrix $A$ using the [scipy.sparse](https://docs.scipy.org/doc/scipy/reference/sparse.html) package"
   ]
  },
  {
   "cell_type": "code",
   "execution_count": null,
   "id": "30207e11",
   "metadata": {},
   "outputs": [],
   "source": [
    "from scipy import sparse\n",
    "A = sparse.diags([np.full(N, -C), np.ones(N+1)], np.array([-1, 0]), (N+1, N+1), 'csr')\n",
    "A.toarray()"
   ]
  },
  {
   "cell_type": "code",
   "execution_count": null,
   "id": "87186624",
   "metadata": {},
   "outputs": [],
   "source": [
    "b = np.zeros(N+1)\n",
    "b[0] = I\n",
    "un = sparse.linalg.spsolve_triangular(A, b, lower=True, unit_diagonal=True)\n",
    "un"
   ]
  },
  {
   "cell_type": "markdown",
   "id": "bc93f162",
   "metadata": {},
   "source": [
    "The solution is the same as before:"
   ]
  },
  {
   "cell_type": "code",
   "execution_count": null,
   "id": "4a4bf267",
   "metadata": {},
   "outputs": [],
   "source": [
    "un-u"
   ]
  },
  {
   "cell_type": "markdown",
   "id": "8eb76106",
   "metadata": {},
   "source": [
    "## The vibration problem\n",
    "\n",
    "$$\n",
    "u'' + \\omega^2 u = 0,\\, t \\in (0, T] \\quad u(0) = I, u'(0) = 0,\n",
    "$$\n",
    "\n",
    "is solved using a central difference for $n=1, 2, \\ldots, N-1$\n",
    "\n",
    "$$\n",
    "\\frac{u^{n+1}-2u^n+u^{n-1}}{\\Delta t^2} + \\omega^2 u^n = 0.\n",
    "$$\n",
    "\n",
    "The recursive algorithm is\n",
    "\n",
    "* $u^0 = I$\n",
    "* $u^1 = u^0(1 - 0.5 \\omega^2 \\Delta t^2)$\n",
    "* for n = 1, 2, ... , N-1\n",
    "    * $u^{n+1} = (2-\\omega^2 \\Delta t^2 ) u^n - u^{n-1}$\n",
    " \n",
    "The algebraic problem \n",
    "\n",
    "$$ A \\boldsymbol{u} = \\boldsymbol{b}, $$\n",
    "\n",
    "is now, using $C = 2-\\omega^2 \\Delta t^2$,\n",
    "\n",
    "$$\n",
    "\\begin{bmatrix} \n",
    " 1  & 0 & 0 & 0 & 0 & 0 & 0 & 0 & 0  \\\\\n",
    " -{C}/{2} & 1 & 0 & 0 & 0 & 0 & 0 & 0 & 0  \\\\\n",
    " 1  & -C & 1 & 0 & 0 & 0 & 0 & 0 & 0  \\\\\n",
    " 0  & 1 & -C & 1 & 0 & 0 & 0 & 0 & 0  \\\\\n",
    " 0  & 0 & 1 & -C & 1 & 0 & 0 & 0 & 0  \\\\\n",
    " 0  & 0 & 0 & 1 & -C & 1 & 0 & 0 & 0  \\\\\n",
    " 0  & 0 & 0 & 0 & 1 & -C & 1 & 0 & 0  \\\\\n",
    " 0  & 0 & 0 & 0 & 0 & 1 & -C & 1 & 0  \\\\\n",
    " 0  & 0 & 0 & 0 & 0 & 0 & 1 & -C & 1  \n",
    "\\end{bmatrix}\n",
    "\\begin{bmatrix}\n",
    "u^0 \\\\\n",
    "u^1 \\\\\n",
    "u^2 \\\\\n",
    "u^3 \\\\\n",
    "u^4 \\\\\n",
    "u^5 \\\\\n",
    "u^6 \\\\\n",
    "u^7 \\\\\n",
    "u^8 \\\\\n",
    "u^9\n",
    "\\end{bmatrix}\n",
    "=\n",
    "\\begin{bmatrix}\n",
    "I \\\\\n",
    "0 \\\\\n",
    "0 \\\\\n",
    "0 \\\\\n",
    "0 \\\\\n",
    "0 \\\\\n",
    "0 \\\\\n",
    "0 \\\\\n",
    "0\n",
    "\\end{bmatrix}\n",
    "$$\n",
    "\n",
    "```{note}\n",
    "Notice that the matrix is lower triangular. Matrices that are lower or upper triangular are especially quick to solve for using forward or backward substitution.\n",
    "```\n",
    "\n",
    "```{note}\n",
    "The matrices are here lower triangular because the 2 boundary conditions are specified at one end of the domain. The scheme is explicit, the unknown $u^{n+1}$ is not used in computing the source term.\n",
    "```"
   ]
  },
  {
   "cell_type": "markdown",
   "id": "0fde89db",
   "metadata": {},
   "source": [
    "## Finite differentiation matrices\n",
    "\n",
    "We will now use Taylor expansions more orderly to obtain differentiation matrices. To this end let us first use the following expansions, three which are forward, and one backward:\n",
    "\n",
    "$$\n",
    "\\begin{align*}\n",
    "(-1)\\quad u^{n-1} &= u^n - h u' + \\frac{h^2}{2}u'' - \\frac{h^3}{6}u''' + \\frac{h^4}{24}u'''' - \\cdots \\\\\n",
    "(1)\\quad u^{n+1} &= u^n + h u' + \\frac{h^2}{2}u'' + \\frac{h^3}{6}u''' + \\frac{h^4}{24}u'''' + \\cdots \\\\\n",
    "(2)\\quad u^{n+2} &= u^n + 2h u' + \\frac{2 h^2}{1}u'' + \\frac{4 h^3}{3}u''' + \\frac{2 h^4}{3}u'''' + \\cdots \\\\\n",
    "(3)\\quad u^{n+3} &= u^n + 3h u' + \\frac{9 h^2}{2}u'' + \\frac{9 h^3}{2}u''' + \\frac{27 h^4}{8}u'''' + \\cdots \\\\\n",
    "\\end{align*}\n",
    "$$\n",
    "\n",
    "Remember, $u^{n+a} = u(t_{n+a})$ and $t_{n+a} = (n+a)h$ and we use $h=\\Delta t$ for simplicity.\n",
    "\n",
    "Consider now the central second order finite difference operator $u''(t_n)$. We can obtain an expression for this by adding equations (-1) and (1)\n",
    "\n",
    "$$\n",
    "\\begin{equation*}\n",
    "u''(t_n) = \\frac{u^{n+1}-2u^n + u^{n-1}}{h^2}  + \\frac{h^2}{12}u'''' +\n",
    "\\end{equation*}\n",
    "$$\n",
    "\n",
    "The operation can be set up for all $n$ as a matrix-vector product\n",
    "\n",
    "$$\n",
    "\\boldsymbol{u}^{(2)} = D^{(2)} \\boldsymbol{u},\n",
    "$$\n",
    "\n",
    "where we use $\\boldsymbol{u}^{(2)}=(u''(t_n))_{n=0}^{N}$ to represent the finite difference approximation to the second derivative at the $N+1$ mesh points. The finite difference differentiation matrix is\n",
    "\n",
    "$$\n",
    "D^{(2)} = \\frac{1}{h^2} \\begin{bmatrix}\n",
    "? & ? & ? & ?  & ? & ? & ? & ?  \\\\\n",
    "1 & -2 & 1 & 0 & 0 & 0 & 0 & \\cdots \\\\\n",
    "0 & 1 & -2 & 1 & 0 & 0 & 0 & \\cdots \\\\\n",
    "\\vdots & & & \\ddots &  & & &\\cdots \\\\\n",
    "\\vdots & 0 & 0 & 0 &  1& -2& 1& 0 \\\\\n",
    "\\vdots & 0 & 0& 0& 0& 1& -2& 1 \\\\\n",
    "? & ? & ? & ?  & ? & ? & ? & ? \\\\\n",
    "\\end{bmatrix}\n",
    "$$\n",
    "\n",
    "where the first and last rows are open because the stencil in row 0 requires $u^{-1}$ and for the row $N$ it requires $u^{N+1}$. For these two rows we need to use a different stencil.\n",
    "\n",
    "A first order accurate expression for $u''$ can be obtained by subtracting 2 times Eq. (1) from Eq. (2), i.e., $(2)-2(1)$:\n",
    "\n",
    "$$\n",
    "(2)-2(1): \\, u^{n+2} - 2u^{n+1} = -u^n + \\frac{h^2}{1}u'' + h^3 u''' + \\frac{7 h^4}{12}u'''' +\n",
    "$$\n",
    "\n",
    "Isolate $u''$ to obtain\n",
    "\n",
    "$$\n",
    "u'' = \\frac{u^{n+2}-2u^{n+1}+u^n}{h^2} - h u''' - \\frac{7 h^2}{12}u'''' +\n",
    "$$\n",
    "\n",
    "The error is first order as the first error term is $-h u'''$. \n",
    "\n",
    "Can we do better? Yes, of course, just add one more point to the finite difference stencil using Eq. (3). Now to eliminate both $u'$ and $u'''$ terms add the three equations as $-(3) + 4(2) - 5(1)$ (don't worry about how I know this yet)\n",
    "\n",
    "$$\n",
    "-(3)+4(2)-5(1): \\, -u^{n+3}+4u^{n+2}-5u^{n+1} = -2 u^n + h^2 u'' - \\frac{11 h^4}{12}u'''' +  \n",
    "$$\n",
    "\n",
    "which leads to the second order accurate\n",
    "\n",
    "$$\n",
    "u'' = \\frac{-u^{n+3} + 4u^{n+2} - 5u^{n+1} + 2u^n}{h^2} + \\frac{11 h^2}{12} u'''' +\n",
    "$$\n",
    "\n",
    "We can now modify our differentiation matrix $D^{(2)}$ using this one sided (forward) difference for row 0. For the last row, we can derive the same expression, only using points backward in time:\n",
    "\n",
    "$$\n",
    "D^{(2)} = \\frac{1}{h^2}\\begin{bmatrix}\n",
    "2 & -5 & 4 & -1  & 0 & 0 & 0 & 0  \\\\\n",
    "1 & -2 & 1 & 0 & 0 & 0 & 0 & \\cdots \\\\\n",
    "0 & 1 & -2 & 1 & 0 & 0 & 0 & \\cdots \\\\\n",
    "\\vdots & & & \\ddots &  & & &\\cdots \\\\\n",
    "\\vdots & 0 & 0 & 0 &  1& -2& 1& 0 \\\\\n",
    "\\vdots & 0 & 0& 0& 0& 1& -2& 1 \\\\\n",
    "0 & 0 & 0 & 0  & -1 & 4 & -5 & 2 \\\\\n",
    "\\end{bmatrix}\n",
    "$$\n",
    "\n",
    "Let us assemble this matrix in Python"
   ]
  },
  {
   "cell_type": "code",
   "execution_count": null,
   "id": "e15e0bd1",
   "metadata": {},
   "outputs": [],
   "source": [
    "D2 = sparse.diags([np.ones(N), np.full(N+1, -2), np.ones(N)], np.array([-1, 0, 1]), (N+1, N+1), 'lil')\n",
    "D2.toarray()"
   ]
  },
  {
   "cell_type": "markdown",
   "id": "354d6c1e",
   "metadata": {},
   "source": [
    "Fix the first and last rows"
   ]
  },
  {
   "cell_type": "code",
   "execution_count": null,
   "id": "e095d82f",
   "metadata": {},
   "outputs": [],
   "source": [
    "D2[0, :4] = 2, -5, 4, -1\n",
    "D2[-1, -4:] = -1, 4, -5, 2\n",
    "D2 *= (1/dt**2) # don't forget h\n",
    "D2.toarray()*dt**2"
   ]
  },
  {
   "cell_type": "markdown",
   "id": "e560e877",
   "metadata": {},
   "source": [
    "If we apply $D^{(2)}$ to a vector (mesh function) $\\boldsymbol{f} = (f(t_n))_{n=0}^{N}$, we get the second derivative with second order accuracy. Let us try this first with $f=t^2$."
   ]
  },
  {
   "cell_type": "code",
   "execution_count": null,
   "id": "e3623aaf",
   "metadata": {},
   "outputs": [],
   "source": [
    "f = t**2\n",
    "f"
   ]
  },
  {
   "cell_type": "code",
   "execution_count": null,
   "id": "adcc16e3",
   "metadata": {},
   "outputs": [],
   "source": [
    "d2f = D2 @ f\n",
    "d2f"
   ]
  },
  {
   "cell_type": "markdown",
   "id": "6765a2c2",
   "metadata": {},
   "source": [
    "Try the same, but with only first order accurate edges"
   ]
  },
  {
   "cell_type": "code",
   "execution_count": null,
   "id": "ba90f71e",
   "metadata": {},
   "outputs": [],
   "source": [
    "D2e = sparse.diags([np.ones(N), np.full(N+1, -2), np.ones(N)], np.array([-1, 0, 1]), (N+1, N+1), 'lil')\n",
    "D2e[0, :4] = 1, -2, 1, 0\n",
    "D2e[-1, -4:] = 0, 1, -2, 1\n",
    "D2e *= (1/dt**2)\n",
    "D2e @ f"
   ]
  },
  {
   "cell_type": "markdown",
   "id": "f40522be",
   "metadata": {},
   "source": [
    "What happened? Why is it still perfect?\n",
    "\n",
    "The reason is that the error in the stencil\n",
    "\n",
    "$$\n",
    "u'' = \\frac{u^{n+2}-2u^{n+1}+u^n}{h^2} - h u''' - \\frac{7 h^2}{12}u'''' + \n",
    "$$\n",
    "\n",
    "is proportional to $u'''$, which is 0. Hence we still get no error even though the order is only one. A more complex function would show the error better. Let us try $f=\\sin (\\pi t/T)$"
   ]
  },
  {
   "cell_type": "code",
   "execution_count": null,
   "id": "85e8acde",
   "metadata": {},
   "outputs": [],
   "source": [
    "f = np.sin(np.pi*t / T)\n",
    "d2fe = -(np.pi/T)**2*f\n",
    "d2f = D2 @ f\n",
    "d2f1 = D2e @ f\n",
    "plt.plot(t, d2fe, 'k', t, d2f, 'b', t, d2f1, 'r')\n",
    "plt.legend(['Exact', '2nd order', '1st order']);"
   ]
  },
  {
   "cell_type": "markdown",
   "id": "cd90b3ef",
   "metadata": {},
   "source": [
    "## First derivative\n",
    "\n",
    "Let us create a similar matrix for a first order derivative. We use a central stencil for $n=1, 2, \\ldots N-1$ and skewed stencils for the first and last rows. Again, we need the following Taylor expansions\n",
    "\n",
    "$$\n",
    "\\begin{align}\n",
    "(-1)\\quad u^{n-1} &= u^n - h u' + \\frac{h^2}{2}u'' - \\frac{h^3}{6}u''' + \\frac{h^4}{24}u'''' + \\cdots \\\\\n",
    "(1)\\quad u^{n+1} &= u^n + h u' + \\frac{h^2}{2}u'' + \\frac{h^3}{6}u''' + \\frac{h^4}{24}u'''' + \\cdots \\\\\n",
    "(2)\\quad u^{n+2} &= u^n + 2h u' + \\frac{2 h^2}{1}u'' + \\frac{4 h^3}{3}u''' + \\frac{2 h^4}{3}u'''' + \\cdots \n",
    "\\end{align}\n",
    "$$\n",
    "\n",
    "(1) - (-1) leads to\n",
    "\n",
    "$$\n",
    "u'(t_n) = \\frac{u^{n+1}-u^{n-1}}{2 h} + \\frac{h^2}{6} u''' +\n",
    "$$\n",
    "\n",
    "We get a first order approximation for $u'$ using merely Eq. (1):\n",
    "\n",
    "$$\n",
    "u'(t_n) = \\frac{u^{n+1}-u^n}{h} - \\frac{h}{2}u'' - \n",
    "$$\n",
    "\n",
    "Adding one more equation (Eq. (2)) we get second order: (2)-4(1)\n",
    "\n",
    "$$\n",
    "u'(t_n) = \\frac{-u^{n+2}+4u^{n+1}-3u^n}{2h} + \\frac{h^2}{3}u''' +\n",
    "$$\n",
    "\n",
    "Hence a second order accurate first differentiation matrix is\n",
    "\n",
    "$$\n",
    "D^{(1)} = \\frac{1}{2 h}\\begin{bmatrix}\n",
    "-3 & 4 & -1 & 0  & 0 & 0 & 0 & 0  \\\\\n",
    "-1 & 0 & 1 & 0 & 0 & 0 & 0 & \\cdots \\\\\n",
    "0 & -1 & 0 & 1 & 0 & 0 & 0 & \\cdots \\\\\n",
    "\\vdots & & & \\ddots &  & & &\\cdots \\\\\n",
    "\\vdots & 0 & 0 & 0 &  -1& 0& 1& 0 \\\\\n",
    "\\vdots & 0 & 0& 0& 0& -1& 0& 1 \\\\\n",
    "0 & 0 & 0 & 0  & 0 & 1 & -4 & 3 \\\\\n",
    "\\end{bmatrix}\n",
    "$$\n"
   ]
  },
  {
   "cell_type": "code",
   "execution_count": null,
   "id": "afbf3a3d",
   "metadata": {},
   "outputs": [],
   "source": [
    "D1 = sparse.diags([-np.ones(N), np.ones(N)], np.array([-1, 1]), (N+1, N+1), 'lil')\n",
    "D1[0, :3] = -3, 4, -1\n",
    "D1[-1, -3:] = 1, -4, 3\n",
    "D1 *= (1/(2*dt))\n",
    "D1.toarray()*(2*dt)"
   ]
  },
  {
   "cell_type": "code",
   "execution_count": null,
   "id": "517e19ac",
   "metadata": {},
   "outputs": [],
   "source": [
    "f = t\n",
    "D1 @ f"
   ]
  },
  {
   "cell_type": "code",
   "execution_count": null,
   "id": "4973b3ee",
   "metadata": {},
   "outputs": [],
   "source": [
    "f = np.sin(np.pi*t / T)\n",
    "d1fe = (np.pi/T)*np.cos(np.pi*t/T)\n",
    "d1f = D1 @ f\n",
    "plt.plot(t, d1fe, 'k', t, d1f, 'b')\n",
    "plt.legend(['Exact', '2nd order'])"
   ]
  },
  {
   "cell_type": "markdown",
   "id": "edb8ca53",
   "metadata": {},
   "source": [
    "Note that `D2` is not equal to `(D1)^2`"
   ]
  },
  {
   "cell_type": "code",
   "execution_count": null,
   "id": "acd2f8c5",
   "metadata": {},
   "outputs": [],
   "source": [
    "D2n = D1 @ D1\n",
    "D2n.toarray()*dt**2"
   ]
  },
  {
   "cell_type": "code",
   "execution_count": null,
   "id": "9531efe0",
   "metadata": {},
   "outputs": [],
   "source": [
    "f = np.sin(np.pi*t / T)\n",
    "d2fe = -(np.pi/T)**2*f\n",
    "e2 = D2 @ f - d2fe\n",
    "en = D2n @ f - d2fe\n",
    "np.sqrt(dt*np.linalg.norm(e2)), np.sqrt(dt*np.linalg.norm(en))"
   ]
  },
  {
   "cell_type": "markdown",
   "id": "a8ff4e32",
   "metadata": {},
   "source": [
    "It can be shown that the matrix that is D2n =$D^{(1)} D^{(1)}$ (matrix product of $D^{(1)}$ with itself) is only first order accurate."
   ]
  },
  {
   "cell_type": "markdown",
   "id": "c6bdc81d",
   "metadata": {},
   "source": [
    "## Solve equations using FD matrices\n",
    "\n",
    "The FD matrices are great because they depend only on $h$ and may be implemented once and reused. They only need to be modified in accordance with boundary conditions.\n",
    "\n",
    "Let's do the decay equation first and assemble the system\n",
    "\n",
    "$$\n",
    "A \\boldsymbol{u} = \\boldsymbol{b},\n",
    "$$\n",
    "\n",
    "for the equation\n",
    "\n",
    "$$\n",
    "u' + au = 0, \\, t \\in (0, T], u(0)=I.\n",
    "$$\n",
    "\n",
    "Before boundary conditions we can assemble this as \n",
    "\n",
    "$$\n",
    "(D^{(1)} + a \\mathbb{I})\\boldsymbol{u} = \\boldsymbol{b},\n",
    "$$\n",
    "\n",
    "where $\\mathbb{I}$ is the identity matrix and the only non-zero item in $\\boldsymbol{b}$ is the boundary condition for $n=0$. We get\n",
    "\n",
    "$$\n",
    "\\frac{u^{n+1}-u^{n-1}}{2 h} + a u^n = 0.\n",
    "$$\n"
   ]
  },
  {
   "cell_type": "code",
   "execution_count": null,
   "id": "44b5c844",
   "metadata": {},
   "outputs": [],
   "source": [
    "D1 = sparse.diags([-np.ones(N), np.ones(N)], np.array([-1, 1]), (N+1, N+1), 'lil')\n",
    "D1[0, :3] = -3, 4, -1. # Fix boundaries with second order accurate stencil\n",
    "D1[-1, -3:] = 1, -4, 3\n",
    "D1 *= (1/(2*dt))\n",
    "Id = sparse.eye(N+1)\n",
    "A = D1 + a*Id\n",
    "b = np.zeros(N+1)\n",
    "b[0] = I\n",
    "A[0, :3] = 1, 0, 0 # boundary condition\n",
    "A.toarray()"
   ]
  },
  {
   "cell_type": "code",
   "execution_count": null,
   "id": "49737261",
   "metadata": {},
   "outputs": [],
   "source": [
    "u1 = sparse.linalg.spsolve(A, b)\n",
    "plt.plot(t, u1, 'r', t, u, 'b', t, np.exp(-a*t), 'k')"
   ]
  },
  {
   "cell_type": "markdown",
   "id": "0819d42a",
   "metadata": {},
   "source": [
    "The scheme is not fully implicit in the source term. However, it is using three neighbouring points for every equation, which is more stable than using merely two."
   ]
  },
  {
   "cell_type": "markdown",
   "id": "2c616db3",
   "metadata": {},
   "source": [
    "## Generic finite difference stencils\n",
    "\n",
    "It is possible to derive finite difference stencils of any order from the Taylor expansions around a point in both positive and negative directions. The generic Taylor expansion around $x=x_0$ reads\n",
    "\n",
    "$$\n",
    "u(x) = \\sum_{i=0}^{N} \\frac{(x-x_0)^i}{i!} u^{(i)}(x_0) + \\mathcal{O}((x-x_0)^{N+1}),\n",
    "$$\n",
    "\n",
    "where $u^{(i)}(x_0) = \\frac{d^{i}u}{dx^{i}}|_{x=x_0}$.\n",
    "\n",
    "With the finite difference method we only evaluate this expansion for certain points around $x_0$. That is, we use only $x=x_0+mh$, where $m$ is an integer and $h$ is a constant (time step or mesh size). We get\n",
    "\n",
    "$$\n",
    "u(x_0+mh) = \\sum_{i=0}^{N} \\frac{(mh)^i}{i!} u^{(i)}(x_0) + \\mathcal{O}(h^{N+1}),\n",
    "$$\n",
    "\n",
    "where we usually use the finite difference notation $u^{n+m} = u(x_0+mh)$. Note that the equation above is a matrix vector product, because $\\frac{(mh)^i}{i!}$ has two indices $m, i$ like a matrix and $u^{(i)}(x_0)$ and $u(x_0+mh)$ have both only one ($i$ and $m$, respectively). With $c_{mi} = \\frac{(mh)^i}{i!}$ and $du_i = u^{(i)}(x_0)$ and neglecting the $\\mathcal{O}(h^{N+1})$ terms we get\n",
    "\n",
    "$$\n",
    "u^{n+m} = \\sum_{i=0}^{N} c_{mi} du_i,\n",
    "$$\n",
    "\n",
    "or in matrix notation\n",
    "\n",
    "$$\n",
    "\\boldsymbol{u} = C \\boldsymbol{du},\n",
    "$$\n",
    "\n",
    "where $\\boldsymbol{u} = (u^{n+m})_{m=m_0}^{N+m_0}$, $C = (c_{m+m_0,i})_{m,i=0}^{N,N}$ and $\\boldsymbol{du}=(du_i)_{i=0}^N$. Here $m_0$ is an integer representing the lowest value of $m$ in the stencil."
   ]
  },
  {
   "cell_type": "markdown",
   "id": "bafe4057",
   "metadata": {},
   "source": [
    "We can set up a system of equations for $m_0=-2$ and $N=4$\n",
    "\n",
    "$$\n",
    "\\begin{align*}\n",
    "u^{n-2} &= \\sum_{i=0}^{N} \\frac{(-2h)^i}{i!} du_i  \\\\\n",
    "u^{n-1} &= \\sum_{i=0}^{N} \\frac{(-h)^i}{i!} du_i  \\\\\n",
    "u^{n} &= u^{n} \\\\\n",
    "u^{n+1} &= \\sum_{i=0}^{N} \\frac{(h)^i}{i!} du_i  \\\\\n",
    "u^{n+2} &= \\sum_{i=0}^{N} \\frac{(2h)^i}{i!} du_i  \\\\\n",
    "\\end{align*}\n",
    "$$\n",
    "\n",
    "These 5 equations can be written in matrix form as\n",
    "\n",
    "$$\n",
    "\\begin{bmatrix}\n",
    "u^{n-2}\\\\\n",
    "u^{n-1}\\\\\n",
    "u^{n}\\\\\n",
    "u^{n+1}\\\\\n",
    "u^{n+2}\\\\\n",
    "\\end{bmatrix}\n",
    "= \\begin{bmatrix}\n",
    "\\frac{(-2h)^0}{0!} & \\frac{(-2h)^1}{1!} & \\frac{(-2h)^2}{2!} & \\frac{(-2h)^3}{3!} & \\frac{(-2h)^4}{4!}  \\\\\n",
    "\\frac{(-h)^0}{0!} & \\frac{(-h)^1}{1!} & \\frac{(-h)^2}{2!} & \\frac{(-h)^3}{3!} & \\frac{(-h)^4}{4!} \\\\\n",
    "1 & 0 & 0 & 0 & 0 \\\\\n",
    "\\frac{(h)^0}{0!} & \\frac{(h)^1}{1!} & \\frac{(h)^2}{2!} & \\frac{(h)^3}{3!} & \\frac{(h)^4}{4!} \\\\\n",
    "\\frac{(2h)^0}{0!} & \\frac{(2h)^1}{1!} & \\frac{(2h)^2}{2!} & \\frac{(2h)^3}{3!} & \\frac{(2h)^4}{4!} \\\\\n",
    "\\end{bmatrix}\n",
    "\\begin{bmatrix}\n",
    "du_{0} \\\\\n",
    "du_1 \\\\\n",
    "du_2 \\\\\n",
    "du_3 \\\\\n",
    "du_4\n",
    "\\end{bmatrix}\n",
    "$$\n",
    "\n",
    "or more easily as\n",
    "\n",
    "$$\n",
    "\\boldsymbol{u} = C \\boldsymbol{du}.\n",
    "$$\n",
    "\n",
    "Remember that the derivatives $du_i = u^{(i)}(x_0)$ are what we're normally interested in. And by assembling the matrix $C$ we can compute any finite difference scheme (!!) simply through:\n",
    "\n",
    "$$\n",
    "\\boldsymbol{du} = C^{-1} \\boldsymbol{u}.\n",
    "$$\n",
    "\n",
    "For example, for a second order accurate scheme (with $m=-1, 0, 1$) we should have\n",
    "\n",
    "$$\n",
    "du_2 = u^{(2)}(x_0) = \\frac{u^{n+1}-2u^n+u^{n-1}}{h^2}.\n",
    "$$\n",
    "\n",
    "Let's derive this with the approach above. The scheme is central so we use $m=(-1, 0, 1)$ and second order so use $N=2$. The $C$ matrix is then\n",
    "\n",
    "$$\n",
    "C = \\begin{bmatrix}\n",
    "1 & -h & \\frac{h^2}{2} \\\\\n",
    "1 & 0 & 0 \\\\\n",
    "1 & h & \\frac{h^2}{2}\n",
    "\\end{bmatrix}\n",
    "$$\n",
    "\n",
    "In Python using Sympy:"
   ]
  },
  {
   "cell_type": "code",
   "execution_count": null,
   "id": "36c06548",
   "metadata": {},
   "outputs": [],
   "source": [
    "import sympy as sp\n",
    "x, h = sp.symbols('x,h')\n",
    "C = sp.Matrix([[1, -h, h**2/2], [1, 0, 0], [1, h, h**2/2]])\n",
    "C"
   ]
  },
  {
   "cell_type": "markdown",
   "id": "1898a3b4",
   "metadata": {},
   "source": [
    "Take the inverse"
   ]
  },
  {
   "cell_type": "code",
   "execution_count": null,
   "id": "d7c05add",
   "metadata": {},
   "outputs": [],
   "source": [
    "C.inv()"
   ]
  },
  {
   "cell_type": "markdown",
   "id": "c0d9fa34",
   "metadata": {},
   "source": [
    "The second order central schemes are found in the last two rows. Row 1 is the first derivative, row 2 the second derivative (i.e., row one is $du_1$ and row 2 $du_2$). We can also print out the scheme by computing\n",
    "\n",
    "$$\n",
    "\\boldsymbol{du} = C^{-1} \\boldsymbol{u}.\n",
    "$$\n",
    "\n",
    "For given order 2 we get \n",
    "\n",
    "$$\n",
    "du_2 = \\sum_{i=0}^N c_{2i} u^{n-i-1}.\n",
    "$$"
   ]
  },
  {
   "cell_type": "code",
   "execution_count": null,
   "id": "4cf607d0",
   "metadata": {},
   "outputs": [],
   "source": [
    "u = sp.Function('u')\n",
    "coef = sp.Matrix([u(x-h), u(x), u(x+h)])\n",
    "(C.inv())[2, :] @ coef"
   ]
  },
  {
   "cell_type": "markdown",
   "id": "875d17ab",
   "metadata": {},
   "source": [
    "We can get any finite difference scheme using all the points that we like. For example, to create a forward difference of the second derivative using inly $u^n, u^{n+1}$ and $u^{n+2}$ we can use $m=0, 1, 2$ and $N=2$\n",
    "\n",
    "$$\n",
    "C = \\begin{bmatrix}\n",
    "1 & 0 & 0 \\\\\n",
    "1 & h & \\frac{h^2}{2} \\\\\n",
    "1 & 2h & {2 h^2}\n",
    "\\end{bmatrix}\n",
    "$$\n"
   ]
  },
  {
   "cell_type": "code",
   "execution_count": null,
   "id": "65dde057",
   "metadata": {},
   "outputs": [],
   "source": [
    "C = sp.Matrix([[1, 0, 0], [1, h, h**2/2], [1, 2*h, 2*h**2]])\n",
    "coef = sp.Matrix([u(x), u(x+h), u(x+2*h)])\n",
    "(C.inv())[2, :] @ coef"
   ]
  },
  {
   "cell_type": "markdown",
   "id": "0e2707af",
   "metadata": {},
   "source": [
    "However, this scheme will only be first order accurate, because it is not central. A second order scheme needs to use one more point, and thus $m=0,1,2,3$ and $N=3$\n",
    "\n",
    "$$\n",
    "C = \\begin{bmatrix}\n",
    "1 & 0 & 0 & 0 \\\\\n",
    "1 & h & \\frac{h^2}{2} & \\frac{h^3}{6} \\\\\n",
    "1 & 2h & {2 h^2} & \\frac{8 h^3}{6} \\\\\n",
    "1 & 3h & \\frac{9 h^2}{2} & \\frac{27 h^3}{6} \\\\\n",
    "\\end{bmatrix}\n",
    "$$"
   ]
  },
  {
   "cell_type": "code",
   "execution_count": null,
   "id": "301ff72d",
   "metadata": {},
   "outputs": [],
   "source": [
    "C = sp.Matrix([[1, 0, 0, 0], [1, h, h**2/2, h**3/6], [1, 2*h, 2*h**2, 8*h**3/6], [1, 3*h, 9*h**2/2, 27*h**3/6]])\n",
    "C.inv()"
   ]
  },
  {
   "cell_type": "code",
   "execution_count": null,
   "id": "8b4b1c80",
   "metadata": {},
   "outputs": [],
   "source": [
    "coef = sp.Matrix([u(x), u(x+h), u(x+2*h), u(x+3*h)])\n",
    "(C.inv())[2, :] @ coef"
   ]
  },
  {
   "cell_type": "code",
   "execution_count": null,
   "id": "68b49160",
   "metadata": {},
   "outputs": [],
   "source": [
    "C = sp.Matrix([[1, -3*h, 9*h**2/2, -27*h**3/6], [1, -2*h, 2*h**2, -8*h**3/6], [1, -h, h**2/2, -h**3/6], [1, 0, 0, 0]])\n",
    "C.inv()"
   ]
  },
  {
   "cell_type": "code",
   "execution_count": null,
   "id": "71994afd",
   "metadata": {},
   "outputs": [],
   "source": [
    "coef = sp.Matrix([u(x-3*h), u(x-2*h), u(x-h), u(x)])\n",
    "(C.inv())[1, :] @ coef"
   ]
  },
  {
   "cell_type": "markdown",
   "id": "210e8d53",
   "metadata": {},
   "source": [
    "This is the stencil used for the first and last row of the second derivative matrix for the vibration problem. "
   ]
  }
 ],
 "metadata": {
  "kernelspec": {
   "display_name": "matmek4270",
   "language": "python",
   "name": "python3"
  },
  "language_info": {
   "codemirror_mode": {
    "name": "ipython",
    "version": 3
   },
   "file_extension": ".py",
   "mimetype": "text/x-python",
   "name": "python",
   "nbconvert_exporter": "python",
   "pygments_lexer": "ipython3",
   "version": "3.12.3"
  },
  "toc": {
   "base_numbering": 1,
   "nav_menu": {},
   "number_sections": false,
   "sideBar": true,
   "skip_h1_title": false,
   "title_cell": "Table of Contents",
   "title_sidebar": "Contents",
   "toc_cell": false,
   "toc_position": {},
   "toc_section_display": true,
   "toc_window_display": false
  }
 },
 "nbformat": 4,
 "nbformat_minor": 5
}
