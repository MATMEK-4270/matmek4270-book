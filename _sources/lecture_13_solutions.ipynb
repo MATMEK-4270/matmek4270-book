{
 "cells": [
  {
   "cell_type": "markdown",
   "metadata": {},
   "source": [
    "# Suggested solutions weekly assignments - lecture 13\n",
    "\n",
    "Only answers to the stability computations are shown below."
   ]
  },
  {
   "cell_type": "markdown",
   "metadata": {},
   "source": [
    "2. Find the absolute stability limit of the diffusion equation discretized with a Crank-Nicolson scheme. Use both a finite difference method\n",
    "$\n",
    "\\boldsymbol{u}^{n+1} - \\boldsymbol{u}^n = \\frac{\\Delta t}{2}D^{(2)}(\\boldsymbol{u}^{n+1}+\\boldsymbol{u}^n)\n",
    "$\n",
    "and a comparable Galerkin method.\n",
    "\n",
    "Insert for $\\boldsymbol{u}^{n}=g^n \\boldsymbol{u}^0$ to get\n",
    "\n",
    "$$\n",
    "g^n(g-1) \\boldsymbol{u}^0 = \\frac{\\Delta t}{2}D^{(2)}g^n(g+1)\n",
    "$$\n",
    "\n",
    "Use the eigenvalues of the differentiation matrix: $D^{(2)}\\boldsymbol{u}^0 = \\lambda \\boldsymbol{u}^0$\n",
    "\n",
    "$$\n",
    "g^n(g-1) \\boldsymbol{u}^0 = \\frac{\\Delta t}{2}\\lambda \\boldsymbol{u}^0 g^n(g+1)\n",
    "$$\n",
    "\n",
    "Divide by $g^n \\boldsymbol{u}^0$ to get\n",
    "\n",
    "$$\n",
    "g-1 = \\frac{\\Delta t}{2} \\lambda (g+1)\n",
    "$$\n",
    "\n",
    "Rearrange to get\n",
    "\n",
    "$$\n",
    "g = \\frac{2+\\Delta t \\lambda}{2-\\Delta t \\lambda}\n",
    "$$\n",
    "\n",
    "Compute the eigenvalues:\n"
   ]
  },
  {
   "cell_type": "code",
   "execution_count": null,
   "metadata": {},
   "outputs": [],
   "source": [
    "import numpy as np\n",
    "from scipy import sparse\n",
    "\n",
    "N = 11\n",
    "D2 = sparse.diags((1, 1, -2, 1, 1), (-N, -1, 0, 1, N), shape=(N+1, N+1))\n",
    "Lambda = np.linalg.eig(D2.toarray())[0]\n",
    "print(Lambda)"
   ]
  },
  {
   "cell_type": "markdown",
   "metadata": {},
   "source": [
    "All eigenvalues are real and negative. The smallest value is $\\lambda = -4$. Insert into equation for $g$\n",
    "\n",
    "$$\n",
    "g = \\frac{2-4 \\Delta t }{2+4\\Delta t}\n",
    "$$\n",
    "\n",
    "Obviously, $|g|\\le 1$ for all $\\Delta t \\ge 0$, so the Crank-Nicolson method is unconditionally stable for the diffusion equation."
   ]
  },
  {
   "cell_type": "markdown",
   "metadata": {},
   "source": [
    "4. Consider the leap-frog finite difference scheme\n",
    "$\n",
    "\\boldsymbol{u}^{n+1} - \\boldsymbol{u}^{n-1} = {2\\Delta t}D^{(2)}\\boldsymbol{u}^n,\n",
    "$\n",
    "suggested by [Richardson in 1910](https://royalsocietypublishing.org/doi/10.1098/rspa.1910.0020). Explain why this scheme is unconditionally unstable. To this end you can use that all the eigenvalues of $D^{(2)}$ are real.\n",
    "\n",
    "Insert for $\\boldsymbol{u}^n = g^n \\boldsymbol{u}^0$ to get\n",
    "\n",
    "$$\n",
    "g^n(g - g^{-1}) \\boldsymbol{u}^0 = 2 \\Delta t D^{(2)} g^n \\boldsymbol{u}^0 \n",
    "$$\n",
    "\n",
    "Use eigenvalues and divide by $g^n \\boldsymbol{u}^0$ to get \n",
    "\n",
    "$$\n",
    "g - g^{-1} = 2 \\Delta t \\lambda\n",
    "$$\n",
    "\n",
    "Solve quadratic equation for $g$ \n",
    "\n",
    "$$\n",
    "g = \\Delta t \\lambda \\pm \\hat{\\imath} \\sqrt{1+(\\Delta t \\lambda)^2}\n",
    "$$\n",
    "\n",
    "And since all $\\lambda$ are real we find that $|g|=\\sqrt{1+2(\\Delta t \\lambda)^2} \\ge 1 \\, \\forall \\, \\Delta t \\ge 0$. Hence the leap-frog scheme is unconditionally unstable!\n"
   ]
  },
  {
   "cell_type": "markdown",
   "metadata": {},
   "source": []
  }
 ],
 "metadata": {
  "kernelspec": {
   "display_name": "matmek4270",
   "language": "python",
   "name": "python3"
  },
  "language_info": {
   "codemirror_mode": {
    "name": "ipython",
    "version": 3
   },
   "file_extension": ".py",
   "mimetype": "text/x-python",
   "name": "python",
   "nbconvert_exporter": "python",
   "pygments_lexer": "ipython3",
   "version": "3.12.7"
  }
 },
 "nbformat": 4,
 "nbformat_minor": 2
}
