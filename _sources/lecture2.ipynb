{
 "cells": [
  {
   "cell_type": "markdown",
   "metadata": {},
   "source": [
    "# Lecture 2\n",
    "\n",
    "See the presentation given [here](https://matmek-4270.github.io/matmek4270-pres/analysis.html#/title-slide). Or as [pdf](https://github.com/MATMEK-4270/matmek4270-pres/blob/main/pdfs/analysis.pdf). \n"
   ]
  }
 ],
 "metadata": {
  "language_info": {
   "name": "python"
  }
 },
 "nbformat": 4,
 "nbformat_minor": 2
}
