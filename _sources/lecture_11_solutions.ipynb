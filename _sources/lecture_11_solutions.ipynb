{
 "cells": [
  {
   "cell_type": "markdown",
   "metadata": {},
   "source": [
    "# Suggested solutions weekly assignments - lecture 11\n",
    "\n",
    "1. Solve the inhomogeneous Helmholtz equation\n",
    "\n",
    "$$\n",
    "u'' + \\alpha u = f, \\quad x \\in (-1, 1), u(\\pm 1)=0,\n",
    "$$\n",
    "\n",
    "using the manufactured solution $u(x)=(1-x^2)\\exp(\\cos(x-0.5))$ and $\\alpha=0.1$. Try also to remove $1-x^2$ and solve the same problem with inhomogeneous boundary conditions. Plot both the solution and the $L^2$ error."
   ]
  },
  {
   "cell_type": "markdown",
   "metadata": {},
   "source": [
    "Using first shenfun"
   ]
  },
  {
   "cell_type": "code",
   "execution_count": null,
   "metadata": {},
   "outputs": [],
   "source": [
    "import matplotlib.pyplot as plt\n",
    "from shenfun import *\n",
    "import sympy as sp \n",
    "x = sp.Symbol('x')\n",
    "\n",
    "def solve(N, ue, family='Legendre', alpha=sp.Rational(1, 10)):\n",
    "    V = FunctionSpace(N, family=family, bc=(ue.subs(x, -1), ue.subs(x, 1)))\n",
    "    f = ue.diff(x, 2) + alpha*ue \n",
    "    u = TrialFunction(V)\n",
    "    v = TestFunction(V)\n",
    "    A = inner(Dx(u, 0, 2)+alpha*u, v)\n",
    "    b = inner(f, v)\n",
    "    uN = la.Solver(A)(b)\n",
    "    return uN \n",
    "\n",
    "ue = (1-x**2)*sp.exp(sp.cos(x-sp.S.Half))\n",
    "uN = solve(20, ue)\n",
    "uj = uN.backward()\n",
    "xj = uN.function_space().mesh()\n",
    "plt.plot(xj, uj, 'b', xj, sp.lambdify(x, ue)(xj), 'ro')\n",
    "plt.legend([uN.function_space().family(), 'Exact']);"
   ]
  },
  {
   "cell_type": "markdown",
   "metadata": {},
   "source": [
    "Compute L2-error and plot it to show the spectral accuracy. Both for Legendre and Chebyshev. Note that with Chebyshev shenfun automatically chooses a weighted inner product with weight $1/\\sqrt{1-x^2}$."
   ]
  },
  {
   "cell_type": "code",
   "execution_count": null,
   "metadata": {},
   "outputs": [],
   "source": [
    "def L2_error(uN, ul):\n",
    "    domain = uN.function_space().domain\n",
    "    xj = np.linspace(domain[0], domain[1], len(uN)*10)\n",
    "    uj = uN(xj)\n",
    "    uej = ul(xj)\n",
    "    return np.sqrt(np.trapz((uj-uej)**2, dx=xj[1]-xj[0]))\n",
    "\n",
    "ue = (1-x**2)*sp.exp(sp.cos(x-sp.S.Half))\n",
    "ul = sp.lambdify(x, ue)\n",
    "error = {}\n",
    "for family in ('Chebyshev', 'Legendre'):\n",
    "    error[family] = []\n",
    "    for N in 2**np.arange(2, 6):\n",
    "        uN = solve(N, ue)\n",
    "        error[family].append(L2_error(uN, ul))\n"
   ]
  },
  {
   "cell_type": "code",
   "execution_count": null,
   "metadata": {},
   "outputs": [],
   "source": [
    "plt.loglog(2**np.arange(2, 6), error['Legendre'], 'bo', \n",
    "           2**np.arange(2, 6), error['Chebyshev'], 'r+');"
   ]
  },
  {
   "cell_type": "markdown",
   "metadata": {},
   "source": [
    "Now do the same thing with inhomogeneous boundary conditions. The accuracy should be approximately the same."
   ]
  },
  {
   "cell_type": "code",
   "execution_count": null,
   "metadata": {},
   "outputs": [],
   "source": [
    "ue = sp.exp(sp.cos(x-sp.S.Half))\n",
    "ul = sp.lambdify(x, ue)\n",
    "error2 = {}\n",
    "for family in ('Chebyshev', 'Legendre'):\n",
    "    error2[family] = []\n",
    "    for N in 2**np.arange(2, 6):\n",
    "        uN = solve(N, ue)\n",
    "        error2[family].append(L2_error(uN, ul))"
   ]
  },
  {
   "cell_type": "code",
   "execution_count": null,
   "metadata": {},
   "outputs": [],
   "source": [
    "plt.loglog(2**np.arange(2, 6), error2['Legendre'], 'bo', \n",
    "           2**np.arange(2, 6), error2['Chebyshev'], 'r+');"
   ]
  },
  {
   "cell_type": "markdown",
   "metadata": {},
   "source": [
    "Note that the solution now contains the boundary conditions. In Shenfun the two boundary conditions of the inhomogeneous Dirichlet space are stored in the last two items of the array of unknowns `uN`."
   ]
  },
  {
   "cell_type": "code",
   "execution_count": null,
   "metadata": {},
   "outputs": [],
   "source": [
    "uN = solve(20, ue)\n",
    "print(uN[-2:])"
   ]
  },
  {
   "cell_type": "markdown",
   "metadata": {},
   "source": [
    "The exact boundary values are:"
   ]
  },
  {
   "cell_type": "code",
   "execution_count": null,
   "metadata": {},
   "outputs": [],
   "source": [
    "print(ue.subs(x, -1).n(), ue.subs(x, 1).n())"
   ]
  },
  {
   "cell_type": "markdown",
   "metadata": {},
   "source": [
    "Now solve the same problem using collocation. Implement by modifying some code from lecture 11."
   ]
  },
  {
   "cell_type": "code",
   "execution_count": null,
   "metadata": {},
   "outputs": [],
   "source": [
    "from lagrange import PolyDerivative\n",
    "from scipy.interpolate import BarycentricInterpolator \n",
    "\n",
    "def Helmholtz_coll(N, f, xj, bc=(0, 0), alpha=0.1):\n",
    "    D = PolyDerivative(xj, 2)      # Get second derivative matrix\n",
    "    M = np.eye(N+1)\n",
    "    A = D + alpha*M\n",
    "    A[0, 0] = 1; A[0, 1:] = 0      # ident first row\n",
    "    A[-1, -1] = 1; A[-1, :-1] = 0  # ident last row\n",
    "    fh = np.zeros(N+1)\n",
    "    fh[1:-1] = sp.lambdify(x, f)(xj[1:-1])\n",
    "    fh[0], fh[-1] = bc             # Fix boundary conditions\n",
    "    uh = np.linalg.solve(A, fh)\n",
    "    return uh\n",
    "\n",
    "def l2_error(uh, ul, xj):\n",
    "    N = len(uh)-1\n",
    "    L = BarycentricInterpolator(xj, yi=uh)\n",
    "    N = 4*len(uh)\n",
    "    xj = np.linspace(xj[0], xj[-1], N+1)\n",
    "    return np.sqrt(np.trapz((ul(xj)-L(xj).astype(float))**2, dx=2./N))"
   ]
  },
  {
   "cell_type": "code",
   "execution_count": null,
   "metadata": {},
   "outputs": [],
   "source": [
    "ue = sp.exp(sp.cos(x-sp.S.Half))\n",
    "ul = sp.lambdify(x, ue)\n",
    "alpha = 0.1\n",
    "f = ue.diff(x, 2) + alpha*ue\n",
    "bc = ue.subs(x, -1), ue.subs(x, 1)\n",
    "err = []\n",
    "for N in 2**np.arange(2, 6):\n",
    "    xj = np.cos(np.arange(N+1)*np.pi/N)[::-1]\n",
    "    uh = Helmholtz_coll(N, f, xj, bc=bc, alpha=alpha)\n",
    "    err.append(l2_error(uh, ul, xj))"
   ]
  },
  {
   "cell_type": "code",
   "execution_count": null,
   "metadata": {},
   "outputs": [],
   "source": [
    "plt.loglog(2**np.arange(2, 6), err, 'bo')"
   ]
  },
  {
   "cell_type": "markdown",
   "metadata": {},
   "source": [
    "2. Solve the convection-diffusion equation in the domain $x \\in [0, 1]$ and vary the parameter $\\epsilon$ such that $\\epsilon \\in (1, 0.1, 0.01, 0.001)$:\n",
    "\n",
    "$$\n",
    "u'' + \\frac{1}{\\epsilon} u' = 0, \\quad x \\in (0, 1), u(0) = 0, u(1) = 1.\n",
    "$$\n",
    "\n",
    "The exact solution is here\n",
    "\n",
    "$$\n",
    "u(x) = \\frac{\\exp(-x/\\epsilon)-1}{\\exp(-1/\\epsilon)-1}.\n",
    "$$\n",
    "\n",
    "For this problem we create a new shenfun solver, where the right hand side is simply zero. Test first with a relatively large epsilon:"
   ]
  },
  {
   "cell_type": "code",
   "execution_count": null,
   "metadata": {},
   "outputs": [],
   "source": [
    "def solveCD(N, ue, family='Legendre', epsilon=sp.Rational(1, 10)):\n",
    "    V = FunctionSpace(N, family=family, bc=(ue.subs(x, 0), ue.subs(x, 1)), domain=(0, 1))\n",
    "    u = TrialFunction(V)\n",
    "    v = TestFunction(V)\n",
    "    A = inner(Dx(u, 0, 2)+1/epsilon*Dx(u, 0, 1), v)\n",
    "    b = Function(V)\n",
    "    uN = la.Solver(A)(b)\n",
    "    return uN\n",
    "\n",
    "epsilon = sp.Rational(1, 10)\n",
    "ue = lambda epsilon: (sp.exp(-x/epsilon)-1) / (sp.exp(-1/epsilon)-1)\n",
    "uN = solveCD(20, ue(epsilon), epsilon=epsilon.n())\n",
    "uj = uN.backward()\n",
    "xj = uN.function_space().mesh()\n",
    "plt.plot(xj, uj, 'b', xj, sp.lambdify(x, ue(epsilon))(xj), 'ro')\n",
    "plt.legend([uN.function_space().family(), 'Exact']);"
   ]
  },
  {
   "cell_type": "markdown",
   "metadata": {},
   "source": [
    "Now check convergence for the most stiff epsilon=1/1000. For this we need quite a few degrees of freedom in order to resolve the sharp gradient of $u(x)$."
   ]
  },
  {
   "cell_type": "code",
   "execution_count": null,
   "metadata": {},
   "outputs": [],
   "source": [
    "error = {}\n",
    "epsilon = sp.Rational(1, 1000)\n",
    "ul = sp.lambdify(x, ue(epsilon))\n",
    "for family in ('Chebyshev', 'Legendre'):\n",
    "    error[family] = []\n",
    "    for N in 2**np.arange(2, 9):\n",
    "        uN = solveCD(N, ue(epsilon), epsilon=epsilon.n())\n",
    "        error[family].append(L2_error(uN, ul))"
   ]
  },
  {
   "cell_type": "code",
   "execution_count": null,
   "metadata": {},
   "outputs": [],
   "source": [
    "plt.loglog(2**np.arange(2, 9), error['Legendre'], 'bo', \n",
    "           2**np.arange(2, 9), error['Chebyshev'], 'r+');"
   ]
  },
  {
   "cell_type": "markdown",
   "metadata": {},
   "source": [
    "Now solve the same equation using collocation. "
   ]
  },
  {
   "cell_type": "code",
   "execution_count": null,
   "metadata": {},
   "outputs": [],
   "source": [
    "def CD_coll(N, xj, bc=(0, 0), epsilon=0.1):\n",
    "    D2 = PolyDerivative(xj, 2)      # Get second derivative matrix\n",
    "    D1 = PolyDerivative(xj, 1)      # Get second derivative matrix\n",
    "    A = D2 + 1/epsilon*D1\n",
    "    A[0, 0] = 1; A[0, 1:] = 0      # ident first row\n",
    "    A[-1, -1] = 1; A[-1, :-1] = 0  # ident last row\n",
    "    fh = np.zeros(N+1)\n",
    "    fh[0], fh[-1] = bc             # Fix boundary conditions\n",
    "    uh = np.linalg.solve(A, fh)\n",
    "    return uh\n",
    "\n",
    "err = []\n",
    "for N in 2**np.arange(2, 9):\n",
    "    xj = (np.cos(np.arange(N+1)*np.pi/N)[::-1]+1)/2 # Get mesh on [0, 1]\n",
    "    uh = CD_coll(N, xj, bc=(0, 1), epsilon=float(epsilon))\n",
    "    err.append(l2_error(uh, ul, xj))"
   ]
  },
  {
   "cell_type": "code",
   "execution_count": null,
   "metadata": {},
   "outputs": [],
   "source": [
    "plt.loglog(2**np.arange(2, 9), err, 'bo');"
   ]
  },
  {
   "cell_type": "code",
   "execution_count": null,
   "metadata": {},
   "outputs": [],
   "source": []
  }
 ],
 "metadata": {
  "kernelspec": {
   "display_name": "shenfun",
   "language": "python",
   "name": "python3"
  },
  "language_info": {
   "codemirror_mode": {
    "name": "ipython",
    "version": 3
   },
   "file_extension": ".py",
   "mimetype": "text/x-python",
   "name": "python",
   "nbconvert_exporter": "python",
   "pygments_lexer": "ipython3",
   "version": "3.12.3"
  }
 },
 "nbformat": 4,
 "nbformat_minor": 2
}
