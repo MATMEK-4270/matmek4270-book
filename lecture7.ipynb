{
 "cells": [
  {
   "cell_type": "markdown",
   "metadata": {},
   "source": [
    "# Lecture 7\n",
    "\n",
    "## Postprocessing and Interpolation\n",
    "\n",
    "We have up until now focussed solely on how to solve equations using finite difference stencils and mesh functions evaluated on a regular (uniform) mesh. For example, in 1D a mesh function is\n",
    "\n",
    "$$\n",
    "u_{i} = u(x_i), \\quad i \\in (0, 1, \\ldots, N_x)\n",
    "$$\n",
    "\n",
    "where $x_i = i \\Delta x$. In 2D a mesh function is\n",
    "\n",
    "$$\n",
    "u_{ij} = u(x_i, y_j), \\quad (i, j) \\in (0, 1, \\ldots, N_x) \\times (0, 1, \\ldots, N_y)\n",
    "$$\n",
    "\n",
    "where $y_j = j \\Delta y$. We have also looked at a problem that is 1D in space, plus time. In this case the mesh function is\n",
    "\n",
    "$$\n",
    "u^n_{i} = u(t_n, x_i), \\quad (n, i) \\in (0, 1, \\ldots, N_t) \\times (0, 1, \\ldots, N_x)\n",
    "$$\n",
    "\n",
    "where $t_n = n \\Delta t$. Later in this lecture we will look at the wave equation in 2D space plus time. In this case the mesh function will be\n",
    "\n",
    "$$\n",
    "u^{n}_{ij} = u(t_n, x_i, y_j) \\quad \\quad (n, i, j) \\in (0, 1, \\ldots, N_t) \\times (0, 1, \\ldots, N_x) \\times (0, 1, \\ldots, N_y)\n",
    "$$\n",
    "\n",
    "Up until now we have learned how to compute these mesh functions, but we have not really talked about how to use them. In a real project we are often interested in specific measures, like drag or flowrate, that can be measured at a single point, line or at a surface. In that case you may need to find the solution or its derivative at specific points that are not mesh points. How do you compute this number from the mesh function? And how do you integrate over a line or a surface?\n",
    "\n",
    "The answer to the first question is interpolation. The second will require a numerical integration scheme."
   ]
  },
  {
   "cell_type": "markdown",
   "metadata": {},
   "source": [
    "### One-dimensional interpolation\n",
    "\n",
    "Interpolation is easily illustrated through a one-dimensional example. Assume that the mesh domain is $\\Omega \\in [0, 1]$ and\n",
    "\n",
    "$$\n",
    "u(x) = x(1-x)\n",
    "$$(eq-u)\n",
    "\n",
    "Create a uniform mesh $\\boldsymbol{x}=(i/N)_{i=0}^N$ using $N=5$ and plot the mesh function corresponding to {eq}`eq-u` as blue dots."
   ]
  },
  {
   "cell_type": "code",
   "execution_count": null,
   "metadata": {
    "tags": [
     "hide-input"
    ]
   },
   "outputs": [],
   "source": [
    "import numpy as np\n",
    "import sympy as sp\n",
    "import matplotlib.pyplot as plt \n",
    "N = 5\n",
    "xj = np.linspace(0, 1, N+1)\n",
    "u = xj*(1-xj)\n",
    "fig, (ax0, ax1) = plt.subplots(1, 2, figsize=(10, 3))\n",
    "ax0.plot(xj, u, 'bo')\n",
    "ax1.plot(xj, u, 'bo-');"
   ]
  },
  {
   "cell_type": "markdown",
   "metadata": {},
   "source": [
    "In the figure above to the left the mesh function $U=(u_i)_{i=0}^N$ is represented with the blue dots. In the figure to the right linear profiles have been added by matplotlib in between the points because we ask for it using `bo-`. The linear profiles represent linear *interpolation*, which is a first order approach to computing the mesh function in between the mesh points. The next figure compares the linear interpolation to the exact solution."
   ]
  },
  {
   "cell_type": "code",
   "execution_count": null,
   "metadata": {
    "tags": [
     "hide-input"
    ]
   },
   "outputs": [],
   "source": [
    "fig = plt.figure(figsize=(5, 3))\n",
    "plt.plot(xj, u, 'bo-')\n",
    "xl = np.linspace(0, 1, 1000)\n",
    "plt.plot(xl, xl*(1-xl), 'r-');"
   ]
  },
  {
   "cell_type": "markdown",
   "metadata": {},
   "source": [
    "Note that even though the mesh function here is exact at all the mesh points, the linear interpolation between points is far from being accurate.\n",
    "\n",
    "We now want to compute $u(0.75)$ using linear interpolation. We get this from drawing a straight line from $u(x_3=0.6) = 0.24$ to $u(x_4=0.8)=0.16$, and this line can be represented as\n",
    "\n",
    "$$\n",
    "\\overline{u}(x) = u_3 + (u_4-u_3)\\frac{x-x_3}{x_4-x_3}\n",
    "$$\n",
    "\n",
    "By inserting for $u_3, u_4, x_3$ and $x_4$ we get\n",
    "\n",
    "$$\n",
    "\\begin{align*}\n",
    "\\overline{u}(x) &= 0.24 -0.4(x-0.6) \\\\\n",
    "\\overline{u}(x) &= 0.48 - 0.4x\n",
    "\\end{align*}\n",
    "$$\n",
    "\n",
    "We can create this profile using Sympy "
   ]
  },
  {
   "cell_type": "code",
   "execution_count": null,
   "metadata": {},
   "outputs": [],
   "source": [
    "x = sp.Symbol('x')\n",
    "uo = u[3] + (u[4]-u[3])/(xj[4]-xj[3])*(x-xj[3])\n",
    "uo"
   ]
  },
  {
   "cell_type": "markdown",
   "metadata": {},
   "source": [
    "And we can plot the linearly interpolated point $u(0.75)$ as a green dot"
   ]
  },
  {
   "cell_type": "code",
   "execution_count": null,
   "metadata": {
    "tags": [
     "hide-input"
    ]
   },
   "outputs": [],
   "source": [
    "fig = plt.figure(figsize=(5, 3))\n",
    "plt.plot(xj, u, 'bo-')\n",
    "xl = np.linspace(0, 1, 1000)\n",
    "plt.plot(xl, xl*(1-xl), 'r-')\n",
    "plt.plot(0.75, uo.subs(x, 0.75), 'go');"
   ]
  },
  {
   "cell_type": "markdown",
   "metadata": {},
   "source": [
    "The interpolation curve that we have created using Sympy can be used for any point, but it makes most sense to use it between $x_3$ and $x_4$. If we use it outside this domain, the accuracy is much worse, and we also refer to this as *extrapolation*."
   ]
  },
  {
   "cell_type": "code",
   "execution_count": null,
   "metadata": {
    "tags": [
     "hide-input"
    ]
   },
   "outputs": [],
   "source": [
    "fig = plt.figure(figsize=(5, 3))\n",
    "plt.plot(xj, u, 'bo-')\n",
    "xl = np.linspace(0, 1, 1000)\n",
    "plt.plot(xl, xl*(1-xl), 'r-')\n",
    "plt.plot(xl[500:], sp.lambdify(x, uo)(xl[500:]), 'g-');"
   ]
  },
  {
   "cell_type": "markdown",
   "metadata": {},
   "source": [
    "## Lagrange interpolation polynomials\n",
    "\n",
    "Linear interpolation is easy to understand and easy to compute with. However, it is not very accurate. And why would you want to waste your hard earned second-order accurate mesh function (or exact, as above) using only first order accurate interpolation? You shouldn't and there is no need to. Linear interpolation makes use of only 2 interpolation points. Higher order interpolation simply makes use of more points. The most straight-forward way to do this is through the use of [Lagrange interpolation polynomials](https://en.wikipedia.org/wiki/Lagrange_polynomial). \n",
    "\n",
    "A Lagrange interpolation polynomial makes use of $k+1$ nodes $(x^0, x^1, \\ldots, x^k)$. These are not usually identical to the entire computational mesh, but rather the closest points to the point of interest. Like for the linear interpolation above, the points would simply be $(x^0, x^1) = (x_3, x_4)$ for linear interpolation, or $(x^0, x^1, x^2) = (x_2, x_3, x_4)$ for second order.\n",
    "\n",
    "```{note}\n",
    "To separate the Lagrange points from the mesh points we will simply use superscript on the Lagrange points. So here the superscript does not mean the power!\n",
    "```\n",
    "\n",
    "With Lagrange interpolation we make use of the Lagrange basis functions (or cardinal functions)\n",
    "\n",
    "$$\n",
    "    \\ell_j(x) = \\frac{x-x^0}{x^j-x^0} \\cdots \\frac{x-x^{j-1}}{x^j-x^{j-1}}\\frac{x-x^{j+1}}{x^j-x^{j+1}} \\cdots \\frac{x-x^{k}}{x^j-x^{k}}\n",
    "$$\n",
    "\n",
    "which can be more compactly written as\n",
    "\n",
    "$$\n",
    "\\ell_j(x) = \\prod_{0 \\le m \\le k \\\\ m \\ne j} \\frac{x-x^m}{x^j-x^m}\n",
    "$$\n",
    "\n",
    "The Lagrange basis functions can be easily implemented using Sympy:"
   ]
  },
  {
   "cell_type": "code",
   "execution_count": null,
   "metadata": {},
   "outputs": [],
   "source": [
    "def Lagrangebasis(xj, x=x):\n",
    "    \"\"\"Construct Lagrange basis function for points in xj\n",
    "    \n",
    "    Parameters\n",
    "    ----------\n",
    "    xj : array\n",
    "        Interpolation points\n",
    "    x : Sympy Symbol\n",
    "    \n",
    "    Returns\n",
    "    -------\n",
    "    Lagrange basis functions\n",
    "    \"\"\"\n",
    "    from sympy import Mul\n",
    "    n = len(xj)\n",
    "    ell = []\n",
    "    numert = Mul(*[x - xj[i] for i in range(n)])\n",
    "\n",
    "    for i in range(n):\n",
    "        numer = numert/(x - xj[i])\n",
    "        denom = Mul(*[(xj[i] - xj[j]) for j in range(n) if i != j])\n",
    "        ell.append(numer/denom)\n",
    "    return ell"
   ]
  },
  {
   "cell_type": "markdown",
   "metadata": {},
   "source": [
    "We can plot some of the basis functions, for example for second order interpolation using $(x^0, x^1, x^2) = (x_2, x_3, x_4)$"
   ]
  },
  {
   "cell_type": "code",
   "execution_count": null,
   "metadata": {},
   "outputs": [],
   "source": [
    "ell = Lagrangebasis(xj[2:5], x=x)\n",
    "for l in ell:\n",
    "    print(l)"
   ]
  },
  {
   "cell_type": "code",
   "execution_count": null,
   "metadata": {
    "tags": [
     "hide-input"
    ]
   },
   "outputs": [],
   "source": [
    "fig = plt.figure(figsize=(5, 3))\n",
    "plt.plot(xj, u, 'bo-')\n",
    "xl = np.linspace(xj[2], xj[4], 100)\n",
    "plt.plot(xl, sp.lambdify(x, ell[0])(xl), 'r:')\n",
    "plt.plot(xl, sp.lambdify(x, ell[1])(xl), 'g:')\n",
    "plt.plot(xl, sp.lambdify(x, ell[2])(xl), 'b:')\n",
    "plt.legend(['u(x_i)', '$\\ell_0(x)$', '$\\ell_1(x)$', '$\\ell_2(x)$'], loc='upper left');"
   ]
  },
  {
   "cell_type": "markdown",
   "metadata": {},
   "source": [
    "```{note}\n",
    "Note that all Lagrange basis functions are such that on the chosen mesh points $(x^{i})_{i=0}^{k}$ we have \n",
    "\n",
    "$$\n",
    "\\ell_j(x^i) = \\delta_{ij} = \\begin{cases} 1 \\text{ for } i=j \\\\\n",
    "0 \\text{ for }  i\\ne j\n",
    "\\end{cases}\n",
    "$$(eq-cases)\n",
    "```\n",
    "\n",
    "```{note}\n",
    "The Lagrange basis functions do not depend on the mesh function values, only on the mesh points. Also note that the mesh points do not need to be uniform, any mesh will do as long as all points are different.\n",
    "```"
   ]
  },
  {
   "cell_type": "markdown",
   "metadata": {},
   "source": [
    "The Lagrange interpolating polynomial is defined as\n",
    "\n",
    "$$\n",
    "L(x) = \\sum_{j=0}^k u^j \\ell_j(x)\n",
    "$$\n",
    "\n",
    "where $u^j$ are the mesh function values at the chosen mesh points. Note that for the linear interpolation example, we would use the two neighbouring values $(u^0, u^1) = (u_3, u_4)$.\n",
    "\n",
    "Because of {eq}`eq-cases` we automatically get that\n",
    "\n",
    "$$\n",
    "L(x^j) = u^j\n",
    "$$\n",
    "\n",
    "since \n",
    "\n",
    "$$\n",
    "L(x^i) = \\sum_{j=0}^k u^j \\ell_j(x^i)\n",
    "$$\n",
    "\n",
    "and $\\ell_j(x^i) = 1$ for $i=j$, whereas $\\ell_j(x^i) = 0$ for all $i \\ne j$.\n",
    "\n",
    "The Python function `Lagrangefunction` returns the complete Lagrange function: "
   ]
  },
  {
   "cell_type": "code",
   "execution_count": null,
   "metadata": {},
   "outputs": [],
   "source": [
    "def Lagrangefunction(u, basis):\n",
    "    \"\"\"Return Lagrange polynomial\n",
    "    \n",
    "    Parameters\n",
    "    ----------\n",
    "    u : array\n",
    "        Mesh function values\n",
    "    basis : tuple of Lagrange basis functions\n",
    "        Output from Lagrangebasis\n",
    "    \"\"\"\n",
    "    f = 0\n",
    "    for j, uj in enumerate(u):\n",
    "        f += basis[j]*uj\n",
    "    return f"
   ]
  },
  {
   "cell_type": "markdown",
   "metadata": {},
   "source": [
    "Let us try this new function and see if we can reproduce the linear interpolation function that we have already computed above:"
   ]
  },
  {
   "cell_type": "code",
   "execution_count": null,
   "metadata": {},
   "outputs": [],
   "source": [
    "ell = Lagrangebasis(xj[3:5])\n",
    "L = Lagrangefunction(u[3:5], ell)\n",
    "print(L)"
   ]
  },
  {
   "cell_type": "markdown",
   "metadata": {},
   "source": [
    "Works!\n",
    "\n",
    "Term by term this is\n",
    "\n",
    "$$\n",
    "\\ell_0(x) = \\frac{x-x^1}{x^0-x^1} \\quad \\text{and} \\quad\n",
    "\\ell_1(x) = \\frac{x-x^0}{x^1-x^0}\n",
    "$$\n",
    "\n",
    "The Lagrange polynomial is then\n",
    "\n",
    "$$\n",
    "L(x) = u^0 \\ell_0(x) + u^1 \\ell_1(x)\n",
    "$$\n",
    "\n",
    "Inserting for $u^0=0.24, u^1=0.16, x^0=0.6$ and $x^1=0.8$ we get\n",
    "\n",
    "$$\n",
    "L(x) = 0.24\\frac{x-0.8}{0.6-0.8} + 0.16 \\frac{x-0.6}{0.8-0.6}\n",
    "$$\n",
    "\n",
    "which can be rearranged into\n",
    "\n",
    "$$\n",
    "L(x) = 0.48-0.4x\n",
    "$$\n",
    "\n",
    "which is the same as the linear interpolation we have already computed before."
   ]
  },
  {
   "cell_type": "markdown",
   "metadata": {},
   "source": [
    "```{note}\n",
    "Higher order interpolation simply makes use of more neighbouring points. \n",
    "```"
   ]
  },
  {
   "cell_type": "code",
   "execution_count": null,
   "metadata": {},
   "outputs": [],
   "source": [
    "ell = Lagrangebasis(xj[2:6])\n",
    "L = Lagrangefunction(u[2:6], ell)\n",
    "L"
   ]
  },
  {
   "cell_type": "markdown",
   "metadata": {},
   "source": [
    "We can evaluate the Lagrange polynomial for an array of points as well:"
   ]
  },
  {
   "cell_type": "code",
   "execution_count": null,
   "metadata": {},
   "outputs": [],
   "source": [
    "sp.lambdify(x, L)(np.array([0.5, 0.6, 0.7]))"
   ]
  },
  {
   "cell_type": "markdown",
   "metadata": {},
   "source": [
    "### Interpolation of derivatives\n",
    "\n",
    "Lagrange polynomials can be used to evaluate $u(x)$ inside a domain when the mesh function $u(x_i)$ is known.  But how can we evaluate derivatives $u'(x)$? The most natural approach is perhaps to use a finite difference stencil that computes the derivative at all mesh points\n",
    "\n",
    "$$\n",
    "u'(x_j) = \\frac{u_{j+1}-u_{j-1}}{2h}\n",
    "$$\n",
    "\n",
    "With the matrix $D^{(1)}$\n",
    "\n",
    "$$\n",
    "D^{(1)} = \\frac{1}{2 h}\\begin{bmatrix}\n",
    "-3 & 4 & -1 & 0  & 0 & 0 & 0 & 0  \\\\\n",
    "-1 & 0 & 1 & 0 & 0 & 0 & 0 & \\cdots \\\\\n",
    "0 & -1 & 0 & 1 & 0 & 0 & 0 & \\cdots \\\\\n",
    "\\vdots & & & \\ddots &  & & &\\cdots \\\\\n",
    "\\vdots & 0 & 0 & 0 &  -1& 0& 1& 0 \\\\\n",
    "\\vdots & 0 & 0& 0& 0& -1& 0& 1 \\\\\n",
    "0 & 0 & 0 & 0  & 0 & 1 & -4 & 3 \\\\\n",
    "\\end{bmatrix}\n",
    "$$"
   ]
  },
  {
   "cell_type": "code",
   "execution_count": null,
   "metadata": {},
   "outputs": [],
   "source": [
    "import scipy.sparse as sparse\n",
    "D1 = sparse.diags([-1, 1], [-1, 1], (N+1, N+1), 'lil')\n",
    "D1[0, :3] = -3, 4, -1\n",
    "D1[-1, -3:] = 1, -4, 3\n",
    "D1 *= (N/2)\n",
    "du = D1 @ u\n",
    "du"
   ]
  },
  {
   "cell_type": "markdown",
   "metadata": {},
   "source": [
    "With the derivative available at all mesh points, we can do interpolation with Lagrange interpolation polynomials, exactly like before, only using the mesh function $u'(x_j)$ instead of $u(x_j)$."
   ]
  },
  {
   "cell_type": "code",
   "execution_count": null,
   "metadata": {},
   "outputs": [],
   "source": [
    "Lp = Lagrangefunction(du[2:6], ell)\n",
    "print(Lp.subs(x, 0.75))"
   ]
  },
  {
   "cell_type": "markdown",
   "metadata": {},
   "source": [
    "This result is exact since $u(x) = x(1-x)$ and thus $u'(x)=1-2x$ leading to $u'(0.75)=1-2\\cdot 0.75 = -0.5$."
   ]
  },
  {
   "cell_type": "markdown",
   "metadata": {},
   "source": [
    "However, this is a rather costly operation since it involves a matrix and the solution at all mesh points. Is it possible to do better?\n",
    "\n",
    "Well, we already have the mesh function $u(x_j)$ and the Lagrange polynomial\n",
    "\n",
    "$$\n",
    "L(x) = \\sum_{j=0}^k u^j \\ell_j(x)\n",
    "$$\n",
    "\n",
    "This polynomial is an ordinary function and as such it can be differentiated\n",
    "\n",
    "$$\n",
    "L'(x) = \\sum_{j=0}^k u^j \\ell'_j(x)\n",
    "$$\n",
    "\n",
    "We can thus use the Lagrange polynomial that we have created between mesh points $(x_2, x_3, x_4, x_5)$, which is currently stored in `L`:"
   ]
  },
  {
   "cell_type": "code",
   "execution_count": null,
   "metadata": {},
   "outputs": [],
   "source": [
    "dL = sp.diff(L, x)\n",
    "print(dL.subs(x, 0.75))"
   ]
  },
  {
   "cell_type": "markdown",
   "metadata": {},
   "source": [
    "This works exactly because we have chosen a second order polynomial as mesh function and the derivative is a linear polynomial $1-2x$. But the approach is generic and we do not have to compute $u'(x)$ on the entire mesh, we can simply use the mesh function (that is already computed) and the Lagrange polynomials."
   ]
  },
  {
   "cell_type": "markdown",
   "metadata": {},
   "source": [
    "## Two-dimensional interpolation\n",
    "\n",
    "We now consider the 2D problem where we have the mesh function\n",
    "\n",
    "$$\n",
    "u_{ij} = u(x_i, y_j)\n",
    "$$\n",
    "\n",
    "and want to evaluate this mesh function for some point inside the domain that is not a mesh point. We now need to interpolate in two dimensions. To get started we need a 2D mesh and an appropriate mesh function to interpolate. We will use the 2D function\n",
    "\n",
    "$$\n",
    "u(x, y) = x(1-x)y(1-y)\n",
    "$$\n",
    "\n",
    "and a domain $\\Omega = [0, 1]^2$. \n",
    "\n",
    "```{note}\n",
    "It is common to write $[a, b]^2$ for the Cartesian product of a set with itself. So $[0, 1]^2 = [0, 1] \\times [0, 1]$\n",
    "```"
   ]
  },
  {
   "cell_type": "code",
   "execution_count": null,
   "metadata": {},
   "outputs": [],
   "source": [
    "def mesh2D(Nx, Ny, Lx, Ly, sparse=False):\n",
    "    x = np.linspace(0, Lx, Nx+1)\n",
    "    y = np.linspace(0, Ly, Ny+1)\n",
    "    return np.meshgrid(x, y, indexing='ij', sparse=sparse)\n",
    "\n",
    "N = 10\n",
    "xij, yij = mesh2D(N, N, 1, 1, False)\n",
    "u2 = xij*(1-xij)*yij*(1-yij)\n",
    "plt.figure(figsize=(3, 2))\n",
    "plt.contourf(xij, yij, u2);"
   ]
  },
  {
   "cell_type": "markdown",
   "metadata": {},
   "source": [
    "We want to find $u(0.55, 0.65)$ from the mesh function $U=(u_{ij})_{i,j=0}^{N, N}$.\n",
    "\n",
    "There are several procedures for performing 2D interpolation. We will choose the Lagrange interpolation first and use $k+1$ points in both $x$ and $y$ directions. In this case the Lagrange interpolating polynomial will be\n",
    "\n",
    "$$\n",
    "L(x, y) = \\sum_{m=0}^k\\sum_{n=0}^k u^{m,n} \\ell_{m}(x) \\ell_{n}(y)\n",
    "$$(eq-Lagrange)\n",
    "\n",
    "where $u^{m,n}$ are the mesh function values for the points we choose for the interpolation, that should be the points closest to the interpolated point. For our case with $N=10$ this would be the four points $(u_{ij})_{i=5, j=6}^{6, 7}$. \n",
    "\n",
    "The four interpolation points are shown as blue dots in the figure below, and the point we are trying to evaluate is shown as a red dot"
   ]
  },
  {
   "cell_type": "code",
   "execution_count": null,
   "metadata": {
    "tags": [
     "hide-input"
    ]
   },
   "outputs": [],
   "source": [
    "plt.figure(figsize=(6, 4))\n",
    "plt.contourf(xij, yij, u2)\n",
    "plt.scatter(xij[5:7, 6:8], yij[5:7, 6:8])\n",
    "plt.plot(np.array([0.55]), np.array([0.65]), 'ro')\n",
    "plt.xticks(xij[:, 0])\n",
    "plt.yticks(xij[:, 0])\n",
    "plt.grid()"
   ]
  },
  {
   "cell_type": "markdown",
   "metadata": {},
   "source": [
    "The Lagrange basis functions $\\ell_m(x)$ and $\\ell_n(y)$ are computed exactly as before, only now with $\\ell_m(x)$ using points along the $x$-direction (for linear $(x^0, x^1)=(x_5, x_6))$ whereas $\\ell_n(y)$ are using points along the $y$-direction (for linear $(y^0, y^1)=(y_6, y_7)$). Naturally, we can choose more points if we want more than linear interpolation.\n",
    "\n",
    "We can reuse the previously defined function `Lagrangebasis`, since both $\\ell_m(x)$ and $\\ell_n(y)$ are one-dimensional functions. This was the reason why we gave `Lagrangebasis` a keyword argument `x=x`, because now we can compute $\\ell_n(y)$ using a Symbol `y` as shown below:"
   ]
  },
  {
   "cell_type": "code",
   "execution_count": null,
   "metadata": {},
   "outputs": [],
   "source": [
    "y = sp.Symbol('y')\n",
    "lx = Lagrangebasis(xij[5:7, 0], x=x)\n",
    "ly = Lagrangebasis(yij[0, 6:8], x=y)"
   ]
  },
  {
   "cell_type": "markdown",
   "metadata": {},
   "source": [
    "We need a new function for the 2D Lagrange polynomial though, since this is a double loop"
   ]
  },
  {
   "cell_type": "code",
   "execution_count": null,
   "metadata": {},
   "outputs": [],
   "source": [
    "def Lagrangefunction2D(u, basisx, basisy):\n",
    "    N, M = u.shape\n",
    "    f = 0\n",
    "    for i in range(N):\n",
    "        for j in range(M):\n",
    "            f += basisx[i]*basisy[j]*u[i, j]\n",
    "    return f"
   ]
  },
  {
   "cell_type": "markdown",
   "metadata": {},
   "source": [
    "`Lagrangefunction2D` should return a Lagrange function like {eq}`eq-Lagrange`.\n",
    "\n",
    "We can now test the function by first creating it"
   ]
  },
  {
   "cell_type": "code",
   "execution_count": null,
   "metadata": {},
   "outputs": [],
   "source": [
    "f = Lagrangefunction2D(u2[5:7, 6:8], lx, ly)\n",
    "f"
   ]
  },
  {
   "cell_type": "code",
   "execution_count": null,
   "metadata": {},
   "outputs": [],
   "source": [
    "sp.simplify(f)"
   ]
  },
  {
   "cell_type": "markdown",
   "metadata": {},
   "source": [
    "and then checking that it works"
   ]
  },
  {
   "cell_type": "code",
   "execution_count": null,
   "metadata": {},
   "outputs": [],
   "source": [
    "ue = x*(1-x)*y*(1-y)\n",
    "print(f.subs({x: 0.55, y: 0.65}), ue.subs({x: 0.55, y: 0.65}))"
   ]
  },
  {
   "cell_type": "markdown",
   "metadata": {},
   "source": [
    "The results are not identical because this is merely a first order interpolation. With one additional point using $(x_5, x_6, x_7)$ and $(y_5, y_6, y_7)$ we get"
   ]
  },
  {
   "cell_type": "code",
   "execution_count": null,
   "metadata": {},
   "outputs": [],
   "source": [
    "lx = Lagrangebasis(xij[5:8, 0], x=x)\n",
    "ly = Lagrangebasis(yij[0, 5:8], x=y)\n",
    "L2 = Lagrangefunction2D(u2[5:8, 5:8], lx, ly)\n",
    "print(L2.subs({x: 0.55, y: 0.65}), ue.subs({x: 0.55, y: 0.65}))"
   ]
  },
  {
   "cell_type": "markdown",
   "metadata": {},
   "source": [
    "These two results are now identical since the polynomials are second order."
   ]
  },
  {
   "cell_type": "markdown",
   "metadata": {},
   "source": [
    "### Partial derivatives\n",
    "\n",
    "We can compute partial derivatives in 2D, much like we did for the 1D case. We compute the derivatives from the mesh function $U = (u_{ij})_{i,j=0}^{N_x, N_y}$ as\n",
    "\n",
    "$$\n",
    "\\left(\\frac{\\partial u}{\\partial x}(x_i, y_j)\\right)_{i,j=0}^{N_x, N_y} = D^{(1)} U \\quad \\text{and} \\quad \\left(\\frac{\\partial u}{\\partial y}(x_i, y_j)\\right)_{i,j=0}^{N_x, N_y} =  U (D^{(1)})^T\n",
    "$$\n",
    "\n",
    "The results will both be new mesh functions defined on the entire mesh. Like in 1D this is unnecessary if all you want is to compute only the derivative in a single point. In that case you can, again like in 1D, take the derivative of the Lagrange polynomial\n",
    "\n",
    "$$\n",
    "\\frac{\\partial u}{\\partial x} = \\frac{\\partial L(x, y)}{\\partial x} = \\sum_{m=0}^k\\sum_{n=0}^k u^{m,n} \\frac{\\partial \\ell_{m}(x)}{\\partial x} \\ell_{n}(y)\n",
    "$$\n",
    "$$\n",
    "\\frac{\\partial u}{\\partial y} = \\frac{\\partial L(x, y)}{\\partial y} = \\sum_{m=0}^k\\sum_{n=0}^k u^{m,n} \\ell_{m}(x) \\frac{\\partial \\ell_{n}(y)}{\\partial y}\n",
    "$$\n",
    "\n",
    "Try this with Sympy and verify with analytical solution:"
   ]
  },
  {
   "cell_type": "code",
   "execution_count": null,
   "metadata": {},
   "outputs": [],
   "source": [
    "dLx = sp.diff(L2, x)\n",
    "dLy = sp.diff(L2, y)\n",
    "print(dLx.subs({x: 0.55, y: 0.65}), sp.diff(ue, x).subs({x: 0.55, y: 0.65}))"
   ]
  },
  {
   "cell_type": "markdown",
   "metadata": {},
   "source": [
    "### Other tools for interpolation\n",
    "\n",
    "There are also other tools in Numpy and Scipy that can help you do 2D interpolation with minimal effort. Most of them are based on splines, which is not a topic in this class, but still useful to know about. We can do interpolation with simple, one-line calls, as follows"
   ]
  },
  {
   "cell_type": "code",
   "execution_count": null,
   "metadata": {},
   "outputs": [],
   "source": [
    "from scipy.interpolate import interpn\n",
    "print(interpn((xij[5:8, 0], yij[0, 5:8]), u2[5:8, 5:8], np.array([0.55, 0.65])))"
   ]
  },
  {
   "cell_type": "markdown",
   "metadata": {},
   "source": [
    "Here we get the same result as linear above even though we use 3 points in each direction. This is because `interpn` is using `linear` interpolation by default. Modify this to `cubic` (which requires 4 points in each direction) to obtain better accuracy"
   ]
  },
  {
   "cell_type": "code",
   "execution_count": null,
   "metadata": {},
   "outputs": [],
   "source": [
    "print(interpn((xij[5:9, 0], yij[0, 5:9]), u2[5:9, 5:9], np.array([0.55, 0.65]), method='cubic'))"
   ]
  },
  {
   "cell_type": "markdown",
   "metadata": {},
   "source": [
    "## Errors and integration\n",
    "\n",
    "For the numerical solution $u$ and the exact solution $u^{e}$ the $L^2$ error norm can in general, for any domain $\\Omega$ and number of dimensions, be defined as\n",
    "\n",
    "$$\n",
    "\\|u-u^{e}\\|_{L^2} = \\sqrt{\\int_{\\Omega} (u-u^{e})^2 d\\Omega}\n",
    "$$\n",
    "\n",
    "In 2D $\\Omega = [0, L_x] \\times [0, L_y]$ and the integral becomes\n",
    "\n",
    "$$\n",
    "\\|u-u^{e}\\|_{L^2} = \\sqrt{\\int_{0}^{L_x}\\int_0^{L_y}(u-u^{e})^2 dy dx}\n",
    "$$\n",
    "\n",
    "Hence we need to be able to compute such double integrals. One approach is the midpoint rule computed for any integrand $u(x, y)$ as follows\n",
    "\n",
    "$$\n",
    "\\int_{0}^{L_x}\\int_0^{L_y}u(x,y) dy dx = \\sum_{i=0}^{N_x-1} \\sum_{j=0}^{N_y-1} u((i+0.5)\\Delta x, (j+0.5) \\Delta y) \\Delta x \\Delta y\n",
    "$$\n",
    "\n",
    "This integral requires the value of the function $u$ in the middle of all the computational cells, where the cells are defined as all the squares in the figure below. In order to compute the value of  $u$ in the center of all cells, we need to interpolate. Linear interpolation will in this case lead to an average of $u$ in the four surrounding nodes, marked with blue dots in the figure for $u(2.5 \\Delta x, 1.5 \\Delta y)$."
   ]
  },
  {
   "cell_type": "code",
   "execution_count": null,
   "metadata": {
    "tags": [
     "hide-input"
    ]
   },
   "outputs": [],
   "source": [
    "fig = plt.figure(figsize=(4, 4))\n",
    "N = 5\n",
    "for i in range(N):\n",
    "    plt.plot((0, N-1), (i, i), 'k')\n",
    "for j in range(N):\n",
    "    plt.plot((j, j), (0, N-1), 'k')\n",
    "ax = fig.gca()\n",
    "ax.axis('off')\n",
    "ax.axis('equal')\n",
    "plt.plot(2.5, 1.5, 'ko')\n",
    "plt.plot(2, 1, 'bo')\n",
    "plt.plot(2, 2, 'bo')\n",
    "plt.plot(3, 1, 'bo')\n",
    "plt.plot(3, 2, 'bo')\n",
    "plt.text(2.5, 1.6, r\"$u(\\frac{5\\Delta x}{2}, \\frac{3\\Delta y}{2})$\", horizontalalignment='center');"
   ]
  },
  {
   "cell_type": "markdown",
   "metadata": {},
   "source": [
    "Lets create a mesh function from an analytical solution"
   ]
  },
  {
   "cell_type": "code",
   "execution_count": null,
   "metadata": {},
   "outputs": [],
   "source": [
    "N = 20\n",
    "xij, yij = mesh2D(N, N, 1, 1, False)\n",
    "u2 = np.cos(xij)*(1-xij)*np.sin(yij)*(1-yij)\n",
    "ue = sp.cos(x)*(1-x)*sp.sin(y)*(1-y)"
   ]
  },
  {
   "cell_type": "markdown",
   "metadata": {},
   "source": [
    "We can compute values of $u$ in all the cell centers easily using vectorization. For the field `u2` defined above with shape $(N_x+1)\\times (N_y+1)$ we get "
   ]
  },
  {
   "cell_type": "code",
   "execution_count": null,
   "metadata": {},
   "outputs": [],
   "source": [
    "um = (u2[:-1, :-1]+u2[1:, :-1]+u2[:-1, 1:]+u2[1:, 1:])/4"
   ]
  },
  {
   "cell_type": "markdown",
   "metadata": {},
   "source": [
    "Note that `um` is a matrix of shape $N_x \\times N_y$.\n",
    "The integral required for the $L^2$-norm can now be computed easily and we get the following function for the $L^2$ error"
   ]
  },
  {
   "cell_type": "code",
   "execution_count": null,
   "metadata": {},
   "outputs": [],
   "source": [
    "def L2_error(u, dx, dy):\n",
    "    um = (u[:-1, :-1]+u[1:, :-1]+u[:-1, 1:]+u[1:, 1:])/4\n",
    "    return np.sqrt(np.sum(um**2*dx*dy))\n",
    "ua = sp.lambdify((x, y), ue)(xij, yij)\n",
    "L2_error(u2-ua, 1/N, 1/N)"
   ]
  },
  {
   "cell_type": "markdown",
   "metadata": {},
   "source": [
    "The result is close to machine precision, which it should be because the Lagrange interpolator produces results identical to the mesh function at all mesh points. Hence, to test the integral, we can send in just the mesh function instead:"
   ]
  },
  {
   "cell_type": "code",
   "execution_count": null,
   "metadata": {},
   "outputs": [],
   "source": [
    "L2_error(u2, 1/N, 1/N)"
   ]
  },
  {
   "cell_type": "markdown",
   "metadata": {},
   "source": [
    "The exact answer is close"
   ]
  },
  {
   "cell_type": "code",
   "execution_count": null,
   "metadata": {},
   "outputs": [],
   "source": [
    "float(sp.sqrt(sp.integrate(sp.integrate(ue**2, (y, 0, 1)), (x, 0, 1))))"
   ]
  },
  {
   "cell_type": "markdown",
   "metadata": {},
   "source": [
    "Just like for the 1D case there is a simplification using the small $\\ell^2$ norm instead\n",
    "\n",
    "$$\n",
    "\\|(u-u_e)\\|_{\\ell^2} = \\sqrt{ \\Delta x \\Delta y \\sum_{i=0}^{N_x}\\sum_{j=0}^{N_y} (u_{ij}-u^{e}_{ij})^2 }\n",
    "$$\n",
    "\n",
    "The result will be very similar to the $L^2$-norm for most mesh functions. Note how the sums are from 0 to $N_x$ and $N_y$ above, since these are sums over nodes and not cell centers. The $l^2$ error is very easy to implement:"
   ]
  },
  {
   "cell_type": "code",
   "execution_count": null,
   "metadata": {},
   "outputs": [],
   "source": [
    "def l2_error(u, dx, dy):\n",
    "    return np.sqrt(dx*dy*np.sum(u**2))\n",
    "l2_error(u2, 1/N, 1/N)"
   ]
  },
  {
   "cell_type": "markdown",
   "metadata": {},
   "source": [
    "which is less accurate than the midpoint rule, but still useful as an error measure. (Note that this $\\ell^2$ norm is not really supposed to represent the integral exactly, and as such it makes little sense to compare the number to the integral.)\n",
    "\n",
    "You can also use nested [trapz](https://numpy.org/doc/stable/reference/generated/numpy.trapz.html) or  [Simpson's rule](https://docs.scipy.org/doc/scipy/reference/generated/scipy.integrate.simpson.html) for the integration:"
   ]
  },
  {
   "cell_type": "code",
   "execution_count": null,
   "metadata": {},
   "outputs": [],
   "source": [
    "def L2_error_trapz(u, dx, dy):\n",
    "    return np.sqrt(np.trapz(np.trapz(u**2, dx=dy, axis=1), dx=dx))\n",
    "L2_error_trapz(u2, 1/N, 1/N)"
   ]
  },
  {
   "cell_type": "code",
   "execution_count": null,
   "metadata": {},
   "outputs": [],
   "source": [
    "def L2_error_simps(u, dx, dy):\n",
    "    from scipy.integrate import simpson as simp\n",
    "    return np.sqrt(simp(simp(u**2, dx=dy, axis=1), dx=dx))\n",
    "L2_error_simps(u2, 1/N, 1/N)"
   ]
  },
  {
   "cell_type": "markdown",
   "metadata": {},
   "source": [
    "### Integration over boundary\n",
    "\n",
    "In many real problems we are interested in average values, or values integrated over a boundary. For example, to compute lift and drag on an airfoil wing you need to integrate both pressure and friction forces over the entire wing boundary. We do not yet have such complicated geometries here, but it is still useful to know how to compute integrals over boundaries. Like for the $L^2$ error norm we will need to use numerical integration.\n",
    "\n",
    "Let us compute the measure $\\overline{u}(y) = \\int_{0}^{L_x} u(x, y) dx$. Note that the result is a function of $y$, but not $x$ since we integrate over the $x$-direction. "
   ]
  },
  {
   "cell_type": "code",
   "execution_count": null,
   "metadata": {},
   "outputs": [],
   "source": [
    "def integrate_x(u, dx):\n",
    "    return np.trapz(u, dx=dx, axis=0)\n",
    "\n",
    "integrate_x(u2, 1/N)"
   ]
  },
  {
   "cell_type": "markdown",
   "metadata": {},
   "source": [
    "The result is an array of numbers, one for each column index in the matrix `u2`.  The result is a function of $y$. If we only want to compute the integral on one of the two boundaries with constant $y$, then it is less expensive to choose the $j$ index before integrating. This can be done as follows:"
   ]
  },
  {
   "cell_type": "code",
   "execution_count": null,
   "metadata": {},
   "outputs": [],
   "source": [
    "def integrate_boundary_x(u, dx, j=0):\n",
    "    return np.trapz(u[:, j], dx=dx, axis=0)\n",
    "\n",
    "integrate_boundary_x(u2, 1/N, j=0)"
   ]
  },
  {
   "cell_type": "markdown",
   "metadata": {},
   "source": [
    "Computing drag requires the integral of derivatives, like $\\int_{0}^{L_x} \\frac{\\partial u(x, y)}{\\partial y} dx$. For the boundary located at $y=0$ we would then need the mesh function $\\frac{\\partial u}{\\partial y} (x_i, y_0)$ before integrating. Here we can use only the first row of the derivative matrix in $U(D^{(1)})^T$, which simplifies to the following forward difference\n",
    "\n",
    "$$\n",
    "\\frac{\\partial u(x_i, y_0)}{\\partial y} = \\frac{-3u_{i, 0} + 4u_{i, 1} - u_{i, 2}}{2 \\Delta y} \\quad i \\in (0, 1, \\ldots, N_x)\n",
    "$$\n",
    "\n",
    "Having computed $\\frac{\\partial u(x_i, y_0)}{\\partial y}$ we can simply use the trapezoidal integration on the resulting array."
   ]
  },
  {
   "cell_type": "code",
   "execution_count": null,
   "metadata": {},
   "outputs": [],
   "source": [
    "duy = (N/2)*(-3*u2[:, 0] + 4*u2[:, 1] - u2[:, 2])\n",
    "np.trapz(duy, dx=1/N)"
   ]
  },
  {
   "cell_type": "markdown",
   "metadata": {},
   "source": [
    "Let us verify the result using Sympy"
   ]
  },
  {
   "cell_type": "code",
   "execution_count": null,
   "metadata": {},
   "outputs": [],
   "source": [
    "dudye = sp.diff(ue, y)\n",
    "sp.integrate(dudye.subs(y, 0), (x, 0, 1)).n()"
   ]
  },
  {
   "cell_type": "markdown",
   "metadata": {},
   "source": [
    "This seems to be correct, but it should be further verified using refinement of the mesh."
   ]
  },
  {
   "cell_type": "markdown",
   "metadata": {},
   "source": [
    "## The wave equation in 2D plus time\n",
    "\n",
    "We will now consider the wave equation\n",
    "\n",
    "$$\n",
    "\\frac{\\partial^2 u}{\\partial t^2} = c^2 \\nabla^2 u\n",
    "$$\n",
    "\n",
    "in a two-dimensional spatial domain $\\Omega = [0, L_x] \\times [0, L_y]$ and in time $t \\in [0, T]$. The problem will be solved with Dirichlet boundary conditions $u=0$ on the entire boundary, and it will also require an initial condition $u(0, x, y) = I(x, y)$ and an initial derivative, here set to zero $\\frac{\\partial u}{\\partial t}(0, x, y) = 0$.\n",
    "\n",
    "Perhaps surprisingly, this equation is considerably easier to implement than the Poisson equation, because of the hyperbolic nature of the problem. Hyperbolic problems are often solved with recursive methods that simply step the solution forward in time, and do as such not require setting up and solving matrix equations. However, we can still use much of the theory described in lecture 6, about the 2D mesh and 2D discretised equations. \n",
    "\n",
    "```{note}\n",
    "Time-dependent equations like the wave-equation (hyperbolic) are usually easy to implement, but the numerical scheme needs to consider stability as the solution is moved forward in time. Steady-state equations like the Poisson equation (elliptic) are usually more difficult to set up, but stability is then usually not an issue because we are not stepping the solution anywhere (unless we try to solve the problem iteratively). \n",
    "```\n",
    "\n",
    "### Mesh function\n",
    "\n",
    "The computational mesh is the same as in lecture 6, with the domain\n",
    "\n",
    "$$\n",
    "\\Omega = \\boldsymbol{x} \\times \\boldsymbol{y}\n",
    "$$\n",
    "\n",
    "where $\\boldsymbol{x} = (x_i)_{i=0}^{N_x}$, $\\boldsymbol{y} = (y_j)_{j=0}^{N_y}$,\n",
    "\n",
    "$$\n",
    "x_i = i \\Delta x, \\quad i = 0, 1, \\ldots, N_x\n",
    "$$\n",
    "\n",
    "$$\n",
    "y_j = j \\Delta y, \\quad j = 0, 1, \\ldots, N_y\n",
    "$$\n",
    "\n",
    "and $\\Delta x = L_x/N_x$ and $\\Delta y = L_y/N_y$.\n",
    "\n",
    "Time will also use uniform intervals, and $t_n = n \\Delta t$ for $n=0, 1, \\ldots, N_t$. A function $u(t, x, y)$ evaluated on this mesh is now found as\n",
    "\n",
    "$$\n",
    "u^{n}_{ij} = u(t_n, x_i, y_j)\n",
    "$$\n",
    "\n",
    "However, we will only store the solution at three consecutive time steps, just like for the 1D wave problem. We will as such make use of the three mesh functions\n",
    "\n",
    "$$\n",
    "U^{n+1} = (u^{n+1}_{ij})_{i,j=0}^{N_x, N_y} \\quad U^{n} = (u^{n}_{ij})_{i,j=0}^{N_x, N_y} \\quad U^{n-1} = (u^{n-1}_{ij})_{i,j=0}^{N_x, N_y}\n",
    "$$\n",
    "\n",
    "that all are matrices of shape $(N_x+1) \\times (N_y+1)$.\n",
    "\n",
    "We will solve the wave equation using central difference in time as well as in space. A discretization of all internal points is thus\n",
    "\n",
    "$$\n",
    "\\frac{u^{n+1}_{i,j} - 2u^n_{i,j} + u^{n-1}_{i-1, j}}{\\Delta t^2} =\n",
    " c^2 \\left(\\frac{u^n_{i+1,j} - 2u^n_{i,j} + u^n_{i-1, j}}{\\Delta x^2} + \\frac{u^n_{i,j+1} - 2u^n_{i,j} + u^n_{i, j-1}}{\\Delta y^2}\\right)\n",
    "$$\n",
    "\n",
    "On matrix form this equation reads\n",
    "\n",
    "$$\n",
    "\\frac{U^{n+1}-2U^n+U^{n-1}}{\\Delta t^2} = c^2 \\left( D^{(2)}_x U^n + U^n (D^{(2)}_y)^T \\right)\n",
    "$$\n",
    "\n",
    "The initial condition $\\frac{\\partial u}{\\partial t}(0, x, y) = 0$ can be implemented like we did in lecture 5 for the wave equation with one spatial dimension. We use\n",
    "\n",
    "$$\n",
    "\\frac{\\partial u}{\\partial t}(0, x, y) = 0 = \\frac{U^1-U^{-1}}{2 \\Delta t} \\rightarrow U^1 = U^{-1}\n",
    "$$\n",
    "\n",
    "in the PDE for $n=0$\n",
    "\n",
    "$$\n",
    "\\frac{U^{1}-2U^0+U^{-1}}{\\Delta t^2} = c^2 \\left( D^{(2)}_x U^0 + U^0 (D^{(2)}_y)^T \\right)\n",
    "$$\n",
    "\n",
    "such that \n",
    "\n",
    "$$\n",
    "U^1 = U^0 + \\frac{c^2 \\Delta t^2}{2} \\left( D^{(2)}_x U^0 + U^0 (D^{(2)}_y)^T \\right)\n",
    "$$\n",
    "\n",
    "A solution algorithm is thus to\n",
    "\n",
    "   1. Specify $U^0$ and $U^1$ from initial conditions\n",
    "   2. for n in (1, 2, ..., $N_t-1$) compute\n",
    "       * $U^{n+1} = 2U^n - U^{n-1} + (c\\Delta t)^2 \\left( D^{(2)}_x U^n + U^n (D^{(2)}_y)^T \\right)$ \n",
    "       * Apply boundary conditions to $U^{n+1}$\n",
    "       * Swap $U^{n-1} \\leftarrow U^n$ and $U^n \\leftarrow U^{n+1}$"
   ]
  },
  {
   "cell_type": "markdown",
   "metadata": {},
   "source": [
    "Other than that we can simply reuse a lot of code from lecture 6. A function for the second derivative matrix is:"
   ]
  },
  {
   "cell_type": "code",
   "execution_count": null,
   "metadata": {},
   "outputs": [],
   "source": [
    "import numpy as np\n",
    "import scipy.sparse as sparse\n",
    "\n",
    "def D2(N):\n",
    "    D = sparse.diags([1, -2, 1], [-1, 0, 1], (N+1, N+1), 'lil')\n",
    "    D[0, :4] = 2, -5, 4, -1\n",
    "    D[-1, -4:] = -1, 4, -5, 2\n",
    "    return D"
   ]
  },
  {
   "cell_type": "markdown",
   "metadata": {},
   "source": [
    "A function `mesh2D` for creating the 2D mesh has already been described in this notebook. We are thus ready to create a solver that steps the solution forward in time. For simplicity we will use $N_x=N_y=N$ and $L_x=L_y=L$"
   ]
  },
  {
   "cell_type": "code",
   "execution_count": null,
   "metadata": {},
   "outputs": [],
   "source": [
    "def solver(N, L, Nt, cfl=0.5, c=1, store_data=10, \n",
    "           u0=lambda x, y: np.exp(-40*((x-0.6)**2+(y-0.5)**2))):\n",
    "    xij, yij = mesh2D(N, N, L, L)\n",
    "    Unp1, Un, Unm1 = np.zeros((3, N+1, N+1))\n",
    "    Unm1[:] = u0(xij, yij)\n",
    "    dx = L / N\n",
    "    D = D2(N)/dx**2\n",
    "    dt = cfl*dx/c\n",
    "    Un[:] = Unm1[:] + 0.5*(c*dt)**2*(D @ Un + Un @ D.T)\n",
    "    plotdata = {0: Unm1.copy()}\n",
    "    if store_data == 1:\n",
    "        plotdata[1] = Un.copy()\n",
    "    for n in range(1, Nt):\n",
    "        Unp1[:] = 2*Un - Unm1 + (c*dt)**2*(D @ Un + Un @ D.T)\n",
    "        # Set boundary conditions\n",
    "        Unp1[0] = 0\n",
    "        Unp1[-1] = 0\n",
    "        Unp1[:, -1] = 0\n",
    "        Unp1[:, 0] = 0\n",
    "        # Swap solutions\n",
    "        Unm1[:] = Un\n",
    "        Un[:] = Unp1\n",
    "        if n % store_data == 0:\n",
    "            plotdata[n] = Unm1.copy() # Unm1 is now swapped to Un\n",
    "    return xij, yij, plotdata"
   ]
  },
  {
   "cell_type": "markdown",
   "metadata": {},
   "source": [
    "Note that boundary conditions can be set after stepping the solution forward in time. Hence it does not really matter what is done to the solution at boundaries when `Unp1` is computed, because the boundary will be modified later. This is very different from when we solve the Poisson equation and it is possible because of the recursive (explicit) solution algorithm. Note that the unknown `Unp1` is not part of the right hand side in the update\n",
    "\n",
    "$$\n",
    "U^{n+1} = 2U^n - U^{n-1} + (c\\Delta t)^2 \\left( D^{(2)}_x U^n + U^n (D^{(2)}_y)^T \\right)\n",
    "$$\n",
    "\n",
    "A vectorized algorithm for this problem is possible, and it would read\n",
    "\n",
    "$$\n",
    "\\text{vec}(U^{n+1}) = 2 \\text{vec}(U^n) - \\text{vec}(U^{n-1}) + (c\\Delta t)^2 \\left( D^{(2)}_x \\otimes I_y + I_x \\otimes D^{(2)}_y \\right) \\text{vec}(U^n)\n",
    "$$\n",
    "\n",
    "However, this approach is not necessary, since we use a recursive solution algorithm that simply updates $U^{n+1}$. Note that if we were to write this vectorized equation as `Ax=b`, then `A` would simply be equal to the identity matrix and `b` would be equal to the entire right hand side above. Since `A` is the identity matrix, the linear algebra problem is already taken care of. For the Poisson equation it is different because `A` equals $D^{(2)}_x \\otimes I_y + I_x \\otimes D^{(2)}_y$. As stated initially, the hyperbolic nature of the wave equation makes it significantly easier to solve than the elliptic Poisson equation.\n",
    "\n",
    "We are now ready to solve the wave equation for a chosen mesh size and we also choose to store the solution every fifth time step."
   ]
  },
  {
   "cell_type": "code",
   "execution_count": null,
   "metadata": {},
   "outputs": [],
   "source": [
    "xij, yij, data = solver(40, 1, 501, cfl=0.5, store_data=5)"
   ]
  },
  {
   "cell_type": "markdown",
   "metadata": {},
   "source": [
    "Plot the initial data"
   ]
  },
  {
   "cell_type": "code",
   "execution_count": null,
   "metadata": {},
   "outputs": [],
   "source": [
    "from matplotlib import cm\n",
    "\n",
    "fig, ax = plt.subplots(subplot_kw={\"projection\": \"3d\"})\n",
    "surf = ax.plot_surface(xij, yij, data[0], cmap=cm.coolwarm,\n",
    "                       linewidth=0, antialiased=False)"
   ]
  },
  {
   "cell_type": "markdown",
   "metadata": {},
   "source": [
    "Create an animation for the solution using matplotlib."
   ]
  },
  {
   "cell_type": "code",
   "execution_count": null,
   "metadata": {},
   "outputs": [],
   "source": [
    "%%capture \n",
    "# capture, otherwise there will be a plot in this cell\n",
    "import matplotlib.animation as animation\n",
    "\n",
    "fig, ax = plt.subplots(subplot_kw={\"projection\": \"3d\"})\n",
    "frames = []\n",
    "for n, val in data.items():\n",
    "    frame = ax.plot_wireframe(xij, yij, val, rstride=2, cstride=2);\n",
    "    #frame = ax.plot_surface(xij, yij, val, vmin=-0.5*data[0].max(), \n",
    "    #                        vmax=data[0].max(), cmap=cm.coolwarm,\n",
    "    #                        linewidth=0, antialiased=False)\n",
    "    frames.append([frame])\n",
    "    \n",
    "ani = animation.ArtistAnimation(fig, frames, interval=400, blit=True,\n",
    "                                repeat_delay=1000)\n",
    "ani.save('wavemovie2d.apng', writer='pillow', fps=5) # This animated png opens in a browser"
   ]
  },
  {
   "cell_type": "code",
   "execution_count": null,
   "metadata": {},
   "outputs": [],
   "source": [
    "from IPython.display import HTML\n",
    "from IPython.display import display\n",
    "display(HTML(ani.to_jshtml()))"
   ]
  },
  {
   "cell_type": "markdown",
   "metadata": {},
   "source": [
    "Note that the CFL number $C = c \\Delta t / \\Delta x$ here needs to be smaller than $1/\\sqrt{2}$ in order to get a stable solution. This number follows from the two-dimensional nature of the problem where the wave can spread out in two dimensions. Try to solve the problem above with CFL=1 and it should blow up.\n",
    "\n",
    "Note that there is usually one CFL number for each direction in a two-dimensional problem:\n",
    "\n",
    "$$\n",
    "C_x = \\frac{c \\Delta t}{\\Delta x} \\quad \\text{and} \\quad C_y = \\frac{c \\Delta t}{\\Delta y}\n",
    "$$\n",
    "\n",
    "and for the current problem you need (see Eq. (2.97) in the [PDE book](https://link.springer.com/book/10.1007/978-3-319-55456-3))\n",
    "\n",
    "$$\n",
    "C_x^2 + C_y^2 \\le 1\n",
    "$$\n",
    "\n",
    "which for $\\Delta x = \\Delta y$ leads to $\\frac{c \\Delta t}{ \\Delta x} \\le \\frac{1}{\\sqrt{2}}$."
   ]
  }
 ],
 "metadata": {
  "celltoolbar": "Tags",
  "kernelspec": {
   "display_name": "bookmatmek4270",
   "language": "python",
   "name": "bookmatmek4270"
  },
  "language_info": {
   "codemirror_mode": {
    "name": "ipython",
    "version": 3
   },
   "file_extension": ".py",
   "mimetype": "text/x-python",
   "name": "python",
   "nbconvert_exporter": "python",
   "pygments_lexer": "ipython3",
   "version": "3.9.18"
  },
  "toc": {
   "base_numbering": 1,
   "nav_menu": {},
   "number_sections": false,
   "sideBar": true,
   "skip_h1_title": false,
   "title_cell": "Table of Contents",
   "title_sidebar": "Contents",
   "toc_cell": false,
   "toc_position": {},
   "toc_section_display": true,
   "toc_window_display": false
  }
 },
 "nbformat": 4,
 "nbformat_minor": 2
}
