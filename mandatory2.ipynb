{
 "cells": [
  {
   "cell_type": "markdown",
   "metadata": {},
   "source": [
    "# Mandatory assignment due 10 November - 2023\n",
    "\n",
    "\n",
    "* Please organize you project in a fork of the repository at: https://github.com/MATMEK-4270/matmek4270-mandatory2. You should start by changing the badge in the README to reflect your own work.\n",
    "\n",
    "* Collaboration/discussion among students is encouraged, but each student need an individual fork of the repository.\n",
    "\n",
    "* You need a green badge in order to pass the mandatory assignment.\n"
   ]
  },
  {
   "cell_type": "markdown",
   "metadata": {},
   "source": [
    "This mandatory assignment is probably mostly about reading and understanding code. The assignment's repository contains one single Python module [galerkin.py](https://github.com/MATMEK-4270/matmek4270-mandatory2/blob/main/galerkin.py) of approximately 400 lines of code plus some tests. In these lines the module implements a software framework for the Galerkin method that can be used both for function approximation and for solving ordinary differential equations (of order up to 2). The framework is very similar to [shenfun](https://github.com/spectralDNS/shenfun), but highly simplified since it only works for one-dimensional ordinary differential equations of order less than or equal to two. The framework is also quite similar to the finite element framework [FEniCS](https://fenicsproject.org). You will find a lot of the implemented methods have a direct analogy in both frameworks. For example, [evaluate_basis_function](https://github.com/MATMEK-4270/matmek4270-mandatory2/blob/4d733b4b1652828b3e71d379c454e03f3afff654/galerkin.py#L60), has an analog method called `evaluate_basis` both in [FEniCS](https://bitbucket.org/fenics-project/dolfin/src/fd662efc1c0ddefa341c1dac753f717f6b6292a8/dolfin/fem/FiniteElement.h?at=master#lines-104) and [shenfun](https://github.com/spectralDNS/shenfun/blob/749af4d09d10cafab6c8c42db6c9b002d8b8d998/shenfun/spectralbase.py#L340). There are also analog methods to `evaluate_basis_all` and `evaluate_derivative_basis_function` in both the frameworks.\n",
    "\n",
    "The implemented framework in [galerkin.py](https://github.com/MATMEK-4270/matmek4270-mandatory2/blob/main/galerkin.py) is meant to illustrate that the Galerkin method is a highly structured method, where everything falls out of choosing basis functions. Most of the framework is in place, but you need to fill in some of the methods in order for all the tests to pass. The intention is that you need to read and understand the code in order to add the correct methods. You do not need to add more methods than those that are already missing (raise NotImplementedError), but it does not hurt either. \n",
    "\n",
    "The assignment is passed when the badge turns green. Good luck:-)\n"
   ]
  },
  {
   "cell_type": "markdown",
   "metadata": {},
   "source": []
  }
 ],
 "metadata": {
  "kernelspec": {
   "display_name": "matmek4270",
   "language": "python",
   "name": "python3"
  },
  "language_info": {
   "name": "python",
   "version": "3.12.3"
  }
 },
 "nbformat": 4,
 "nbformat_minor": 2
}
