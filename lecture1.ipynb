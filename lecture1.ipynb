{
 "cells": [
  {
   "cell_type": "markdown",
   "metadata": {},
   "source": [
    "# Lecture 1\n",
    "\n",
    "## Finite difference models for exponential decay\n",
    "\n",
    "A model for exponential decay is\n",
    "\n",
    "$$\n",
    "\\frac{du}{dt} = -a u, \\quad u(0)=I, \\quad t \\in [0, T],\n",
    "$$(eq:expdecay)\n",
    "where $a>0$ is a constant and $u(t)$ is the solution. For this course it is not very important what $u(t)$ represents, but it could be any scalar like temperature or money. Something that decays exponentially in time.\n",
    "\n",
    "We want to solve Eq. {eq}`eq:expdecay` using a finite difference numerical method. This may seem strange since the exact solution to {eq}`eq:expdecay` is trivially obtained as\n",
    "\n",
    "$$\n",
    "u(t) = I \\exp(-at).\n",
    "$$(eq:decay_exact)\n",
    "However, this exact solution will serve us well for validation of the finite difference schemes."
   ]
  },
  {
   "cell_type": "markdown",
   "metadata": {},
   "source": [
    "### The Finite difference method\n",
    "\n",
    "The finite difference method divides (in 1D) the line into a mesh and solves equations only for specific locations (nodes) in the mesh. A mesh is created for $t = 0, \\Delta t, 2\\Delta t, \\ldots, N \\Delta t$. To this end we use the discrete times $t_n=n \\Delta t$ for $n=0, 1, \\ldots N$ and $T=t_N = N \\Delta t$. Similarly we use the discrete solutions $u^n = u(t_n)$ for $n=0, 1, \\ldots, N$.\n",
    "\n",
    "![tikz](line.png)"
   ]
  },
  {
   "cell_type": "code",
   "execution_count": null,
   "metadata": {
    "tags": []
   },
   "outputs": [],
   "source": [
    "import matplotlib.pyplot as plt\n",
    "import numpy as np\n",
    "\n",
    "N = 100\n",
    "T = 1\n",
    "t = np.linspace(0, T, N)\n",
    "#plt.figure(figsize=(5, 3))\n",
    "f = lambda t: t + np.sin(4*t*np.pi) + np.sin(t*np.pi)\n",
    "plt.plot(t, f(t))\n",
    "t = np.linspace(0, T, 7)\n",
    "plt.plot(t, f(t), 'ko-')\n",
    "plt.legend(['Exact', 'FD']);"
   ]
  },
  {
   "cell_type": "markdown",
   "metadata": {},
   "source": [
    "Hii"
   ]
  }
 ],
 "metadata": {
  "kernelspec": {
   "display_name": "matmek4270",
   "language": "python",
   "name": "python3"
  },
  "language_info": {
   "codemirror_mode": {
    "name": "ipython",
    "version": 3
   },
   "file_extension": ".py",
   "mimetype": "text/x-python",
   "name": "python",
   "nbconvert_exporter": "python",
   "pygments_lexer": "ipython3",
   "version": "3.12.3"
  }
 },
 "nbformat": 4,
 "nbformat_minor": 2
}
