{
 "cells": [
  {
   "cell_type": "markdown",
   "metadata": {},
   "source": [
    "# Lecture 6\n",
    "\n",
    "## Two-dimensional spatial domain\n",
    "\n",
    "We will now consider equations within a simple two-dimensional spatial domain. To get started we will look at the Poisson equation\n",
    "\n",
    "$$\n",
    "\\nabla^2 u = f,\n",
    "$$\n",
    "\n",
    "which in two-dimensional Cartesian coordinates is\n",
    "\n",
    "$$\n",
    "\\frac{\\partial^2 u}{\\partial x^2} + \\frac{\\partial^2 u}{\\partial y^2} = f.\n",
    "$$\n",
    "\n",
    "We consider the equation for a rectangular domain\n",
    "\n",
    "$$(x, y) \\in [0, L_x] \\times [0, L_y],$$\n",
    "\n",
    "and Dirichlet boundary conditions. A Dirichlet boundary condition means that the solution is known (or fixed) at the boundary. There are now 4 sides to a rectangle and the solutions needs to be fixed at all these boundaries since there are two derivatives in both $x$ and $y$ directions. We need to fix: \n",
    "\n",
    "$$\\color{red}{ u(x=0, y)}, \\quad \\color{green}{u(x=L_x, y)}$$\n",
    "$$\\color{blue}{u(x, y=0)}, \\quad \\color{magenta}{u(x, y=L_y)}$$ \n",
    "\n",
    "In the figure below the locations of these Dirichlet conditions are plotted in color. \n",
    "\n",
    "Note that the conditions at the two sides $x=0$ and $x=L_x$ can be functions of the other coordinate $y$. Likewise, for the two boundaries with constant $y$ the condition may be a function of $x$. Also note that the boundary conditions need to be consistent in the corners, because each corner belongs to two sides.\n",
    "\n",
    "\n",
    "We will at first simply use a constant value 0 along all boundaries since this is easiest. In that case \n",
    "\n",
    "$$u(x=0, y) = u(x=L_x, y) = u(x, y=0) = u(x, y=L_y) = 0$$\n"
   ]
  },
  {
   "cell_type": "code",
   "execution_count": 11,
   "metadata": {
    "tags": [
     "hide-input"
    ]
   },
   "outputs": [
    {
     "data": {
      "image/png": "[encoded data removed]",
      "text/plain": [
       "<Figure size 600x600 with 1 Axes>"
      ]
     },
     "metadata": {},
     "output_type": "display_data"
    }
   ],
   "source": [
    "import numpy as np\n",
    "import matplotlib.pyplot as plt\n",
    "\n",
    "fig = plt.figure(figsize=(6, 6))\n",
    "N = 8\n",
    "for i in range(1, N-1):\n",
    "    plt.plot((0, N-1), (i, i), 'k')\n",
    "for j in range(1, N-1):\n",
    "    plt.plot((j, j), (0, N-1), 'k')\n",
    "plt.plot((0, 0), (0, N-1), 'r')\n",
    "plt.plot((N-1, N-1), (0, N-1), 'g')\n",
    "plt.plot((0, N-1), (0, 0), 'b')\n",
    "plt.plot((0, N-1), (N-1, N-1), 'm')\n",
    "plt.arrow(-1, -1, 1, 0, head_width=0.2)\n",
    "plt.arrow(-1, -1, 0, 1, head_width=0.2)\n",
    "plt.text(0.4, -1, \"x\")\n",
    "plt.text(-1, 0.6, \"y\")\n",
    "plt.text(-0.2, -0.2, \"$0$\")\n",
    "plt.text(N-1.1, -0.3, \"$L_x$\")\n",
    "plt.text(-0.5, N-1, \"$L_y$\")\n",
    "plt.text(N-1+0.2, (N-1)/2-0.5, \"${u(x=L_x, y)}$\", color='g', rotation='vertical')\n",
    "plt.text(-0.5, (N-1)/2-0.5, \"${u(x=0, y)}$\", color='r', rotation='vertical')\n",
    "plt.text((N-1)/2-0.7, -0.3, \"${u(x, y=0)}$\", color='b')\n",
    "plt.text((N-1)/2-0.7, N-1+0.2, \"${u(x, y=L_y)}$\", color='m')\n",
    "ax = fig.gca()\n",
    "\n",
    "ax.axis('off')\n",
    "ax.axis('equal');"
   ]
  },
  {
   "cell_type": "markdown",
   "metadata": {},
   "source": [
    "## Discretization\n",
    "\n",
    "We discretize the mesh using two lines, one in the $x$-direction and one in the $y$-direction:\n",
    "\n",
    "$$\n",
    "x_i = i \\Delta x, \\quad i = 0, 1, \\ldots, N_x\n",
    "$$\n",
    "\n",
    "$$\n",
    "y_j = j \\Delta y, \\quad j = 0, 1, \\ldots, N_y\n",
    "$$\n",
    "\n",
    "where $\\Delta x = L_x/N_x$ and $\\Delta y = L_y/N_y$. The mesh is plotted above for $N_x=N_y = 8$. We will use vector notation for the mesh, with\n",
    "\n",
    "$$\n",
    "\\boldsymbol{x} = (x_0, x_1, \\ldots, x_{N_x})\n",
    "$$\n",
    "$$\n",
    "\\boldsymbol{y} = (y_0, y_1, \\ldots, y_{N_y})\n",
    "$$\n",
    "\n"
   ]
  },
  {
   "cell_type": "markdown",
   "metadata": {},
   "source": [
    "### Cartesian products\n",
    "\n",
    "In order to create a two-dimensional mesh, like the one seen above, we use a Cartesian product. The Cartesian product is most easily explained through an example. Consider the two arrays (or here [lists](https://docs.python.org/3/tutorial/datastructures.html)) $\\boldsymbol{u}=[1, 2, 3]$ and $\\boldsymbol{v}=[4, 5]$. We can compute the Cartesian product of these two arrays using the Python package [itertools](https://docs.python.org/3/library/itertools.html)\n"
   ]
  },
  {
   "cell_type": "code",
   "execution_count": 12,
   "metadata": {},
   "outputs": [
    {
     "data": {
      "text/plain": [
       "[(1, 4), (1, 5), (2, 4), (2, 5), (3, 4), (3, 5)]"
      ]
     },
     "execution_count": 12,
     "metadata": {},
     "output_type": "execute_result"
    }
   ],
   "source": [
    "import itertools\n",
    "u = [1, 2, 3]\n",
    "v = [4, 5]\n",
    "uxv = itertools.product(u, v)\n",
    "list(uxv)"
   ]
  },
  {
   "cell_type": "markdown",
   "metadata": {},
   "source": [
    "So we get a list containing all possible pairs of items, one from $\\boldsymbol{u}$ and one from $\\boldsymbol{v}$. Since there are 3 items in $\\boldsymbol{u}$ and 2 in $\\boldsymbol{v}$ we get a total of $2 \\cdot 3 = 6$ pairs of numbers. \n",
    "\n",
    "The Cartesian product $\\boldsymbol{u} \\times \\boldsymbol{v}$ can be described mathematically as\n",
    "\n",
    "$$\n",
    "\\boldsymbol{u} \\times \\boldsymbol{v} = \\{ (u, v) \\, | \\,  u \\in \\boldsymbol{u} \\text{ and } v \\in \\boldsymbol{v} \\}, \n",
    "$$\n",
    "\n",
    "which reads all the pairs $(u, v)$ such that $u$ is in the set $\\boldsymbol{u}$ and $v$ in the set $\\boldsymbol{v}$.\n",
    "\n",
    "What does this have to do with a discretization of a computational mesh? Well the computational mesh is a combination of all pairs $(x, y)$ such that $x$ is in the 1D mesh along the $x$-direction ($0, \\Delta x, 2 \\Delta x, \\ldots$) and $y$ is in the 1D mesh along the $y$-direction ($0, \\Delta y, 2 \\Delta y, \\ldots$). We have already defined these two meshes above in the vectors $\\boldsymbol{x}$ and $\\boldsymbol{y}$. So the computational mesh is really\n",
    "\n",
    "$$\n",
    "\\boldsymbol{x} \\times \\boldsymbol{y} = \\{(x, y) \\, | \\, x \\in \\boldsymbol{x} \\text{ and } y \\in \\boldsymbol{y} \\},\n",
    "$$\n",
    "\n",
    "all pairs $(x, y)$ such that $x$ is in $\\boldsymbol{x}$ and $y$ is in $\\boldsymbol{y}$."
   ]
  },
  {
   "cell_type": "markdown",
   "metadata": {},
   "source": [
    "If the meshes are simply\n",
    "\n",
    "$$\n",
    "\\boldsymbol{x} = (0, \\Delta x, 2\\Delta x, 3\\Delta x)  \\text{ and } \\boldsymbol{y} = (0, \\Delta y, 2\\Delta y),\n",
    "$$\n",
    "\n",
    "then a two-dimensional mesh would be all possible combinations of these arrays, as shown below."
   ]
  },
  {
   "cell_type": "code",
   "execution_count": 13,
   "metadata": {
    "tags": [
     "hide-input"
    ]
   },
   "outputs": [
    {
     "data": {
      "image/png": "[encoded data removed]",
      "text/plain": [
       "<Figure size 600x600 with 1 Axes>"
      ]
     },
     "metadata": {},
     "output_type": "display_data"
    }
   ],
   "source": [
    "fig = plt.figure(figsize=(6, 6))\n",
    "for i in range(3):\n",
    "    plt.plot((0, 3), (i, i), 'grey')\n",
    "for j in range(4):\n",
    "    plt.plot((j, j), (0, 2), 'grey')\n",
    "\n",
    "Dx = {0: '0', 1: r'$\\Delta x$', 2: r'$2 \\Delta x$', 3: r'$3\\Delta x$' }\n",
    "Dy = {0: '0', 1: r'$\\Delta y$', 2: r'$2 \\Delta y$', 3: r'$3\\Delta y$' }\n",
    "for i in range(4):\n",
    "    for j in range(3):\n",
    "        plt.plot(i, j, 'ko')\n",
    "        plt.text(i-0.18, j+0.07, f'({Dx[i]}, {Dy[j]})')\n",
    "plt.arrow(-0.5, -0.5, 0.5, 0, head_width=0.1)\n",
    "plt.arrow(-0.5, -0.5, 0, 0.5, head_width=0.1)\n",
    "plt.text(0.3, -0.5, '$x$')\n",
    "plt.text(-0.55, 0.3, '$y$')\n",
    "ax = fig.gca()\n",
    "ax.axis('off')\n",
    "ax.axis('equal');"
   ]
  },
  {
   "cell_type": "markdown",
   "metadata": {},
   "source": [
    "Note that there are $4 \\cdot 3 = 12$ pairs of numbers. If we drop $\\Delta x$ and $\\Delta y$ from the pairs and use only the integers in front of them, we get with itertools:"
   ]
  },
  {
   "cell_type": "code",
   "execution_count": 14,
   "metadata": {},
   "outputs": [
    {
     "name": "stdout",
     "output_type": "stream",
     "text": [
      "[(0, 0), (0, 1), (0, 2), (1, 0), (1, 1), (1, 2), (2, 0), (2, 1), (2, 2), (3, 0), (3, 1), (3, 2)]\n"
     ]
    }
   ],
   "source": [
    "xy = list(itertools.product([0, 1, 2, 3], [0, 1, 2]))\n",
    "print(xy)"
   ]
  },
  {
   "cell_type": "markdown",
   "metadata": {},
   "source": [
    "We see that itertools (or the Cartesian product) presents the result as an array of pairs of length $12$ (12 pairs). It does not shape the product into a Cartesian two-dimensional mesh. The Cartesian product is the same as a double for loop"
   ]
  },
  {
   "cell_type": "code",
   "execution_count": 15,
   "metadata": {},
   "outputs": [
    {
     "name": "stdout",
     "output_type": "stream",
     "text": [
      "[(0, 0), (0, 1), (0, 2), (1, 0), (1, 1), (1, 2), (2, 0), (2, 1), (2, 2), (3, 0), (3, 1), (3, 2)]\n"
     ]
    }
   ],
   "source": [
    "print([(a, b) for a in range(4) for b in range(3)])"
   ]
  },
  {
   "cell_type": "markdown",
   "metadata": {},
   "source": [
    "However, when we illustrate these numbers in a Cartesian mesh, then we see that it is only natural to use two-dimensional arrays."
   ]
  },
  {
   "cell_type": "code",
   "execution_count": 16,
   "metadata": {},
   "outputs": [
    {
     "data": {
      "image/png": "[encoded data removed]",
      "text/plain": [
       "<Figure size 400x400 with 1 Axes>"
      ]
     },
     "metadata": {},
     "output_type": "display_data"
    }
   ],
   "source": [
    "fig = plt.figure(figsize=(4, 4))\n",
    "for i in range(3):\n",
    "    plt.plot((0, 3), (i, i), 'grey')\n",
    "for j in range(4):\n",
    "    plt.plot((j, j), (0, 2), 'grey')\n",
    "for m in xy:\n",
    "    plt.text(m[0], m[1], f'({m[0]}, {m[1]})', horizontalalignment='center')\n",
    "\n",
    "ax = fig.gca()\n",
    "ax.axis('off')\n",
    "ax.axis('equal');"
   ]
  },
  {
   "cell_type": "markdown",
   "metadata": {},
   "source": [
    "Note that if this mesh was a two-dimensional matrix, then $i$ and $j$ in $(i, j)$ would represent column and row, respectively, which is counterintuitive. We normally think about a matrix $A$ with items $a_{ij}$, where the first index $i$ represents row and the second index $j$ represents column. This is a complicating factor for the Cartesian mesh that is important to be aware of. But it is not a mistake. The numbers in the plot above are not indices of a matrix, they represent $(x, y)$ in a Cartesian mesh.\n",
    "\n",
    "### meshgrid\n",
    "\n",
    "The Cartesian mesh gives both $x$ and $y$ coordinates for the entire two-dimensional mesh and it is created from a Cartesian product of one-dimensional meshes along $x$ and $y$-directions. Luckily for us Numpy has a function that computes this mesh for us and we do not have to use itertools directly.\n",
    "\n",
    "Let us now compute the Cartesian mesh for \n",
    "\n",
    "$$\n",
    "\\boldsymbol{x} = (0, 1, 2, 3) \\quad \\text{ and } \\quad\n",
    "\\boldsymbol{y} = (0, 1, 2),\n",
    "$$\n",
    "\n",
    "where we have chosen $\\Delta x = \\Delta y = 1$ just for simplicity.\n",
    "\n",
    "We create this 2D mesh using [numpy.meshgrid](https://numpy.org/doc/stable/reference/generated/numpy.meshgrid.html)"
   ]
  },
  {
   "cell_type": "code",
   "execution_count": 17,
   "metadata": {},
   "outputs": [],
   "source": [
    "Nx = 3\n",
    "Ny = 2\n",
    "Lx = Nx\n",
    "Ly = Ny\n",
    "x = np.linspace(0, Lx, Nx+1)\n",
    "y = np.linspace(0, Ly, Ny+1)\n",
    "mesh = np.meshgrid(x, y, indexing='ij')"
   ]
  },
  {
   "cell_type": "markdown",
   "metadata": {},
   "source": [
    "At this point `mesh` will actually contain two arrays and we extract them by"
   ]
  },
  {
   "cell_type": "code",
   "execution_count": 18,
   "metadata": {},
   "outputs": [],
   "source": [
    "xij, yij = mesh"
   ]
  },
  {
   "cell_type": "markdown",
   "metadata": {},
   "source": [
    "Now `xij` will contain the $x$-coordinates of all nodes in the mesh, and `yij` will contain all $y$-coordinates. Numpy has split up the coordinate pair for all points and put the result into these two arrays. Let us take a look at `xij` and `yij`"
   ]
  },
  {
   "cell_type": "code",
   "execution_count": 19,
   "metadata": {},
   "outputs": [
    {
     "data": {
      "text/plain": [
       "array([[0., 0., 0.],\n",
       "       [1., 1., 1.],\n",
       "       [2., 2., 2.],\n",
       "       [3., 3., 3.]])"
      ]
     },
     "execution_count": 19,
     "metadata": {},
     "output_type": "execute_result"
    }
   ],
   "source": [
    "xij"
   ]
  },
  {
   "cell_type": "code",
   "execution_count": 20,
   "metadata": {},
   "outputs": [
    {
     "data": {
      "text/plain": [
       "array([[0., 1., 2.],\n",
       "       [0., 1., 2.],\n",
       "       [0., 1., 2.],\n",
       "       [0., 1., 2.]])"
      ]
     },
     "execution_count": 20,
     "metadata": {},
     "output_type": "execute_result"
    }
   ],
   "source": [
    "yij"
   ]
  },
  {
   "cell_type": "markdown",
   "metadata": {},
   "source": [
    "Hmmm. These arrays seem to be aligned very differently from the mesh that we have been looking at so far. `xij` has shape $4 \\times 3$ and the $x$ value increases along a column. Likewise, the `yij` array has also shape $4 \\times 3$, and the $y$-value increases along a row. So the ordering is as the following arrows show"
   ]
  },
  {
   "cell_type": "code",
   "execution_count": 21,
   "metadata": {
    "tags": [
     "hide-input"
    ]
   },
   "outputs": [
    {
     "data": {
      "image/png": "[encoded data removed]",
      "text/plain": [
       "<Figure size 200x200 with 1 Axes>"
      ]
     },
     "metadata": {},
     "output_type": "display_data"
    }
   ],
   "source": [
    "fig = plt.figure(figsize=(2, 2))\n",
    "plt.arrow(0, 0, 1, 0, head_width=0.1);plt.text(0, -1.3, 'x')\n",
    "plt.arrow(0, 0, 0, -1, head_width=0.1);plt.text(1.3, 0, 'y')\n",
    "fig.gca().axis('off');"
   ]
  },
  {
   "cell_type": "markdown",
   "metadata": {},
   "source": [
    "This is opposite to a Cartesian mesh that has $x$ varying along the horizontal direction and $y$ varying along the vertical direction:"
   ]
  },
  {
   "cell_type": "code",
   "execution_count": 22,
   "metadata": {
    "tags": [
     "hide-input"
    ]
   },
   "outputs": [
    {
     "data": {
      "image/png": "[encoded data removed]",
      "text/plain": [
       "<Figure size 200x200 with 1 Axes>"
      ]
     },
     "metadata": {},
     "output_type": "display_data"
    }
   ],
   "source": [
    "fig = plt.figure(figsize=(2, 2))\n",
    "plt.arrow(0, 0, 1, 0, head_width=0.1);plt.text(1.3, 0, 'x')\n",
    "plt.arrow(0, 0, 0, 1, head_width=0.1);plt.text(0, 1.3, 'y')\n",
    "fig.gca().axis('off');"
   ]
  },
  {
   "cell_type": "markdown",
   "metadata": {},
   "source": [
    "However, there is no mistake. This is how matrices are stored, with the first index $i$ representing $x$ and the second index $j$ representing $y$. And if we make contour plots using the meshes `xij` and `yij` it all comes out in a Cartesian plot exactly as expected. Below we create contour plots of both $x$ and $y$ and we notice that $x$ increases along the horizontal axis, whereas $y$ increases in the vertical direction. Just as expected:-)"
   ]
  },
  {
   "cell_type": "code",
   "execution_count": 23,
   "metadata": {},
   "outputs": [
    {
     "data": {
      "image/png": "[encoded data removed]",
      "text/plain": [
       "<Figure size 600x200 with 4 Axes>"
      ]
     },
     "metadata": {},
     "output_type": "display_data"
    }
   ],
   "source": [
    "fig, (ax0, ax1) = plt.subplots(nrows=1, ncols=2, sharex=True,\n",
    "                                    figsize=(6, 2))\n",
    "c0 = ax0.contourf(xij, yij, xij)\n",
    "c1 = ax1.contourf(xij, yij, yij)\n",
    "ax0.set_title('x');\n",
    "ax1.set_title('y');\n",
    "ax0.set_yticks([0, 1, 2])\n",
    "ax1.set_yticks([0, 1, 2])\n",
    "fig.colorbar(c0, ticks=[0, 1, 2, 3]);\n",
    "fig.colorbar(c1, ticks=[0, 1, 2]);"
   ]
  },
  {
   "cell_type": "markdown",
   "metadata": {},
   "source": [
    "### Sparse meshgrid and broadcasting\n",
    "\n",
    "The meshgrid creates arrays where all rows are identical for `xij` and all columns for `yij`. This is unnecessary waste of memory, but luckily it is possible to store these 2D arrays using only the memory of one single array. Lets recreate the meshgrid with keyword `sparse=True`:"
   ]
  },
  {
   "cell_type": "code",
   "execution_count": 24,
   "metadata": {},
   "outputs": [
    {
     "data": {
      "text/plain": [
       "(array([[0.],\n",
       "        [1.],\n",
       "        [2.],\n",
       "        [3.]]),\n",
       " array([[0., 1., 2.]]))"
      ]
     },
     "execution_count": 24,
     "metadata": {},
     "output_type": "execute_result"
    }
   ],
   "source": [
    "smesh = np.meshgrid(x, y, indexing='ij', sparse=True)\n",
    "sxij, syij = smesh\n",
    "sxij, syij"
   ]
  },
  {
   "cell_type": "markdown",
   "metadata": {},
   "source": [
    "Now the meshgrid is sparse and only storing the repeating rows or columns once. However, something has happened to the input $\\boldsymbol{x}$ and $\\boldsymbol{y}$ arrays, that are originally"
   ]
  },
  {
   "cell_type": "code",
   "execution_count": 25,
   "metadata": {},
   "outputs": [
    {
     "data": {
      "text/plain": [
       "(array([0., 1., 2., 3.]), array([0., 1., 2.]))"
      ]
     },
     "execution_count": 25,
     "metadata": {},
     "output_type": "execute_result"
    }
   ],
   "source": [
    "x, y"
   ]
  },
  {
   "cell_type": "markdown",
   "metadata": {},
   "source": [
    "Note that `x` and `y` are one-dimensional arrays of shape $(4,)$ and $(3,)$. In contrast `sxij` and `syij` are two-dimensional arrays of shape $(4, 1)$ and $(1, 3)$, respectively:"
   ]
  },
  {
   "cell_type": "code",
   "execution_count": 26,
   "metadata": {},
   "outputs": [
    {
     "name": "stdout",
     "output_type": "stream",
     "text": [
      "(4, 1) (1, 3)\n"
     ]
    }
   ],
   "source": [
    "print(sxij.shape, syij.shape)"
   ]
  },
  {
   "cell_type": "markdown",
   "metadata": {},
   "source": [
    "The added dimension of length 1 is important for how the array [broadcasts](https://numpy.org/doc/stable/user/basics.broadcasting.html). The extra dimension tells Numpy that the array is constant along this other axis. That is, `sxij` is constant along the second axis, no matter what size the second axis is. Similarly, `syij` is constant along the first axis. And since the 2D array is constant along that direction it is not necessary to actually store the numbers. So this is memory efficient.\n",
    "\n",
    "So what happens if you now have this sparse mesh and you create a mesh function\n",
    "\n",
    "$$\n",
    "f(x, y) = x + y\n",
    "$$"
   ]
  },
  {
   "cell_type": "code",
   "execution_count": 27,
   "metadata": {},
   "outputs": [
    {
     "name": "stdout",
     "output_type": "stream",
     "text": [
      "[[0. 1. 2.]\n",
      " [1. 2. 3.]\n",
      " [2. 3. 4.]\n",
      " [3. 4. 5.]]\n"
     ]
    }
   ],
   "source": [
    "f = sxij + syij\n",
    "print(f)"
   ]
  },
  {
   "cell_type": "markdown",
   "metadata": {},
   "source": [
    "Numpy now sees two arrays of shape $(4, 1)$ and $(1, 3)$ that needs to be added together. So Numpy will now broadcast both arrays into the only appropriate shape $(4, 3)$ and then add them together. The result is exactly the same as if you used `xij` and `yij` directly "
   ]
  },
  {
   "cell_type": "code",
   "execution_count": 28,
   "metadata": {},
   "outputs": [
    {
     "name": "stdout",
     "output_type": "stream",
     "text": [
      "[[0. 1. 2.]\n",
      " [1. 2. 3.]\n",
      " [2. 3. 4.]\n",
      " [3. 4. 5.]]\n"
     ]
    }
   ],
   "source": [
    "print(xij+yij)"
   ]
  },
  {
   "cell_type": "markdown",
   "metadata": {},
   "source": [
    "```{note}\n",
    "[Broadcasting](https://numpy.org/doc/stable/user/basics.broadcasting.html) is a very useful and memory-saving operation that is highly important to Numpy and the writing of efficient, vectorized, Python code.\n",
    "```"
   ]
  },
  {
   "cell_type": "markdown",
   "metadata": {},
   "source": [
    "### Two-dimensional mesh function\n",
    "\n",
    "A mesh function on the two-dimensional domain will now be denoted as\n",
    "\n",
    "$$\n",
    "u_{ij} = u(x_i, y_j).\n",
    "$$\n",
    "\n",
    "The mesh function is a dense two-dimensional array of shape ${(N_x+1)\\times (N_y+1)}$ and we will write $U = (u_{ij})_{i,j=0}^{N_x, N_y}$. It may also be considered a matrix.\n",
    "\n",
    "$$\n",
    "\\begin{bmatrix}\n",
    "u_{0, 0} & u_{0, 1} & \\cdots & u_{0, N_y} \\\\\n",
    "u_{1, 0} & u_{1, 1} & \\cdots & u_{1, N_y} \\\\\n",
    "\\vdots & \\vdots & \\ddots & \\vdots \\\\\n",
    "u_{N_x, 0} & u_{N_x, 1} & \\cdots & u_{N_x, N_y} \\\\\n",
    "\\end{bmatrix}\n",
    "$$\n",
    "\n",
    "We note that the mesh function $U$ is a matrix, like `xij` and `yij`, and in the component $u_{ij}$ $i$ represents row and $j$ represents column. \n",
    "\n",
    "Also note that sometimes (like above) it makes sense to add a comma between $i$ and $j$. This has no further significance than to more clearly separate $i$ from $j$.\n",
    "\n",
    "```{note}\n",
    "Notice that both `xij` and `yij` are mesh functions! They are the coordinates `x` and `y` evaluated on the computational mesh.\n",
    "```\n",
    "\n",
    "### Row-major computer storage \n",
    "\n",
    "In Python (which is written in C) a matrix is row-major. This means that the matrix is stored in memory with a long sequence of numbers row by row like\n",
    "\n",
    "$$\n",
    " \\underbrace{u_{0, 0}, u_{0, 1}, \\cdots, u_{0, N_y}}_{\\text{First row}}, \\underbrace{u_{1, 0}, u_{1, 1}, \\cdots, u_{1, N_y}}_{\\text{Second row}}, \\cdots \\cdots, \\underbrace{u_{N_y, 0}, u_{N_y, 1}, \\cdots, u_{N_y, N_y}}_{\\text{Last row}}\n",
    "$$\n",
    "\n",
    "So the computer memory does not know anything about these numbers belonging to a two-dimensional array. The computer only knows that $(N_x+1)(N_y+1)$ numbers are stored side by side.\n",
    "\n",
    "We can get the single row $i$ of the $U$ matrix as $u_i = (u_{i,0}, u_{i,1}, \\ldots, u_{i, N_y})$. For example, lets create a $3 \\times 3$ matrix  in Python"
   ]
  },
  {
   "cell_type": "code",
   "execution_count": 29,
   "metadata": {},
   "outputs": [
    {
     "data": {
      "text/plain": [
       "array([[0, 1, 2],\n",
       "       [3, 4, 5],\n",
       "       [6, 7, 8]])"
      ]
     },
     "execution_count": 29,
     "metadata": {},
     "output_type": "execute_result"
    }
   ],
   "source": [
    "A = np.arange(9).reshape((3, 3))\n",
    "A"
   ]
  },
  {
   "cell_type": "markdown",
   "metadata": {},
   "source": [
    "The matrix `A` is laid out in computer memory as"
   ]
  },
  {
   "cell_type": "code",
   "execution_count": 30,
   "metadata": {},
   "outputs": [
    {
     "data": {
      "text/plain": [
       "array([0, 1, 2, 3, 4, 5, 6, 7, 8])"
      ]
     },
     "execution_count": 30,
     "metadata": {},
     "output_type": "execute_result"
    }
   ],
   "source": [
    "A.ravel() # alternative: A.flatten()"
   ]
  },
  {
   "cell_type": "markdown",
   "metadata": {},
   "source": [
    "This is row-major storage. First the first row, then the second row and finally the third. We can easily get individual rows of `A` as, e.g., "
   ]
  },
  {
   "cell_type": "code",
   "execution_count": 31,
   "metadata": {},
   "outputs": [
    {
     "data": {
      "text/plain": [
       "array([3, 4, 5])"
      ]
     },
     "execution_count": 31,
     "metadata": {},
     "output_type": "execute_result"
    }
   ],
   "source": [
    "A[1]"
   ]
  },
  {
   "cell_type": "code",
   "execution_count": 32,
   "metadata": {},
   "outputs": [
    {
     "data": {
      "text/plain": [
       "array([6, 7, 8])"
      ]
     },
     "execution_count": 32,
     "metadata": {},
     "output_type": "execute_result"
    }
   ],
   "source": [
    "A[2]"
   ]
  },
  {
   "cell_type": "markdown",
   "metadata": {},
   "source": [
    "We get the rows easily because the memory is row-major and all the items in a row are side by side in computer memory. However, in order to get a column we need to skip over items. The first column of `A` contains the numbers `[0, 3, 6]`. These numbers are stored in the flattened memory as items 0, 3 and 6. We can look it up as"
   ]
  },
  {
   "cell_type": "code",
   "execution_count": 33,
   "metadata": {},
   "outputs": [
    {
     "data": {
      "text/plain": [
       "array([0, 3, 6])"
      ]
     },
     "execution_count": 33,
     "metadata": {},
     "output_type": "execute_result"
    }
   ],
   "source": [
    "A[:, 0]"
   ]
  },
  {
   "cell_type": "markdown",
   "metadata": {},
   "source": [
    "## Finite differences in 2D\n",
    "\n",
    "Let us move back to the Poisson equation\n",
    "\n",
    "$$\n",
    "\\frac{\\partial^2 u}{\\partial x^2} + \\frac{\\partial^2 u}{\\partial y^2} = f.\n",
    "$$\n",
    "\n",
    "If we now use second order central differences in both directions we get\n",
    "\n",
    "$$\n",
    "\\frac{u_{i+1,j} - 2u_{i,j} + u_{i-1, j}}{\\Delta x^2} + \\frac{u_{i,j+1} - 2u_{i,j} + u_{i, j-1}}{\\Delta y^2} = f_{i,j}.\n",
    "$$\n",
    "\n",
    "We have already learned that a second differentiation matrix in one dimension can be written as\n",
    "\n",
    "$$\n",
    "D_x^{(2)} = \\frac{1}{\\Delta x^2}\\begin{bmatrix}\n",
    "2 & -5 & 4 & -1  & 0 & 0 & 0 & 0  \\\\\n",
    "1 & -2 & 1 & 0 & 0 & 0 & 0 & \\cdots \\\\\n",
    "0 & 1 & -2 & 1 & 0 & 0 & 0 & \\cdots \\\\\n",
    "\\vdots & & & \\ddots &  & & &\\cdots \\\\\n",
    "\\vdots & 0 & 0 & 0 &  1& -2& 1& 0 \\\\\n",
    "\\vdots & 0 & 0& 0& 0& 1& -2& 1 \\\\\n",
    "0 & 0 & 0 & 0  & -1 & 4 & -5 & 2 \\\\\n",
    "\\end{bmatrix}\n",
    "$$\n",
    "\n",
    "For the $y$-direction we will use $ \\Delta y$ instead of $\\Delta x$ and we will then write $D^{(2)}_y$. \n",
    "\n",
    "```{note}\n",
    "We will denote the unscaled second derivative matrix $D^{(2)}$. This is the matrix you get with $\\Delta x = \\Delta y = 1$. \n",
    "```\n",
    "\n",
    "We compute the unscaled matrix $D^{(2)}$ as"
   ]
  },
  {
   "cell_type": "code",
   "execution_count": 34,
   "metadata": {},
   "outputs": [
    {
     "name": "stdout",
     "output_type": "stream",
     "text": [
      "[[ 2. -5.  4. -1.  0.  0.  0.  0.  0.]\n",
      " [ 1. -2.  1.  0.  0.  0.  0.  0.  0.]\n",
      " [ 0.  1. -2.  1.  0.  0.  0.  0.  0.]\n",
      " [ 0.  0.  1. -2.  1.  0.  0.  0.  0.]\n",
      " [ 0.  0.  0.  1. -2.  1.  0.  0.  0.]\n",
      " [ 0.  0.  0.  0.  1. -2.  1.  0.  0.]\n",
      " [ 0.  0.  0.  0.  0.  1. -2.  1.  0.]\n",
      " [ 0.  0.  0.  0.  0.  0.  1. -2.  1.]\n",
      " [ 0.  0.  0.  0.  0. -1.  4. -5.  2.]]\n"
     ]
    }
   ],
   "source": [
    "import scipy.sparse as sparse\n",
    "\n",
    "def D2(N):\n",
    "    D = sparse.diags([1, -2, 1], [-1, 0, 1], (N+1, N+1), 'lil')\n",
    "    D[0, :4] = 2, -5, 4, -1\n",
    "    D[-1, -4:] = -1, 4, -5, 2\n",
    "    return D\n",
    "print(D2(8).toarray())"
   ]
  },
  {
   "cell_type": "markdown",
   "metadata": {},
   "source": [
    "Now let us consider a very simple function in 2D\n",
    "\n",
    "$$\n",
    "u(x, y) = x^2,\n",
    "$$\n",
    "\n",
    "such that \n",
    "\n",
    "$$\n",
    "\\frac{\\partial^2 u}{\\partial x^2} = 2.\n",
    "$$\n",
    "\n",
    "Let the domain now be $[0, 4]\\times [0, 4]$ and choose $\\Delta x = \\Delta y = 1$. We create the Cartesian product mesh as follows\n"
   ]
  },
  {
   "cell_type": "code",
   "execution_count": 35,
   "metadata": {},
   "outputs": [],
   "source": [
    "Nx = 4\n",
    "Ny = 4\n",
    "Lx = Nx\n",
    "Ly = Ny\n",
    "x = np.linspace(0, Lx, Nx+1)\n",
    "y = np.linspace(0, Ly, Ny+1)\n",
    "xij, yij = np.meshgrid(x, y, indexing='ij')"
   ]
  },
  {
   "cell_type": "markdown",
   "metadata": {},
   "source": [
    "From this mesh we can create the mesh function $u(x, y) = x^2$"
   ]
  },
  {
   "cell_type": "code",
   "execution_count": 36,
   "metadata": {},
   "outputs": [
    {
     "name": "stdout",
     "output_type": "stream",
     "text": [
      "[[ 0.  0.  0.  0.  0.]\n",
      " [ 1.  1.  1.  1.  1.]\n",
      " [ 4.  4.  4.  4.  4.]\n",
      " [ 9.  9.  9.  9.  9.]\n",
      " [16. 16. 16. 16. 16.]]\n"
     ]
    }
   ],
   "source": [
    "u = xij**2\n",
    "print(u)"
   ]
  },
  {
   "cell_type": "markdown",
   "metadata": {},
   "source": [
    "In order to compute $\\partial^2 u/\\partial x^2$ we can use the one-dimensional derivative matrix $D^{(2)}$ along the first axis of $U=(u_{i,j})_{i,j=0}^{N_x, N_y}$\n",
    "\n",
    "$$\n",
    "D^{(2)} U = \\sum_{k=0}^{N_x} d^{(2)}_{ik} u_{k,j}\n",
    "$$\n",
    "\n",
    "So $D^{(2)} U $ is a matrix-matrix product between the two matrices $D^{(2)}\\in \\mathbb{R}^{(N_x+1)\\times (N_x+1)}$ and $U \\in \\mathbb{R}^{(N_x+1) \\times (N_y+1)}$, such that $D^{(2)}U \\in \\mathbb{R}^{(N_x+1) \\times (N_y+1)}$"
   ]
  },
  {
   "cell_type": "code",
   "execution_count": 37,
   "metadata": {},
   "outputs": [
    {
     "name": "stdout",
     "output_type": "stream",
     "text": [
      "[[2. 2. 2. 2. 2.]\n",
      " [2. 2. 2. 2. 2.]\n",
      " [2. 2. 2. 2. 2.]\n",
      " [2. 2. 2. 2. 2.]\n",
      " [2. 2. 2. 2. 2.]]\n"
     ]
    }
   ],
   "source": [
    "D = D2(Nx)\n",
    "print(D @ u)"
   ]
  },
  {
   "cell_type": "markdown",
   "metadata": {},
   "source": [
    "So we see that the second derivative of $u$ equals 2 in all nodes of the mesh. This means that our code is working:-)\n",
    "\n",
    "How about the other derivative $\\partial^2 u / \\partial y^2$? Let us create a mesh function \n",
    "\n",
    "$$\n",
    "u(x, y) = y^2,\n",
    "$$\n",
    "\n",
    "such that again the second derivative $\\partial^2 u / \\partial y^2$ should be 2. Create first $u$"
   ]
  },
  {
   "cell_type": "code",
   "execution_count": 38,
   "metadata": {},
   "outputs": [
    {
     "name": "stdout",
     "output_type": "stream",
     "text": [
      "[[ 0.  1.  4.  9. 16.]\n",
      " [ 0.  1.  4.  9. 16.]\n",
      " [ 0.  1.  4.  9. 16.]\n",
      " [ 0.  1.  4.  9. 16.]\n",
      " [ 0.  1.  4.  9. 16.]]\n"
     ]
    }
   ],
   "source": [
    "u = yij**2\n",
    "print(u)"
   ]
  },
  {
   "cell_type": "markdown",
   "metadata": {},
   "source": [
    "Now since the derivative is along the second axis (the $y$-axis), we cannot simply do $D^{(2)} U$ anymore. If we do we get zero"
   ]
  },
  {
   "cell_type": "code",
   "execution_count": 39,
   "metadata": {},
   "outputs": [
    {
     "name": "stdout",
     "output_type": "stream",
     "text": [
      "[[0. 0. 0. 0. 0.]\n",
      " [0. 0. 0. 0. 0.]\n",
      " [0. 0. 0. 0. 0.]\n",
      " [0. 0. 0. 0. 0.]\n",
      " [0. 0. 0. 0. 0.]]\n"
     ]
    }
   ],
   "source": [
    "print(D @ u)"
   ]
  },
  {
   "cell_type": "markdown",
   "metadata": {},
   "source": [
    "because this is $\\partial ^2 u/ \\partial x^2$, which should be zero. To get a derivative along the second axis we need to apply the matrix $D^{(2)}$ along the second axis of $U$: \n",
    "\n",
    "$$\n",
    "\\sum_{k=0}^{N_y} u_{i, k} d^{(2)}_{j, k}\n",
    "$$\n",
    "\n",
    "In matrix form this can be written as\n",
    "\n",
    "$$\n",
    "U (D^{(2)})^T\n",
    "$$\n",
    "\n",
    "which we can verify as follows"
   ]
  },
  {
   "cell_type": "code",
   "execution_count": 40,
   "metadata": {},
   "outputs": [
    {
     "name": "stdout",
     "output_type": "stream",
     "text": [
      "[[2. 2. 2. 2. 2.]\n",
      " [2. 2. 2. 2. 2.]\n",
      " [2. 2. 2. 2. 2.]\n",
      " [2. 2. 2. 2. 2.]\n",
      " [2. 2. 2. 2. 2.]]\n"
     ]
    }
   ],
   "source": [
    "print(u @ D.T)"
   ]
  },
  {
   "cell_type": "markdown",
   "metadata": {},
   "source": [
    "Again we get the correct result across the entire mesh."
   ]
  },
  {
   "cell_type": "markdown",
   "metadata": {},
   "source": [
    "## Matrix form of Poisson's equation\n",
    "\n",
    "Using now that $\\partial^2 u/\\partial x^2 = D_x^{(2)}U$ and $\\partial^2 u/\\partial y^2 = U(D_y^{(2)})^T$ we can write Poisson's equation on discretized (and matrix) form as\n",
    "\n",
    "$$\n",
    "D_x^{(2)} U + U (D_y^{(2)})^T = F,\n",
    "$$ (mat-equation)\n",
    "\n",
    "where the mesh function $F = (f(x_i, y_j))_{i,j=0}^{N_x, N_y}$."
   ]
  },
  {
   "cell_type": "markdown",
   "metadata": {},
   "source": [
    "However, how can we solve this equation for the unknown $U$? \n",
    "\n",
    "The problem now is that we cannot (apparently) write Eq. {eq}`mat-equation` as we normally do for a linear algebra problem\n",
    "\n",
    "$$\n",
    "Ax = b,\n",
    "$$ (Axb)\n",
    "\n",
    "or on index form\n",
    "\n",
    "$$\n",
    "\\sum_{j=0}^{N}a_{ij} x_j = b_i,\n",
    "$$ (Axbindex)\n",
    "\n",
    "where $A$ is the coefficient matrix, $x$ is the unknown vector and $b$ is the right hand side vector.\n",
    "\n",
    "However, there is an operation that will help us transform {eq}`mat-equation` into a regular matrix problem like {eq}`Axb`. This operation is called vectorization, or the vec-trick.\n"
   ]
  },
  {
   "cell_type": "markdown",
   "metadata": {},
   "source": [
    "## Vectorization (the vec-trick)\n",
    "\n",
    "Consider first for simplicity a  $2 \\times 2$ matrix\n",
    "\n",
    "$$\n",
    "A = \n",
    "\\begin{bmatrix}\n",
    "a & b \\\\\n",
    "c & d\n",
    "\\end{bmatrix}\n",
    "$$\n",
    "\n",
    "In general, a row-major vectorization transforms the matrix into a vector as follows\n",
    "\n",
    "$$\n",
    "\\begin{bmatrix}\n",
    "a & b \\\\\n",
    "c & d\n",
    "\\end{bmatrix}\n",
    "\\longrightarrow\n",
    "\\begin{bmatrix}\n",
    "a & b & c & d\n",
    "\\end{bmatrix}^T = \n",
    "\\begin{bmatrix}\n",
    "a \\\\\n",
    "b \\\\\n",
    "c \\\\\n",
    "d\n",
    "\\end{bmatrix}\n",
    "$$\n",
    "\n",
    "This operation is referred to as `vec(A)` and thus \n",
    "\n",
    "$$\n",
    "\\text{vec}(A) = \\begin{bmatrix}\n",
    "a & b & c & d\n",
    "\\end{bmatrix}^T\n",
    "$$\n",
    "\n",
    "```{note}\n",
    "Note that we define the output from `vec` as a column vector and not a row vector!\n",
    "```\n",
    "\n",
    "```{warning}\n",
    "Notice that it is possible to define a column-major vectorization as well. In that case $\\text{vec}(A) = [a \\, c \\, b \\, d]^T$. However, since Python is written in C and C is row-major, we will use the first, row-major, alternative.\n",
    "```\n"
   ]
  },
  {
   "cell_type": "markdown",
   "metadata": {},
   "source": [
    "\n",
    "Vectorization of our Poisson equation (vectorization applied to both left and right hand side) leads to\n",
    "\n",
    "$$\n",
    "\\text{vec}\\left(D_x^{(2)}U + U (D_y^{(2)})^T \\right) = \\text{vec}(F),\n",
    "$$\n",
    "\n",
    "and since vectorization is a linear process\n",
    "\n",
    "$$\n",
    "\\text{vec}\\left(D_x^{(2)}U\\right) + \\text{vec}\\left(U (D_y^{(2)})^T \\right) = \\text{vec}(F).\n",
    "$$\n",
    "\n",
    "Here $\\text{vec}(F)$ is simply the ravelling (or flattening) of the matrix as described above. This leaves the left hand side, which contains matrix-matrix products, and these require a special trick for vectorization. But first we will write the equation as \n",
    "\n",
    "$$\n",
    "\\text{vec}\\left(D_x^{(2)}U I_{y}\\right) + \\text{vec}\\left(I_{x} U (D_y^{(2)})^T \\right) = \\text{vec}(F),\n",
    "$$\n",
    "\n",
    "where the diagonal identity matrix $I_{i} \\in \\mathbb{R}^{(N_i+1) \\times (N_i+1)}$\n",
    "\n",
    "$$\n",
    "I_{i} = \\begin{bmatrix} \n",
    "1 & 0 & 0 & 0 & \\cdots \\\\\n",
    "0 & 1 & 0 & 0 & \\cdots \\\\\n",
    "\\vdots & & \\ddots &  & \\cdots \\\\\n",
    "\\vdots & 0 & 0  & 1 & 0 \\\\\n",
    "\\vdots & 0 & 0 & 0  & 1\n",
    "\\end{bmatrix}\n",
    "$$\n",
    "\n",
    "is not really doing anything. However, it will help us soon in applying a well known vectorization formula for triple matrix products.\n",
    "It turns out that for any valid triple matrix product of matrices $A, B$ and $C$, vectorization is defined as\n",
    "\n",
    "$$\n",
    "\\text{vec}(A B C^T) = (A \\otimes C) \\text{vec} (B),\n",
    "$$\n",
    "\n",
    "where $A \\otimes B$ is the Kronecker product of matrices $A$ and $B$. We will get back to the Kronecker product soon. Meanwhile we get that\n",
    "\n",
    "$$\n",
    "\\text{vec}(D_x^{(2)}U I_{y}) = (D_x^{(2)} \\otimes I_{y}) \\text{vec}(U),\n",
    "$$\n",
    "\n",
    "and \n",
    "\n",
    "$$\n",
    "\\text{vec}(I_{x} U (D_y^{(2)})^T) = (I_{x} \\otimes D_y^{(2)}) \\text{vec}(U),\n",
    "$$\n",
    "\n",
    "and the equation we need to solve is thus\n",
    "\n",
    "$$\n",
    "\\left(D_x^{(2)} \\otimes I_{y} + I_{x} \\otimes D_y^{(2)} \\right) \\text{vec}(U) = \\text{vec}(F).\n",
    "$$\n",
    "\n",
    "This is a linear equations of type $Ax=b$, where $A = D_x^{(2)} \\otimes I_{y} + I_{x} \\otimes D_y^{(2)}$, $x = \\text{vec}(U)$ and $b = \\text{vec}(F)$.\n",
    "\n",
    "```{note}\n",
    "Vectorization is a linear process that allows us to transform a matrix into a vector. Through vectorization we can express matrix-multiplication through a larger matrix using the Kronecker product. \n",
    "```\n",
    "\n"
   ]
  },
  {
   "cell_type": "markdown",
   "metadata": {},
   "source": [
    "(sec-kronecker)=\n",
    "## The Kronecker product\n",
    "\n",
    "In general, if $A$ and $B$ are matrices of dimensions $p \\times q$ and $r \\times s$, respectively, then $A \\otimes B$ is the matrix\n",
    "of dimension $pr \\times qs$, with $p \\times q$ block form, where the $i, j$ block is $a_{ij}B$. The Kronecker product is most simply illustrated for two small matrices of shape $2 \\times 2$:\n",
    "\n",
    "$$\n",
    "\\begin{bmatrix}\n",
    "  1 & 2 \\\\\n",
    "  3 & 4\n",
    "\\end{bmatrix}\n",
    "\\otimes\n",
    "\\begin{bmatrix}\n",
    "  a & b \\\\\n",
    "  c & d\n",
    "\\end{bmatrix}\n",
    "=\n",
    "\\left(\\begin{array}{@{}c|c@{}}\n",
    "  \\begin{matrix}\n",
    "  a & b \\\\\n",
    "  c & d\n",
    "  \\end{matrix}\n",
    "  &  \\begin{matrix}\n",
    "  2a & 2b \\\\\n",
    "  2c & 2d\n",
    "  \\end{matrix} \\\\\n",
    "\\hline\n",
    "  \\begin{matrix}\n",
    "  3a & 3b \\\\\n",
    "  3c & 3d\n",
    "  \\end{matrix} &\n",
    "  \\begin{matrix}\n",
    "  4a & 4b \\\\\n",
    "  4c & 4d\n",
    "  \\end{matrix}\n",
    "\\end{array}\\right)\n",
    "$$\n",
    "\n",
    "Notice that if one of the matrices is the identity matrix, the picture becomes even simpler\n",
    "\n",
    "$$\n",
    "\\begin{bmatrix}\n",
    "  1 & 0 \\\\\n",
    "  0 & 1\n",
    "\\end{bmatrix}\n",
    "\\otimes\n",
    "\\begin{bmatrix}\n",
    "  a & b \\\\\n",
    "  c & d\n",
    "\\end{bmatrix}\n",
    "=\n",
    "\\left(\\begin{array}{@{}c|c@{}}\n",
    "  \\begin{matrix}\n",
    "  a & b \\\\\n",
    "  c & d\n",
    "  \\end{matrix}\n",
    "  &  \n",
    "  \\begin{matrix}\n",
    "   0 & 0 \\\\\n",
    "   0 & 0 \n",
    "   \\end{matrix}\n",
    "   \\\\\n",
    "\\hline\n",
    "  \\begin{matrix}\n",
    "   0 & 0 \\\\\n",
    "   0 & 0 \n",
    "   \\end{matrix} &\n",
    "  \\begin{matrix}\n",
    "  a & b \\\\\n",
    "  c & d\n",
    "  \\end{matrix}\n",
    "\\end{array}\\right)\n",
    "$$\n",
    "\n",
    "and \n",
    "\n",
    "$$\n",
    "\\begin{bmatrix}\n",
    "  a & b \\\\\n",
    "  c & d\n",
    "\\end{bmatrix}\n",
    "\\otimes\n",
    "\\begin{bmatrix}\n",
    "  1 & 0 \\\\\n",
    "  0 & 1\n",
    "\\end{bmatrix}\n",
    "=\n",
    "\\left(\\begin{array}{@{}c|c@{}}\n",
    "  \\begin{matrix}\n",
    "  a & 0 \\\\\n",
    "  0 & a\n",
    "  \\end{matrix}\n",
    "  &  \\begin{matrix}\n",
    "  b & 0 \\\\\n",
    "  0 & b\n",
    "  \\end{matrix} \\\\\n",
    "\\hline\n",
    "  \\begin{matrix}\n",
    "  c & 0 \\\\\n",
    "  0 & c\n",
    "  \\end{matrix} &\n",
    "  \\begin{matrix}\n",
    "  d & 0 \\\\\n",
    "  0 & d\n",
    "  \\end{matrix}\n",
    "\\end{array}\\right)\n",
    "$$"
   ]
  },
  {
   "cell_type": "markdown",
   "metadata": {},
   "source": [
    "## Partial derivatives\n",
    "\n",
    "Let us try this new theory for partial derivatives. Create first a mesh using meshgrid, then define a function\n",
    "\n",
    "$$\n",
    "u(x, y) = x^2\n",
    "$$"
   ]
  },
  {
   "cell_type": "code",
   "execution_count": 41,
   "metadata": {},
   "outputs": [],
   "source": [
    "Nx = 4\n",
    "Ny = 3\n",
    "Lx = Nx\n",
    "Ly = Ny\n",
    "x = np.linspace(0, Lx, Nx+1)\n",
    "y = np.linspace(0, Ly, Ny+1)\n",
    "xij, yij = np.meshgrid(x, y, indexing='ij')\n",
    "U = xij**2"
   ]
  },
  {
   "cell_type": "markdown",
   "metadata": {},
   "source": [
    "Compute the derivative of $u$ using first\n",
    "\n",
    "$$\n",
    "D^{(2)} U\n",
    "$$"
   ]
  },
  {
   "cell_type": "code",
   "execution_count": 42,
   "metadata": {},
   "outputs": [
    {
     "name": "stdout",
     "output_type": "stream",
     "text": [
      "[[2. 2. 2. 2.]\n",
      " [2. 2. 2. 2.]\n",
      " [2. 2. 2. 2.]\n",
      " [2. 2. 2. 2.]\n",
      " [2. 2. 2. 2.]]\n"
     ]
    }
   ],
   "source": [
    "D = D2(Nx)\n",
    "print(D @ U)"
   ]
  },
  {
   "cell_type": "markdown",
   "metadata": {},
   "source": [
    "The differentiation works, because the second derivative of $x^2$ is 2. Now lets use vectorization to compute the same\n",
    "\n",
    "$$\n",
    "\\text{vec}(D^{(2)}U) = (D^{(2)} \\otimes I) \\text{vec}(U)\n",
    "$$\n"
   ]
  },
  {
   "cell_type": "code",
   "execution_count": 43,
   "metadata": {},
   "outputs": [
    {
     "name": "stdout",
     "output_type": "stream",
     "text": [
      "[[2. 2. 2. 2.]\n",
      " [2. 2. 2. 2.]\n",
      " [2. 2. 2. 2.]\n",
      " [2. 2. 2. 2.]\n",
      " [2. 2. 2. 2.]]\n"
     ]
    }
   ],
   "source": [
    "D2X = sparse.kron(D, sparse.eye(Ny+1))\n",
    "d2u = D2X @ U.ravel()\n",
    "print(d2u.reshape(U.shape))"
   ]
  },
  {
   "cell_type": "markdown",
   "metadata": {},
   "source": [
    "Works! \n",
    "\n",
    "How about $\\partial^2 u /\\partial y^2$? Define first $u=y^2$ such that $\\partial^2 u /\\partial y^2 = 2$. And compute\n",
    "\n",
    "$$\n",
    "\\text{vec}(U (D^{(2)})^T) = (I \\otimes D^{(2)}) \\text{vec}(U)\n",
    "$$"
   ]
  },
  {
   "cell_type": "code",
   "execution_count": 44,
   "metadata": {},
   "outputs": [
    {
     "name": "stdout",
     "output_type": "stream",
     "text": [
      "[2. 2. 2. 2. 2. 2. 2. 2. 2. 2. 2. 2. 2. 2. 2. 2. 2. 2. 2. 2.]\n"
     ]
    }
   ],
   "source": [
    "U = yij**2\n",
    "D2Y = sparse.kron(sparse.eye(Nx+1), D2(Ny))\n",
    "print(D2Y @ U.ravel())"
   ]
  },
  {
   "cell_type": "markdown",
   "metadata": {},
   "source": [
    "Works! But the result should be reshaped into a two-dimensional array."
   ]
  },
  {
   "cell_type": "code",
   "execution_count": 45,
   "metadata": {},
   "outputs": [
    {
     "name": "stdout",
     "output_type": "stream",
     "text": [
      "[[2. 2. 2. 2.]\n",
      " [2. 2. 2. 2.]\n",
      " [2. 2. 2. 2.]\n",
      " [2. 2. 2. 2.]\n",
      " [2. 2. 2. 2.]]\n"
     ]
    }
   ],
   "source": [
    "print((D2Y @ U.ravel()).reshape(U.shape))"
   ]
  },
  {
   "cell_type": "markdown",
   "metadata": {},
   "source": [
    "## The Laplace operator\n",
    "\n",
    "The Laplace operator $\\nabla^2$ applied to a two-dimensional field $u(x, y)$ in Cartesian coordinates is\n",
    "\n",
    "$$\n",
    "\\nabla^2 u = \\frac{\\partial^2 u}{\\partial x^2} + \\frac{\\partial^2 u}{\\partial y^2}.\n",
    "$$\n",
    "\n",
    "Discretized on a structured Cartesian mesh we get\n",
    "\n",
    "$$\n",
    "\\nabla^2 u = \\left(D_x^{(2)} \\otimes I_{y} + I_{x} \\otimes D_y^{(2)} \\right) \\text{vec}(U).\n",
    "$$\n",
    "\n",
    "We implement the operator as"
   ]
  },
  {
   "cell_type": "code",
   "execution_count": 46,
   "metadata": {},
   "outputs": [],
   "source": [
    "def laplace(dx, dy, Nx, Ny):\n",
    "    D2x = (1./dx**2)*D2(Nx)\n",
    "    D2y = (1./dy**2)*D2(Ny)\n",
    "    return (sparse.kron(D2x, sparse.eye(Ny+1)) +\n",
    "            sparse.kron(sparse.eye(Nx+1), D2y))\n"
   ]
  },
  {
   "cell_type": "markdown",
   "metadata": {},
   "source": [
    "We are now ready to solve the Poisson equation. Lets use the method of manufactured solutions and guess a solution\n",
    "\n",
    "$$\n",
    "u(x, y) = x(1-x)y(1-y)\\exp(\\cos(4 \\pi x)\\sin(2 \\pi y)),\n",
    "$$\n",
    "\n",
    "and use a computational domain $\\Omega = [0, 1] \\times [0, 1]$."
   ]
  },
  {
   "cell_type": "code",
   "execution_count": 47,
   "metadata": {},
   "outputs": [],
   "source": [
    "import sympy as sp\n",
    "x, y = sp.symbols('x,y')\n",
    "ue = x*(1-x)*y*(1-y)*sp.exp(sp.cos(4*sp.pi*x)*sp.sin(2*sp.pi*y))"
   ]
  },
  {
   "cell_type": "markdown",
   "metadata": {},
   "source": [
    "Compute the right hand side function $f$"
   ]
  },
  {
   "cell_type": "code",
   "execution_count": 48,
   "metadata": {},
   "outputs": [],
   "source": [
    "f = ue.diff(x, 2) + ue.diff(y, 2)"
   ]
  },
  {
   "cell_type": "markdown",
   "metadata": {},
   "source": [
    "Create the Cartesian 2D mesh using a function"
   ]
  },
  {
   "cell_type": "code",
   "execution_count": 49,
   "metadata": {},
   "outputs": [],
   "source": [
    "def mesh2D(Nx, Ny, Lx, Ly):\n",
    "    x = np.linspace(0, Lx, Nx+1)\n",
    "    y = np.linspace(0, Ly, Ny+1)\n",
    "    return np.meshgrid(x, y, indexing='ij')"
   ]
  },
  {
   "cell_type": "markdown",
   "metadata": {},
   "source": [
    "Assemble the problem"
   ]
  },
  {
   "cell_type": "code",
   "execution_count": 50,
   "metadata": {},
   "outputs": [],
   "source": [
    "Nx = 30\n",
    "Ny = 30\n",
    "Lx = 1\n",
    "Ly = 1\n",
    "xij, yij = mesh2D(Nx, Ny, Lx, Ly)\n",
    "F = sp.lambdify((x, y), f)(xij, yij)\n",
    "A = laplace(Lx/Nx, Ly/Ny, Nx, Ny)"
   ]
  },
  {
   "cell_type": "markdown",
   "metadata": {},
   "source": [
    "### Boundary conditions\n",
    "\n",
    "We need to fix the solution at all boundary points. But where are all the boundary points? How do we manipulate A in order to fix Dirichlet boundary conditions?\n",
    "\n",
    "In order to set Dirichlet boundary conditions we need to set the value of $U$ to zero on all four boundaries:\n",
    "\n",
    "$$\n",
    "\\begin{align*}\n",
    "u_{0, j} = 0 \\quad j \\in \\{0, 1, \\ldots, N_y\\}, \\\\\n",
    "u_{N_x, j} = 0 \\quad j \\in \\{0, 1, \\ldots, N_y\\},\\\\\n",
    "u_{i, 0} = 0 \\quad i \\in \\{0, 1, \\ldots, N_x\\}, \\\\\n",
    "u_{i, N_y} = 0 \\quad i \\in \\{0, 1, \\ldots, N_x\\}.\n",
    "\\end{align*}\n",
    "$$\n",
    "\n",
    "We can do this by identing all rows of `A` corresponding to a boundary point. But which indices in `A` correspond to boundaries? We can find this easily with a little slicing and trickery. Lets create a mesh function `B` that is one on the boundary and zero elsewhere"
   ]
  },
  {
   "cell_type": "code",
   "execution_count": 51,
   "metadata": {},
   "outputs": [
    {
     "data": {
      "image/png": "[encoded data removed]",
      "text/plain": [
       "<Figure size 400x400 with 2 Axes>"
      ]
     },
     "metadata": {},
     "output_type": "display_data"
    }
   ],
   "source": [
    "B = np.ones((Nx+1, Ny+1), dtype=bool)\n",
    "B[1:-1, 1:-1] = 0\n",
    "fig = plt.figure(figsize=(4, 4))\n",
    "plt.imshow(B, cmap='gray_r')\n",
    "plt.gca().axis('off')\n",
    "plt.colorbar(ticks=[0, 1]);"
   ]
  },
  {
   "cell_type": "markdown",
   "metadata": {},
   "source": [
    "Now find all the indices in the ravelled (vectorized) array `vec(B)` that equals 1."
   ]
  },
  {
   "cell_type": "code",
   "execution_count": 52,
   "metadata": {},
   "outputs": [
    {
     "name": "stdout",
     "output_type": "stream",
     "text": [
      "[  0   1   2   3   4   5   6   7   8   9  10  11  12  13  14  15  16  17\n",
      "  18  19  20  21  22  23  24  25  26  27  28  29  30  31  61  62  92  93\n",
      " 123 124 154 155 185 186 216 217 247 248 278 279 309 310 340 341 371 372\n",
      " 402 403 433 434 464 465 495 496 526 527 557 558 588 589 619 620 650 651\n",
      " 681 682 712 713 743 744 774 775 805 806 836 837 867 868 898 899 929 930\n",
      " 931 932 933 934 935 936 937 938 939 940 941 942 943 944 945 946 947 948\n",
      " 949 950 951 952 953 954 955 956 957 958 959 960]\n"
     ]
    }
   ],
   "source": [
    "bnds = np.where(B.ravel() == 1)[0]\n",
    "print(bnds)"
   ]
  },
  {
   "cell_type": "markdown",
   "metadata": {},
   "source": [
    "These are all the indices into `vec(U)` that correspond to a boundary. We need to set the value of $U$ to zero at all these indices. We do that by identing `A` such that each row with an index in `bnds` contains only zeros except the main diagonal which is set to 1."
   ]
  },
  {
   "cell_type": "code",
   "execution_count": 53,
   "metadata": {},
   "outputs": [],
   "source": [
    "A = A.tolil()\n",
    "for i in bnds:\n",
    "    A[i] = 0\n",
    "    A[i, i] = 1\n",
    "A = A.tocsr()"
   ]
  },
  {
   "cell_type": "markdown",
   "metadata": {},
   "source": [
    "We also need to modify the right hand side $F$ such that $f_{ij}$ is zero for all points on the boundary. This is easy when `bnds` is available"
   ]
  },
  {
   "cell_type": "code",
   "execution_count": 54,
   "metadata": {},
   "outputs": [],
   "source": [
    "b = F.ravel()\n",
    "b[bnds] = 0"
   ]
  },
  {
   "cell_type": "markdown",
   "metadata": {},
   "source": [
    "### Solve the problem\n",
    "\n",
    "We have now set up the problem as\n",
    "\n",
    "$$\n",
    "Ax = b,\n",
    "$$\n",
    "\n",
    "and all that is left is to solve the assembled problem using a sparse linear algebra solver"
   ]
  },
  {
   "cell_type": "code",
   "execution_count": 55,
   "metadata": {},
   "outputs": [],
   "source": [
    "U = sparse.linalg.spsolve(A, b)\n",
    "U = np.reshape(U, (Nx+1, Ny+1))"
   ]
  },
  {
   "cell_type": "markdown",
   "metadata": {},
   "source": [
    "Plot the result"
   ]
  },
  {
   "cell_type": "code",
   "execution_count": 56,
   "metadata": {},
   "outputs": [
    {
     "data": {
      "image/png": "[encoded data removed]",
      "text/plain": [
       "<Figure size 640x480 with 1 Axes>"
      ]
     },
     "metadata": {},
     "output_type": "display_data"
    }
   ],
   "source": [
    "plt.contourf(xij, yij, U);"
   ]
  },
  {
   "cell_type": "markdown",
   "metadata": {},
   "source": [
    "and check that the solution is close to the exact analytical solution"
   ]
  },
  {
   "cell_type": "code",
   "execution_count": 57,
   "metadata": {},
   "outputs": [
    {
     "data": {
      "text/plain": [
       "np.float64(0.00038807056403051)"
      ]
     },
     "execution_count": 57,
     "metadata": {},
     "output_type": "execute_result"
    }
   ],
   "source": [
    "dx = Lx/Nx\n",
    "dy = Ly/Ny\n",
    "np.sqrt(dx*dy*np.sum((U - sp.lambdify((x, y), ue)(xij, yij))**2))"
   ]
  },
  {
   "cell_type": "markdown",
   "metadata": {},
   "source": [
    "Voilà! The solution is correct. You should also verify that the solver works for a variety of spatial discretizations, especially when $N_x \\ne N_y$."
   ]
  }
 ],
 "metadata": {
  "celltoolbar": "Tags",
  "kernelspec": {
   "display_name": "matmek4270",
   "language": "python",
   "name": "python3"
  },
  "language_info": {
   "codemirror_mode": {
    "name": "ipython",
    "version": 3
   },
   "file_extension": ".py",
   "mimetype": "text/x-python",
   "name": "python",
   "nbconvert_exporter": "python",
   "pygments_lexer": "ipython3",
   "version": "3.12.5"
  },
  "toc": {
   "base_numbering": 1,
   "nav_menu": {},
   "number_sections": false,
   "sideBar": true,
   "skip_h1_title": false,
   "title_cell": "Table of Contents",
   "title_sidebar": "Contents",
   "toc_cell": false,
   "toc_position": {},
   "toc_section_display": true,
   "toc_window_display": false
  }
 },
 "nbformat": 4,
 "nbformat_minor": 4
}
